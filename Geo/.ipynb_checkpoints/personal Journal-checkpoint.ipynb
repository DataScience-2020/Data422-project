{
 "cells": [
  {
   "cell_type": "markdown",
   "metadata": {},
   "source": [
    "# DATA 422 Personal Journal (geoData Part)\n",
    "# Xiaohong Chen 24908339"
   ]
  },
  {
   "cell_type": "markdown",
   "metadata": {},
   "source": [
    "## week 8 \n",
    "\n",
    "During the first talk in group meeting, we planned many different topics and settled a main direction for online shopping topic, which aims to assemble information about products, prices and shop locations of purchasing. \n",
    "\n",
    "As a team member, I tried to look for data sources where contains any information about locations that could be useful for requiring the physical distance. Therefore I mainly explored the API usage guidelines through NZ Post Developer Portal(https://anypoint.mulesoft.com/exchange/portals/nz-post-group/), and tried it demo console for delivery addresses(http://shippingapidemo.nzpost.co.nz) to understand the html response architectures. \n",
    "However, the obstacle I encountered afterwards with was the registration limitation for individuals. "
   ]
  },
  {
   "cell_type": "markdown",
   "metadata": {},
   "source": [
    "![title](Doc/p1.png)\n",
    "![title](Doc/p2.png)"
   ]
  },
  {
   "cell_type": "markdown",
   "metadata": {},
   "source": [
    "Besides, through self-learning, I prepared and initialled our team project private repository on Github and sent join links to rest team members."
   ]
  },
  {
   "cell_type": "markdown",
   "metadata": {},
   "source": [
    "## Week 9\n",
    "\n",
    "Since the initial topic was not been recommended, so we were suggested to force on personal subtopic and later to assemble all as a team. My interesting was keeping on to explore geographic data of New Zealand, and I used official web Linz Data Service(https://data.linz.govt.nz/layer/53353-nz-street-address/webservices/) instead to request metadata service through vector JSON query API.\n"
   ]
  },
  {
   "cell_type": "markdown",
   "metadata": {},
   "source": [
    "![title](Doc/p3.png)"
   ]
  },
  {
   "cell_type": "markdown",
   "metadata": {},
   "source": [
    "![title](Doc/p4.png)\n",
    "![title](Doc/p5.png)\n",
    "![title](Doc/p6.png)"
   ]
  },
  {
   "cell_type": "markdown",
   "metadata": {},
   "source": [
    "During that time, the difficulties I came across as following:\n",
    "\n",
    "1, gave up the extend use of google map API since it was not free any more.\n",
    "\n",
    "2, the limitation of data volume because of 100 querying permission per time. \n",
    "\n",
    "3, the multiple layer of data frames which masked within the lists were hard to detect at the first sight.\n",
    "\n",
    "4, for team working concern part, some of my subset of data might not be suitable for team project question so far."
   ]
  },
  {
   "cell_type": "markdown",
   "metadata": {},
   "source": [
    "## Week 10 \n",
    "\n",
    "Given a further introduction about Github, I kept a further use of Github Desktop and learnt how to push up and fetch as a teamwork. \n",
    "\n",
    "Besides, here follows some problems during the wrangling:\n",
    "\n",
    "1, looking for suitable data source to combine with the existing geo dataset is difficult. For example, in order to do geographical map visualization about in each country, the existing data source contains one column of countries code as 3 digit code(that in format of ISO 3166-1 numeric, https://stefangabos.github.io/world_countries/) but without indicate the exact country names, country location, or any geo infos, therefore I explored data source and then to merge() the datasets together for later R plotly to plot_geo(df,locationmode = \"country names\")\n",
    "\n",
    "2, an issue for plotting to visualized the presentation in Jupyter Lab with package(plotly) in R. Sadly the problem could not be solved so far. In result, the presentation only allowed in Rstudio and I have to quit using the interactive plotly plot in Jupyter lab, and repeat with other R libaray. \n",
    "![title](Doc/p7.png)"
   ]
  },
  {
   "cell_type": "markdown",
   "metadata": {},
   "source": [
    "## Week 11\n",
    "\n",
    "Reviewed the codes and ploting, and prepared the powerpoint for presentation. "
   ]
  },
  {
   "cell_type": "code",
   "execution_count": null,
   "metadata": {},
   "outputs": [],
   "source": []
  }
 ],
 "metadata": {
  "kernelspec": {
   "display_name": "R",
   "language": "R",
   "name": "ir"
  },
  "language_info": {
   "codemirror_mode": "r",
   "file_extension": ".r",
   "mimetype": "text/x-r-source",
   "name": "R",
   "pygments_lexer": "r",
   "version": "3.6.2"
  }
 },
 "nbformat": 4,
 "nbformat_minor": 4
}
