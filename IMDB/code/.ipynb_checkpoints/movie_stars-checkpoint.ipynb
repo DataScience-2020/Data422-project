{
 "cells": [
  {
   "cell_type": "markdown",
   "metadata": {},
   "source": [
    "## DATA422 Group Project\n",
    "### This code is based on DATA422 Assignment 2 - Julia part\n",
    "\n",
    ">**Jian ZHOU** 51404140 jzh210@uclive.ac.nz \n",
    "\n",
    "In this project, I am trying to scrape movie and actor characters from www.imdb.com. The results could be harnessed by NLP wordcloud sentiment analysis written in separate R code. What's mainly different from assignment2 is that I added actor / actress characters that could be scraped from another webpage, and I made the automation process as well to grab large amount of data. "
   ]
  },
  {
   "cell_type": "code",
   "execution_count": 2,
   "metadata": {},
   "outputs": [],
   "source": [
    "using Pkg \n",
    "#Pkg.add(\"HTTP\")\n",
    "#Pkg.add(\"Gumbo\")\n",
    "#Pkg.add(\"Cascadia\")\n",
    "using HTTP, Gumbo, Cascadia\n"
   ]
  },
  {
   "cell_type": "code",
   "execution_count": 3,
   "metadata": {},
   "outputs": [
    {
     "data": {
      "text/plain": [
       "\"https://www.imdb.com\""
      ]
     },
     "execution_count": 3,
     "metadata": {},
     "output_type": "execute_result"
    }
   ],
   "source": [
    "#define website host address\n",
    "host = \"https://www.imdb.com\"\n"
   ]
  },
  {
   "cell_type": "code",
   "execution_count": 26,
   "metadata": {},
   "outputs": [],
   "source": [
    "#import Pkg; Pkg.add(\"Query\")"
   ]
  },
  {
   "cell_type": "code",
   "execution_count": 4,
   "metadata": {},
   "outputs": [
    {
     "ename": "LoadError",
     "evalue": "ArgumentError: Package StringEncodings not found in current path:\n- Run `import Pkg; Pkg.add(\"StringEncodings\")` to install the StringEncodings package.\n",
     "output_type": "error",
     "traceback": [
      "ArgumentError: Package StringEncodings not found in current path:\n- Run `import Pkg; Pkg.add(\"StringEncodings\")` to install the StringEncodings package.\n",
      "",
      "Stacktrace:",
      " [1] require(::Module, ::Symbol) at ./loading.jl:893",
      " [2] include_string(::Function, ::Module, ::String, ::String) at ./loading.jl:1091"
     ]
    }
   ],
   "source": [
    "using Query, CSV, DataFrames, StringEncodings"
   ]
  },
  {
   "cell_type": "markdown",
   "metadata": {},
   "source": [
    "Here I define some functions to facilitate information extraction from html nodes. \n",
    "\n",
    "The first one is called **node_text** and it takes two parameters, namely the css selector matching string and the parent node. With the help of this function, we don't have to write so much code again to deal with array index out of bounds / mismatching exceptions. In such cases, it returns an empty string. \n",
    "\n",
    "The second one is called **get_match** and it takes two parameters, namely the regex group result and the index number. Before we use this function, we want to match some string / digital patterns in groups, and pass it to **get_match** function to get the matched string.  "
   ]
  },
  {
   "cell_type": "code",
   "execution_count": 5,
   "metadata": {},
   "outputs": [
    {
     "data": {
      "text/plain": [
       "write_txt (generic function with 1 method)"
      ]
     },
     "execution_count": 5,
     "metadata": {},
     "output_type": "execute_result"
    }
   ],
   "source": [
    "function node_text(match, node, tidy = true, index = 1)\n",
    "    text = \"\"\n",
    "    try\n",
    "        text = nodeText(eachmatch(Selector(match), node)[index])\n",
    "        if tidy\n",
    "            text = replace(text, r\"\\W+\" => \" \")\n",
    "        end\n",
    "        return strip(text)\n",
    "    catch\n",
    "        return text\n",
    "    end\n",
    "end\n",
    "\n",
    "function get_match(result, index = 1)\n",
    "    match = \"\"\n",
    "    #for m in result.captures\n",
    "        #match = m\n",
    "    #end\n",
    "    if result != nothing\n",
    "        match = result[index]\n",
    "    end\n",
    "    return match\n",
    "end\n",
    "\n",
    "#write dataframe to a file in a incremental way\n",
    "function write_csv(file, df)\n",
    "    try\n",
    "        CSV.write(file, df, header = !isfile(file), append = true)\n",
    "    catch\n",
    "        return\n",
    "    end\n",
    "end\n",
    "\n",
    "#write text to a file in a incremental way\n",
    "function write_txt(file, txt)\n",
    "    try\n",
    "        io = open(file,\"a\")\n",
    "        write(io, txt)\n",
    "        close(io)\n",
    "    catch\n",
    "        return\n",
    "    end\n",
    "end"
   ]
  },
  {
   "cell_type": "markdown",
   "metadata": {},
   "source": [
    "The following functions are defined to deal with numerous of data type conversions. Practically we don't want to see exceptions when null / empty values are passed to the standard **parse** funciton."
   ]
  },
  {
   "cell_type": "code",
   "execution_count": 6,
   "metadata": {},
   "outputs": [
    {
     "data": {
      "text/plain": [
       "to_Int (generic function with 1 method)"
      ]
     },
     "execution_count": 6,
     "metadata": {},
     "output_type": "execute_result"
    }
   ],
   "source": [
    "\n",
    "function to_Int16(value)\n",
    "    try\n",
    "        return parse(Int16, value)\n",
    "    catch\n",
    "        return 0\n",
    "    end\n",
    "end\n",
    "\n",
    "function to_Float16(value)\n",
    "    try\n",
    "        return parse(Float16, value)\n",
    "    catch\n",
    "        return 0\n",
    "    end\n",
    "end\n",
    "\n",
    "function to_Int(value)\n",
    "    try\n",
    "        return parse(Int, value)\n",
    "    catch\n",
    "        return 0\n",
    "    end\n",
    "end"
   ]
  },
  {
   "cell_type": "code",
   "execution_count": 7,
   "metadata": {},
   "outputs": [
    {
     "data": {
      "text/plain": [
       "page_cast (generic function with 1 method)"
      ]
     },
     "execution_count": 7,
     "metadata": {},
     "output_type": "execute_result"
    }
   ],
   "source": [
    "#get imdb movie cast list\n",
    "function page_cast(id, title, year, link)\n",
    "    #sleep(2)\n",
    "    #println(id, title, year, link)\n",
    "    imdb_page = HTTP.get(link)\n",
    "    parsed_page = imdb_page.body |>\n",
    "        String |>\n",
    "        parsehtml\n",
    "    \n",
    "    # we create a selector to get the thing we want\n",
    "    sel_for_content = Selector(\".cast_list tr\")\n",
    "    # and we extract each matching node in the XML document\n",
    "    imdb_html_contents = eachmatch(sel_for_content, parsed_page.root)\n",
    "    \n",
    "    # data frames of cast are defined for characters.\n",
    "    df_cast = DataFrame(ID = String[], Year = String[], Actor = String[], Character = String[])\n",
    "    characters = \"\"\n",
    "    for imdb_character in imdb_html_contents\n",
    "        #println(imdb_character)\n",
    "        node = eachmatch(Selector(\"td\"), imdb_character) #[1].attributes[\"href\"]\n",
    "        if length(node) > 1\n",
    "            name = node_text(\"a\", node[2])\n",
    "            character = node_text(\"a\", node[4])\n",
    "            if character == \"\"\n",
    "                character = node_text(\".character\", imdb_character)\n",
    "            end\n",
    "            \n",
    "            #add data to cast dataframe\n",
    "            push!(df_cast, (id, year, name, character))\n",
    "            #println(name, \":\",character)\n",
    "            characters = characters*\" \"*character\n",
    "        end\n",
    "    end\n",
    "    \n",
    "    return df_cast, characters\n",
    "end"
   ]
  },
  {
   "cell_type": "code",
   "execution_count": null,
   "metadata": {},
   "outputs": [],
   "source": []
  },
  {
   "cell_type": "code",
   "execution_count": 11,
   "metadata": {},
   "outputs": [
    {
     "data": {
      "text/plain": [
       "page_movie (generic function with 1 method)"
      ]
     },
     "execution_count": 11,
     "metadata": {},
     "output_type": "execute_result"
    }
   ],
   "source": [
    "#get imdb movie list\n",
    "\n",
    "function page_movie(root)\n",
    "    # we create a selector to get the thing we want\n",
    "    sel_for_content = Selector(\".lister-item-content\")\n",
    "    # and we extract each matching node in the XML document\n",
    "    imdb_html_contents = eachmatch(sel_for_content, root) #parsed_page.root)\n",
    "    #imdb_html_contents\n",
    "\n",
    "    # data frames of movies and stars are defined respectively.\n",
    "    df_movies = DataFrame(ID = String[], Title = String[], Year = String[], Certificate = String[], \n",
    "        Runtime = Int16[], Genre = String[], Rating = String[], Score = Int16[], Vote = Int[])\n",
    "\n",
    "    df_stars = DataFrame(ID = String[], Director1 = String[], Director2 = String[], Star1 = String[], \n",
    "        Star2 = String[], Star3 = String[], Star4 = String[])\n",
    "\n",
    "    movie_desc = \"\"\n",
    "    for imdb_movie in imdb_html_contents\n",
    "        href = eachmatch(Selector(\".lister-item-header a\"), imdb_movie)[1].attributes[\"href\"]\n",
    "        #println(href)\n",
    "        m1 = match(r\"\\/(title)\\/(.*)\\/\" , href)\n",
    "        #get name of the movie\n",
    "        title = node_text(\".lister-item-header a\", imdb_movie) \n",
    "        #get year of the movie\n",
    "        year = node_text(\".lister-item-header .lister-item-year\", imdb_movie, false)\n",
    "        m2 = match(r\"(\\d+)\" , year)\n",
    "        #println(m1[2], title, m2[1])\n",
    "\n",
    "        #get movie description\n",
    "        description = node_text(\"p\", imdb_movie, true, 2)\n",
    "        movie_desc = movie_desc*\"\\n\"*description\n",
    "        #get certificate of the movie\n",
    "        certificate = node_text(\".text-muted .certificate\", imdb_movie, false)\n",
    "        #get runtime of the movie\n",
    "        runtime = node_text(\".text-muted .runtime\", imdb_movie, false)\n",
    "        m3 = match(r\"(\\d+)\", runtime)\n",
    "        #get genre of the movie\n",
    "        genre = node_text(\".text-muted .genre\", imdb_movie)\n",
    "        #println(certificate, genre, get_match(m3))\n",
    "\n",
    "        #get rating of the movie\n",
    "        rating = node_text(\".ratings-bar .ratings-imdb-rating\", imdb_movie, false)\n",
    "        #get score of the movie\n",
    "        score = node_text(\".ratings-bar .ratings-metascore .metascore\", imdb_movie, false)\n",
    "        #println(rating, score)\n",
    "\n",
    "        #get vote of the movie\n",
    "        vote = node_text(\".sort-num_votes-visible [name = 'nv']\", imdb_movie, false)\n",
    "        #println(replace(vote, \",\" => \"\"))\n",
    "\n",
    "        #add data to the movie dataframe\n",
    "        push!(df_movies, (get_match(m1,2), title, get_match(m2), certificate, to_Int16(get_match(m3)), \n",
    "                genre, rating, to_Int16(score), to_Int(replace(vote, \",\" => \"\"))))\n",
    "\n",
    "\n",
    "        #dir_dict dictionary is defined for directors\n",
    "        dir_dict = Dict([(1, \"\"), (2, \"\")])\n",
    "        #star_dict dictionary is defined for stars\n",
    "        star_dict = Dict([(1, \"\"), (2, \"\"), (3, \"\"), (4, \"\")])\n",
    "        stars = eachmatch(Selector(\"p\"), imdb_movie)\n",
    "        #println(stars[3])\n",
    "        #parse the node that has the mixed information of directors and stars \n",
    "        director = true\n",
    "        index = 0\n",
    "        for star in eachmatch(Selector(\"a, span\"), stars[3])\n",
    "            if nodeText(star) == \"|\"\n",
    "                director = false\n",
    "                index = 0\n",
    "            else\n",
    "                index += 1\n",
    "                if director\n",
    "                    dir_dict[index] = nodeText(star)\n",
    "                else\n",
    "                    star_dict[index] = nodeText(star)\n",
    "                end\n",
    "            end\n",
    "            #println(director, nodeText(star))\n",
    "\n",
    "        end\n",
    "\n",
    "        #add data to star dataframe\n",
    "        push!(df_stars, (get_match(m1,2), dir_dict[1], dir_dict[2], star_dict[1], \n",
    "                star_dict[2], star_dict[3], star_dict[4]))\n",
    "        \n",
    "        df_cast, character = page_cast(get_match(m1,2), title, get_match(m2), host*href)\n",
    "        write_csv(\"cast.csv\", df_cast)\n",
    "        write_txt(\"character.txt\", character*\"\\n\")\n",
    "        \n",
    "        #println(size(df_cast)[1], size(df_cast)[2])\n",
    "\n",
    "    end\n",
    "    \n",
    "    write_csv(\"movie.csv\", df_movies)\n",
    "    write_csv(\"stars.csv\", df_stars)\n",
    "    write_txt(\"descr.txt\", movie_desc)\n",
    "    #df_movies\n",
    "    return df_movies, df_stars\n",
    "end"
   ]
  },
  {
   "cell_type": "markdown",
   "metadata": {},
   "source": [
    "### Automation process"
   ]
  },
  {
   "cell_type": "code",
   "execution_count": null,
   "metadata": {},
   "outputs": [],
   "source": [
    "#we check the structure and content of the movies dataframe\n",
    "year_begin = 2010\n",
    "year_end = 2010\n",
    "list_num = 200\n",
    "\n",
    "#host = \"https://www.imdb.com/\"\n",
    "#get html content and parse it into html content for each year and page\n",
    "for year in year_begin:year_end\n",
    "    for page in 1:1000\n",
    "        param = string(year_begin)*\"-01-01,\"*string(year_end)*\"-12-31&count=\"*string(list_num)*\n",
    "                \"&start=\"*string(list_num*(page-1)+1)*\"&ref_=adv_nxt\"\n",
    "        link = host*\"/search/title/?title_type=feature&release_date=\"*param\n",
    "        println(link)\n",
    "        #sleep(3)\n",
    "        imdb_page = HTTP.get(link)\n",
    "        parsed_page = imdb_page.body |>\n",
    "            String |>\n",
    "            parsehtml\n",
    "        \n",
    "        df_movie, df_star = page_movie(parsed_page.root)\n",
    "        if size(df_movie)[1] < 200\n",
    "            break\n",
    "        end\n",
    "    end\n",
    "end\n",
    "\n",
    "\n",
    "\n",
    "\n",
    "#df_movies |> describe"
   ]
  },
  {
   "cell_type": "code",
   "execution_count": null,
   "metadata": {},
   "outputs": [],
   "source": []
  },
  {
   "cell_type": "code",
   "execution_count": null,
   "metadata": {},
   "outputs": [],
   "source": []
  },
  {
   "cell_type": "code",
   "execution_count": null,
   "metadata": {},
   "outputs": [],
   "source": []
  },
  {
   "cell_type": "code",
   "execution_count": 9,
   "metadata": {},
   "outputs": [
    {
     "data": {
      "text/html": [
       "<table class=\"data-frame\"><thead><tr><th></th><th>variable</th><th>mean</th><th>min</th><th>median</th><th>max</th><th>nunique</th><th>nmissing</th></tr><tr><th></th><th>Symbol</th><th>Nothing</th><th>String</th><th>Nothing</th><th>String</th><th>Int64</th><th>Nothing</th></tr></thead><tbody><p>7 rows × 8 columns (omitted printing of 1 columns)</p><tr><th>1</th><td>ID</td><td></td><td>tt0805647</td><td></td><td>tt9875128</td><td>200</td><td></td></tr><tr><th>2</th><td>Director1</td><td></td><td>Aaron Schneider</td><td></td><td>Zu Quirke</td><td>195</td><td></td></tr><tr><th>3</th><td>Director2</td><td></td><td></td><td></td><td>Tomasz Mandes</td><td>13</td><td></td></tr><tr><th>4</th><td>Star1</td><td></td><td>Abbi Jacobson</td><td></td><td>Zhi-zhong Huang</td><td>192</td><td></td></tr><tr><th>5</th><td>Star2</td><td></td><td>Adam Sandler</td><td></td><td>Zhang Junyi</td><td>197</td><td></td></tr><tr><th>6</th><td>Star3</td><td></td><td>Alan Arkin</td><td></td><td>Wotan Wilke Möhring</td><td>198</td><td></td></tr><tr><th>7</th><td>Star4</td><td></td><td></td><td></td><td>Zoe Fish</td><td>199</td><td></td></tr></tbody></table>"
      ],
      "text/latex": [
       "\\begin{tabular}{r|cccccccc}\n",
       "\t& variable & mean & min & median & max & nunique & nmissing & \\\\\n",
       "\t\\hline\n",
       "\t& Symbol & Nothing & String & Nothing & String & Int64 & Nothing & \\\\\n",
       "\t\\hline\n",
       "\t1 & ID &  & tt0805647 &  & tt9875128 & 200 &  & $\\dots$ \\\\\n",
       "\t2 & Director1 &  & Aaron Schneider &  & Zu Quirke & 195 &  & $\\dots$ \\\\\n",
       "\t3 & Director2 &  &  &  & Tomasz Mandes & 13 &  & $\\dots$ \\\\\n",
       "\t4 & Star1 &  & Abbi Jacobson &  & Zhi-zhong Huang & 192 &  & $\\dots$ \\\\\n",
       "\t5 & Star2 &  & Adam Sandler &  & Zhang Junyi & 197 &  & $\\dots$ \\\\\n",
       "\t6 & Star3 &  & Alan Arkin &  & Wotan Wilke Möhring & 198 &  & $\\dots$ \\\\\n",
       "\t7 & Star4 &  &  &  & Zoe Fish & 199 &  & $\\dots$ \\\\\n",
       "\\end{tabular}\n"
      ],
      "text/plain": [
       "7×8 DataFrame. Omitted printing of 3 columns\n",
       "│ Row │ variable  │ mean    │ min             │ median  │ max                 │\n",
       "│     │ \u001b[90mSymbol\u001b[39m    │ \u001b[90mNothing\u001b[39m │ \u001b[90mString\u001b[39m          │ \u001b[90mNothing\u001b[39m │ \u001b[90mString\u001b[39m              │\n",
       "├─────┼───────────┼─────────┼─────────────────┼─────────┼─────────────────────┤\n",
       "│ 1   │ ID        │         │ tt0805647       │         │ tt9875128           │\n",
       "│ 2   │ Director1 │         │ Aaron Schneider │         │ Zu Quirke           │\n",
       "│ 3   │ Director2 │         │                 │         │ Tomasz Mandes       │\n",
       "│ 4   │ Star1     │         │ Abbi Jacobson   │         │ Zhi-zhong Huang     │\n",
       "│ 5   │ Star2     │         │ Adam Sandler    │         │ Zhang Junyi         │\n",
       "│ 6   │ Star3     │         │ Alan Arkin      │         │ Wotan Wilke Möhring │\n",
       "│ 7   │ Star4     │         │                 │         │ Zoe Fish            │"
      ]
     },
     "execution_count": 9,
     "metadata": {},
     "output_type": "execute_result"
    }
   ],
   "source": [
    "#we check the structure and content of the stars dataframe\n",
    "df_stars |> describe\n",
    "\n",
    "#select(df_movies, :Genre)"
   ]
  },
  {
   "cell_type": "code",
   "execution_count": 12,
   "metadata": {},
   "outputs": [
    {
     "data": {
      "application/vnd.dataresource+json": {
       "data": [
        {
         "Genre": "Adventure, Crime, Drama",
         "Rating": 6.7,
         "Score": 68,
         "Vote": 56133
        },
        {
         "Genre": "Crime, Drama, Thriller",
         "Rating": 7.1,
         "Score": 54,
         "Vote": 47299
        },
        {
         "Genre": "Action, Sci-Fi",
         "Rating": 7.8,
         "Score": 69,
         "Vote": 122520
        },
        {
         "Genre": "Drama, Horror, Mystery",
         "Rating": 5.5,
         "Score": 45,
         "Vote": 6854
        },
        {
         "Genre": "Action, Adventure, Drama",
         "Rating": 5.4,
         "Score": 67,
         "Vote": 57682
        },
        {
         "Genre": "Adventure, Drama, Sci-Fi",
         "Rating": 0,
         "Score": 0,
         "Vote": 0
        },
        {
         "Genre": "Drama, Thriller",
         "Rating": 6.7,
         "Score": 78,
         "Vote": 38409
        },
        {
         "Genre": "Comedy, Horror",
         "Rating": 5.8,
         "Score": 22,
         "Vote": 17020
        },
        {
         "Genre": "Drama",
         "Rating": 2.8,
         "Score": 68,
         "Vote": 22894
        },
        {
         "Genre": "Drama, Romance",
         "Rating": 5.4,
         "Score": 0,
         "Vote": 4503
        },
        {
         "Genre": "Horror, Mystery, Sci-Fi",
         "Rating": 7.1,
         "Score": 72,
         "Vote": 135788
        },
        {
         "Genre": "Drama, Thriller",
         "Rating": 4.4,
         "Score": 57,
         "Vote": 1310
        },
        {
         "Genre": "Adventure, Comedy, Music",
         "Rating": 6.2,
         "Score": 65,
         "Vote": 19067
        },
        {
         "Genre": "Drama, Romance",
         "Rating": 3.3,
         "Score": 0,
         "Vote": 38609
        },
        {
         "Genre": "Animation, Adventure, Comedy",
         "Rating": 0,
         "Score": 0,
         "Vote": 0
        },
        {
         "Genre": "Action, Crime, Drama",
         "Rating": 5.3,
         "Score": 39,
         "Vote": 12738
        },
        {
         "Genre": "Crime, Drama, Thriller",
         "Rating": 5.6,
         "Score": 0,
         "Vote": 5045
        },
        {
         "Genre": "Drama, History, Thriller",
         "Rating": 7.1,
         "Score": 74,
         "Vote": 369
        },
        {
         "Genre": "Action, Adventure, Thriller",
         "Rating": 0,
         "Score": 0,
         "Vote": 0
        },
        {
         "Genre": "Thriller",
         "Rating": 6.2,
         "Score": 70,
         "Vote": 2140
        },
        {
         "Genre": "Action, Horror, Sci-Fi",
         "Rating": 5.5,
         "Score": 43,
         "Vote": 11772
        },
        {
         "Genre": "Adventure, Horror, Thriller",
         "Rating": 5.4,
         "Score": 0,
         "Vote": 2152
        },
        {
         "Genre": "Biography, Drama, History",
         "Rating": 8.7,
         "Score": 90,
         "Vote": 42158
        },
        {
         "Genre": "Action, Drama, Horror",
         "Rating": 6.2,
         "Score": 0,
         "Vote": 15782
        },
        {
         "Genre": "Action, Thriller",
         "Rating": 6.5,
         "Score": 0,
         "Vote": 3250
        },
        {
         "Genre": "Action, Adventure, Comedy",
         "Rating": 4.5,
         "Score": 31,
         "Vote": 1171
        },
        {
         "Genre": "Drama",
         "Rating": 6.7,
         "Score": 0,
         "Vote": 85
        },
        {
         "Genre": "Action, Adventure, Fantasy",
         "Rating": 6.7,
         "Score": 70,
         "Vote": 106622
        },
        {
         "Genre": "Action, Thriller",
         "Rating": 6.1,
         "Score": 40,
         "Vote": 6921
        },
        {
         "Genre": "Action, Crime, Sci-Fi",
         "Rating": 6,
         "Score": 51,
         "Vote": 55693
        },
        {
         "Genre": "Action, Adventure, Fantasy",
         "Rating": 0,
         "Score": 0,
         "Vote": 0
        },
        {
         "Genre": "Action, Adventure, Crime",
         "Rating": 6.1,
         "Score": 60,
         "Vote": 143938
        },
        {
         "Genre": "Crime, Drama",
         "Rating": 6.4,
         "Score": 80,
         "Vote": 463
        },
        {
         "Genre": "Animation, Adventure, Comedy",
         "Rating": 6.1,
         "Score": 51,
         "Vote": 13090
        },
        {
         "Genre": "Comedy, Romance",
         "Rating": 5.5,
         "Score": 39,
         "Vote": 8729
        },
        {
         "Genre": "Drama",
         "Rating": 8.2,
         "Score": 98,
         "Vote": 587
        },
        {
         "Genre": "Action, Comedy, Crime",
         "Rating": 6.6,
         "Score": 59,
         "Vote": 115079
        },
        {
         "Genre": "Comedy, Drama, Family",
         "Rating": 5.4,
         "Score": 0,
         "Vote": 4055
        },
        {
         "Genre": "Crime, Drama, Mystery",
         "Rating": 0,
         "Score": 0,
         "Vote": 0
        },
        {
         "Genre": "Action, Horror, Thriller",
         "Rating": 5.5,
         "Score": 51,
         "Vote": 11875
        },
        {
         "Genre": "Action, Drama, History",
         "Rating": 7,
         "Score": 64,
         "Vote": 53096
        },
        {
         "Genre": "Mystery, Romance, Thriller",
         "Rating": 0,
         "Score": 0,
         "Vote": 0
        },
        {
         "Genre": "Comedy, Mystery",
         "Rating": 0,
         "Score": 0,
         "Vote": 0
        },
        {
         "Genre": "Comedy, Drama",
         "Rating": 7.1,
         "Score": 67,
         "Vote": 24468
        },
        {
         "Genre": "Comedy, Music",
         "Rating": 6.5,
         "Score": 50,
         "Vote": 65285
        },
        {
         "Genre": "Biography, Drama, History",
         "Rating": 3.8,
         "Score": 58,
         "Vote": 601
        },
        {
         "Genre": "Drama",
         "Rating": 6.6,
         "Score": 70,
         "Vote": 1921
        },
        {
         "Genre": "Comedy, Drama",
         "Rating": 6.2,
         "Score": 61,
         "Vote": 2320
        },
        {
         "Genre": "Comedy, Horror, Thriller",
         "Rating": 0,
         "Score": 0,
         "Vote": 0
        },
        {
         "Genre": "Action, Drama",
         "Rating": 0,
         "Score": 0,
         "Vote": 0
        },
        {
         "Genre": "Comedy, Fantasy, Mystery",
         "Rating": 7.4,
         "Score": 83,
         "Vote": 49981
        },
        {
         "Genre": "Drama",
         "Rating": 8.2,
         "Score": 72,
         "Vote": 1033
        },
        {
         "Genre": "Comedy, Romance",
         "Rating": 6.6,
         "Score": 57,
         "Vote": 802
        },
        {
         "Genre": "Action, Horror, Thriller",
         "Rating": 6.5,
         "Score": 50,
         "Vote": 55421
        },
        {
         "Genre": "Adventure, Comedy, Drama",
         "Rating": 7,
         "Score": 73,
         "Vote": 171
        },
        {
         "Genre": "Comedy, Drama",
         "Rating": 5.8,
         "Score": 61,
         "Vote": 159
        },
        {
         "Genre": "Crime, Drama, Thriller",
         "Rating": 5.7,
         "Score": 29,
         "Vote": 4822
        },
        {
         "Genre": "Action, Adventure, Fantasy",
         "Rating": 4.9,
         "Score": 22,
         "Vote": 28620
        },
        {
         "Genre": "Action",
         "Rating": 3.7,
         "Score": 0,
         "Vote": 3147
        },
        {
         "Genre": "Drama",
         "Rating": 6.6,
         "Score": 79,
         "Vote": 351
        },
        {
         "Genre": "Action, Thriller",
         "Rating": 6.7,
         "Score": 56,
         "Vote": 144758
        },
        {
         "Genre": "Action, Drama, Sci-Fi",
         "Rating": 5.7,
         "Score": 44,
         "Vote": 52076
        },
        {
         "Genre": "Action, Crime, Drama",
         "Rating": 4.7,
         "Score": 22,
         "Vote": 5757
        },
        {
         "Genre": "Action, Drama, History",
         "Rating": 6.7,
         "Score": 71,
         "Vote": 11603
        },
        {
         "Genre": "Drama",
         "Rating": 8.1,
         "Score": 86,
         "Vote": 303
        },
        {
         "Genre": "Action, Horror, Thriller",
         "Rating": 4.7,
         "Score": 0,
         "Vote": 2367
        },
        {
         "Genre": "Animation, Adventure, Comedy",
         "Rating": 6.7,
         "Score": 58,
         "Vote": 5333
        },
        {
         "Genre": "Biography, Drama",
         "Rating": 0,
         "Score": 0,
         "Vote": 0
        },
        {
         "Genre": "Crime, Drama, Thriller",
         "Rating": 6.8,
         "Score": 0,
         "Vote": 1372
        },
        {
         "Genre": "Comedy",
         "Rating": 0,
         "Score": 0,
         "Vote": 0
        },
        {
         "Genre": "Drama, Romance",
         "Rating": 6.4,
         "Score": 32,
         "Vote": 1928
        },
        {
         "Genre": "Action, Adventure, Comedy",
         "Rating": 5.6,
         "Score": 46,
         "Vote": 5836
        },
        {
         "Genre": "Action, Crime, Thriller",
         "Rating": 6.1,
         "Score": 0,
         "Vote": 6489
        },
        {
         "Genre": "Comedy, Drama, Romance",
         "Rating": 6.7,
         "Score": 71,
         "Vote": 20752
        },
        {
         "Genre": "Comedy, Drama",
         "Rating": 6.2,
         "Score": 47,
         "Vote": 7227
        },
        {
         "Genre": "Drama, Romance",
         "Rating": 6.3,
         "Score": 57,
         "Vote": 5147
        },
        {
         "Genre": "Drama, Sport",
         "Rating": 6.7,
         "Score": 66,
         "Vote": 25603
        },
        {
         "Genre": "Action, Horror, Sci-Fi",
         "Rating": 5.8,
         "Score": 48,
         "Vote": 50328
        },
        {
         "Genre": "Animation, Adventure, Comedy",
         "Rating": 5.7,
         "Score": 43,
         "Vote": 15642
        },
        {
         "Genre": "Drama, Horror, Sci-Fi",
         "Rating": 0,
         "Score": 0,
         "Vote": 0
        },
        {
         "Genre": "Drama, Mystery, Romance",
         "Rating": 0,
         "Score": 0,
         "Vote": 0
        },
        {
         "Genre": "Animation, Adventure, Comedy",
         "Rating": 7.4,
         "Score": 61,
         "Vote": 80268
        },
        {
         "Genre": "Biography, Crime, Drama",
         "Rating": 4.7,
         "Score": 46,
         "Vote": 12435
        },
        {
         "Genre": "Horror, Sci-Fi, Thriller",
         "Rating": 6.3,
         "Score": 74,
         "Vote": 2067
        },
        {
         "Genre": "Horror, Thriller",
         "Rating": 4.1,
         "Score": 0,
         "Vote": 204
        },
        {
         "Genre": "Action, Adventure, Comedy",
         "Rating": 6.5,
         "Score": 47,
         "Vote": 76797
        },
        {
         "Genre": "Action, Adventure, Comedy",
         "Rating": 0,
         "Score": 0,
         "Vote": 0
        },
        {
         "Genre": "Drama",
         "Rating": 6.5,
         "Score": 69,
         "Vote": 252
        },
        {
         "Genre": "Comedy, Horror, Thriller",
         "Rating": 0,
         "Score": 0,
         "Vote": 0
        },
        {
         "Genre": "Action",
         "Rating": 4.2,
         "Score": 0,
         "Vote": 152
        },
        {
         "Genre": "Adventure, Comedy, Family",
         "Rating": 5.6,
         "Score": 26,
         "Vote": 40478
        },
        {
         "Genre": "Drama, Thriller",
         "Rating": 5.8,
         "Score": 46,
         "Vote": 124
        },
        {
         "Genre": "Adventure, Drama, War",
         "Rating": 6.5,
         "Score": 82,
         "Vote": 31766
        },
        {
         "Genre": "Drama, Romance",
         "Rating": 6.9,
         "Score": 75,
         "Vote": 136
        },
        {
         "Genre": "Comedy, Romance",
         "Rating": 5.1,
         "Score": 41,
         "Vote": 1379
        },
        {
         "Genre": "Sci-Fi",
         "Rating": 4.9,
         "Score": 0,
         "Vote": 124
        },
        {
         "Genre": "Drama, Horror, Sci-Fi",
         "Rating": 6.3,
         "Score": 61,
         "Vote": 7862
        },
        {
         "Genre": "Action, Thriller",
         "Rating": 4,
         "Score": 0,
         "Vote": 3547
        },
        {
         "Genre": "Horror, Sci-Fi, Thriller",
         "Rating": 5.1,
         "Score": 0,
         "Vote": 1380
        },
        {
         "Genre": "Horror, Thriller",
         "Rating": 5.7,
         "Score": 63,
         "Vote": 11052
        },
        {
         "Genre": "Drama, Family, Fantasy",
         "Rating": 5.5,
         "Score": 62,
         "Vote": 2603
        },
        {
         "Genre": "Drama, Mystery, Thriller",
         "Rating": 5.5,
         "Score": 31,
         "Vote": 5139
        },
        {
         "Genre": "Comedy",
         "Rating": 5.7,
         "Score": 58,
         "Vote": 11779
        },
        {
         "Genre": "Action, Crime, Drama",
         "Rating": 8,
         "Score": 0,
         "Vote": 97
        },
        {
         "Genre": "War",
         "Rating": 7.2,
         "Score": 64,
         "Vote": 724
        },
        {
         "Genre": "Mystery, Thriller",
         "Rating": 5.7,
         "Score": 0,
         "Vote": 345
        },
        {
         "Genre": "Adventure, Comedy",
         "Rating": 0,
         "Score": 0,
         "Vote": 0
        },
        {
         "Genre": "Comedy",
         "Rating": 7.7,
         "Score": 48,
         "Vote": 95
        },
        {
         "Genre": "Action, Comedy, Family",
         "Rating": 6.3,
         "Score": 46,
         "Vote": 18190
        },
        {
         "Genre": "Horror, Mystery, Thriller",
         "Rating": 0,
         "Score": 0,
         "Vote": 0
        },
        {
         "Genre": "Animation, Adventure, Comedy",
         "Rating": 6.3,
         "Score": 0,
         "Vote": 453
        },
        {
         "Genre": "Drama, Horror, Mystery",
         "Rating": 5.3,
         "Score": 46,
         "Vote": 10543
        },
        {
         "Genre": "Action, Comedy, Crime",
         "Rating": 6.2,
         "Score": 49,
         "Vote": 62667
        },
        {
         "Genre": "Comedy",
         "Rating": 0,
         "Score": 0,
         "Vote": 0
        },
        {
         "Genre": "Crime, Thriller",
         "Rating": 6,
         "Score": 62,
         "Vote": 1536
        },
        {
         "Genre": "Action, Drama, Fantasy",
         "Rating": 5.3,
         "Score": 0,
         "Vote": 3463
        },
        {
         "Genre": "Adventure, Drama, Family",
         "Rating": 6.8,
         "Score": 47,
         "Vote": 30411
        },
        {
         "Genre": "Biography, Drama",
         "Rating": 5.1,
         "Score": 67,
         "Vote": 3140
        },
        {
         "Genre": "Drama, Sci-Fi, Thriller",
         "Rating": 6.3,
         "Score": 67,
         "Vote": 5823
        },
        {
         "Genre": "Horror, Mystery, Thriller",
         "Rating": 0,
         "Score": 0,
         "Vote": 0
        },
        {
         "Genre": "Action",
         "Rating": 4.7,
         "Score": 0,
         "Vote": 1547
        },
        {
         "Genre": "Adventure, Family, Fantasy",
         "Rating": 4.2,
         "Score": 31,
         "Vote": 19187
        },
        {
         "Genre": "Horror, Mystery",
         "Rating": 6.6,
         "Score": 72,
         "Vote": 8029
        },
        {
         "Genre": "Comedy, Romance",
         "Rating": 5.9,
         "Score": 39,
         "Vote": 16598
        },
        {
         "Genre": "Adventure, Drama, Fantasy",
         "Rating": 2.8,
         "Score": 0,
         "Vote": 156
        },
        {
         "Genre": "Comedy, Drama, Sport",
         "Rating": 5.4,
         "Score": 0,
         "Vote": 153
        },
        {
         "Genre": "Drama, History",
         "Rating": 6.1,
         "Score": 62,
         "Vote": 2918
        },
        {
         "Genre": "Action, Horror, Sci-Fi",
         "Rating": 4.6,
         "Score": 0,
         "Vote": 3623
        },
        {
         "Genre": "Romance",
         "Rating": 6,
         "Score": 49,
         "Vote": 2667
        },
        {
         "Genre": "Action, Drama, Horror",
         "Rating": 5.8,
         "Score": 54,
         "Vote": 7538
        },
        {
         "Genre": "Comedy, Romance",
         "Rating": 5.7,
         "Score": 33,
         "Vote": 29381
        },
        {
         "Genre": "Action",
         "Rating": 5.7,
         "Score": 0,
         "Vote": 1734
        },
        {
         "Genre": "Action",
         "Rating": 5.7,
         "Score": 0,
         "Vote": 1440
        },
        {
         "Genre": "Thriller",
         "Rating": 6.8,
         "Score": 56,
         "Vote": 16151
        },
        {
         "Genre": "Family, Western",
         "Rating": 6.1,
         "Score": 0,
         "Vote": 60
        },
        {
         "Genre": "Comedy",
         "Rating": 5,
         "Score": 35,
         "Vote": 1916
        },
        {
         "Genre": "Action, Drama, Horror",
         "Rating": 4.5,
         "Score": 46,
         "Vote": 2286
        },
        {
         "Genre": "Biography, Drama, Thriller",
         "Rating": 6.2,
         "Score": 76,
         "Vote": 5154
        },
        {
         "Genre": "Drama, Horror, Mystery",
         "Rating": 5.9,
         "Score": 76,
         "Vote": 10301
        },
        {
         "Genre": "Comedy, Romance",
         "Rating": 0,
         "Score": 0,
         "Vote": 0
        },
        {
         "Genre": "Drama",
         "Rating": 6.7,
         "Score": 80,
         "Vote": 178
        },
        {
         "Genre": "Drama, Horror, Mystery",
         "Rating": 0,
         "Score": 0,
         "Vote": 0
        },
        {
         "Genre": "Comedy, Music",
         "Rating": 6.1,
         "Score": 58,
         "Vote": 7464
        },
        {
         "Genre": "Romance",
         "Rating": 5.9,
         "Score": 0,
         "Vote": 117
        },
        {
         "Genre": "Crime, Mystery, Thriller",
         "Rating": 7.3,
         "Score": 0,
         "Vote": 659
        },
        {
         "Genre": "Adventure, Drama, Sci-Fi",
         "Rating": 0,
         "Score": 0,
         "Vote": 0
        },
        {
         "Genre": "Comedy, Family, Fantasy",
         "Rating": 0,
         "Score": 0,
         "Vote": 0
        },
        {
         "Genre": "Action, Adventure, Fantasy",
         "Rating": 5.8,
         "Score": 0,
         "Vote": 2450
        },
        {
         "Genre": "Adventure, Fantasy, Horror",
         "Rating": 5.6,
         "Score": 26,
         "Vote": 77
        },
        {
         "Genre": "Adventure, Comedy, Family",
         "Rating": 0,
         "Score": 0,
         "Vote": 0
        },
        {
         "Genre": "Drama, Horror, Mystery",
         "Rating": 3.8,
         "Score": 35,
         "Vote": 7955
        },
        {
         "Genre": "Horror, Thriller",
         "Rating": 0,
         "Score": 0,
         "Vote": 0
        },
        {
         "Genre": "Fantasy, Horror, Mystery",
         "Rating": 5.3,
         "Score": 64,
         "Vote": 19096
        },
        {
         "Genre": "Animation, Adventure, Comedy",
         "Rating": 0,
         "Score": 0,
         "Vote": 0
        },
        {
         "Genre": "Drama, Music, Romance",
         "Rating": 6.3,
         "Score": 58,
         "Vote": 3981
        },
        {
         "Genre": "Drama",
         "Rating": 6.4,
         "Score": 51,
         "Vote": 932
        },
        {
         "Genre": "Comedy",
         "Rating": 5.6,
         "Score": 45,
         "Vote": 1871
        },
        {
         "Genre": "Action, Adventure, Comedy",
         "Rating": 6,
         "Score": 0,
         "Vote": 3999
        },
        {
         "Genre": "Action, Drama",
         "Rating": 1.1,
         "Score": 0,
         "Vote": 57294
        },
        {
         "Genre": "Action, Adventure, Drama",
         "Rating": 0,
         "Score": 0,
         "Vote": 0
        },
        {
         "Genre": "Comedy, Drama, Romance",
         "Rating": 7.9,
         "Score": 0,
         "Vote": 103583
        },
        {
         "Genre": "Animation, Action",
         "Rating": 0,
         "Score": 0,
         "Vote": 0
        },
        {
         "Genre": "Action, Comedy, Family",
         "Rating": 3.8,
         "Score": 0,
         "Vote": 151
        },
        {
         "Genre": "Animation, Adventure, Comedy",
         "Rating": 0,
         "Score": 0,
         "Vote": 0
        },
        {
         "Genre": "Action, Drama, Mystery",
         "Rating": 5.2,
         "Score": 45,
         "Vote": 9256
        },
        {
         "Genre": "Drama",
         "Rating": 6.7,
         "Score": 61,
         "Vote": 374
        },
        {
         "Genre": "Comedy, Romance",
         "Rating": 5.1,
         "Score": 41,
         "Vote": 7458
        },
        {
         "Genre": "Crime, Drama, Thriller",
         "Rating": 5.9,
         "Score": 55,
         "Vote": 5489
        },
        {
         "Genre": "Horror, Mystery",
         "Rating": 4.3,
         "Score": 41,
         "Vote": 17787
        },
        {
         "Genre": "Comedy, Horror, Thriller",
         "Rating": 5.9,
         "Score": 65,
         "Vote": 160
        },
        {
         "Genre": "Comedy",
         "Rating": 4.5,
         "Score": 0,
         "Vote": 395
        },
        {
         "Genre": "Drama",
         "Rating": 5.5,
         "Score": 81,
         "Vote": 150
        },
        {
         "Genre": "Drama, Horror, Mystery",
         "Rating": 0,
         "Score": 0,
         "Vote": 0
        },
        {
         "Genre": "Drama, Thriller",
         "Rating": 7.1,
         "Score": 61,
         "Vote": 7622
        },
        {
         "Genre": "Animation, Adventure, Comedy",
         "Rating": 0,
         "Score": 0,
         "Vote": 0
        },
        {
         "Genre": "Comedy, Drama, Family",
         "Rating": 5.7,
         "Score": 0,
         "Vote": 524
        },
        {
         "Genre": "Comedy, Romance",
         "Rating": 5.5,
         "Score": 41,
         "Vote": 15908
        },
        {
         "Genre": "Drama, Western",
         "Rating": 0,
         "Score": 0,
         "Vote": 0
        },
        {
         "Genre": "Biography, Drama, Music",
         "Rating": 6.5,
         "Score": 41,
         "Vote": 6588
        },
        {
         "Genre": "Action, Drama, Thriller",
         "Rating": 7.2,
         "Score": 0,
         "Vote": 13028
        },
        {
         "Genre": "Horror, Mystery, Thriller",
         "Rating": 5.2,
         "Score": 37,
         "Vote": 2166
        },
        {
         "Genre": "Comedy, Musical, Romance",
         "Rating": 5.4,
         "Score": 53,
         "Vote": 1509
        },
        {
         "Genre": "Drama",
         "Rating": 6.5,
         "Score": 64,
         "Vote": 2198
        },
        {
         "Genre": "Action, Fantasy",
         "Rating": 0,
         "Score": 0,
         "Vote": 0
        },
        {
         "Genre": "Drama, Thriller",
         "Rating": 7.9,
         "Score": 0,
         "Vote": 17
        },
        {
         "Genre": "Comedy, Drama, Family",
         "Rating": 6.3,
         "Score": 0,
         "Vote": 6699
        },
        {
         "Genre": "Action, Drama",
         "Rating": 4.4,
         "Score": 29,
         "Vote": 4081
        },
        {
         "Genre": "Drama, Romance",
         "Rating": 5.9,
         "Score": 0,
         "Vote": 298
        },
        {
         "Genre": "Action, Mystery, Thriller",
         "Rating": 5.7,
         "Score": 0,
         "Vote": 1280
        },
        {
         "Genre": "Drama, Romance",
         "Rating": 6.5,
         "Score": 61,
         "Vote": 17798
        },
        {
         "Genre": "Action, Thriller",
         "Rating": 4.9,
         "Score": 0,
         "Vote": 941
        },
        {
         "Genre": "Thriller",
         "Rating": 5.6,
         "Score": 0,
         "Vote": 54
        },
        {
         "Genre": "Action, Horror, War",
         "Rating": 6.1,
         "Score": 63,
         "Vote": 100
        },
        {
         "Genre": "Comedy, Fantasy, Sci-Fi",
         "Rating": 0,
         "Score": 0,
         "Vote": 0
        },
        {
         "Genre": "Drama, Horror, Sci-Fi",
         "Rating": 2.9,
         "Score": 0,
         "Vote": 166
        },
        {
         "Genre": "Action, Crime, Drama",
         "Rating": 3.6,
         "Score": 15,
         "Vote": 8472
        },
        {
         "Genre": "Animation, Adventure, Comedy",
         "Rating": 7.3,
         "Score": 77,
         "Vote": 1988
        },
        {
         "Genre": "Biography, Drama",
         "Rating": 6.5,
         "Score": 61,
         "Vote": 63
        },
        {
         "Genre": "Crime, Drama, Mystery",
         "Rating": 5.5,
         "Score": 44,
         "Vote": 7444
        },
        {
         "Genre": "Comedy, Family, Fantasy",
         "Rating": 6.3,
         "Score": 0,
         "Vote": 2199
        }
       ],
       "schema": {
        "fields": [
         {
          "name": "Genre",
          "type": "string"
         },
         {
          "name": "Rating",
          "type": "number"
         },
         {
          "name": "Score",
          "type": "integer"
         },
         {
          "name": "Vote",
          "type": "integer"
         }
        ]
       }
      },
      "text/html": [
       "<table><thead><tr><th>Genre</th><th>Rating</th><th>Score</th><th>Vote</th></tr></thead><tbody><tr><td>&quot;Adventure, Crime, Drama&quot;</td><td>6.7</td><td>68</td><td>56133</td></tr><tr><td>&quot;Crime, Drama, Thriller&quot;</td><td>7.1</td><td>54</td><td>47299</td></tr><tr><td>&quot;Action, Sci-Fi&quot;</td><td>7.8</td><td>69</td><td>122520</td></tr><tr><td>&quot;Drama, Horror, Mystery&quot;</td><td>5.5</td><td>45</td><td>6854</td></tr><tr><td>&quot;Action, Adventure, Drama&quot;</td><td>5.4</td><td>67</td><td>57682</td></tr><tr><td>&quot;Adventure, Drama, Sci-Fi&quot;</td><td>0.0</td><td>0</td><td>0</td></tr><tr><td>&quot;Drama, Thriller&quot;</td><td>6.7</td><td>78</td><td>38409</td></tr><tr><td>&quot;Comedy, Horror&quot;</td><td>5.8</td><td>22</td><td>17020</td></tr><tr><td>&quot;Drama&quot;</td><td>2.8</td><td>68</td><td>22894</td></tr><tr><td>&quot;Drama, Romance&quot;</td><td>5.4</td><td>0</td><td>4503</td></tr><tr><td>&vellip;</td><td>&vellip;</td><td>&vellip;</td><td>&vellip;</td></tr></tbody></table><p>... with 190 more rows.</p>"
      ],
      "text/plain": [
       "200x4 query result\n",
       "Genre                    │ Rating │ Score │ Vote  \n",
       "─────────────────────────┼────────┼───────┼───────\n",
       "Adventure, Crime, Drama  │ 6.7    │ 68    │ 56133 \n",
       "Crime, Drama, Thriller   │ 7.1    │ 54    │ 47299 \n",
       "Action, Sci-Fi           │ 7.8    │ 69    │ 122520\n",
       "Drama, Horror, Mystery   │ 5.5    │ 45    │ 6854  \n",
       "Action, Adventure, Drama │ 5.4    │ 67    │ 57682 \n",
       "Adventure, Drama, Sci-Fi │ 0.0    │ 0     │ 0     \n",
       "Drama, Thriller          │ 6.7    │ 78    │ 38409 \n",
       "Comedy, Horror           │ 5.8    │ 22    │ 17020 \n",
       "Drama                    │ 2.8    │ 68    │ 22894 \n",
       "Drama, Romance           │ 5.4    │ 0     │ 4503  \n",
       "... with 190 more rows"
      ]
     },
     "execution_count": 12,
     "metadata": {},
     "output_type": "execute_result"
    }
   ],
   "source": [
    "# we can join these two data frames together by IMDB ID\n",
    "data_df = leftjoin(df_movies, df_stars,on=:ID) |> DataFrame\n",
    "\n",
    "data_df |>\n",
    "  @select(:Genre, :Rating, :Score, :Vote)"
   ]
  },
  {
   "cell_type": "code",
   "execution_count": 13,
   "metadata": {},
   "outputs": [
    {
     "data": {
      "text/html": [
       "<table class=\"data-frame\"><thead><tr><th></th><th>variable</th><th>mean</th><th>min</th><th>median</th><th>max</th><th>nunique</th><th>nmissing</th></tr><tr><th></th><th>Symbol</th><th>Any</th><th>Any</th><th>Union…</th><th>Any</th><th>Union…</th><th>Union…</th></tr></thead><tbody><p>15 rows × 8 columns (omitted printing of 1 columns)</p><tr><th>1</th><td>ID</td><td></td><td>tt0805647</td><td></td><td>tt9875128</td><td>200</td><td></td></tr><tr><th>2</th><td>Title</td><td></td><td>#Saraitda</td><td></td><td>You Should Have Left</td><td>199</td><td></td></tr><tr><th>3</th><td>Year</td><td></td><td>2020</td><td></td><td>2020</td><td>1</td><td></td></tr><tr><th>4</th><td>Certificate</td><td></td><td></td><td></td><td>R18</td><td>10</td><td></td></tr><tr><th>5</th><td>Runtime</td><td>91.305</td><td>0</td><td>98.0</td><td>163</td><td></td><td></td></tr><tr><th>6</th><td>Genre</td><td></td><td>Action</td><td></td><td>War</td><td>90</td><td></td></tr><tr><th>7</th><td>Rating</td><td>4.88</td><td>0.0</td><td>5.69922</td><td>8.7</td><td></td><td></td></tr><tr><th>8</th><td>Score</td><td>33.37</td><td>0</td><td>40.5</td><td>98</td><td></td><td></td></tr><tr><th>9</th><td>Vote</td><td>13482.0</td><td>0</td><td>2303.0</td><td>144758</td><td></td><td></td></tr><tr><th>10</th><td>Director1</td><td></td><td>Aaron Schneider</td><td></td><td>Zu Quirke</td><td>195</td><td>0</td></tr><tr><th>11</th><td>Director2</td><td></td><td></td><td></td><td>Tomasz Mandes</td><td>13</td><td>0</td></tr><tr><th>12</th><td>Star1</td><td></td><td>Abbi Jacobson</td><td></td><td>Zhi-zhong Huang</td><td>192</td><td>0</td></tr><tr><th>13</th><td>Star2</td><td></td><td>Adam Sandler</td><td></td><td>Zhang Junyi</td><td>197</td><td>0</td></tr><tr><th>14</th><td>Star3</td><td></td><td>Alan Arkin</td><td></td><td>Wotan Wilke Möhring</td><td>198</td><td>0</td></tr><tr><th>15</th><td>Star4</td><td></td><td></td><td></td><td>Zoe Fish</td><td>199</td><td>0</td></tr></tbody></table>"
      ],
      "text/latex": [
       "\\begin{tabular}{r|cccccccc}\n",
       "\t& variable & mean & min & median & max & nunique & nmissing & \\\\\n",
       "\t\\hline\n",
       "\t& Symbol & Any & Any & Union… & Any & Union… & Union… & \\\\\n",
       "\t\\hline\n",
       "\t1 & ID &  & tt0805647 &  & tt9875128 & 200 &  & $\\dots$ \\\\\n",
       "\t2 & Title &  & \\#Saraitda &  & You Should Have Left & 199 &  & $\\dots$ \\\\\n",
       "\t3 & Year &  & 2020 &  & 2020 & 1 &  & $\\dots$ \\\\\n",
       "\t4 & Certificate &  &  &  & R18 & 10 &  & $\\dots$ \\\\\n",
       "\t5 & Runtime & 91.305 & 0 & 98.0 & 163 &  &  & $\\dots$ \\\\\n",
       "\t6 & Genre &  & Action &  & War & 90 &  & $\\dots$ \\\\\n",
       "\t7 & Rating & 4.88 & 0.0 & 5.69922 & 8.7 &  &  & $\\dots$ \\\\\n",
       "\t8 & Score & 33.37 & 0 & 40.5 & 98 &  &  & $\\dots$ \\\\\n",
       "\t9 & Vote & 13482.0 & 0 & 2303.0 & 144758 &  &  & $\\dots$ \\\\\n",
       "\t10 & Director1 &  & Aaron Schneider &  & Zu Quirke & 195 & 0 & $\\dots$ \\\\\n",
       "\t11 & Director2 &  &  &  & Tomasz Mandes & 13 & 0 & $\\dots$ \\\\\n",
       "\t12 & Star1 &  & Abbi Jacobson &  & Zhi-zhong Huang & 192 & 0 & $\\dots$ \\\\\n",
       "\t13 & Star2 &  & Adam Sandler &  & Zhang Junyi & 197 & 0 & $\\dots$ \\\\\n",
       "\t14 & Star3 &  & Alan Arkin &  & Wotan Wilke Möhring & 198 & 0 & $\\dots$ \\\\\n",
       "\t15 & Star4 &  &  &  & Zoe Fish & 199 & 0 & $\\dots$ \\\\\n",
       "\\end{tabular}\n"
      ],
      "text/plain": [
       "15×8 DataFrame. Omitted printing of 4 columns\n",
       "│ Row │ variable    │ mean    │ min             │ median  │\n",
       "│     │ \u001b[90mSymbol\u001b[39m      │ \u001b[90mAny\u001b[39m     │ \u001b[90mAny\u001b[39m             │ \u001b[90mUnion…\u001b[39m  │\n",
       "├─────┼─────────────┼─────────┼─────────────────┼─────────┤\n",
       "│ 1   │ ID          │         │ tt0805647       │         │\n",
       "│ 2   │ Title       │         │ #Saraitda       │         │\n",
       "│ 3   │ Year        │         │ 2020            │         │\n",
       "│ 4   │ Certificate │         │                 │         │\n",
       "│ 5   │ Runtime     │ 91.305  │ 0               │ 98.0    │\n",
       "│ 6   │ Genre       │         │ Action          │         │\n",
       "│ 7   │ Rating      │ 4.88    │ 0.0             │ 5.69922 │\n",
       "│ 8   │ Score       │ 33.37   │ 0               │ 40.5    │\n",
       "│ 9   │ Vote        │ 13482.0 │ 0               │ 2303.0  │\n",
       "│ 10  │ Director1   │         │ Aaron Schneider │         │\n",
       "│ 11  │ Director2   │         │                 │         │\n",
       "│ 12  │ Star1       │         │ Abbi Jacobson   │         │\n",
       "│ 13  │ Star2       │         │ Adam Sandler    │         │\n",
       "│ 14  │ Star3       │         │ Alan Arkin      │         │\n",
       "│ 15  │ Star4       │         │                 │         │"
      ]
     },
     "execution_count": 13,
     "metadata": {},
     "output_type": "execute_result"
    }
   ],
   "source": [
    "#we check the structure and content of the joined dataframe\n",
    "data_df |> describe"
   ]
  },
  {
   "cell_type": "code",
   "execution_count": 1,
   "metadata": {},
   "outputs": [
    {
     "data": {
      "text/html": [
       "<table class=\"data-frame\"><thead><tr><th></th><th>ID</th><th>Title</th><th>Year</th><th>Certificate</th></tr><tr><th></th><th>String</th><th>String</th><th>Int64</th><th>String?</th></tr></thead><tbody><p>13,373 rows × 9 columns (omitted printing of 5 columns)</p><tr><th>1</th><td>tt1375666</td><td>Inception</td><td>2010</td><td>M</td></tr><tr><th>2</th><td>tt1375670</td><td>Grown Ups</td><td>2010</td><td>PG-13</td></tr><tr><th>3</th><td>tt1285016</td><td>The Social Network</td><td>2010</td><td>M</td></tr><tr><th>4</th><td>tt0446029</td><td>Scott Pilgrim vs the World</td><td>2010</td><td>M</td></tr><tr><th>5</th><td>tt1130884</td><td>Shutter Island</td><td>2010</td><td>R16</td></tr><tr><th>6</th><td>tt1591095</td><td>Insidious</td><td>2010</td><td>M</td></tr><tr><th>7</th><td>tt1250777</td><td>Kick Ass</td><td>2010</td><td>R18</td></tr><tr><th>8</th><td>tt1245526</td><td>RED</td><td>2010</td><td>M</td></tr><tr><th>9</th><td>tt0926084</td><td>Harry Potter and the Deathly Hallows Part 1</td><td>2010</td><td>M</td></tr><tr><th>10</th><td>tt0947798</td><td>Black Swan</td><td>2010</td><td>R16</td></tr><tr><th>11</th><td>tt1242432</td><td>I Spit on Your Grave</td><td>2010</td><td>Objectionable</td></tr><tr><th>12</th><td>tt1273235</td><td>Srpski film</td><td>2010</td><td>Objectionable</td></tr><tr><th>13</th><td>tt0840361</td><td>The Town</td><td>2010</td><td>R16</td></tr><tr><th>14</th><td>tt0814255</td><td>Percy Jackson the Olympians The Lightning Thief</td><td>2010</td><td>M</td></tr><tr><th>15</th><td>tt1255953</td><td>Incendies</td><td>2010</td><td>R16</td></tr><tr><th>16</th><td>tt1179056</td><td>A Nightmare on Elm Street</td><td>2010</td><td>R16</td></tr><tr><th>17</th><td>tt1014759</td><td>Alice in Wonderland</td><td>2010</td><td>PG</td></tr><tr><th>18</th><td>tt1228705</td><td>Iron Man 2</td><td>2010</td><td>M</td></tr><tr><th>19</th><td>tt0938283</td><td>The Last Airbender</td><td>2010</td><td>PG</td></tr><tr><th>20</th><td>tt1314655</td><td>Devil</td><td>2010</td><td>PG-13</td></tr><tr><th>21</th><td>tt1282140</td><td>Easy A</td><td>2010</td><td>M</td></tr><tr><th>22</th><td>tt0800320</td><td>Clash of the Titans</td><td>2010</td><td>M</td></tr><tr><th>23</th><td>tt0398286</td><td>Tangled</td><td>2010</td><td>PG</td></tr><tr><th>24</th><td>tt1302067</td><td>Yogi Bear</td><td>2010</td><td>PG</td></tr><tr><th>25</th><td>tt1104001</td><td>Tron</td><td>2010</td><td>PG</td></tr><tr><th>26</th><td>tt1325004</td><td>The Twilight Saga Eclipse</td><td>2010</td><td>M</td></tr><tr><th>27</th><td>tt1231587</td><td>Hot Tub Time Machine</td><td>2010</td><td>R16</td></tr><tr><th>28</th><td>tt1403865</td><td>True Grit</td><td>2010</td><td>PG-13</td></tr><tr><th>29</th><td>tt0480255</td><td>The Losers</td><td>2010</td><td>M</td></tr><tr><th>30</th><td>tt1386588</td><td>The Other Guys</td><td>2010</td><td>M</td></tr><tr><th>&vellip;</th><td>&vellip;</td><td>&vellip;</td><td>&vellip;</td><td>&vellip;</td></tr></tbody></table>"
      ],
      "text/latex": [
       "\\begin{tabular}{r|ccccc}\n",
       "\t& ID & Title & Year & Certificate & \\\\\n",
       "\t\\hline\n",
       "\t& String & String & Int64 & String? & \\\\\n",
       "\t\\hline\n",
       "\t1 & tt1375666 & Inception & 2010 & M & $\\dots$ \\\\\n",
       "\t2 & tt1375670 & Grown Ups & 2010 & PG-13 & $\\dots$ \\\\\n",
       "\t3 & tt1285016 & The Social Network & 2010 & M & $\\dots$ \\\\\n",
       "\t4 & tt0446029 & Scott Pilgrim vs the World & 2010 & M & $\\dots$ \\\\\n",
       "\t5 & tt1130884 & Shutter Island & 2010 & R16 & $\\dots$ \\\\\n",
       "\t6 & tt1591095 & Insidious & 2010 & M & $\\dots$ \\\\\n",
       "\t7 & tt1250777 & Kick Ass & 2010 & R18 & $\\dots$ \\\\\n",
       "\t8 & tt1245526 & RED & 2010 & M & $\\dots$ \\\\\n",
       "\t9 & tt0926084 & Harry Potter and the Deathly Hallows Part 1 & 2010 & M & $\\dots$ \\\\\n",
       "\t10 & tt0947798 & Black Swan & 2010 & R16 & $\\dots$ \\\\\n",
       "\t11 & tt1242432 & I Spit on Your Grave & 2010 & Objectionable & $\\dots$ \\\\\n",
       "\t12 & tt1273235 & Srpski film & 2010 & Objectionable & $\\dots$ \\\\\n",
       "\t13 & tt0840361 & The Town & 2010 & R16 & $\\dots$ \\\\\n",
       "\t14 & tt0814255 & Percy Jackson the Olympians The Lightning Thief & 2010 & M & $\\dots$ \\\\\n",
       "\t15 & tt1255953 & Incendies & 2010 & R16 & $\\dots$ \\\\\n",
       "\t16 & tt1179056 & A Nightmare on Elm Street & 2010 & R16 & $\\dots$ \\\\\n",
       "\t17 & tt1014759 & Alice in Wonderland & 2010 & PG & $\\dots$ \\\\\n",
       "\t18 & tt1228705 & Iron Man 2 & 2010 & M & $\\dots$ \\\\\n",
       "\t19 & tt0938283 & The Last Airbender & 2010 & PG & $\\dots$ \\\\\n",
       "\t20 & tt1314655 & Devil & 2010 & PG-13 & $\\dots$ \\\\\n",
       "\t21 & tt1282140 & Easy A & 2010 & M & $\\dots$ \\\\\n",
       "\t22 & tt0800320 & Clash of the Titans & 2010 & M & $\\dots$ \\\\\n",
       "\t23 & tt0398286 & Tangled & 2010 & PG & $\\dots$ \\\\\n",
       "\t24 & tt1302067 & Yogi Bear & 2010 & PG & $\\dots$ \\\\\n",
       "\t25 & tt1104001 & Tron & 2010 & PG & $\\dots$ \\\\\n",
       "\t26 & tt1325004 & The Twilight Saga Eclipse & 2010 & M & $\\dots$ \\\\\n",
       "\t27 & tt1231587 & Hot Tub Time Machine & 2010 & R16 & $\\dots$ \\\\\n",
       "\t28 & tt1403865 & True Grit & 2010 & PG-13 & $\\dots$ \\\\\n",
       "\t29 & tt0480255 & The Losers & 2010 & M & $\\dots$ \\\\\n",
       "\t30 & tt1386588 & The Other Guys & 2010 & M & $\\dots$ \\\\\n",
       "\t$\\dots$ & $\\dots$ & $\\dots$ & $\\dots$ & $\\dots$ &  \\\\\n",
       "\\end{tabular}\n"
      ],
      "text/plain": [
       "13373×9 DataFrame. Omitted printing of 6 columns\n",
       "│ Row   │ ID         │ Title                                       │ Year  │\n",
       "│       │ \u001b[90mString\u001b[39m     │ \u001b[90mString\u001b[39m                                      │ \u001b[90mInt64\u001b[39m │\n",
       "├───────┼────────────┼─────────────────────────────────────────────┼───────┤\n",
       "│ 1     │ tt1375666  │ Inception                                   │ 2010  │\n",
       "│ 2     │ tt1375670  │ Grown Ups                                   │ 2010  │\n",
       "│ 3     │ tt1285016  │ The Social Network                          │ 2010  │\n",
       "│ 4     │ tt0446029  │ Scott Pilgrim vs the World                  │ 2010  │\n",
       "│ 5     │ tt1130884  │ Shutter Island                              │ 2010  │\n",
       "│ 6     │ tt1591095  │ Insidious                                   │ 2010  │\n",
       "│ 7     │ tt1250777  │ Kick Ass                                    │ 2010  │\n",
       "│ 8     │ tt1245526  │ RED                                         │ 2010  │\n",
       "│ 9     │ tt0926084  │ Harry Potter and the Deathly Hallows Part 1 │ 2010  │\n",
       "│ 10    │ tt0947798  │ Black Swan                                  │ 2010  │\n",
       "⋮\n",
       "│ 13363 │ tt1841549  │ Complexity                                  │ 2011  │\n",
       "│ 13364 │ tt1895294  │ Afterimages                                 │ 2011  │\n",
       "│ 13365 │ tt2265569  │ TSY Taimu surippu yankÃ®                    │ 2011  │\n",
       "│ 13366 │ tt1537382  │ Americatown                                 │ 2011  │\n",
       "│ 13367 │ tt1869819  │ White Admiral                               │ 2011  │\n",
       "│ 13368 │ tt1757667  │ Amounting to Nothing                        │ 2011  │\n",
       "│ 13369 │ tt1817719  │ Melinda                                     │ 2011  │\n",
       "│ 13370 │ tt1817772  │ The Length of Spring                        │ 2011  │\n",
       "│ 13371 │ tt1911532  │ All That Glitters                           │ 2011  │\n",
       "│ 13372 │ tt1873562  │ Hora menos                                  │ 2011  │\n",
       "│ 13373 │ tt11761300 │ Slacker                                     │ 2011  │"
      ]
     },
     "execution_count": 1,
     "metadata": {},
     "output_type": "execute_result"
    }
   ],
   "source": [
    "#import Pkg; Pkg.add(\"StringEncodings\")\n",
    "using CSV, DataFrames, StringEncodings\n",
    "# reading from ISO-8859-1 file\n",
    "movie_df=CSV.File(open(read, \"data/movie.csv\", enc\"ISO-8859-1\")) |> DataFrame"
   ]
  },
  {
   "cell_type": "code",
   "execution_count": null,
   "metadata": {},
   "outputs": [],
   "source": [
    "#https://www.imdb.com/title/tt10682266/\n",
    "for row in eachrow(movie_df)\n",
    "    println(row[1])\n",
    "end"
   ]
  },
  {
   "cell_type": "code",
   "execution_count": null,
   "metadata": {},
   "outputs": [],
   "source": [
    "movie_df |> describe"
   ]
  },
  {
   "cell_type": "code",
   "execution_count": null,
   "metadata": {},
   "outputs": [],
   "source": []
  }
 ],
 "metadata": {
  "kernelspec": {
   "display_name": "Julia 1.5.2",
   "language": "julia",
   "name": "julia-1.5"
  },
  "language_info": {
   "file_extension": ".jl",
   "mimetype": "application/julia",
   "name": "julia",
   "version": "1.5.2"
  }
 },
 "nbformat": 4,
 "nbformat_minor": 4
}
