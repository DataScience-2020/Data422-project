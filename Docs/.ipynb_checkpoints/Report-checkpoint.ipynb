{
 "cells": [
  {
   "cell_type": "markdown",
   "metadata": {},
   "source": [
    "# Wrangler Group Project Report\n",
    "\n",
    "==============================================================\n",
    "\n",
    "Team Members:\n",
    "\n",
    "Name: Shi Chen\n",
    "\n",
    "Student ID: 54638177\n",
    "\n",
    "Name: \n",
    "\n",
    "Student ID: \n",
    "\n",
    "Date of submission: 23/10/2020\n",
    "\n",
    "==============================================================\n"
   ]
  },
  {
   "cell_type": "markdown",
   "metadata": {},
   "source": [
    "## Background\n",
    "\n",
    "Our team is hired by ABC Game development company. Our team is responsible for data collection which will help development department to make decision. \n",
    "\n",
    "##### Our tasks are divided into 3 parts:\n",
    "\n",
    "    First part is about game market information collection;\n",
    "\n",
    "    Second part is about new game storyline design;\n",
    "\n",
    "    Third part is about new game payment design."
   ]
  },
  {
   "cell_type": "markdown",
   "metadata": {},
   "source": [
    "### Part 1 Game market information collection\n",
    "####  \n",
    "\n",
    "\n",
    "#### Data Source: IGDB API\n",
    "\n",
    "Scource link (IGDB API documents): https://api-docs.igdb.com/#endpoints\n",
    "\n",
    "IGDB introduction: https://www.igdb.com/about \n",
    "\n",
    "\n",
    "#### Why choose this data source?\n",
    "\n",
    "* From the view of authority: \n",
    " \n",
    " the community and developers in this flat are generous, they wish to share data.\n",
    "\n",
    "* Professional: \n",
    " \n",
    " IGDB is games ”one-stop-infospot”, which allow users to do more with the information in order to explore and find games to play in a new way. From the authority point of view. And it contains 245,500 games, more than 35,647 members and involved 27,894 companies. It is very professional API resources.\n",
    " \n",
    "* It is free!\n"
   ]
  },
  {
   "cell_type": "markdown",
   "metadata": {},
   "source": [
    "#### Target \n",
    "\n",
    "In this part, we are going to generate information which will benefit to analysis the popular games. \n",
    "\n",
    "* Genre (market preference)\n",
    "* Age_rating (target user)\n",
    "* Developer map (parterners or competitors)\n",
    "* Keyword pattern"
   ]
  },
  {
   "cell_type": "markdown",
   "metadata": {},
   "source": [
    "#### Challenges\n",
    "\n",
    "* Token\n",
    "\n",
    "Sarah and Christine are responsible for this part. To new hands, challenges are everywhere happens everyday. Scapping data from API, the first thing is to obtain \"Token\" from API Database. It is the key. We Follow the process list on API document, doing it step by step, though totally have no idea what will happen next. With Gulio's help, we eventrally can post require to IGDB API with Token. "
   ]
  },
  {
   "cell_type": "markdown",
   "metadata": {},
   "source": [
    "* API documents\n",
    "\n",
    "There are a lot of information in the API documents, \"authentication\" \"Example\" \"Endpoints\" contains a lot of informations about the game dataset. We did not read them carefully in the beginning, and made problem when doing the data cleaning. When we realized it, we already waste a lot of time. This is a big lesson. Whenever collectiong data, the first thing is figure out what kind of data need to be collected, it must be clear and reasonable."
   ]
  },
  {
   "cell_type": "markdown",
   "metadata": {},
   "source": [
    "* Coding\n",
    "\n",
    "We using Julia to do this part. Not easy at all. From \"post\" to generate string information from web, then transform them into JSON format then output as CSV. The process seems very clear, but when you doing it, there are a lot of small tricks waiting to stuck you. "
   ]
  },
  {
   "cell_type": "markdown",
   "metadata": {},
   "source": [
    "* Logic\n",
    "\n",
    "This is a very important part.As mentioned before, in the very begining, we generate some data, then we think it will work. But acturally we use the wrong logic, the data cannot be used, too many noice data, missing value data. After we define what is \"popular game\", how to filter them directly rather than scapping all the games' data. Things become clear."
   ]
  },
  {
   "cell_type": "markdown",
   "metadata": {},
   "source": [
    "* Correlation\n",
    "\n",
    "Here, the correlation means the relationship between main dataset and sub dataset. In the main game information dataset, there are plenty encoding values cannot be used directly. This encoding values need another sub dataset to decoding. That is why we generate 10 sub dataset. And there are some features' type are list, it is another challenge part. We have not solve yet.  "
   ]
  },
  {
   "cell_type": "markdown",
   "metadata": {},
   "source": [
    "* Github\n",
    "\n",
    "Selflearn how to use Github. It is a challenge for us in the begining, but it is quite convinient and smart after we familiar with it."
   ]
  },
  {
   "cell_type": "markdown",
   "metadata": {},
   "source": [
    "#### Techniques\n",
    "\n",
    "In this part we use Julia as tool to scrapping games' information then using .csv as output data format, there are some wrapped function been used which will make life easy.\n",
    "\n",
    "To facilitate version control and collaboration, we use Github to manage the project."
   ]
  },
  {
   "cell_type": "markdown",
   "metadata": {},
   "source": [
    "#### Achieved and failed\n",
    "\n",
    "* Achieved\n",
    "\n",
    "1. Our main target dataset (the main popular games data) was generate successfully (filename: target_games_fellow.csv). It is in the Data422-project/IGDB/Docs directory. This file contains the top 500 popular games and 25 game's features information.\n",
    "\n",
    "(Popular games selection logic please refer to Data422-project/IGDB/Codes/IGDB_games_infor_scrap_main.ipnb section 1 keyword \"body_fellow\")\n",
    "\n",
    "2. Another 10 sub datasets (decoding dataset related to these 500 popular games), which can be used to do different group analysis. \n",
    "\n",
    "Such as game_ageRating_groupCount_plot.png and game_ageRating_groupCount.csv is using the data from game_ageRating sub dataset. You can do more as you like, such as genre groupcount, releaseDates analysis, game_theme groupcount and so on.\n",
    "\n",
    "* Failed\n",
    "\n",
    "1. Companies information sub dataset was generate in wrong coding. Have tried many ways but still not been solved yet.\n",
    "\n",
    "2. The companies world mapping is using the wrong data, so please use it carefully.\n",
    "\n",
    "\n",
    "* Haven't figure out\n",
    "Julia technique: \n",
    "1. Convert list column into a set; \n",
    "2. Join by list column; \n",
    "3. Groupby id summarize column value as set.\n"
   ]
  },
  {
   "cell_type": "code",
   "execution_count": null,
   "metadata": {},
   "outputs": [],
   "source": []
  }
 ],
 "metadata": {
  "kernelspec": {
   "display_name": "R",
   "language": "R",
   "name": "ir"
  },
  "language_info": {
   "codemirror_mode": "r",
   "file_extension": ".r",
   "mimetype": "text/x-r-source",
   "name": "R",
   "pygments_lexer": "r",
   "version": "4.0.2"
  }
 },
 "nbformat": 4,
 "nbformat_minor": 4
}
