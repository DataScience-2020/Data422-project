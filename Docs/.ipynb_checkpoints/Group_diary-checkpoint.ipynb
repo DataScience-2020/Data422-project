{
 "cells": [
  {
   "cell_type": "markdown",
   "metadata": {},
   "source": [
    "## Group Diary\n",
    "\n",
    "### July 14th 2020 Sunny\n",
    "\n",
    "The wrangling group was established today. Our team members are  technical expert Jay (Jian Zhou), Linda (Zhu Jiaying), Christine (Chen Shi). Most of the time, we use the app \"wechart\" for discussion and small chat.\n",
    "\n",
    "### July 19th 2020 Sunny\n",
    "\n",
    "Christine saw that there was an online classmate Waqus was looking for group number, it is hard for him to find group number, so we involved him in.\n",
    "\n",
    "### July 22th 2020 Sunny\n",
    "\n",
    "First whole group numbers meeting, we are glad to meet each other and we are all easy going. It is a good and new family. \n",
    "\n",
    "### July 23th 2020 Sunny\n",
    "\n",
    "Sarah has some questions about her Assignement 1, the challenge part, Jay helpt to solve it and showed her how to do it. Christine also shared some useful information.\n",
    "\n",
    "### Augest 18th 2020 Sunny\n",
    "\n",
    "Christine Emailed the lecturers for asking wheter five numbers group is alright. No reply yet.\n",
    "\n",
    "### September 9th 2020 Windy\n",
    "\n",
    "First formal Group project meeting, Jay attend by cell phone. Christine suggest to choose 1-2 topics, she suggest to do online store data scrap. No one objected, Jay said he also had some data related to stores, which could be used in the project.\n",
    "\n",
    "### September 15th 2020 Sunny\n",
    "\n",
    "Christine and Jay met to discuss the data Jay mentioned before. After check, it cannot be used in the project, first it is clean dataframe, second the data cannot connect with the data we may scrap from NZ online stores in any demetion. (There is no price there, only transaction details, but online stores data only has price but no transation details).\n",
    "\n",
    "### September 16th 2020 Sunny\n",
    "\n",
    "Waqas suggested to use Github as working flat. And he will give us a short tutorial about how to use Github. We also discuss the data rescourse can be used in this project. Someone suggest Kaggel, but it is too clean to be used. Christine shared the link can be used for searching online store information. Sarah successfully created the group project repo and invited all of us. Christine share the project_plan.\n",
    "\n",
    "### September 17th 2020 Rainy Lab\n",
    "\n",
    "Waqus didn't attend the lab, we did recording for him. This lab brought a big adjustments to the entire project. Our topic online shopping was too easy which may not benefit the futher job.\n",
    "\n",
    "\n",
    "\n",
    "\n",
    "\n",
    "\n",
    "\n",
    "\n",
    "\n",
    "\n",
    "\n",
    "\n",
    "\n",
    "\n"
   ]
  }
 ],
 "metadata": {
  "kernelspec": {
   "display_name": "R",
   "language": "R",
   "name": "ir"
  },
  "language_info": {
   "codemirror_mode": "r",
   "file_extension": ".r",
   "mimetype": "text/x-r-source",
   "name": "R",
   "pygments_lexer": "r",
   "version": "4.0.2"
  }
 },
 "nbformat": 4,
 "nbformat_minor": 4
}
