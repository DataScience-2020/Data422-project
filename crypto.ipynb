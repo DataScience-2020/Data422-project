{
 "cells": [
  {
   "cell_type": "code",
   "execution_count": 1,
   "metadata": {},
   "outputs": [
    {
     "name": "stderr",
     "output_type": "stream",
     "text": [
      "-- \u001b[1mAttaching packages\u001b[22m --------------------------------------- tidyverse 1.3.0 --\n",
      "\n",
      "\u001b[32mv\u001b[39m \u001b[34mggplot2\u001b[39m 3.3.2     \u001b[32mv\u001b[39m \u001b[34mpurrr  \u001b[39m 0.3.4\n",
      "\u001b[32mv\u001b[39m \u001b[34mtibble \u001b[39m 3.0.3     \u001b[32mv\u001b[39m \u001b[34mdplyr  \u001b[39m 1.0.0\n",
      "\u001b[32mv\u001b[39m \u001b[34mtidyr  \u001b[39m 1.1.0     \u001b[32mv\u001b[39m \u001b[34mstringr\u001b[39m 1.4.0\n",
      "\u001b[32mv\u001b[39m \u001b[34mreadr  \u001b[39m 1.3.1     \u001b[32mv\u001b[39m \u001b[34mforcats\u001b[39m 0.5.0\n",
      "\n",
      "-- \u001b[1mConflicts\u001b[22m ------------------------------------------ tidyverse_conflicts() --\n",
      "\u001b[31mx\u001b[39m \u001b[34mdplyr\u001b[39m::\u001b[32mfilter()\u001b[39m masks \u001b[34mstats\u001b[39m::filter()\n",
      "\u001b[31mx\u001b[39m \u001b[34mdplyr\u001b[39m::\u001b[32mlag()\u001b[39m    masks \u001b[34mstats\u001b[39m::lag()\n",
      "\n",
      "\n",
      "Attaching package: 'magrittr'\n",
      "\n",
      "\n",
      "The following object is masked from 'package:purrr':\n",
      "\n",
      "    set_names\n",
      "\n",
      "\n",
      "The following object is masked from 'package:tidyr':\n",
      "\n",
      "    extract\n",
      "\n",
      "\n",
      "\n",
      "Attaching package: 'glue'\n",
      "\n",
      "\n",
      "The following object is masked from 'package:dplyr':\n",
      "\n",
      "    collapse\n",
      "\n",
      "\n",
      "Loading required package: xml2\n",
      "\n",
      "\n",
      "Attaching package: 'rvest'\n",
      "\n",
      "\n",
      "The following object is masked from 'package:purrr':\n",
      "\n",
      "    pluck\n",
      "\n",
      "\n",
      "The following object is masked from 'package:readr':\n",
      "\n",
      "    guess_encoding\n",
      "\n",
      "\n",
      "\n",
      "Attaching package: 'XML'\n",
      "\n",
      "\n",
      "The following object is masked from 'package:rvest':\n",
      "\n",
      "    xml\n",
      "\n",
      "\n"
     ]
    }
   ],
   "source": [
    "library(tidyverse)\n",
    "library(skimr)\n",
    "library(magrittr) # better handling of pipes\n",
    "library(purrr) # to work with lists and map functions\n",
    "library(glue) # to paste strings\n",
    "library(stringr) # to hand strings\n",
    "library(rvest) # rvest makes scraping easier\n",
    "library(polite) # polite is the \"polite\" version of rvest\n",
    "library(XML)"
   ]
  },
  {
   "cell_type": "code",
   "execution_count": null,
   "metadata": {},
   "outputs": [
    {
     "name": "stdout",
     "output_type": "stream",
     "text": [
      " [1] \"Rank\"               \"Name\"               \"Symbol\"            \n",
      " [4] \"Market Cap\"         \"Price\"              \"Circulating Supply\"\n",
      " [7] \"Volume (24h)\"       \"% 1h\"               \"% 24h\"             \n",
      "[10] \"% 7d\"              \n"
     ]
    },
    {
     "name": "stderr",
     "output_type": "stream",
     "text": [
      "Warning message in write.table(data, \"crypto_currency.csv\", sep = \",\", col.names = !file.exists(\"crypto_currency.csv\"), :\n",
      "\"appending column names to file\"\n"
     ]
    }
   ],
   "source": [
    "library(XML) \n",
    "\n",
    "url <- \"https://coinmarketcap.com/all/views/all/\"\n",
    "source <- readLines(url, encoding = \"UTF-8\", warn=FALSE)\n",
    "parsed_doc <- htmlParse(source, encoding = \"UTF-8\")\n",
    "\n",
    "#strip off non numeric characters but keep sign symbols\n",
    "num_strip <- function(x)\n",
    "{\n",
    "gsub(\"[^0-9.-]\", \"\", x)\n",
    "}\n",
    "\n",
    "\n",
    "parse_page <- function()\n",
    "{\n",
    "df <- data.frame()\n",
    "#//*[@id=\"__next\"]/div[1]/div[2]/div[1]/div[2]/div/div[2]/div[3]/div/table/thead/tr/th[2]\n",
    "path <- '//*[@id=\"__next\"]/div[1]/div[2]/div[1]/div[2]/div/div[2]/div[3]/div/table/thead/tr/th['\n",
    "header <- c()\n",
    "for(i in 1:10)\n",
    "{\n",
    "path_cell <- paste(path, i, ']')\n",
    "cell <- xpathSApply(parsed_doc, path = path_cell, xmlValue)\n",
    "header <-c(header, cell)\n",
    "}\n",
    "print(header)\n",
    "    \n",
    "#colnames(df) <- header\n",
    "if(length(header) != 10)\n",
    "return\n",
    "for(i in 1:200)\n",
    "{\n",
    "path <- paste('//*[@id=\"__next\"]/div[1]/div[2]/div[1]/div[2]/div/div[2]/div[3]/div/table/tbody/tr[', i, ']/td[')\n",
    "#print(path)\n",
    "#page <- xpathSApply(parsed_doc, path = path, xmlValue)\n",
    "#print(page)\n",
    "for(j in 1:10)\n",
    "{\n",
    "path_cell <- paste(path, j, ']')\n",
    "#print(path_cell)\n",
    "cell <- xpathSApply(parsed_doc, path = path_cell, xmlValue)\n",
    "#print(cell)\n",
    "if(j == 2 || j == 3)\n",
    "df[i, j] <- cell\n",
    "else\n",
    "df[i, j] <- num_strip(cell)\n",
    "}\n",
    "}\n",
    "colnames(df) <- header\n",
    "df\n",
    "}\n",
    "\n",
    "save_data <- function()\n",
    "{\n",
    "data <- parse_page()\n",
    "write.table(data, \"crypto_currency.csv\", sep = \",\", col.names = !file.exists('crypto_currency.csv'), ,row.names = F, append = T)\n",
    "}\n",
    "\n",
    "for(n in 1:1000)\n",
    "{\n",
    "#format(Sys.time())\n",
    "Sys.sleep(10)\n",
    "save_data()\n",
    "Sys.sleep(60*30)\n",
    "}\n",
    "\n",
    "\n",
    "#//*[@id=\"__next\"]/div[1]/div[2]/div[1]/div[2]/div/div[2]/div[3]/div/table/thead/tr\n",
    "#//*[@id=\"__next\"]/div[1]/div[2]/div[1]/div[2]/div/div[2]/div[3]/div/table/tbody/tr[1]\n",
    "\n",
    "#//*[@id=\"__next\"]/div[1]/div[2]/div[1]/div[2]/div/div[2]/div[3]/div/table/tbody/tr[1]/td[1]\n",
    "#//*[@id=\"__next\"]/div[1]/div[2]/div[1]/div[2]/div/div[2]/div[3]/div/table/tbody/tr[1]/td[10]\n"
   ]
  },
  {
   "cell_type": "code",
   "execution_count": 81,
   "metadata": {},
   "outputs": [],
   "source": [
    "crypto<- read.csv(file ='crypto_currency.csv')"
   ]
  },
  {
   "cell_type": "code",
   "execution_count": 82,
   "metadata": {},
   "outputs": [
    {
     "name": "stdout",
     "output_type": "stream",
     "text": [
      "Rows: 200\n",
      "Columns: 10\n",
      "$ Rank               <int> 1, 2, 3, 4, 5, 6, 7, 8, 9, 10, 11, 12, 13, 14, 1...\n",
      "$ Name               <chr> \"Bitcoin\", \"Ethereum\", \"Tether\", \"XRP\", \"Bitcoin...\n",
      "$ Symbol             <chr> \"BTC\", \"ETH\", \"USDT\", \"XRP\", \"BCH\", \"BNB\", \"LINK...\n",
      "$ Market.Cap         <dbl> 210128812534, 42102413166, 15736487032, 11595272...\n",
      "$ Price              <dbl> 11349.990000, 372.740000, 1.000000, 0.256746, 23...\n",
      "$ Circulating.Supply <dbl> 18513568, 112954374, 15721468977, 45162407484, 1...\n",
      "$ Volume..24h.       <dbl> 20692351668, 13022103571, 35713268641, 177694866...\n",
      "$ X..1h              <dbl> -0.02, 0.10, -0.02, 0.40, -0.45, 0.39, 1.18, 0.8...\n",
      "$ X..24h             <dbl> -0.25, -0.87, 0.01, -0.01, -2.42, -2.19, -2.44, ...\n",
      "$ X..7d              <dbl> 7.00, 6.88, -0.06, 9.75, 8.15, -0.81, 12.60, 3.4...\n"
     ]
    }
   ],
   "source": [
    "crypto %>%\n",
    "    glimpse()"
   ]
  },
  {
   "cell_type": "code",
   "execution_count": 83,
   "metadata": {},
   "outputs": [
    {
     "name": "stdout",
     "output_type": "stream",
     "text": [
      "-- Data Summary ------------------------\n",
      "                           Values    \n",
      "Name                       Piped data\n",
      "Number of rows             200       \n",
      "Number of columns          10        \n",
      "_______________________              \n",
      "Column type frequency:               \n",
      "  character                2         \n",
      "  numeric                  8         \n",
      "________________________             \n",
      "Group variables            None      \n",
      "\n",
      "-- Variable type: character ----------------------------------------------------\n",
      "# A tibble: 2 x 8\n",
      "  skim_variable n_missing complete_rate   min   max empty n_unique whitespace\n",
      "* <chr>             <int>         <dbl> <int> <int> <int>    <int>      <int>\n",
      "1 Name                  0             1     2    28     0      200          0\n",
      "2 Symbol                0             1     2     5     0      200          0\n",
      "\n",
      "-- Variable type: numeric ------------------------------------------------------\n",
      "# A tibble: 8 x 11\n",
      "  skim_variable      n_missing complete_rate      mean      sd       p0\n",
      "* <chr>                  <int>         <dbl>     <dbl>   <dbl>    <dbl>\n",
      "1 Rank                       0             1  1.00e+ 2 5.79e 1  1.00e+0\n",
      "2 Market.Cap                 0             1  1.77e+ 9 1.52e10  3.72e+6\n",
      "3 Price                      0             1  2.86e+ 2 1.82e 3  1.83e-4\n",
      "4 Circulating.Supply         0             1  1.10e+10 7.35e10  5.00e+3\n",
      "5 Volume..24h.               0             1  4.68e+ 8 3.05e 9  2.64e+3\n",
      "6 X..1h                      0             1  5.12e- 1 1.34e 0 -3.56e+0\n",
      "7 X..24h                     0             1 -9.67e- 1 4.38e 0 -9.43e+0\n",
      "8 X..7d                      0             1  1.73e+ 0 1.25e 1 -8.50e+1\n",
      "            p25           p50     p75    p100 hist \n",
      "*         <dbl>         <dbl>   <dbl>   <dbl> <chr>\n",
      "1       50.8          100.    1.50e+2 2.00e 2 <U+2587><U+2587><U+2587><U+2587><U+2587>\n",
      "2 44968248       90003517     3.03e+8 2.10e11 <U+2587><U+2581><U+2581><U+2581><U+2581>\n",
      "3        0.0607         0.376 2.85e+0 1.67e 4 <U+2587><U+2581><U+2581><U+2581><U+2581>\n",
      "4 65707470.     320189492.    1.43e+9 9.90e11 <U+2587><U+2581><U+2581><U+2581><U+2581>\n",
      "5  2427108        7106773     5.29e+7 3.57e10 <U+2587><U+2581><U+2581><U+2581><U+2581>\n",
      "6       -0.143          0.185 1.02e+0 5.27e 0 <U+2581><U+2585><U+2587><U+2582><U+2581>\n",
      "7       -3.34          -1.14  6.75e-2 2.29e 1 <U+2583><U+2587><U+2581><U+2581><U+2581>\n",
      "8       -2.44           1.69  7.15e+0 4.79e 1 <U+2581><U+2581><U+2582><U+2587><U+2581>\n"
     ]
    }
   ],
   "source": [
    "crypto %>%\n",
    "    skim()"
   ]
  },
  {
   "cell_type": "code",
   "execution_count": 84,
   "metadata": {},
   "outputs": [
    {
     "data": {
      "text/html": [
       "<table>\n",
       "<caption>A data.frame: 5 × 10</caption>\n",
       "<thead>\n",
       "\t<tr><th></th><th scope=col>Rank</th><th scope=col>Name</th><th scope=col>Symbol</th><th scope=col>Market_Cap</th><th scope=col>Price_USD</th><th scope=col>Circulating_Supply</th><th scope=col>Volumn_24h</th><th scope=col>Change_1h</th><th scope=col>Change_24h</th><th scope=col>Change_7d</th></tr>\n",
       "\t<tr><th></th><th scope=col>&lt;int&gt;</th><th scope=col>&lt;chr&gt;</th><th scope=col>&lt;chr&gt;</th><th scope=col>&lt;dbl&gt;</th><th scope=col>&lt;dbl&gt;</th><th scope=col>&lt;dbl&gt;</th><th scope=col>&lt;dbl&gt;</th><th scope=col>&lt;dbl&gt;</th><th scope=col>&lt;dbl&gt;</th><th scope=col>&lt;dbl&gt;</th></tr>\n",
       "</thead>\n",
       "<tbody>\n",
       "\t<tr><th scope=row>1</th><td>1</td><td>Bitcoin     </td><td>BTC </td><td>210128812534</td><td>11349.990000</td><td>   18513568</td><td>20692351668</td><td>-0.02</td><td>-0.25</td><td> 7.00</td></tr>\n",
       "\t<tr><th scope=row>2</th><td>2</td><td>Ethereum    </td><td>ETH </td><td> 42102413166</td><td>  372.740000</td><td>  112954374</td><td>13022103571</td><td> 0.10</td><td>-0.87</td><td> 6.88</td></tr>\n",
       "\t<tr><th scope=row>3</th><td>3</td><td>Tether      </td><td>USDT</td><td> 15736487032</td><td>    1.000000</td><td>15721468977</td><td>35713268641</td><td>-0.02</td><td> 0.01</td><td>-0.06</td></tr>\n",
       "\t<tr><th scope=row>4</th><td>4</td><td>XRP         </td><td>XRP </td><td> 11595272697</td><td>    0.256746</td><td>45162407484</td><td> 1776948666</td><td> 0.40</td><td>-0.01</td><td> 9.75</td></tr>\n",
       "\t<tr><th scope=row>5</th><td>5</td><td>Bitcoin Cash</td><td>BCH </td><td>  4415415928</td><td>  238.140000</td><td>   18541463</td><td> 1508760479</td><td>-0.45</td><td>-2.42</td><td> 8.15</td></tr>\n",
       "</tbody>\n",
       "</table>\n"
      ],
      "text/latex": [
       "A data.frame: 5 × 10\n",
       "\\begin{tabular}{r|llllllllll}\n",
       "  & Rank & Name & Symbol & Market\\_Cap & Price\\_USD & Circulating\\_Supply & Volumn\\_24h & Change\\_1h & Change\\_24h & Change\\_7d\\\\\n",
       "  & <int> & <chr> & <chr> & <dbl> & <dbl> & <dbl> & <dbl> & <dbl> & <dbl> & <dbl>\\\\\n",
       "\\hline\n",
       "\t1 & 1 & Bitcoin      & BTC  & 210128812534 & 11349.990000 &    18513568 & 20692351668 & -0.02 & -0.25 &  7.00\\\\\n",
       "\t2 & 2 & Ethereum     & ETH  &  42102413166 &   372.740000 &   112954374 & 13022103571 &  0.10 & -0.87 &  6.88\\\\\n",
       "\t3 & 3 & Tether       & USDT &  15736487032 &     1.000000 & 15721468977 & 35713268641 & -0.02 &  0.01 & -0.06\\\\\n",
       "\t4 & 4 & XRP          & XRP  &  11595272697 &     0.256746 & 45162407484 &  1776948666 &  0.40 & -0.01 &  9.75\\\\\n",
       "\t5 & 5 & Bitcoin Cash & BCH  &   4415415928 &   238.140000 &    18541463 &  1508760479 & -0.45 & -2.42 &  8.15\\\\\n",
       "\\end{tabular}\n"
      ],
      "text/markdown": [
       "\n",
       "A data.frame: 5 × 10\n",
       "\n",
       "| <!--/--> | Rank &lt;int&gt; | Name &lt;chr&gt; | Symbol &lt;chr&gt; | Market_Cap &lt;dbl&gt; | Price_USD &lt;dbl&gt; | Circulating_Supply &lt;dbl&gt; | Volumn_24h &lt;dbl&gt; | Change_1h &lt;dbl&gt; | Change_24h &lt;dbl&gt; | Change_7d &lt;dbl&gt; |\n",
       "|---|---|---|---|---|---|---|---|---|---|---|\n",
       "| 1 | 1 | Bitcoin      | BTC  | 210128812534 | 11349.990000 |    18513568 | 20692351668 | -0.02 | -0.25 |  7.00 |\n",
       "| 2 | 2 | Ethereum     | ETH  |  42102413166 |   372.740000 |   112954374 | 13022103571 |  0.10 | -0.87 |  6.88 |\n",
       "| 3 | 3 | Tether       | USDT |  15736487032 |     1.000000 | 15721468977 | 35713268641 | -0.02 |  0.01 | -0.06 |\n",
       "| 4 | 4 | XRP          | XRP  |  11595272697 |     0.256746 | 45162407484 |  1776948666 |  0.40 | -0.01 |  9.75 |\n",
       "| 5 | 5 | Bitcoin Cash | BCH  |   4415415928 |   238.140000 |    18541463 |  1508760479 | -0.45 | -2.42 |  8.15 |\n",
       "\n"
      ],
      "text/plain": [
       "  Rank Name         Symbol Market_Cap   Price_USD    Circulating_Supply\n",
       "1 1    Bitcoin      BTC    210128812534 11349.990000    18513568       \n",
       "2 2    Ethereum     ETH     42102413166   372.740000   112954374       \n",
       "3 3    Tether       USDT    15736487032     1.000000 15721468977       \n",
       "4 4    XRP          XRP     11595272697     0.256746 45162407484       \n",
       "5 5    Bitcoin Cash BCH      4415415928   238.140000    18541463       \n",
       "  Volumn_24h  Change_1h Change_24h Change_7d\n",
       "1 20692351668 -0.02     -0.25       7.00    \n",
       "2 13022103571  0.10     -0.87       6.88    \n",
       "3 35713268641 -0.02      0.01      -0.06    \n",
       "4  1776948666  0.40     -0.01       9.75    \n",
       "5  1508760479 -0.45     -2.42       8.15    "
      ]
     },
     "metadata": {},
     "output_type": "display_data"
    }
   ],
   "source": [
    "crypto <- crypto %>%\n",
    "    rename(Market_Cap = 4,\n",
    "           Price_USD = 5,\n",
    "           Circulating_Supply = 6,\n",
    "           Volumn_24h = 7,\n",
    "           Change_1h = 8,\n",
    "           Change_24h = 9,\n",
    "           Change_7d = 10)\n",
    "crypto %>%\n",
    "    head(5)"
   ]
  },
  {
   "cell_type": "code",
   "execution_count": 85,
   "metadata": {},
   "outputs": [
    {
     "data": {
      "text/html": [
       "<table>\n",
       "<caption>A data.frame: 5 × 10</caption>\n",
       "<thead>\n",
       "\t<tr><th></th><th scope=col>Rank</th><th scope=col>Name</th><th scope=col>Symbol</th><th scope=col>Market_Cap</th><th scope=col>Price_USD</th><th scope=col>Circulating_Supply</th><th scope=col>Volumn_24h</th><th scope=col>Change_1h</th><th scope=col>Change_24h</th><th scope=col>Change_7d</th></tr>\n",
       "\t<tr><th></th><th scope=col>&lt;int&gt;</th><th scope=col>&lt;chr&gt;</th><th scope=col>&lt;chr&gt;</th><th scope=col>&lt;dbl&gt;</th><th scope=col>&lt;dbl&gt;</th><th scope=col>&lt;dbl&gt;</th><th scope=col>&lt;dbl&gt;</th><th scope=col>&lt;dbl&gt;</th><th scope=col>&lt;dbl&gt;</th><th scope=col>&lt;dbl&gt;</th></tr>\n",
       "</thead>\n",
       "<tbody>\n",
       "\t<tr><th scope=row>1</th><td>1</td><td>Bitcoin     </td><td>BTC </td><td>210128812534</td><td>11349.99</td><td>   18513568</td><td>20692351668</td><td>-0.0002</td><td>-0.0025</td><td> 0.0700</td></tr>\n",
       "\t<tr><th scope=row>2</th><td>2</td><td>Ethereum    </td><td>ETH </td><td> 42102413166</td><td>  372.74</td><td>  112954374</td><td>13022103571</td><td> 0.0010</td><td>-0.0087</td><td> 0.0688</td></tr>\n",
       "\t<tr><th scope=row>3</th><td>3</td><td>Tether      </td><td>USDT</td><td> 15736487032</td><td>    1.00</td><td>15721468977</td><td>35713268641</td><td>-0.0002</td><td> 0.0001</td><td>-0.0006</td></tr>\n",
       "\t<tr><th scope=row>4</th><td>4</td><td>XRP         </td><td>XRP </td><td> 11595272697</td><td>    0.26</td><td>45162407484</td><td> 1776948666</td><td> 0.0040</td><td>-0.0001</td><td> 0.0975</td></tr>\n",
       "\t<tr><th scope=row>5</th><td>5</td><td>Bitcoin Cash</td><td>BCH </td><td>  4415415928</td><td>  238.14</td><td>   18541463</td><td> 1508760479</td><td>-0.0045</td><td>-0.0242</td><td> 0.0815</td></tr>\n",
       "</tbody>\n",
       "</table>\n"
      ],
      "text/latex": [
       "A data.frame: 5 × 10\n",
       "\\begin{tabular}{r|llllllllll}\n",
       "  & Rank & Name & Symbol & Market\\_Cap & Price\\_USD & Circulating\\_Supply & Volumn\\_24h & Change\\_1h & Change\\_24h & Change\\_7d\\\\\n",
       "  & <int> & <chr> & <chr> & <dbl> & <dbl> & <dbl> & <dbl> & <dbl> & <dbl> & <dbl>\\\\\n",
       "\\hline\n",
       "\t1 & 1 & Bitcoin      & BTC  & 210128812534 & 11349.99 &    18513568 & 20692351668 & -0.0002 & -0.0025 &  0.0700\\\\\n",
       "\t2 & 2 & Ethereum     & ETH  &  42102413166 &   372.74 &   112954374 & 13022103571 &  0.0010 & -0.0087 &  0.0688\\\\\n",
       "\t3 & 3 & Tether       & USDT &  15736487032 &     1.00 & 15721468977 & 35713268641 & -0.0002 &  0.0001 & -0.0006\\\\\n",
       "\t4 & 4 & XRP          & XRP  &  11595272697 &     0.26 & 45162407484 &  1776948666 &  0.0040 & -0.0001 &  0.0975\\\\\n",
       "\t5 & 5 & Bitcoin Cash & BCH  &   4415415928 &   238.14 &    18541463 &  1508760479 & -0.0045 & -0.0242 &  0.0815\\\\\n",
       "\\end{tabular}\n"
      ],
      "text/markdown": [
       "\n",
       "A data.frame: 5 × 10\n",
       "\n",
       "| <!--/--> | Rank &lt;int&gt; | Name &lt;chr&gt; | Symbol &lt;chr&gt; | Market_Cap &lt;dbl&gt; | Price_USD &lt;dbl&gt; | Circulating_Supply &lt;dbl&gt; | Volumn_24h &lt;dbl&gt; | Change_1h &lt;dbl&gt; | Change_24h &lt;dbl&gt; | Change_7d &lt;dbl&gt; |\n",
       "|---|---|---|---|---|---|---|---|---|---|---|\n",
       "| 1 | 1 | Bitcoin      | BTC  | 210128812534 | 11349.99 |    18513568 | 20692351668 | -0.0002 | -0.0025 |  0.0700 |\n",
       "| 2 | 2 | Ethereum     | ETH  |  42102413166 |   372.74 |   112954374 | 13022103571 |  0.0010 | -0.0087 |  0.0688 |\n",
       "| 3 | 3 | Tether       | USDT |  15736487032 |     1.00 | 15721468977 | 35713268641 | -0.0002 |  0.0001 | -0.0006 |\n",
       "| 4 | 4 | XRP          | XRP  |  11595272697 |     0.26 | 45162407484 |  1776948666 |  0.0040 | -0.0001 |  0.0975 |\n",
       "| 5 | 5 | Bitcoin Cash | BCH  |   4415415928 |   238.14 |    18541463 |  1508760479 | -0.0045 | -0.0242 |  0.0815 |\n",
       "\n"
      ],
      "text/plain": [
       "  Rank Name         Symbol Market_Cap   Price_USD Circulating_Supply\n",
       "1 1    Bitcoin      BTC    210128812534 11349.99     18513568       \n",
       "2 2    Ethereum     ETH     42102413166   372.74    112954374       \n",
       "3 3    Tether       USDT    15736487032     1.00  15721468977       \n",
       "4 4    XRP          XRP     11595272697     0.26  45162407484       \n",
       "5 5    Bitcoin Cash BCH      4415415928   238.14     18541463       \n",
       "  Volumn_24h  Change_1h Change_24h Change_7d\n",
       "1 20692351668 -0.0002   -0.0025     0.0700  \n",
       "2 13022103571  0.0010   -0.0087     0.0688  \n",
       "3 35713268641 -0.0002    0.0001    -0.0006  \n",
       "4  1776948666  0.0040   -0.0001     0.0975  \n",
       "5  1508760479 -0.0045   -0.0242     0.0815  "
      ]
     },
     "metadata": {},
     "output_type": "display_data"
    }
   ],
   "source": [
    "crypto <- crypto %>%\n",
    "        mutate(Price_USD = Price_USD %>% round(digits=2),\n",
    "           Change_1h = Change_1h / 100,\n",
    "           Change_24h = Change_24h / 100,\n",
    "           Change_7d = Change_7d /100) \n",
    "crypto %>%\n",
    "    head(5)\n",
    "        "
   ]
  },
  {
   "cell_type": "code",
   "execution_count": 86,
   "metadata": {},
   "outputs": [
    {
     "data": {
      "text/html": [
       "<table>\n",
       "<caption>A data.frame: 6 × 9</caption>\n",
       "<thead>\n",
       "\t<tr><th></th><th scope=col>Name</th><th scope=col>Symbol</th><th scope=col>Market_Cap</th><th scope=col>Price_USD</th><th scope=col>Circulating_Supply</th><th scope=col>Volumn_24h</th><th scope=col>Change_1h</th><th scope=col>Change_24h</th><th scope=col>Change_7d</th></tr>\n",
       "\t<tr><th></th><th scope=col>&lt;chr&gt;</th><th scope=col>&lt;chr&gt;</th><th scope=col>&lt;dbl&gt;</th><th scope=col>&lt;dbl&gt;</th><th scope=col>&lt;dbl&gt;</th><th scope=col>&lt;dbl&gt;</th><th scope=col>&lt;dbl&gt;</th><th scope=col>&lt;dbl&gt;</th><th scope=col>&lt;dbl&gt;</th></tr>\n",
       "</thead>\n",
       "<tbody>\n",
       "\t<tr><th scope=row>1</th><td>Bitcoin     </td><td>BTC </td><td>210128812534</td><td>11349.99</td><td>   18513568</td><td>20692351668</td><td>-0.0002</td><td>-0.0025</td><td> 0.0700</td></tr>\n",
       "\t<tr><th scope=row>2</th><td>Ethereum    </td><td>ETH </td><td> 42102413166</td><td>  372.74</td><td>  112954374</td><td>13022103571</td><td> 0.0010</td><td>-0.0087</td><td> 0.0688</td></tr>\n",
       "\t<tr><th scope=row>3</th><td>Tether      </td><td>USDT</td><td> 15736487032</td><td>    1.00</td><td>15721468977</td><td>35713268641</td><td>-0.0002</td><td> 0.0001</td><td>-0.0006</td></tr>\n",
       "\t<tr><th scope=row>4</th><td>XRP         </td><td>XRP </td><td> 11595272697</td><td>    0.26</td><td>45162407484</td><td> 1776948666</td><td> 0.0040</td><td>-0.0001</td><td> 0.0975</td></tr>\n",
       "\t<tr><th scope=row>5</th><td>Bitcoin Cash</td><td>BCH </td><td>  4415415928</td><td>  238.14</td><td>   18541463</td><td> 1508760479</td><td>-0.0045</td><td>-0.0242</td><td> 0.0815</td></tr>\n",
       "\t<tr><th scope=row>6</th><td>Binance Coin</td><td>BNB </td><td>  4075018357</td><td>   28.22</td><td>  144406560</td><td>  356027065</td><td> 0.0039</td><td>-0.0219</td><td>-0.0081</td></tr>\n",
       "</tbody>\n",
       "</table>\n"
      ],
      "text/latex": [
       "A data.frame: 6 × 9\n",
       "\\begin{tabular}{r|lllllllll}\n",
       "  & Name & Symbol & Market\\_Cap & Price\\_USD & Circulating\\_Supply & Volumn\\_24h & Change\\_1h & Change\\_24h & Change\\_7d\\\\\n",
       "  & <chr> & <chr> & <dbl> & <dbl> & <dbl> & <dbl> & <dbl> & <dbl> & <dbl>\\\\\n",
       "\\hline\n",
       "\t1 & Bitcoin      & BTC  & 210128812534 & 11349.99 &    18513568 & 20692351668 & -0.0002 & -0.0025 &  0.0700\\\\\n",
       "\t2 & Ethereum     & ETH  &  42102413166 &   372.74 &   112954374 & 13022103571 &  0.0010 & -0.0087 &  0.0688\\\\\n",
       "\t3 & Tether       & USDT &  15736487032 &     1.00 & 15721468977 & 35713268641 & -0.0002 &  0.0001 & -0.0006\\\\\n",
       "\t4 & XRP          & XRP  &  11595272697 &     0.26 & 45162407484 &  1776948666 &  0.0040 & -0.0001 &  0.0975\\\\\n",
       "\t5 & Bitcoin Cash & BCH  &   4415415928 &   238.14 &    18541463 &  1508760479 & -0.0045 & -0.0242 &  0.0815\\\\\n",
       "\t6 & Binance Coin & BNB  &   4075018357 &    28.22 &   144406560 &   356027065 &  0.0039 & -0.0219 & -0.0081\\\\\n",
       "\\end{tabular}\n"
      ],
      "text/markdown": [
       "\n",
       "A data.frame: 6 × 9\n",
       "\n",
       "| <!--/--> | Name &lt;chr&gt; | Symbol &lt;chr&gt; | Market_Cap &lt;dbl&gt; | Price_USD &lt;dbl&gt; | Circulating_Supply &lt;dbl&gt; | Volumn_24h &lt;dbl&gt; | Change_1h &lt;dbl&gt; | Change_24h &lt;dbl&gt; | Change_7d &lt;dbl&gt; |\n",
       "|---|---|---|---|---|---|---|---|---|---|\n",
       "| 1 | Bitcoin      | BTC  | 210128812534 | 11349.99 |    18513568 | 20692351668 | -0.0002 | -0.0025 |  0.0700 |\n",
       "| 2 | Ethereum     | ETH  |  42102413166 |   372.74 |   112954374 | 13022103571 |  0.0010 | -0.0087 |  0.0688 |\n",
       "| 3 | Tether       | USDT |  15736487032 |     1.00 | 15721468977 | 35713268641 | -0.0002 |  0.0001 | -0.0006 |\n",
       "| 4 | XRP          | XRP  |  11595272697 |     0.26 | 45162407484 |  1776948666 |  0.0040 | -0.0001 |  0.0975 |\n",
       "| 5 | Bitcoin Cash | BCH  |   4415415928 |   238.14 |    18541463 |  1508760479 | -0.0045 | -0.0242 |  0.0815 |\n",
       "| 6 | Binance Coin | BNB  |   4075018357 |    28.22 |   144406560 |   356027065 |  0.0039 | -0.0219 | -0.0081 |\n",
       "\n"
      ],
      "text/plain": [
       "  Name         Symbol Market_Cap   Price_USD Circulating_Supply Volumn_24h \n",
       "1 Bitcoin      BTC    210128812534 11349.99     18513568        20692351668\n",
       "2 Ethereum     ETH     42102413166   372.74    112954374        13022103571\n",
       "3 Tether       USDT    15736487032     1.00  15721468977        35713268641\n",
       "4 XRP          XRP     11595272697     0.26  45162407484         1776948666\n",
       "5 Bitcoin Cash BCH      4415415928   238.14     18541463         1508760479\n",
       "6 Binance Coin BNB      4075018357    28.22    144406560          356027065\n",
       "  Change_1h Change_24h Change_7d\n",
       "1 -0.0002   -0.0025     0.0700  \n",
       "2  0.0010   -0.0087     0.0688  \n",
       "3 -0.0002    0.0001    -0.0006  \n",
       "4  0.0040   -0.0001     0.0975  \n",
       "5 -0.0045   -0.0242     0.0815  \n",
       "6  0.0039   -0.0219    -0.0081  "
      ]
     },
     "metadata": {},
     "output_type": "display_data"
    }
   ],
   "source": [
    "crypto <- crypto %>%\n",
    "        select(-Rank)\n",
    "\n",
    "crypto %>%\n",
    "    head()"
   ]
  },
  {
   "cell_type": "code",
   "execution_count": 87,
   "metadata": {},
   "outputs": [
    {
     "data": {
      "text/html": [
       "<table>\n",
       "<caption>A data.frame: 6 × 6</caption>\n",
       "<thead>\n",
       "\t<tr><th></th><th scope=col>Name</th><th scope=col>Symbol</th><th scope=col>Volumn_24h</th><th scope=col>Price_USD</th><th scope=col>Change_24h</th><th scope=col>Change_7d</th></tr>\n",
       "\t<tr><th></th><th scope=col>&lt;chr&gt;</th><th scope=col>&lt;chr&gt;</th><th scope=col>&lt;dbl&gt;</th><th scope=col>&lt;dbl&gt;</th><th scope=col>&lt;dbl&gt;</th><th scope=col>&lt;dbl&gt;</th></tr>\n",
       "</thead>\n",
       "<tbody>\n",
       "\t<tr><th scope=row>1</th><td>Bitcoin     </td><td>BTC </td><td>20692351668</td><td>11349.99</td><td>-0.0025</td><td> 0.0700</td></tr>\n",
       "\t<tr><th scope=row>2</th><td>Ethereum    </td><td>ETH </td><td>13022103571</td><td>  372.74</td><td>-0.0087</td><td> 0.0688</td></tr>\n",
       "\t<tr><th scope=row>3</th><td>Tether      </td><td>USDT</td><td>35713268641</td><td>    1.00</td><td> 0.0001</td><td>-0.0006</td></tr>\n",
       "\t<tr><th scope=row>4</th><td>XRP         </td><td>XRP </td><td> 1776948666</td><td>    0.26</td><td>-0.0001</td><td> 0.0975</td></tr>\n",
       "\t<tr><th scope=row>5</th><td>Bitcoin Cash</td><td>BCH </td><td> 1508760479</td><td>  238.14</td><td>-0.0242</td><td> 0.0815</td></tr>\n",
       "\t<tr><th scope=row>6</th><td>Binance Coin</td><td>BNB </td><td>  356027065</td><td>   28.22</td><td>-0.0219</td><td>-0.0081</td></tr>\n",
       "</tbody>\n",
       "</table>\n"
      ],
      "text/latex": [
       "A data.frame: 6 × 6\n",
       "\\begin{tabular}{r|llllll}\n",
       "  & Name & Symbol & Volumn\\_24h & Price\\_USD & Change\\_24h & Change\\_7d\\\\\n",
       "  & <chr> & <chr> & <dbl> & <dbl> & <dbl> & <dbl>\\\\\n",
       "\\hline\n",
       "\t1 & Bitcoin      & BTC  & 20692351668 & 11349.99 & -0.0025 &  0.0700\\\\\n",
       "\t2 & Ethereum     & ETH  & 13022103571 &   372.74 & -0.0087 &  0.0688\\\\\n",
       "\t3 & Tether       & USDT & 35713268641 &     1.00 &  0.0001 & -0.0006\\\\\n",
       "\t4 & XRP          & XRP  &  1776948666 &     0.26 & -0.0001 &  0.0975\\\\\n",
       "\t5 & Bitcoin Cash & BCH  &  1508760479 &   238.14 & -0.0242 &  0.0815\\\\\n",
       "\t6 & Binance Coin & BNB  &   356027065 &    28.22 & -0.0219 & -0.0081\\\\\n",
       "\\end{tabular}\n"
      ],
      "text/markdown": [
       "\n",
       "A data.frame: 6 × 6\n",
       "\n",
       "| <!--/--> | Name &lt;chr&gt; | Symbol &lt;chr&gt; | Volumn_24h &lt;dbl&gt; | Price_USD &lt;dbl&gt; | Change_24h &lt;dbl&gt; | Change_7d &lt;dbl&gt; |\n",
       "|---|---|---|---|---|---|---|\n",
       "| 1 | Bitcoin      | BTC  | 20692351668 | 11349.99 | -0.0025 |  0.0700 |\n",
       "| 2 | Ethereum     | ETH  | 13022103571 |   372.74 | -0.0087 |  0.0688 |\n",
       "| 3 | Tether       | USDT | 35713268641 |     1.00 |  0.0001 | -0.0006 |\n",
       "| 4 | XRP          | XRP  |  1776948666 |     0.26 | -0.0001 |  0.0975 |\n",
       "| 5 | Bitcoin Cash | BCH  |  1508760479 |   238.14 | -0.0242 |  0.0815 |\n",
       "| 6 | Binance Coin | BNB  |   356027065 |    28.22 | -0.0219 | -0.0081 |\n",
       "\n"
      ],
      "text/plain": [
       "  Name         Symbol Volumn_24h  Price_USD Change_24h Change_7d\n",
       "1 Bitcoin      BTC    20692351668 11349.99  -0.0025     0.0700  \n",
       "2 Ethereum     ETH    13022103571   372.74  -0.0087     0.0688  \n",
       "3 Tether       USDT   35713268641     1.00   0.0001    -0.0006  \n",
       "4 XRP          XRP     1776948666     0.26  -0.0001     0.0975  \n",
       "5 Bitcoin Cash BCH     1508760479   238.14  -0.0242     0.0815  \n",
       "6 Binance Coin BNB      356027065    28.22  -0.0219    -0.0081  "
      ]
     },
     "metadata": {},
     "output_type": "display_data"
    }
   ],
   "source": [
    "vol_change <- crypto %>%\n",
    "    select(Name, Symbol, Volumn_24h, Price_USD, Change_24h, Change_7d) \n",
    "\n",
    "vol_change %>%\n",
    "    head()"
   ]
  },
  {
   "cell_type": "code",
   "execution_count": 88,
   "metadata": {},
   "outputs": [
    {
     "data": {
      "image/png": "[encoded data removed]",
      "text/plain": [
       "plot without title"
      ]
     },
     "metadata": {
      "image/png": {
       "height": 420,
       "width": 420
      }
     },
     "output_type": "display_data"
    }
   ],
   "source": [
    "vol_change %>%\n",
    "    ggplot(\n",
    "    mapping=aes(x=Change_24h, y= Volumn_24h, alpha=1/200)) +\n",
    "    geom_point(colour = \"red\", size = 2.5) + guides(alpha=FALSE) +\n",
    "    xlab('The percentage change of price in 24h') + \n",
    "    ylab('Volume (24h)') + \n",
    "    ggtitle('The relationship between %24h and the volumn(24h)')+\n",
    "    theme(plot.title = element_text(hjust=0.5))\n",
    "    "
   ]
  },
  {
   "cell_type": "code",
   "execution_count": 91,
   "metadata": {},
   "outputs": [],
   "source": [
    "#Conclusion: Cryptocurrencies investors' buy and sell strategies won't be affected by the 24hour price changes, although this market is running all the time. Also, we can \n",
    "#notice that there are three cryptocurrencies have higher transaction volume than others, and their prices have not changed much within the last 24 hours."
   ]
  },
  {
   "cell_type": "code",
   "execution_count": 89,
   "metadata": {},
   "outputs": [
    {
     "data": {
      "text/html": [
       "<table>\n",
       "<caption>A data.frame: 3 × 6</caption>\n",
       "<thead>\n",
       "\t<tr><th></th><th scope=col>Name</th><th scope=col>Symbol</th><th scope=col>Volumn_24h</th><th scope=col>Price_USD</th><th scope=col>Change_24h</th><th scope=col>Change_7d</th></tr>\n",
       "\t<tr><th></th><th scope=col>&lt;chr&gt;</th><th scope=col>&lt;chr&gt;</th><th scope=col>&lt;dbl&gt;</th><th scope=col>&lt;dbl&gt;</th><th scope=col>&lt;dbl&gt;</th><th scope=col>&lt;dbl&gt;</th></tr>\n",
       "</thead>\n",
       "<tbody>\n",
       "\t<tr><th scope=row>1</th><td>Tether  </td><td>USDT</td><td>35713268641</td><td>    1.00</td><td> 0.0001</td><td>-0.0006</td></tr>\n",
       "\t<tr><th scope=row>2</th><td>Bitcoin </td><td>BTC </td><td>20692351668</td><td>11349.99</td><td>-0.0025</td><td> 0.0700</td></tr>\n",
       "\t<tr><th scope=row>3</th><td>Ethereum</td><td>ETH </td><td>13022103571</td><td>  372.74</td><td>-0.0087</td><td> 0.0688</td></tr>\n",
       "</tbody>\n",
       "</table>\n"
      ],
      "text/latex": [
       "A data.frame: 3 × 6\n",
       "\\begin{tabular}{r|llllll}\n",
       "  & Name & Symbol & Volumn\\_24h & Price\\_USD & Change\\_24h & Change\\_7d\\\\\n",
       "  & <chr> & <chr> & <dbl> & <dbl> & <dbl> & <dbl>\\\\\n",
       "\\hline\n",
       "\t1 & Tether   & USDT & 35713268641 &     1.00 &  0.0001 & -0.0006\\\\\n",
       "\t2 & Bitcoin  & BTC  & 20692351668 & 11349.99 & -0.0025 &  0.0700\\\\\n",
       "\t3 & Ethereum & ETH  & 13022103571 &   372.74 & -0.0087 &  0.0688\\\\\n",
       "\\end{tabular}\n"
      ],
      "text/markdown": [
       "\n",
       "A data.frame: 3 × 6\n",
       "\n",
       "| <!--/--> | Name &lt;chr&gt; | Symbol &lt;chr&gt; | Volumn_24h &lt;dbl&gt; | Price_USD &lt;dbl&gt; | Change_24h &lt;dbl&gt; | Change_7d &lt;dbl&gt; |\n",
       "|---|---|---|---|---|---|---|\n",
       "| 1 | Tether   | USDT | 35713268641 |     1.00 |  0.0001 | -0.0006 |\n",
       "| 2 | Bitcoin  | BTC  | 20692351668 | 11349.99 | -0.0025 |  0.0700 |\n",
       "| 3 | Ethereum | ETH  | 13022103571 |   372.74 | -0.0087 |  0.0688 |\n",
       "\n"
      ],
      "text/plain": [
       "  Name     Symbol Volumn_24h  Price_USD Change_24h Change_7d\n",
       "1 Tether   USDT   35713268641     1.00   0.0001    -0.0006  \n",
       "2 Bitcoin  BTC    20692351668 11349.99  -0.0025     0.0700  \n",
       "3 Ethereum ETH    13022103571   372.74  -0.0087     0.0688  "
      ]
     },
     "metadata": {},
     "output_type": "display_data"
    }
   ],
   "source": [
    "vol_24h_top3 <- vol_change %>%\n",
    "    arrange(desc(Volumn_24h)) %>%\n",
    "    head(3)\n",
    "\n",
    "vol_24h_top3"
   ]
  },
  {
   "cell_type": "code",
   "execution_count": 92,
   "metadata": {},
   "outputs": [],
   "source": [
    "#The highest transaction volume in 24h is Tether(USDT). USDT is a stable coin that mirrors the price of the US dollar. Thus, investors can buy this currency when \n",
    "#the market changes drastically to avoid risk. There is no doubt that the actual most popular cryptocurrency is Bitcoin, with around 20 billion transaction volume \n",
    "#within 24 hours. ETH is still a popular coin following Bitcoin. "
   ]
  }
 ],
 "metadata": {
  "kernelspec": {
   "display_name": "R",
   "language": "R",
   "name": "ir"
  },
  "language_info": {
   "codemirror_mode": "r",
   "file_extension": ".r",
   "mimetype": "text/x-r-source",
   "name": "R",
   "pygments_lexer": "r",
   "version": "4.0.2"
  }
 },
 "nbformat": 4,
 "nbformat_minor": 4
}
