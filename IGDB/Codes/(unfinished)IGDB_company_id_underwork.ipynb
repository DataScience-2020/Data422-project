{
 "cells": [
  {
   "cell_type": "code",
   "execution_count": null,
   "metadata": {},
   "outputs": [],
   "source": [
    "company_id_table = read()"
   ]
  },
  {
   "cell_type": "code",
   "execution_count": null,
   "metadata": {},
   "outputs": [],
   "source": [
    "games_id_tale = read()"
   ]
  },
  {
   "cell_type": "code",
   "execution_count": 1,
   "metadata": {},
   "outputs": [
    {
     "ename": "LoadError",
     "evalue": "syntax: incomplete: premature end of input",
     "output_type": "error",
     "traceback": [
      "syntax: incomplete: premature end of input",
      ""
     ]
    }
   ],
   "source": [
    "for game_id in games_id_table.id\n",
    "    matching_companies = []\n",
    "    for company in company_id_table\n",
    "        condition = game_id in company.developed ? true : false\n",
    "        if condition do push!(company.id,matching_companies)"
   ]
  },
  {
   "cell_type": "code",
   "execution_count": 3,
   "metadata": {},
   "outputs": [],
   "source": [
    "using HTTP\n",
    "using DataFrames\n",
    "using JSON2\n",
    "using CSV"
   ]
  },
  {
   "cell_type": "code",
   "execution_count": 59,
   "metadata": {},
   "outputs": [
    {
     "data": {
      "text/plain": [
       "500-element Array{Array{SubString{String},1},1}:\n",
       " [\"5\", \"10\", \"14\", \"31\"]\n",
       " [\"12\", \"31\"]\n",
       " [\"12\", \"31\"]\n",
       " [\"5\", \"10\", \"31\"]\n",
       " [\"5\", \"8\", \"9\", \"31\"]\n",
       " [\"5\"]\n",
       " [\"5\", \"8\", \"9\"]\n",
       " [\"5\", \"31\"]\n",
       " [\"5\", \"12\", \"13\"]\n",
       " [\"5\", \"9\", \"31\"]\n",
       " [\"8\", \"31\"]\n",
       " [\"5\", \"10\", \"31\", \"33\"]\n",
       " [\"5\"]\n",
       " ⋮\n",
       " [\"4\", \"8\"]\n",
       " [\"8\", \"9\", \"31\", \"32\"]\n",
       " [\"5\"]\n",
       " [\"5\"]\n",
       " [\"5\", \"10\"]\n",
       " [\"8\", \"31\", \"32\"]\n",
       " [\"5\", \"8\"]\n",
       " [\"13\", \"15\", \"32\"]\n",
       " [\"5\"]\n",
       " [\"8\", \"12\", \"31\", \"32\", \"33\"]\n",
       " [\"11\", \"15\"]\n",
       " [\"8\"]"
      ]
     },
     "execution_count": 59,
     "metadata": {},
     "output_type": "execute_result"
    }
   ],
   "source": [
    "split.(replace.(game_table.genres, r\"(Any\\[)|(\\])|( )\" => \"\"),\",\")"
   ]
  },
  {
   "cell_type": "code",
   "execution_count": 4,
   "metadata": {},
   "outputs": [
    {
     "name": "stderr",
     "output_type": "stream",
     "text": [
      "┌ Warning: `CSV.read(input; kw...)` is deprecated in favor of `using DataFrames; CSV.read(input, DataFrame; kw...)\n",
      "│   caller = read(::String) at CSV.jl:40\n",
      "└ @ CSV /Users/mengzhang/.julia/packages/CSV/MKemC/src/CSV.jl:40\n"
     ]
    },
    {
     "data": {
      "text/html": [
       "<table class=\"data-frame\"><thead><tr><th></th><th>id</th><th>url</th><th>version_parent</th></tr><tr><th></th><th>Int64</th><th>String</th><th>String</th></tr></thead><tbody><p>500 rows × 25 columns (omitted printing of 22 columns)</p><tr><th>1</th><td>1020</td><td>https://www.igdb.com/games/grand-theft-auto-v</td><td>Null</td></tr><tr><th>2</th><td>1942</td><td>https://www.igdb.com/games/the-witcher-3-wild-hunt</td><td>Null</td></tr><tr><th>3</th><td>472</td><td>https://www.igdb.com/games/the-elder-scrolls-v-skyrim</td><td>Null</td></tr><tr><th>4</th><td>732</td><td>https://www.igdb.com/games/grand-theft-auto-san-andreas</td><td>Null</td></tr><tr><th>5</th><td>72</td><td>https://www.igdb.com/games/portal-2</td><td>Null</td></tr><tr><th>6</th><td>233</td><td>https://www.igdb.com/games/half-life-2</td><td>Null</td></tr><tr><th>7</th><td>71</td><td>https://www.igdb.com/games/portal</td><td>Null</td></tr><tr><th>8</th><td>1009</td><td>https://www.igdb.com/games/the-last-of-us</td><td>Null</td></tr><tr><th>9</th><td>74</td><td>https://www.igdb.com/games/mass-effect-2</td><td>Null</td></tr><tr><th>10</th><td>231</td><td>https://www.igdb.com/games/half-life</td><td>Null</td></tr><tr><th>11</th><td>127</td><td>https://www.igdb.com/games/assassin-s-creed-ii</td><td>Null</td></tr><tr><th>12</th><td>733</td><td>https://www.igdb.com/games/grand-theft-auto-vice-city</td><td>Null</td></tr><tr><th>13</th><td>20</td><td>https://www.igdb.com/games/bioshock</td><td>Null</td></tr><tr><th>14</th><td>73</td><td>https://www.igdb.com/games/mass-effect</td><td>Null</td></tr><tr><th>15</th><td>25076</td><td>https://www.igdb.com/games/red-dead-redemption-2</td><td>Null</td></tr><tr><th>16</th><td>500</td><td>https://www.igdb.com/games/batman-arkham-asylum</td><td>Null</td></tr><tr><th>17</th><td>7346</td><td>https://www.igdb.com/games/the-legend-of-zelda-breath-of-the-wild</td><td>Null</td></tr><tr><th>18</th><td>538</td><td>https://www.igdb.com/games/bioshock-infinite</td><td>Null</td></tr><tr><th>19</th><td>1164</td><td>https://www.igdb.com/games/tomb-raider--2</td><td>Null</td></tr><tr><th>20</th><td>11156</td><td>https://www.igdb.com/games/horizon-zero-dawn</td><td>Null</td></tr><tr><th>21</th><td>1029</td><td>https://www.igdb.com/games/the-legend-of-zelda-ocarina-of-time</td><td>Null</td></tr><tr><th>22</th><td>7331</td><td>https://www.igdb.com/games/uncharted-4-a-thief-s-end</td><td>Null</td></tr><tr><th>23</th><td>501</td><td>https://www.igdb.com/games/batman-arkham-city</td><td>Null</td></tr><tr><th>24</th><td>434</td><td>https://www.igdb.com/games/red-dead-redemption</td><td>Null</td></tr><tr><th>25</th><td>75</td><td>https://www.igdb.com/games/mass-effect-3</td><td>Null</td></tr><tr><th>26</th><td>121</td><td>https://www.igdb.com/games/minecraft</td><td>Null</td></tr><tr><th>27</th><td>565</td><td>https://www.igdb.com/games/uncharted-2-among-thieves</td><td>Null</td></tr><tr><th>28</th><td>529</td><td>https://www.igdb.com/games/far-cry-3</td><td>Null</td></tr><tr><th>29</th><td>26192</td><td>https://www.igdb.com/games/the-last-of-us-part-ii</td><td>Null</td></tr><tr><th>30</th><td>15</td><td>https://www.igdb.com/games/fallout-3</td><td>Null</td></tr><tr><th>&vellip;</th><td>&vellip;</td><td>&vellip;</td><td>&vellip;</td></tr></tbody></table>"
      ],
      "text/latex": [
       "\\begin{tabular}{r|cccc}\n",
       "\t& id & url & version\\_parent & \\\\\n",
       "\t\\hline\n",
       "\t& Int64 & String & String & \\\\\n",
       "\t\\hline\n",
       "\t1 & 1020 & https://www.igdb.com/games/grand-theft-auto-v & Null & $\\dots$ \\\\\n",
       "\t2 & 1942 & https://www.igdb.com/games/the-witcher-3-wild-hunt & Null & $\\dots$ \\\\\n",
       "\t3 & 472 & https://www.igdb.com/games/the-elder-scrolls-v-skyrim & Null & $\\dots$ \\\\\n",
       "\t4 & 732 & https://www.igdb.com/games/grand-theft-auto-san-andreas & Null & $\\dots$ \\\\\n",
       "\t5 & 72 & https://www.igdb.com/games/portal-2 & Null & $\\dots$ \\\\\n",
       "\t6 & 233 & https://www.igdb.com/games/half-life-2 & Null & $\\dots$ \\\\\n",
       "\t7 & 71 & https://www.igdb.com/games/portal & Null & $\\dots$ \\\\\n",
       "\t8 & 1009 & https://www.igdb.com/games/the-last-of-us & Null & $\\dots$ \\\\\n",
       "\t9 & 74 & https://www.igdb.com/games/mass-effect-2 & Null & $\\dots$ \\\\\n",
       "\t10 & 231 & https://www.igdb.com/games/half-life & Null & $\\dots$ \\\\\n",
       "\t11 & 127 & https://www.igdb.com/games/assassin-s-creed-ii & Null & $\\dots$ \\\\\n",
       "\t12 & 733 & https://www.igdb.com/games/grand-theft-auto-vice-city & Null & $\\dots$ \\\\\n",
       "\t13 & 20 & https://www.igdb.com/games/bioshock & Null & $\\dots$ \\\\\n",
       "\t14 & 73 & https://www.igdb.com/games/mass-effect & Null & $\\dots$ \\\\\n",
       "\t15 & 25076 & https://www.igdb.com/games/red-dead-redemption-2 & Null & $\\dots$ \\\\\n",
       "\t16 & 500 & https://www.igdb.com/games/batman-arkham-asylum & Null & $\\dots$ \\\\\n",
       "\t17 & 7346 & https://www.igdb.com/games/the-legend-of-zelda-breath-of-the-wild & Null & $\\dots$ \\\\\n",
       "\t18 & 538 & https://www.igdb.com/games/bioshock-infinite & Null & $\\dots$ \\\\\n",
       "\t19 & 1164 & https://www.igdb.com/games/tomb-raider--2 & Null & $\\dots$ \\\\\n",
       "\t20 & 11156 & https://www.igdb.com/games/horizon-zero-dawn & Null & $\\dots$ \\\\\n",
       "\t21 & 1029 & https://www.igdb.com/games/the-legend-of-zelda-ocarina-of-time & Null & $\\dots$ \\\\\n",
       "\t22 & 7331 & https://www.igdb.com/games/uncharted-4-a-thief-s-end & Null & $\\dots$ \\\\\n",
       "\t23 & 501 & https://www.igdb.com/games/batman-arkham-city & Null & $\\dots$ \\\\\n",
       "\t24 & 434 & https://www.igdb.com/games/red-dead-redemption & Null & $\\dots$ \\\\\n",
       "\t25 & 75 & https://www.igdb.com/games/mass-effect-3 & Null & $\\dots$ \\\\\n",
       "\t26 & 121 & https://www.igdb.com/games/minecraft & Null & $\\dots$ \\\\\n",
       "\t27 & 565 & https://www.igdb.com/games/uncharted-2-among-thieves & Null & $\\dots$ \\\\\n",
       "\t28 & 529 & https://www.igdb.com/games/far-cry-3 & Null & $\\dots$ \\\\\n",
       "\t29 & 26192 & https://www.igdb.com/games/the-last-of-us-part-ii & Null & $\\dots$ \\\\\n",
       "\t30 & 15 & https://www.igdb.com/games/fallout-3 & Null & $\\dots$ \\\\\n",
       "\t$\\dots$ & $\\dots$ & $\\dots$ & $\\dots$ &  \\\\\n",
       "\\end{tabular}\n"
      ],
      "text/plain": [
       "500×25 DataFrame. Omitted printing of 24 columns\n",
       "│ Row │ id    │\n",
       "│     │ \u001b[90mInt64\u001b[39m │\n",
       "├─────┼───────┤\n",
       "│ 1   │ 1020  │\n",
       "│ 2   │ 1942  │\n",
       "│ 3   │ 472   │\n",
       "│ 4   │ 732   │\n",
       "│ 5   │ 72    │\n",
       "│ 6   │ 233   │\n",
       "│ 7   │ 71    │\n",
       "│ 8   │ 1009  │\n",
       "│ 9   │ 74    │\n",
       "│ 10  │ 231   │\n",
       "⋮\n",
       "│ 490 │ 2064  │\n",
       "│ 491 │ 544   │\n",
       "│ 492 │ 520   │\n",
       "│ 493 │ 509   │\n",
       "│ 494 │ 26855 │\n",
       "│ 495 │ 26761 │\n",
       "│ 496 │ 23248 │\n",
       "│ 497 │ 857   │\n",
       "│ 498 │ 3221  │\n",
       "│ 499 │ 3155  │\n",
       "│ 500 │ 1058  │"
      ]
     },
     "execution_count": 4,
     "metadata": {},
     "output_type": "execute_result"
    }
   ],
   "source": [
    "game_table = CSV.read(\"target_games_fellow.csv\")"
   ]
  },
  {
   "cell_type": "code",
   "execution_count": 27,
   "metadata": {},
   "outputs": [
    {
     "data": {
      "text/plain": [
       "7-element Array{Int64,1}:\n",
       " 17436\n",
       " 17768\n",
       " 17769\n",
       " 17770\n",
       " 17771\n",
       " 42142\n",
       " 64293"
      ]
     },
     "execution_count": 27,
     "metadata": {},
     "output_type": "execute_result"
    }
   ],
   "source": [
    "[parse(Int,m.captures[1]) for m in eachmatch(r\"([0-9]+)\",game_table.involved_companies[1])]"
   ]
  },
  {
   "cell_type": "code",
   "execution_count": null,
   "metadata": {},
   "outputs": [],
   "source": []
  }
 ],
 "metadata": {
  "kernelspec": {
   "display_name": "Julia 1.4.2",
   "language": "julia",
   "name": "julia-1.4"
  },
  "language_info": {
   "file_extension": ".jl",
   "mimetype": "application/julia",
   "name": "julia",
   "version": "1.4.2"
  }
 },
 "nbformat": 4,
 "nbformat_minor": 4
}
