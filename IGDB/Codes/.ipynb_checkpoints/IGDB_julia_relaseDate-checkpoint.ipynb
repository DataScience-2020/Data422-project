{
 "cells": [
  {
   "cell_type": "code",
   "execution_count": 26,
   "metadata": {},
   "outputs": [],
   "source": [
    "# import library\n",
    "using HTTP\n",
    "using DataFrames\n",
    "using JSON2\n",
    "using CSV"
   ]
  },
  {
   "cell_type": "code",
   "execution_count": 2,
   "metadata": {},
   "outputs": [
    {
     "data": {
      "text/plain": [
       "\"&grant_type=client_credentials\""
      ]
     },
     "execution_count": 2,
     "metadata": {},
     "output_type": "execute_result"
    }
   ],
   "source": [
    "# define the html components\n",
    "\n",
    "access_token_url = \"https://id.twitch.tv/oauth2/token?\"\n",
    "twitch_client_id = \"nkhild64eit6lxke8b9edmml63963g\"\n",
    "twitch_client_secret = \"ai1hob8i3g4r5gc5tv8ij4p68wrbtq\"\n",
    "grant_type = \"&grant_type=client_credentials\""
   ]
  },
  {
   "cell_type": "code",
   "execution_count": 3,
   "metadata": {},
   "outputs": [
    {
     "data": {
      "text/plain": [
       "\"https://id.twitch.tv/oauth2/token?client_id=nkhild64eit6lxke8b9edmml63963g&client_secret=ai1hob8i3g4r5gc5tv8ij4p68wrbtq&grant_type=client_credentials\""
      ]
     },
     "execution_count": 3,
     "metadata": {},
     "output_type": "execute_result"
    }
   ],
   "source": [
    "# define url for IGDB game information scrapping\n",
    "url = access_token_url *\n",
    "  \"client_id=\" *\n",
    "  twitch_client_id *\n",
    "  \"&client_secret=\" *\n",
    "  twitch_client_secret *\n",
    "  grant_type"
   ]
  },
  {
   "cell_type": "code",
   "execution_count": 4,
   "metadata": {},
   "outputs": [
    {
     "data": {
      "text/plain": [
       "HTTP.Messages.Response:\n",
       "\"\"\"\n",
       "HTTP/1.1 200 OK\r\n",
       "Date: Sat, 10 Oct 2020 11:17:04 GMT\r\n",
       "Content-Type: application/json\r\n",
       "Content-Length: 93\r\n",
       "Connection: keep-alive\r\n",
       "Server: nginx/1.14.1\r\n",
       "Access-Control-Allow-Origin: *\r\n",
       "X-Ctxlog-Logid: 1-5f819830-1cdc2fba270e833c7bc87f85\r\n",
       "\r\n",
       "{\"access_token\":\"5crhqgg5em3o90ky023jnn3c8mhbjm\",\"expires_in\":5033763,\"token_type\":\"bearer\"}\n",
       "\"\"\""
      ]
     },
     "execution_count": 4,
     "metadata": {},
     "output_type": "execute_result"
    }
   ],
   "source": [
    "response_from_server = HTTP.post(url)"
   ]
  },
  {
   "cell_type": "code",
   "execution_count": 6,
   "metadata": {},
   "outputs": [
    {
     "data": {
      "text/plain": [
       "(access_token = \"5crhqgg5em3o90ky023jnn3c8mhbjm\", expires_in = 5033763, token_type = \"bearer\")"
      ]
     },
     "execution_count": 6,
     "metadata": {},
     "output_type": "execute_result"
    }
   ],
   "source": [
    "# by using the JSON2.read(IOBuffer) function help to translate the web string into json format\n",
    "access_token, expires_in, token_type = JSON2.read(IOBuffer(response_from_server.body))"
   ]
  },
  {
   "cell_type": "code",
   "execution_count": 7,
   "metadata": {},
   "outputs": [
    {
     "data": {
      "text/plain": [
       "\"5crhqgg5em3o90ky023jnn3c8mhbjm\""
      ]
     },
     "execution_count": 7,
     "metadata": {},
     "output_type": "execute_result"
    }
   ],
   "source": [
    "# print the token\n",
    "access_token"
   ]
  },
  {
   "cell_type": "code",
   "execution_count": 8,
   "metadata": {},
   "outputs": [
    {
     "data": {
      "text/plain": [
       "Dict{String,String} with 2 entries:\n",
       "  \"Authorization\" => \"Bearer 5crhqgg5em3o90ky023jnn3c8mhbjm\"\n",
       "  \"Client-ID\"     => \"nkhild64eit6lxke8b9edmml63963g\""
      ]
     },
     "execution_count": 8,
     "metadata": {},
     "output_type": "execute_result"
    }
   ],
   "source": [
    "# difine the auth_dictionary\n",
    "auth_dictionary = Dict(\"Client-ID\" => twitch_client_id,\n",
    "                        \"Authorization\" => \"Bearer \" * access_token)"
   ]
  },
  {
   "cell_type": "code",
   "execution_count": 9,
   "metadata": {},
   "outputs": [
    {
     "data": {
      "text/plain": [
       "\"fields *; limit 500;\""
      ]
     },
     "execution_count": 9,
     "metadata": {},
     "output_type": "execute_result"
    }
   ],
   "source": [
    "# define the scrap target on the web page\n",
    "body_date = \"fields *; limit 500;\""
   ]
  },
  {
   "cell_type": "code",
   "execution_count": 13,
   "metadata": {},
   "outputs": [
    {
     "data": {
      "text/plain": [
       "HTTP.Messages.Response:\n",
       "\"\"\"\n",
       "HTTP/1.1 200 OK\r\n",
       "Date: Sat, 10 Oct 2020 11:33:01 GMT\r\n",
       "Content-Type: application/json;charset=utf-8\r\n",
       "Content-Length: 146830\r\n",
       "Connection: keep-alive\r\n",
       "Set-Cookie: __cfduid=d66a815ac3350a2ed257c644dfe99b7c91602329580; expires=Mon, 09-Nov-20 11:33:00 GMT; path=/; domain=.igdb.com; HttpOnly; SameSite=Lax; Secure\r\n",
       "x-amzn-RequestId: 35e4d37b-855f-4a8e-8dd1-49d667c16fd1\r\n",
       "x-amz-apigw-id: UMVNBEe-vHcFStg=\r\n",
       "x-amzn-Remapped-Server: Javalin\r\n",
       "X-Count: 161900\r\n",
       "x-amzn-Remapped-Date: Sat, 10 Oct 2020 11:33:00 GMT\r\n",
       "X-Cache: Miss from cloudfront\r\n",
       "Via: 1.1 244671fab5d63fef93855221c4f22a38.cloudfront.net (CloudFront)\r\n",
       "X-Amz-Cf-Pop: AKL50-C1\r\n",
       "X-Amz-Cf-Id: bI3Rd6_l8kQd9uFbavHoxj0GX6j6uhJSb-49swvpwBnGYcH_93xjZw==\r\n",
       "CF-Cache-Status: DYNAMIC\r\n",
       "cf-request-id: 05b3e22af30000fb880e198200000001\r\n",
       "Expect-CT: max-age=604800, report-uri=\"https://report-uri.cloudflare.com/cdn-cgi/beacon/expect-ct\"\r\n",
       "Strict-Transport-Security: max-age=15552000; includeSubDomains; preload\r\n",
       "X-Content-Type-Options: nosniff\r\n",
       "Server: cloudflare\r\n",
       "CF-RAY: 5e000624bddafb88-AKL\r\n",
       "\r\n",
       "[\n",
       "  {\n",
       "    \"id\": 117332,\n",
       "    \"category\": 1,\n",
       "    \"created_at\": 1507593600,\n",
       "    \"date\": 1506816000,\n",
       "    \"game\": 74204,\n",
       "    \"human\": \"Oct 2017\",\n",
       "    \"m\": 10,\n",
       "    \"platform\": 6,\n",
       "    \"region\": 8,\n",
       "    \"updated_at\": 1507593600,\n",
       "    \"y\": 2017,\n",
       "    \"checksum\": \"fad217d1-938d-eb27-9dd7-3c3dbcf372e1\"\n",
       "  },\n",
       "  {\n",
       "    \"id\": 152554,\n",
       "    \"category\": 0,\n",
       "    \"created_at\": 1526428800,\n",
       "    \"date\": 1536192000,\n",
       "    \"game\": 68284,\n",
       "    \"human\": \"Sep 06, 2018\",\n",
       "    \"m\": 9,\n",
       "    \"platform\": 6,\n",
       "    \"region\": 1,\n",
       "    \"updated_at\": 1526428800,\n",
       "    \"y\": 2018,\n",
       "    \"checksum\": \"d9de82b5-5425-1db6-7793-70c36f022371\"\n",
       "  },\n",
       "  {\n",
       "    \"id\": 97356,\n",
       "    \"category\": 0,\n",
       "    \"created_at\": 1500336000,\n",
       "    \"date\": 1353369600,\n",
       "    \"game\": 51337,\n",
       "    \"human\": \"Nov 20, 2012\",\n",
       "    \"m\": 11,\n",
       "    \"platform\": 6,\n",
       "    \"region\": 8,\n",
       "    \"updated_at\": 1500422400,\n",
       "    \"y\": 2012,\n",
       "    \"checksum\": \"e163b8bf-cfa3-ad46-bc67-21c187b418c8\"\n",
       "  },\n",
       "  {\n",
       "    \"id\": 36408,\n",
       "    \"category\": 2,\n",
       "    \"created_at\": 1442534400,\n",
       "    \"date\": 788832000,\n",
       "    \"game\": 12700,\n",
       " \n",
       "⋮\n",
       "146830-byte body\n",
       "\"\"\""
      ]
     },
     "execution_count": 13,
     "metadata": {},
     "output_type": "execute_result"
    }
   ],
   "source": [
    "# Using HTTP.post(\"path\") to scrap the relasase date web information\n",
    "releaseDates_test = HTTP.post(\"https://api.igdb.com/v4/release_dates\",\n",
    "          auth_dictionary,\n",
    "          body_date)"
   ]
  },
  {
   "cell_type": "code",
   "execution_count": 14,
   "metadata": {},
   "outputs": [
    {
     "data": {
      "text/plain": [
       "500-element Array{Any,1}:\n",
       " (id = 117332, category = 1, created_at = 1507593600, date = 1506816000, game = 74204, human = \"Oct 2017\", m = 10, platform = 6, region = 8, updated_at = 1507593600, y = 2017, checksum = \"fad217d1-938d-eb27-9dd7-3c3dbcf372e1\")\n",
       " (id = 152554, category = 0, created_at = 1526428800, date = 1536192000, game = 68284, human = \"Sep 06, 2018\", m = 9, platform = 6, region = 1, updated_at = 1526428800, y = 2018, checksum = \"d9de82b5-5425-1db6-7793-70c36f022371\")\n",
       " (id = 97356, category = 0, created_at = 1500336000, date = 1353369600, game = 51337, human = \"Nov 20, 2012\", m = 11, platform = 6, region = 8, updated_at = 1500422400, y = 2012, checksum = \"e163b8bf-cfa3-ad46-bc67-21c187b418c8\")\n",
       " (id = 36408, category = 2, created_at = 1442534400, date = 788832000, game = 12700, human = \"1994\", m = 12, platform = 114, region = 8, updated_at = 1442534400, y = 1994, checksum = \"6b6c6b6c-3d1f-7171-f461-9e931211b978\")\n",
       " (id = 90445, category = 0, created_at = 1499385600, date = 767750400, game = 42358, human = \"May 01, 1994\", m = 5, platform = 19, region = 8, updated_at = 1499385600, y = 1994, checksum = \"ccaca153-9e21-d953-7305-85d55fbc8ba3\")\n",
       " (id = 105521, category = 2, created_at = 1501718400, date = 1483142400, game = 11561, human = \"2016\", m = 12, platform = 45, region = 1, updated_at = 1501804800, y = 2016, checksum = \"2b518c98-5a95-3891-c3a3-f74670894408\")\n",
       " (id = 143432, category = 0, created_at = 1517616000, date = 1505347200, game = 15469, human = \"Sep 14, 2017\", m = 9, platform = 130, region = 1, updated_at = 1517788800, y = 2017, checksum = \"731db5c3-0597-d6c0-0839-6a4f5211c4a7\")\n",
       " (id = 56027, category = 2, created_at = 1472860800, date = 441676800, game = 23341, human = \"1983\", m = 12, platform = 59, region = 2, updated_at = 1472860800, y = 1983, checksum = \"14fb27c5-62f5-31c5-c046-6ca29ff04141\")\n",
       " (id = 56011, category = 2, created_at = 1472774400, date = 820368000, game = 23335, human = \"1995\", m = 12, platform = 6, region = 8, updated_at = 1472774400, y = 1995, checksum = \"166ed66f-61a8-e761-73de-20a945dea896\")\n",
       " (id = 56085, category = 0, created_at = 1472947200, date = 1371600000, game = 1510, human = \"Jun 19, 2013\", m = 6, platform = 46, region = 1, updated_at = 1472947200, y = 2013, checksum = \"49ccb4b4-d771-60c0-a34b-e636f6d025a4\")\n",
       " (id = 308, category = 0, created_at = 1301875200, date = 867628800, game = 26, human = \"Jun 30, 1997\", m = 6, platform = 6, region = 8, updated_at = 1339372800, y = 1997, checksum = \"3a9b884d-bc56-5bdd-4e69-5fc8153db737\")\n",
       " (id = 143501, category = 0, created_at = 1517616000, date = 1210118400, game = 37605, human = \"May 07, 2008\", m = 5, platform = 5, region = 5, updated_at = 1517788800, y = 2008, checksum = \"a87025ee-ec4c-facb-9ddb-a6b6945c27a7\")\n",
       " (id = 36570, category = 7, created_at = 1442620800, game = 12761, human = \"TBD\", platform = 13, region = 8, updated_at = 1442620800, checksum = \"81c397b0-2821-87a6-4569-3c28e1697429\")\n",
       " ⋮\n",
       " (id = 164294, category = 0, created_at = 1548720000, date = 1549584000, game = 25871, human = \"Feb 08, 2019\", m = 2, platform = 130, region = 8, updated_at = 1548720000, y = 2019, checksum = \"af508a5d-548b-0e96-ad9d-c128cbc28207\")\n",
       " (id = 155310, category = 0, created_at = 1530921600, date = 1520553600, game = 76813, human = \"Mar 09, 2018\", m = 3, platform = 6, region = 8, updated_at = 1530921600, y = 2018, checksum = \"bcdb4410-7843-295f-5e59-7f4ac6f01b23\")\n",
       " (id = 164298, category = 0, created_at = 1548720000, date = 1548374400, game = 102333, human = \"Jan 25, 2019\", m = 1, platform = 163, region = 8, updated_at = 1548720000, y = 2019, checksum = \"8e8bc907-2fa4-ac8a-7798-275d636d11f1\")\n",
       " (id = 164295, category = 0, created_at = 1548720000, date = 1549584000, game = 25871, human = \"Feb 08, 2019\", m = 2, platform = 49, region = 8, updated_at = 1548720000, y = 2019, checksum = \"2fbd9678-6e5f-48d6-dabf-ad1c42d16f1c\")\n",
       " (id = 47486, category = 0, created_at = 1456876800, date = 1311724800, game = 10170, human = \"Jul 27, 2011\", m = 7, platform = 45, region = 1, updated_at = 1456876800, y = 2011, checksum = \"752d5cbf-c5a6-185a-2b3a-0870ef2d1cb6\")\n",
       " (id = 139519, category = 0, created_at = 1517529600, date = 1360195200, game = 5313, human = \"Feb 07, 2013\", m = 2, platform = 41, region = 1, updated_at = 1517788800, y = 2013, checksum = \"e193458f-0951-b1df-1ea2-3a806add8238\")\n",
       " (id = 109557, category = 0, created_at = 1503014400, date = 1501545600, game = 54492, human = \"Aug 01, 2017\", m = 8, platform = 14, region = 8, updated_at = 1503100800, y = 2017, checksum = \"2b3aad9a-0f1e-19f8-9f00-74e859174fe8\")\n",
       " (id = 111574, category = 0, created_at = 1504396800, date = 1503014400, game = 55356, human = \"Aug 18, 2017\", m = 8, platform = 6, region = 8, updated_at = 1504396800, y = 2017, checksum = \"cf72d2d0-0d4e-8f85-b1f5-fd75603e6b10\")\n",
       " (id = 21658, category = 0, created_at = 1414800000, date = 844041600, game = 616, human = \"Sep 30, 1996\", m = 9, platform = 14, region = 2, updated_at = 1414800000, y = 1996, checksum = \"2a350643-57e6-5e3e-bce5-0d388857d5f9\")\n",
       " (id = 21651, category = 0, created_at = 1414800000, date = 1227744000, game = 7047, human = \"Nov 27, 2008\", m = 11, platform = 12, region = 7, updated_at = 1414800000, y = 2008, checksum = \"37543402-169b-2712-8b3c-02566a10f5be\")\n",
       " (id = 91652, category = 0, created_at = 1499472000, date = 381369600, game = 40922, human = \"Feb 01, 1982\", m = 2, platform = 68, region = 8, updated_at = 1499472000, y = 1982, checksum = \"674d6bf7-f094-d2b3-554f-d3913492f819\")\n",
       " (id = 91632, category = 0, created_at = 1499472000, date = 791596800, game = 40861, human = \"Feb 01, 1995\", m = 2, platform = 61, region = 8, updated_at = 1499472000, y = 1995, checksum = \"1050d5a6-8ae7-4e7a-a87f-e903ca7b21c1\")"
      ]
     },
     "execution_count": 14,
     "metadata": {},
     "output_type": "execute_result"
    }
   ],
   "source": [
    "releaseDates_1_500 = JSON2.read(IOBuffer(releaseDates_test.body))"
   ]
  },
  {
   "cell_type": "code",
   "execution_count": 16,
   "metadata": {},
   "outputs": [
    {
     "data": {
      "text/plain": [
       "12-element Array{Symbol,1}:\n",
       " :id\n",
       " :categoty\n",
       " :created_at\n",
       " :date\n",
       " :game\n",
       " :human\n",
       " :m\n",
       " :platform\n",
       " :region\n",
       " :updated_at\n",
       " :y\n",
       " :checksum"
      ]
     },
     "execution_count": 16,
     "metadata": {},
     "output_type": "execute_result"
    }
   ],
   "source": [
    "\n",
    "features = [:id, \n",
    "    :categoty, \n",
    "    :created_at, \n",
    "    :date, \n",
    "    :game, \n",
    "    :human, \n",
    "    :m, \n",
    "    :platform,\n",
    "    :region, \n",
    "    :updated_at, \n",
    "    :y, \n",
    "    :checksum\n",
    "    ]"
   ]
  },
  {
   "cell_type": "code",
   "execution_count": 17,
   "metadata": {},
   "outputs": [
    {
     "data": {
      "text/plain": [
       "get_this (generic function with 1 method)"
      ]
     },
     "execution_count": 17,
     "metadata": {},
     "output_type": "execute_result"
    }
   ],
   "source": [
    "function get_this(x,column_name)\n",
    "    try\n",
    "    result = getindex(x,column_name)\n",
    "    return result[1]\n",
    "    catch\n",
    "        return \"Null\"\n",
    "    end\n",
    "end"
   ]
  },
  {
   "cell_type": "code",
   "execution_count": 20,
   "metadata": {},
   "outputs": [
    {
     "data": {
      "text/plain": [
       "12-element Array{Array{T,1} where T,1}:\n",
       " [117332, 152554, 97356, 36408, 90445, 105521, 143432, 56027, 56011, 56085  …  164298, 164295, 47486, 139519, 109557, 111574, 21658, 21651, 91652, 91632]\n",
       " [\"Null\", \"Null\", \"Null\", \"Null\", \"Null\", \"Null\", \"Null\", \"Null\", \"Null\", \"Null\"  …  \"Null\", \"Null\", \"Null\", \"Null\", \"Null\", \"Null\", \"Null\", \"Null\", \"Null\", \"Null\"]\n",
       " [1507593600, 1526428800, 1500336000, 1442534400, 1499385600, 1501718400, 1517616000, 1472860800, 1472774400, 1472947200  …  1548720000, 1548720000, 1456876800, 1517529600, 1503014400, 1504396800, 1414800000, 1414800000, 1499472000, 1499472000]\n",
       " Any[1506816000, 1536192000, 1353369600, 788832000, 767750400, 1483142400, 1505347200, 441676800, 820368000, 1371600000  …  1548374400, 1549584000, 1311724800, 1360195200, 1501545600, 1503014400, 844041600, 1227744000, 381369600, 791596800]\n",
       " [74204, 68284, 51337, 12700, 42358, 11561, 15469, 23341, 23335, 1510  …  102333, 25871, 10170, 5313, 54492, 55356, 616, 7047, 40922, 40861]\n",
       " ['O', 'S', 'N', '1', 'M', '2', 'S', '1', '1', 'J'  …  'J', 'F', 'J', 'F', 'A', 'A', 'S', 'N', 'F', 'F']\n",
       " Any[10, 9, 11, 12, 5, 12, 9, 12, 12, 6  …  1, 2, 7, 2, 8, 8, 9, 11, 2, 2]\n",
       " [6, 6, 6, 114, 19, 45, 130, 59, 6, 46  …  163, 49, 45, 41, 14, 6, 14, 12, 68, 61]\n",
       " [8, 1, 8, 8, 8, 1, 1, 2, 8, 1  …  8, 8, 1, 1, 8, 8, 2, 7, 8, 8]\n",
       " [1507593600, 1526428800, 1500422400, 1442534400, 1499385600, 1501804800, 1517788800, 1472860800, 1472774400, 1472947200  …  1548720000, 1548720000, 1456876800, 1517788800, 1503100800, 1504396800, 1414800000, 1414800000, 1499472000, 1499472000]\n",
       " Any[2017, 2018, 2012, 1994, 1994, 2016, 2017, 1983, 1995, 2013  …  2019, 2019, 2011, 2013, 2017, 2017, 1996, 2008, 1982, 1995]\n",
       " ['f', 'd', 'e', '6', 'c', '2', '7', '1', '1', '4'  …  '8', '2', '7', 'e', '2', 'c', '2', '3', '6', '1']"
      ]
     },
     "execution_count": 20,
     "metadata": {},
     "output_type": "execute_result"
    }
   ],
   "source": [
    "all = [get_this.(releaseDates_1_500,column_name) for column_name in features]"
   ]
  },
  {
   "cell_type": "code",
   "execution_count": 23,
   "metadata": {},
   "outputs": [
    {
     "data": {
      "text/plain": [
       "500-element Array{Char,1}:\n",
       " 'f'\n",
       " 'd'\n",
       " 'e'\n",
       " '6'\n",
       " 'c'\n",
       " '2'\n",
       " '7'\n",
       " '1'\n",
       " '1'\n",
       " '4'\n",
       " '3'\n",
       " 'a'\n",
       " '8'\n",
       " ⋮\n",
       " 'a'\n",
       " 'b'\n",
       " '8'\n",
       " '2'\n",
       " '7'\n",
       " 'e'\n",
       " '2'\n",
       " 'c'\n",
       " '2'\n",
       " '3'\n",
       " '6'\n",
       " '1'"
      ]
     },
     "execution_count": 23,
     "metadata": {},
     "output_type": "execute_result"
    }
   ],
   "source": [
    "releaseDates_infor = DataFrame()\n",
    "releaseDates_infor.id = all[1]\n",
    "releaseDates_infor.game = all[5]\n",
    "releaseDates_infor.platform = all[8]\n",
    "releaseDates_infor.region = all[9]\n",
    "releaseDates_infor.categoty = all[2]\n",
    "releaseDates_infor.created_at = all[3]\n",
    "releaseDates_infor.date = all[4]\n",
    "releaseDates_infor.human = all[6]\n",
    "releaseDates_infor.y = all[11]\n",
    "releaseDates_infor.m = all[7]\n",
    "releaseDates_infor.updated_at = all[10]\n",
    "releaseDates_infor.checksum = all[12]"
   ]
  },
  {
   "cell_type": "code",
   "execution_count": 24,
   "metadata": {},
   "outputs": [
    {
     "data": {
      "text/html": [
       "<table class=\"data-frame\"><thead><tr><th></th><th>id</th><th>game</th><th>platform</th><th>region</th><th>categoty</th><th>created_at</th><th>date</th><th>human</th><th>y</th></tr><tr><th></th><th>Int64</th><th>Int64</th><th>Int64</th><th>Int64</th><th>String</th><th>Int64</th><th>Any</th><th>Char</th><th>Any</th></tr></thead><tbody><p>500 rows × 12 columns (omitted printing of 3 columns)</p><tr><th>1</th><td>117332</td><td>74204</td><td>6</td><td>8</td><td>Null</td><td>1507593600</td><td>1506816000</td><td>'O'</td><td>2017</td></tr><tr><th>2</th><td>152554</td><td>68284</td><td>6</td><td>1</td><td>Null</td><td>1526428800</td><td>1536192000</td><td>'S'</td><td>2018</td></tr><tr><th>3</th><td>97356</td><td>51337</td><td>6</td><td>8</td><td>Null</td><td>1500336000</td><td>1353369600</td><td>'N'</td><td>2012</td></tr><tr><th>4</th><td>36408</td><td>12700</td><td>114</td><td>8</td><td>Null</td><td>1442534400</td><td>788832000</td><td>'1'</td><td>1994</td></tr><tr><th>5</th><td>90445</td><td>42358</td><td>19</td><td>8</td><td>Null</td><td>1499385600</td><td>767750400</td><td>'M'</td><td>1994</td></tr><tr><th>6</th><td>105521</td><td>11561</td><td>45</td><td>1</td><td>Null</td><td>1501718400</td><td>1483142400</td><td>'2'</td><td>2016</td></tr><tr><th>7</th><td>143432</td><td>15469</td><td>130</td><td>1</td><td>Null</td><td>1517616000</td><td>1505347200</td><td>'S'</td><td>2017</td></tr><tr><th>8</th><td>56027</td><td>23341</td><td>59</td><td>2</td><td>Null</td><td>1472860800</td><td>441676800</td><td>'1'</td><td>1983</td></tr><tr><th>9</th><td>56011</td><td>23335</td><td>6</td><td>8</td><td>Null</td><td>1472774400</td><td>820368000</td><td>'1'</td><td>1995</td></tr><tr><th>10</th><td>56085</td><td>1510</td><td>46</td><td>1</td><td>Null</td><td>1472947200</td><td>1371600000</td><td>'J'</td><td>2013</td></tr><tr><th>11</th><td>308</td><td>26</td><td>6</td><td>8</td><td>Null</td><td>1301875200</td><td>867628800</td><td>'J'</td><td>1997</td></tr><tr><th>12</th><td>143501</td><td>37605</td><td>5</td><td>5</td><td>Null</td><td>1517616000</td><td>1210118400</td><td>'M'</td><td>2008</td></tr><tr><th>13</th><td>36570</td><td>12761</td><td>13</td><td>8</td><td>Null</td><td>1442620800</td><td>Null</td><td>'T'</td><td>Null</td></tr><tr><th>14</th><td>148652</td><td>37036</td><td>39</td><td>8</td><td>Null</td><td>1520121600</td><td>1492646400</td><td>'A'</td><td>2017</td></tr><tr><th>15</th><td>298</td><td>110</td><td>6</td><td>8</td><td>Null</td><td>1301875200</td><td>725846400</td><td>'1'</td><td>1993</td></tr><tr><th>16</th><td>20051</td><td>7662</td><td>29</td><td>1</td><td>Null</td><td>1408492800</td><td>788832000</td><td>'1'</td><td>1994</td></tr><tr><th>17</th><td>20059</td><td>7665</td><td>6</td><td>2</td><td>Null</td><td>1408579200</td><td>1083369600</td><td>'M'</td><td>2004</td></tr><tr><th>18</th><td>199658</td><td>134631</td><td>6</td><td>5</td><td>Null</td><td>1591920000</td><td>1548633600</td><td>'J'</td><td>2019</td></tr><tr><th>19</th><td>94065</td><td>21796</td><td>12</td><td>8</td><td>Null</td><td>1500249600</td><td>1230249600</td><td>'D'</td><td>2008</td></tr><tr><th>20</th><td>164241</td><td>114052</td><td>130</td><td>2</td><td>Null</td><td>1548547200</td><td>1546473600</td><td>'J'</td><td>2019</td></tr><tr><th>21</th><td>17090</td><td>6948</td><td>12</td><td>5</td><td>Null</td><td>1400976000</td><td>1254355200</td><td>'O'</td><td>2009</td></tr><tr><th>22</th><td>56102</td><td>23497</td><td>75</td><td>2</td><td>Null</td><td>1472947200</td><td>410140800</td><td>'1'</td><td>1982</td></tr><tr><th>23</th><td>24128</td><td>2411</td><td>53</td><td>5</td><td>Null</td><td>1418515200</td><td>566092800</td><td>'D'</td><td>1987</td></tr><tr><th>24</th><td>24136</td><td>1683</td><td>38</td><td>5</td><td>Null</td><td>1418515200</td><td>1186617600</td><td>'A'</td><td>2007</td></tr><tr><th>25</th><td>26259</td><td>2473</td><td>24</td><td>1</td><td>Null</td><td>1422316800</td><td>1079654400</td><td>'M'</td><td>2004</td></tr><tr><th>26</th><td>26266</td><td>8804</td><td>6</td><td>8</td><td>Null</td><td>1422316800</td><td>851990400</td><td>'1'</td><td>1996</td></tr><tr><th>27</th><td>26284</td><td>8759</td><td>34</td><td>8</td><td>Null</td><td>1422403200</td><td>1327449600</td><td>'J'</td><td>2012</td></tr><tr><th>28</th><td>106286</td><td>7667</td><td>9</td><td>1</td><td>Null</td><td>1501718400</td><td>1391731200</td><td>'F'</td><td>2014</td></tr><tr><th>29</th><td>90291</td><td>5122</td><td>5</td><td>2</td><td>Null</td><td>1499385600</td><td>1329091200</td><td>'F'</td><td>2012</td></tr><tr><th>30</th><td>106291</td><td>65</td><td>9</td><td>2</td><td>Null</td><td>1501718400</td><td>1271894400</td><td>'A'</td><td>2010</td></tr><tr><th>&vellip;</th><td>&vellip;</td><td>&vellip;</td><td>&vellip;</td><td>&vellip;</td><td>&vellip;</td><td>&vellip;</td><td>&vellip;</td><td>&vellip;</td><td>&vellip;</td></tr></tbody></table>"
      ],
      "text/latex": [
       "\\begin{tabular}{r|cccccccccc}\n",
       "\t& id & game & platform & region & categoty & created\\_at & date & human & y & \\\\\n",
       "\t\\hline\n",
       "\t& Int64 & Int64 & Int64 & Int64 & String & Int64 & Any & Char & Any & \\\\\n",
       "\t\\hline\n",
       "\t1 & 117332 & 74204 & 6 & 8 & Null & 1507593600 & 1506816000 & 'O' & 2017 & $\\dots$ \\\\\n",
       "\t2 & 152554 & 68284 & 6 & 1 & Null & 1526428800 & 1536192000 & 'S' & 2018 & $\\dots$ \\\\\n",
       "\t3 & 97356 & 51337 & 6 & 8 & Null & 1500336000 & 1353369600 & 'N' & 2012 & $\\dots$ \\\\\n",
       "\t4 & 36408 & 12700 & 114 & 8 & Null & 1442534400 & 788832000 & '1' & 1994 & $\\dots$ \\\\\n",
       "\t5 & 90445 & 42358 & 19 & 8 & Null & 1499385600 & 767750400 & 'M' & 1994 & $\\dots$ \\\\\n",
       "\t6 & 105521 & 11561 & 45 & 1 & Null & 1501718400 & 1483142400 & '2' & 2016 & $\\dots$ \\\\\n",
       "\t7 & 143432 & 15469 & 130 & 1 & Null & 1517616000 & 1505347200 & 'S' & 2017 & $\\dots$ \\\\\n",
       "\t8 & 56027 & 23341 & 59 & 2 & Null & 1472860800 & 441676800 & '1' & 1983 & $\\dots$ \\\\\n",
       "\t9 & 56011 & 23335 & 6 & 8 & Null & 1472774400 & 820368000 & '1' & 1995 & $\\dots$ \\\\\n",
       "\t10 & 56085 & 1510 & 46 & 1 & Null & 1472947200 & 1371600000 & 'J' & 2013 & $\\dots$ \\\\\n",
       "\t11 & 308 & 26 & 6 & 8 & Null & 1301875200 & 867628800 & 'J' & 1997 & $\\dots$ \\\\\n",
       "\t12 & 143501 & 37605 & 5 & 5 & Null & 1517616000 & 1210118400 & 'M' & 2008 & $\\dots$ \\\\\n",
       "\t13 & 36570 & 12761 & 13 & 8 & Null & 1442620800 & Null & 'T' & Null & $\\dots$ \\\\\n",
       "\t14 & 148652 & 37036 & 39 & 8 & Null & 1520121600 & 1492646400 & 'A' & 2017 & $\\dots$ \\\\\n",
       "\t15 & 298 & 110 & 6 & 8 & Null & 1301875200 & 725846400 & '1' & 1993 & $\\dots$ \\\\\n",
       "\t16 & 20051 & 7662 & 29 & 1 & Null & 1408492800 & 788832000 & '1' & 1994 & $\\dots$ \\\\\n",
       "\t17 & 20059 & 7665 & 6 & 2 & Null & 1408579200 & 1083369600 & 'M' & 2004 & $\\dots$ \\\\\n",
       "\t18 & 199658 & 134631 & 6 & 5 & Null & 1591920000 & 1548633600 & 'J' & 2019 & $\\dots$ \\\\\n",
       "\t19 & 94065 & 21796 & 12 & 8 & Null & 1500249600 & 1230249600 & 'D' & 2008 & $\\dots$ \\\\\n",
       "\t20 & 164241 & 114052 & 130 & 2 & Null & 1548547200 & 1546473600 & 'J' & 2019 & $\\dots$ \\\\\n",
       "\t21 & 17090 & 6948 & 12 & 5 & Null & 1400976000 & 1254355200 & 'O' & 2009 & $\\dots$ \\\\\n",
       "\t22 & 56102 & 23497 & 75 & 2 & Null & 1472947200 & 410140800 & '1' & 1982 & $\\dots$ \\\\\n",
       "\t23 & 24128 & 2411 & 53 & 5 & Null & 1418515200 & 566092800 & 'D' & 1987 & $\\dots$ \\\\\n",
       "\t24 & 24136 & 1683 & 38 & 5 & Null & 1418515200 & 1186617600 & 'A' & 2007 & $\\dots$ \\\\\n",
       "\t25 & 26259 & 2473 & 24 & 1 & Null & 1422316800 & 1079654400 & 'M' & 2004 & $\\dots$ \\\\\n",
       "\t26 & 26266 & 8804 & 6 & 8 & Null & 1422316800 & 851990400 & '1' & 1996 & $\\dots$ \\\\\n",
       "\t27 & 26284 & 8759 & 34 & 8 & Null & 1422403200 & 1327449600 & 'J' & 2012 & $\\dots$ \\\\\n",
       "\t28 & 106286 & 7667 & 9 & 1 & Null & 1501718400 & 1391731200 & 'F' & 2014 & $\\dots$ \\\\\n",
       "\t29 & 90291 & 5122 & 5 & 2 & Null & 1499385600 & 1329091200 & 'F' & 2012 & $\\dots$ \\\\\n",
       "\t30 & 106291 & 65 & 9 & 2 & Null & 1501718400 & 1271894400 & 'A' & 2010 & $\\dots$ \\\\\n",
       "\t$\\dots$ & $\\dots$ & $\\dots$ & $\\dots$ & $\\dots$ & $\\dots$ & $\\dots$ & $\\dots$ & $\\dots$ & $\\dots$ &  \\\\\n",
       "\\end{tabular}\n"
      ],
      "text/plain": [
       "500×12 DataFrame. Omitted printing of 6 columns\n",
       "│ Row │ id     │ game   │ platform │ region │ categoty │ created_at │\n",
       "│     │ \u001b[90mInt64\u001b[39m  │ \u001b[90mInt64\u001b[39m  │ \u001b[90mInt64\u001b[39m    │ \u001b[90mInt64\u001b[39m  │ \u001b[90mString\u001b[39m   │ \u001b[90mInt64\u001b[39m      │\n",
       "├─────┼────────┼────────┼──────────┼────────┼──────────┼────────────┤\n",
       "│ 1   │ 117332 │ 74204  │ 6        │ 8      │ Null     │ 1507593600 │\n",
       "│ 2   │ 152554 │ 68284  │ 6        │ 1      │ Null     │ 1526428800 │\n",
       "│ 3   │ 97356  │ 51337  │ 6        │ 8      │ Null     │ 1500336000 │\n",
       "│ 4   │ 36408  │ 12700  │ 114      │ 8      │ Null     │ 1442534400 │\n",
       "│ 5   │ 90445  │ 42358  │ 19       │ 8      │ Null     │ 1499385600 │\n",
       "│ 6   │ 105521 │ 11561  │ 45       │ 1      │ Null     │ 1501718400 │\n",
       "│ 7   │ 143432 │ 15469  │ 130      │ 1      │ Null     │ 1517616000 │\n",
       "│ 8   │ 56027  │ 23341  │ 59       │ 2      │ Null     │ 1472860800 │\n",
       "│ 9   │ 56011  │ 23335  │ 6        │ 8      │ Null     │ 1472774400 │\n",
       "│ 10  │ 56085  │ 1510   │ 46       │ 1      │ Null     │ 1472947200 │\n",
       "⋮\n",
       "│ 490 │ 155310 │ 76813  │ 6        │ 8      │ Null     │ 1530921600 │\n",
       "│ 491 │ 164298 │ 102333 │ 163      │ 8      │ Null     │ 1548720000 │\n",
       "│ 492 │ 164295 │ 25871  │ 49       │ 8      │ Null     │ 1548720000 │\n",
       "│ 493 │ 47486  │ 10170  │ 45       │ 1      │ Null     │ 1456876800 │\n",
       "│ 494 │ 139519 │ 5313   │ 41       │ 1      │ Null     │ 1517529600 │\n",
       "│ 495 │ 109557 │ 54492  │ 14       │ 8      │ Null     │ 1503014400 │\n",
       "│ 496 │ 111574 │ 55356  │ 6        │ 8      │ Null     │ 1504396800 │\n",
       "│ 497 │ 21658  │ 616    │ 14       │ 2      │ Null     │ 1414800000 │\n",
       "│ 498 │ 21651  │ 7047   │ 12       │ 7      │ Null     │ 1414800000 │\n",
       "│ 499 │ 91652  │ 40922  │ 68       │ 8      │ Null     │ 1499472000 │\n",
       "│ 500 │ 91632  │ 40861  │ 61       │ 8      │ Null     │ 1499472000 │"
      ]
     },
     "execution_count": 24,
     "metadata": {},
     "output_type": "execute_result"
    }
   ],
   "source": [
    "releaseDates_infor"
   ]
  },
  {
   "cell_type": "code",
   "execution_count": 28,
   "metadata": {},
   "outputs": [
    {
     "data": {
      "text/plain": [
       "\"/Users/mengzhang/projects/github/wrangling_project/game_releaseDates_test.csv\""
      ]
     },
     "execution_count": 28,
     "metadata": {},
     "output_type": "execute_result"
    }
   ],
   "source": [
    "CSV.write(\"/Users/mengzhang/projects/github/wrangling_project/game_releaseDates_test.csv\", releaseDates_infor)"
   ]
  },
  {
   "cell_type": "code",
   "execution_count": null,
   "metadata": {},
   "outputs": [],
   "source": []
  }
 ],
 "metadata": {
  "kernelspec": {
   "display_name": "Julia 1.4.2",
   "language": "julia",
   "name": "julia-1.4"
  },
  "language_info": {
   "file_extension": ".jl",
   "mimetype": "application/julia",
   "name": "julia",
   "version": "1.4.2"
  }
 },
 "nbformat": 4,
 "nbformat_minor": 4
}
