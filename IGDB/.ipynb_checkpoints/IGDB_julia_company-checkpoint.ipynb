{
 "cells": [
  {
   "cell_type": "code",
   "execution_count": 1,
   "metadata": {},
   "outputs": [],
   "source": [
    "# import library\n",
    "using HTTP\n",
    "using DataFrames\n",
    "using JSON2\n",
    "using CSV"
   ]
  },
  {
   "cell_type": "code",
   "execution_count": 4,
   "metadata": {},
   "outputs": [
    {
     "data": {
      "text/plain": [
       "\"&grant_type=client_credentials\""
      ]
     },
     "execution_count": 4,
     "metadata": {},
     "output_type": "execute_result"
    }
   ],
   "source": [
    "# define the html components\n",
    "\n",
    "access_token_url = \"https://id.twitch.tv/oauth2/token?\"\n",
    "twitch_client_id = \"nkhild64eit6lxke8b9edmml63963g\"\n",
    "twitch_client_secret = \"ai1hob8i3g4r5gc5tv8ij4p68wrbtq\"\n",
    "grant_type = \"&grant_type=client_credentials\""
   ]
  },
  {
   "cell_type": "code",
   "execution_count": 5,
   "metadata": {},
   "outputs": [
    {
     "data": {
      "text/plain": [
       "\"https://id.twitch.tv/oauth2/token?client_id=nkhild64eit6lxke8b9edmml63963g&client_secret=ai1hob8i3g4r5gc5tv8ij4p68wrbtq&grant_type=client_credentials\""
      ]
     },
     "execution_count": 5,
     "metadata": {},
     "output_type": "execute_result"
    }
   ],
   "source": [
    "# define url for IGDB game information scrapping\n",
    "url = access_token_url *\n",
    "  \"client_id=\" *\n",
    "  twitch_client_id *\n",
    "  \"&client_secret=\" *\n",
    "  twitch_client_secret *\n",
    "  grant_type"
   ]
  },
  {
   "cell_type": "code",
   "execution_count": 6,
   "metadata": {},
   "outputs": [
    {
     "data": {
      "text/plain": [
       "HTTP.Messages.Response:\n",
       "\"\"\"\n",
       "HTTP/1.1 200 OK\r\n",
       "Date: Sun, 11 Oct 2020 10:31:26 GMT\r\n",
       "Content-Type: application/json\r\n",
       "Content-Length: 93\r\n",
       "Connection: keep-alive\r\n",
       "Server: nginx/1.14.1\r\n",
       "Access-Control-Allow-Origin: *\r\n",
       "X-Ctxlog-Logid: 1-5f82defe-42d02f65774ed6f90172695c\r\n",
       "\r\n",
       "{\"access_token\":\"at545v4msrqyu69m9fyan8k0janup5\",\"expires_in\":5011380,\"token_type\":\"bearer\"}\n",
       "\"\"\""
      ]
     },
     "execution_count": 6,
     "metadata": {},
     "output_type": "execute_result"
    }
   ],
   "source": [
    "response_from_server = HTTP.post(url)"
   ]
  },
  {
   "cell_type": "code",
   "execution_count": 7,
   "metadata": {},
   "outputs": [
    {
     "data": {
      "text/plain": [
       "(access_token = \"at545v4msrqyu69m9fyan8k0janup5\", expires_in = 5011380, token_type = \"bearer\")"
      ]
     },
     "execution_count": 7,
     "metadata": {},
     "output_type": "execute_result"
    }
   ],
   "source": [
    "# by using the JSON2.read(IOBuffer) function help to translate the web string into json format\n",
    "access_token, expires_in, token_type = JSON2.read(IOBuffer(response_from_server.body))"
   ]
  },
  {
   "cell_type": "code",
   "execution_count": 8,
   "metadata": {},
   "outputs": [
    {
     "data": {
      "text/plain": [
       "\"at545v4msrqyu69m9fyan8k0janup5\""
      ]
     },
     "execution_count": 8,
     "metadata": {},
     "output_type": "execute_result"
    }
   ],
   "source": [
    "# print the token\n",
    "access_token"
   ]
  },
  {
   "cell_type": "code",
   "execution_count": 9,
   "metadata": {},
   "outputs": [
    {
     "data": {
      "text/plain": [
       "Dict{String,String} with 2 entries:\n",
       "  \"Authorization\" => \"Bearer at545v4msrqyu69m9fyan8k0janup5\"\n",
       "  \"Client-ID\"     => \"nkhild64eit6lxke8b9edmml63963g\""
      ]
     },
     "execution_count": 9,
     "metadata": {},
     "output_type": "execute_result"
    }
   ],
   "source": [
    "# difine the auth_dictionary\n",
    "auth_dictionary = Dict(\"Client-ID\" => twitch_client_id,\n",
    "                        \"Authorization\" => \"Bearer \" * access_token)"
   ]
  },
  {
   "cell_type": "code",
   "execution_count": 10,
   "metadata": {},
   "outputs": [
    {
     "data": {
      "text/plain": [
       "\"fields *; limit 500;\""
      ]
     },
     "execution_count": 10,
     "metadata": {},
     "output_type": "execute_result"
    }
   ],
   "source": [
    "# define the scrap target on the web page\n",
    "body_company = \"fields *; limit 500;\""
   ]
  },
  {
   "cell_type": "code",
   "execution_count": 17,
   "metadata": {},
   "outputs": [
    {
     "data": {
      "text/plain": [
       "HTTP.Messages.Response:\n",
       "\"\"\"\n",
       "HTTP/1.1 200 OK\r\n",
       "Date: Sun, 11 Oct 2020 10:32:21 GMT\r\n",
       "Content-Type: application/json;charset=utf-8\r\n",
       "Content-Length: 249208\r\n",
       "Connection: keep-alive\r\n",
       "Set-Cookie: __cfduid=d9f24cccc50eedab12662f2b772c9abfd1602412340; expires=Tue, 10-Nov-20 10:32:20 GMT; path=/; domain=.igdb.com; HttpOnly; SameSite=Lax; Secure\r\n",
       "x-amzn-RequestId: 3f649426-2067-4818-89d1-4fbe09a961a4\r\n",
       "x-amz-apigw-id: UPfQXF6KPHcF7wQ=\r\n",
       "x-amzn-Remapped-Server: Javalin\r\n",
       "X-Count: 27818\r\n",
       "x-amzn-Remapped-Date: Sun, 11 Oct 2020 10:32:21 GMT\r\n",
       "X-Cache: Miss from cloudfront\r\n",
       "Via: 1.1 51249fa478895b699bf6a0fb2431c2ca.cloudfront.net (CloudFront)\r\n",
       "X-Amz-Cf-Pop: AKL50-C1\r\n",
       "X-Amz-Cf-Id: Yk6x9OC2yXyUWwRVNU_juuhmINVjHkNDdh6em99qxkN7qEGB8bNjSg==\r\n",
       "CF-Cache-Status: DYNAMIC\r\n",
       "cf-request-id: 05b8d0fe040000fb98e5178200000001\r\n",
       "Expect-CT: max-age=604800, report-uri=\"https://report-uri.cloudflare.com/cdn-cgi/beacon/expect-ct\"\r\n",
       "Strict-Transport-Security: max-age=15552000; includeSubDomains; preload\r\n",
       "X-Content-Type-Options: nosniff\r\n",
       "Server: cloudflare\r\n",
       "CF-RAY: 5e07eaa9a916fb98-AKL\r\n",
       "\r\n",
       "[\n",
       "  {\n",
       "    \"id\": 13710,\n",
       "    \"change_date_category\": 7,\n",
       "    \"country\": 752,\n",
       "    \"created_at\": 1508976000,\n",
       "    \"description\": \"Tomolo Games develope fun and simple mobile games!\",\n",
       "    \"developed\": [\n",
       "      74974,\n",
       "      74975,\n",
       "      74977\n",
       "    ],\n",
       "    \"logo\": 1396,\n",
       "    \"name\": \"Tomolo Games\",\n",
       "    \"slug\": \"tomolo-games\",\n",
       "    \"start_date\": 1494633600,\n",
       "    \"start_date_category\": 0,\n",
       "    \"updated_at\": 1508976000,\n",
       "    \"url\": \"https://www.igdb.com/companies/tomolo-games\",\n",
       "    \"websites\": [\n",
       "      1089\n",
       "    ],\n",
       "    \"checksum\": \"656407de-863f-13bc-82c0-16079a13c964\"\n",
       "  },\n",
       "  {\n",
       "    \"id\": 15094,\n",
       "    \"change_date_category\": 7,\n",
       "    \"country\": 233,\n",
       "    \"created_at\": 1520899200,\n",
       "    \"developed\": [\n",
       "      26472\n",
       "    ],\n",
       "    \"name\": \"ZA/UM\",\n",
       "    \"published\": [\n",
       "      26472\n",
       "    ],\n",
       "    \"slug\": \"za-slash-um\",\n",
       "    \"start_date_category\": 7,\n",
       "    \"updated_at\": 1573948800,\n",
       "    \"url\": \"https://www.igdb.com/companies/za-slash-um\",\n",
       "    \"websites\": [\n",
       "      1944,\n",
       "      3431\n",
       "    ],\n",
       "    \"checksum\": \"d32b01ce-2272-3bf2-e809-1f16cf5c8\n",
       "⋮\n",
       "249208-byte body\n",
       "\"\"\""
      ]
     },
     "execution_count": 17,
     "metadata": {},
     "output_type": "execute_result"
    }
   ],
   "source": [
    "# Using HTTP.post(\"path\") to scrap the relasase date web information\n",
    "companies_test = HTTP.post(\"https://api.igdb.com/v4/companies\",\n",
    "          auth_dictionary,\n",
    "          body_company)"
   ]
  },
  {
   "cell_type": "code",
   "execution_count": 18,
   "metadata": {},
   "outputs": [
    {
     "data": {
      "text/plain": [
       "500-element Array{Any,1}:\n",
       " (id = 13710, change_date_category = 7, country = 752, created_at = 1508976000, description = \"Tomolo Games develope fun and simple mobile games!\", developed = Any[74974, 74975, 74977], logo = 1396, name = \"Tomolo Games\", slug = \"tomolo-games\", start_date = 1494633600, start_date_category = 0, updated_at = 1508976000, url = \"https://www.igdb.com/companies/tomolo-games\", websites = Any[1089], checksum = \"656407de-863f-13bc-82c0-16079a13c964\")\n",
       " (id = 15094, change_date_category = 7, country = 233, created_at = 1520899200, developed = Any[26472], name = \"ZA/UM\", published = Any[26472], slug = \"za-slash-um\", start_date_category = 7, updated_at = 1573948800, url = \"https://www.igdb.com/companies/za-slash-um\", websites = Any[1944, 3431], checksum = \"d32b01ce-2272-3bf2-e809-1f16cf5c86d9\")\n",
       " (id = 17841, change_date_category = 7, country = 246, created_at = 1548720000, developed = Any[114715], name = \"Moido Games\", slug = \"moido-games\", start_date_category = 7, updated_at = 1548720000, url = \"https://www.igdb.com/companies/moido-games\", websites = Any[1683], checksum = \"e48ef63d-fdc0-35a2-bbc6-db61277e2c25\")\n",
       " (id = 16305, change_date_category = 7, country = 208, created_at = 1535673600, description = \"PortaPlay is an independent developer, residing in the center of Copenhagen, Denmark, \\n \\nThe company was founded in 2017, working with social networks and multiplayer engines for Java phones. As the financial crisis hit and the technology changed (Java=> IOS+Android), PortaPlay changed focus on making cross-platform gaming experiences to make game for change. Working mostly with NGO's, environment and social awareness, learning, education facilities, challenged kids and similar. \\n \\nPortaPlay upcoming games combines serious storytelling with challenging gameplay. \\nGames about war and conflicts, but told from the perspectives of the men and women, experiencing them. \\n \\nOur goal for the future, is to be recognized as one of the top companies, in combining serious stories, written/oral eyewitness testimonies and gamedesign.\", developed = Any[107175], logo = 1748, name = \"PortaPlay\", slug = \"portaplay\", start_date = 1181952000, start_date_category = 0, updated_at = 1536019200, url = \"https://www.igdb.com/companies/portaplay\", websites = Any[1323], checksum = \"5d28752a-62f8-f617-f0d5-6ac59c0efa6e\")\n",
       " (id = 4270, change_date_category = 7, country = 392, created_at = 1418428800, description = \"T's Music (ティーズ ミュージック Tiizu Myuujikku) is a group of Japanese composers and sound designers who work on audio for video games.\", logo = 3304, name = \"T's Music\", slug = \"ts-music\", start_date = -62135683200, start_date_category = 2, updated_at = 1576627200, url = \"https://www.igdb.com/companies/ts-music\", websites = Any[3517], checksum = \"238c892a-7f60-78f2-415a-7f114ccda898\")\n",
       " (id = 11327, change_date_category = 7, country = 578, created_at = 1476748800, developed = Any[18688], name = \"Perfectly Paranormal\", slug = \"perfectly-paranormal\", start_date_category = 7, updated_at = 1587168000, url = \"https://www.igdb.com/companies/perfectly-paranormal\", checksum = \"8ac16bc2-96bb-b8d5-cb98-21e3107c8cde\")\n",
       " (id = 11203, change_date_category = 7, country = 643, created_at = 1475798400, developed = Any[24825, 26492, 27416, 27417, 29099, 38784, 54810, 76121, 76379, 86571, 91315, 101515, 102389, 105879, 110911, 111200, 113218, 117109, 119469], logo = 1597, name = \"Quiet River\", published = Any[24825, 26492, 27416, 27417, 29099, 31657, 32853, 33533, 38784, 54810  …  86571, 91315, 101515, 102389, 105879, 110911, 111200, 113218, 117109, 119469], slug = \"quiet-river\", start_date_category = 7, updated_at = 1562803200, url = \"https://www.igdb.com/companies/quiet-river\", checksum = \"66a51482-5b58-a1be-6aba-4b2dcbb97a1f\")\n",
       " (id = 15775, change_date_category = 7, created_at = 1529625600, developed = Any[104233, 104237], name = \"Vertical Reach\", published = Any[89168, 104233], slug = \"vertical-reach\", start_date_category = 7, updated_at = 1552348800, url = \"https://www.igdb.com/companies/vertical-reach\", websites = Any[1273], checksum = \"26761787-15a0-ba4c-f303-e072f34ab560\")\n",
       " (id = 558, change_date_category = 0, created_at = 1317686400, developed = Any[5793, 19192, 19194, 71752, 78009], name = \"FASA Studio\", slug = \"fasa-studio\", start_date_category = 0, updated_at = 1468627200, url = \"https://www.igdb.com/companies/fasa-studio\", checksum = \"2f6f27c9-4e16-fa18-ebdf-0aff884e7f57\")\n",
       " (id = 22479, change_date_category = 7, created_at = 1573344000, name = \"Revival Multimedia\", published = Any[80186], slug = \"revival-multimedia\", start_date_category = 7, updated_at = 1573430400, url = \"https://www.igdb.com/companies/revival-multimedia\", checksum = \"908bff8b-04d7-3a21-d94c-883b8a760f77\")\n",
       " (id = 14536, change_date_category = 7, created_at = 1517011200, developed = Any[48933, 80596, 81523], name = \"Tose CO., LTD\", slug = \"tose-co-dot-ltd\", start_date_category = 7, updated_at = 1557360000, url = \"https://www.igdb.com/companies/tose-co-dot-ltd\", checksum = \"58af214d-6686-b718-510a-2fa181a45b72\")\n",
       " (id = 1573, change_date_category = 0, created_at = 1384905600, name = \"Duff Studios\", slug = \"duff-studios\", start_date_category = 0, updated_at = 1384905600, url = \"https://www.igdb.com/companies/duff-studios\", checksum = \"4a0b2830-9fff-db3a-0dc0-1c7c234facb9\")\n",
       " (id = 1580, change_date_category = 0, created_at = 1384905600, name = \"Kerner Complex Security\", slug = \"kerner-complex-security\", start_date_category = 0, updated_at = 1384905600, url = \"https://www.igdb.com/companies/kerner-complex-security\", checksum = \"4045a2ff-d730-bc37-f157-307b8aef11e1\")\n",
       " ⋮\n",
       " (id = 15349, change_date_category = 7, created_at = 1523836800, developed = Any[96401], name = \"Stars Ashes\", slug = \"stars-ashes\", start_date_category = 7, updated_at = 1523836800, url = \"https://www.igdb.com/companies/stars-ashes\", checksum = \"4101341a-487d-f383-4caf-3ea92bcdd488\")\n",
       " (id = 23362, change_date_category = 7, created_at = 1578614400, developed = Any[128140], name = \"Jint Game\", published = Any[128140], slug = \"jint-game\", start_date_category = 7, updated_at = 1578614400, url = \"https://www.igdb.com/companies/jint-game\", checksum = \"7233c4cc-f8de-9aea-177d-319b21809ee7\")\n",
       " (id = 15372, change_date_category = 7, created_at = 1524096000, developed = Any[96593], name = \"Dumb Luck Games\", slug = \"dumb-luck-games\", start_date_category = 7, updated_at = 1524096000, url = \"https://www.igdb.com/companies/dumb-luck-games\", checksum = \"1702bb48-ce01-5dbb-7e85-77d229ded6cd\")\n",
       " (id = 5435, change_date_category = 7, created_at = 1430697600, name = \"Pacific Ocean Post\", slug = \"pacific-ocean-post\", start_date_category = 7, updated_at = 1430697600, url = \"https://www.igdb.com/companies/pacific-ocean-post\", checksum = \"b297fa69-c55a-8919-4ee8-b00b9e40eda2\")\n",
       " (id = 14450, change_date_category = 7, created_at = 1516320000, developed = Any[79318, 94672], name = \"PLBM Games\", published = Any[79318], slug = \"plbm-games\", start_date_category = 7, updated_at = 1554249600, url = \"https://www.igdb.com/companies/plbm-games\", checksum = \"0b6960ac-7a90-5d6d-1ee2-2d9c4d7c8d14\")\n",
       " (id = 19539, change_date_category = 7, created_at = 1555977600, name = \"manQ\", slug = \"manq\", start_date_category = 7, updated_at = 1555977600, url = \"https://www.igdb.com/companies/manq\", checksum = \"46edc636-a26f-6702-7999-aba4d9569dc2\")\n",
       " (id = 18543, change_date_category = 7, created_at = 1552608000, developed = Any[76375], name = \"MadameBerry Games LLC\", slug = \"madameberry-games-llc\", start_date_category = 7, updated_at = 1552694400, url = \"https://www.igdb.com/companies/madameberry-games-llc\", checksum = \"4ec79d13-a994-689f-bb4a-4240162a99ae\")\n",
       " (id = 5590, change_date_category = 7, created_at = 1431993600, name = \"Studio Takuranke\", slug = \"studio-takuranke\", start_date_category = 7, updated_at = 1431993600, url = \"https://www.igdb.com/companies/studio-takuranke\", checksum = \"7071640e-8bfb-4aba-5e90-4d2823477f87\")\n",
       " (id = 16600, change_date_category = 7, created_at = 1538438400, name = \"Ingrem Inc.\", slug = \"ingrem-inc\", start_date_category = 7, updated_at = 1538438400, url = \"https://www.igdb.com/companies/ingrem-inc\", checksum = \"cd1d267d-a608-bc61-f1c7-b4c44b66302c\")\n",
       " (id = 12892, change_date_category = 7, created_at = 1496880000, name = \"American Action AB\", published = Any[36867, 37070], slug = \"american-action-ab\", start_date_category = 7, updated_at = 1497225600, url = \"https://www.igdb.com/companies/american-action-ab\", checksum = \"5eaaaa6c-cee3-931a-9e66-0ae4a99b4e4e\")\n",
       " (id = 5591, change_date_category = 7, created_at = 1431993600, name = \"Sunrise\", slug = \"sunrise\", start_date_category = 7, updated_at = 1431993600, url = \"https://www.igdb.com/companies/sunrise\", checksum = \"972545ac-883f-1a48-40b2-2588dc314772\")\n",
       " (id = 16602, change_date_category = 7, created_at = 1538438400, name = \"Info Enterterainment\", slug = \"info-enterterainment\", start_date_category = 7, updated_at = 1538438400, url = \"https://www.igdb.com/companies/info-enterterainment\", checksum = \"cae8034e-fbc3-6f3a-468e-9c12394e82bb\")"
      ]
     },
     "execution_count": 18,
     "metadata": {},
     "output_type": "execute_result"
    }
   ],
   "source": [
    "companies_1_500 = JSON2.read(IOBuffer(companies_test.body))"
   ]
  },
  {
   "cell_type": "code",
   "execution_count": 20,
   "metadata": {},
   "outputs": [
    {
     "data": {
      "text/plain": [
       "15-element Array{Symbol,1}:\n",
       " :id\n",
       " :change_date_category\n",
       " :country\n",
       " :created_at\n",
       " :description\n",
       " :developed\n",
       " :logo\n",
       " :name\n",
       " :slug\n",
       " :start_date\n",
       " :start_date_category\n",
       " :updated_at\n",
       " :url\n",
       " :websites\n",
       " :checksum"
      ]
     },
     "execution_count": 20,
     "metadata": {},
     "output_type": "execute_result"
    }
   ],
   "source": [
    "\n",
    "features = [:id, \n",
    "    :change_date_category, \n",
    "    :country,\n",
    "    :created_at, \n",
    "    :description,\n",
    "    :developed,\n",
    "    :logo,\n",
    "    :name, \n",
    "    :slug, \n",
    "    :start_date,\n",
    "    :start_date_category, \n",
    "    :updated_at, \n",
    "    :url,\n",
    "    :websites,\n",
    "    :checksum\n",
    "    ]"
   ]
  },
  {
   "cell_type": "code",
   "execution_count": 21,
   "metadata": {},
   "outputs": [
    {
     "data": {
      "text/plain": [
       "get_this (generic function with 1 method)"
      ]
     },
     "execution_count": 21,
     "metadata": {},
     "output_type": "execute_result"
    }
   ],
   "source": [
    "function get_this(x,column_name)\n",
    "    try\n",
    "    result = getindex(x,column_name)\n",
    "    return result[1]\n",
    "    catch\n",
    "        return \"Null\"\n",
    "    end\n",
    "end"
   ]
  },
  {
   "cell_type": "code",
   "execution_count": 30,
   "metadata": {},
   "outputs": [
    {
     "data": {
      "text/plain": [
       "15-element Array{Array{T,1} where T,1}:\n",
       " [13710, 15094, 17841, 16305, 4270, 11327, 11203, 15775, 558, 22479  …  15372, 5435, 14450, 19539, 18543, 5590, 16600, 12892, 5591, 16602]\n",
       " [7, 7, 7, 7, 7, 7, 7, 7, 0, 7  …  7, 7, 7, 7, 7, 7, 7, 7, 7, 7]\n",
       " Any[752, 233, 246, 208, 392, 578, 643, \"Null\", \"Null\", \"Null\"  …  \"Null\", \"Null\", \"Null\", \"Null\", \"Null\", \"Null\", \"Null\", \"Null\", \"Null\", \"Null\"]\n",
       " [1508976000, 1520899200, 1548720000, 1535673600, 1418428800, 1476748800, 1475798400, 1529625600, 1317686400, 1573344000  …  1524096000, 1430697600, 1516320000, 1555977600, 1552608000, 1431993600, 1538438400, 1496880000, 1431993600, 1538438400]\n",
       " Any['T', \"Null\", \"Null\", 'P', 'T', \"Null\", \"Null\", \"Null\", \"Null\", \"Null\"  …  \"Null\", \"Null\", \"Null\", \"Null\", \"Null\", \"Null\", \"Null\", \"Null\", \"Null\", \"Null\"]\n",
       " Any[74974, 26472, 114715, 107175, \"Null\", 18688, 24825, 104233, 5793, \"Null\"  …  96593, \"Null\", 79318, \"Null\", 76375, \"Null\", \"Null\", \"Null\", \"Null\", \"Null\"]\n",
       " Any[1396, \"Null\", \"Null\", 1748, 3304, \"Null\", 1597, \"Null\", \"Null\", \"Null\"  …  \"Null\", \"Null\", \"Null\", \"Null\", \"Null\", \"Null\", \"Null\", \"Null\", \"Null\", \"Null\"]\n",
       " ['T', 'Z', 'M', 'P', 'T', 'P', 'Q', 'V', 'F', 'R'  …  'D', 'P', 'P', 'm', 'M', 'S', 'I', 'A', 'S', 'I']\n",
       " ['t', 'z', 'm', 'p', 't', 'p', 'q', 'v', 'f', 'r'  …  'd', 'p', 'p', 'm', 'm', 's', 'i', 'a', 's', 'i']\n",
       " Any[1494633600, \"Null\", \"Null\", 1181952000, -62135683200, \"Null\", \"Null\", \"Null\", \"Null\", \"Null\"  …  \"Null\", \"Null\", \"Null\", \"Null\", \"Null\", \"Null\", \"Null\", \"Null\", \"Null\", \"Null\"]\n",
       " [0, 7, 7, 0, 2, 7, 7, 7, 0, 7  …  7, 7, 7, 7, 7, 7, 7, 7, 7, 7]\n",
       " [1508976000, 1573948800, 1548720000, 1536019200, 1576627200, 1587168000, 1562803200, 1552348800, 1468627200, 1573430400  …  1524096000, 1430697600, 1554249600, 1555977600, 1552694400, 1431993600, 1538438400, 1497225600, 1431993600, 1538438400]\n",
       " ['h', 'h', 'h', 'h', 'h', 'h', 'h', 'h', 'h', 'h'  …  'h', 'h', 'h', 'h', 'h', 'h', 'h', 'h', 'h', 'h']\n",
       " Any[1089, 1944, 1683, 1323, 3517, \"Null\", \"Null\", 1273, \"Null\", \"Null\"  …  \"Null\", \"Null\", \"Null\", \"Null\", \"Null\", \"Null\", \"Null\", \"Null\", \"Null\", \"Null\"]\n",
       " ['6', 'd', 'e', '5', '2', '8', '6', '2', '2', '9'  …  '1', 'b', '0', '4', '4', '7', 'c', '5', '9', 'c']"
      ]
     },
     "execution_count": 30,
     "metadata": {},
     "output_type": "execute_result"
    }
   ],
   "source": [
    "all = [get_this.(companies_1_500,column_name) for column_name in features]"
   ]
  },
  {
   "cell_type": "code",
   "execution_count": 31,
   "metadata": {},
   "outputs": [
    {
     "data": {
      "text/plain": [
       "500-element Array{Char,1}:\n",
       " '6'\n",
       " 'd'\n",
       " 'e'\n",
       " '5'\n",
       " '2'\n",
       " '8'\n",
       " '6'\n",
       " '2'\n",
       " '2'\n",
       " '9'\n",
       " '5'\n",
       " '4'\n",
       " '4'\n",
       " ⋮\n",
       " '4'\n",
       " '7'\n",
       " '1'\n",
       " 'b'\n",
       " '0'\n",
       " '4'\n",
       " '4'\n",
       " '7'\n",
       " 'c'\n",
       " '5'\n",
       " '9'\n",
       " 'c'"
      ]
     },
     "execution_count": 31,
     "metadata": {},
     "output_type": "execute_result"
    }
   ],
   "source": [
    "companies_infor = DataFrame()\n",
    "companies_infor.id = all[1]\n",
    "companies_infor.change_date_category = all[2]\n",
    "companies_infor.country = all[3]\n",
    "companies_infor.created_at = all[4]\n",
    "companies_infor.description  = all[5]\n",
    "companies_infor.developed  = all[6]\n",
    "companies_infor.logo  = all[7]\n",
    "companies_infor.name  = all[8]\n",
    "companies_infor.slug  = all[9]\n",
    "companies_infor.start_date  = all[10]\n",
    "companies_infor.start_date_category  = all[11] \n",
    "companies_infor.updated_at  = all[12]\n",
    "companies_infor.url  = all[13]\n",
    "companies_infor.websites  = all[14]\n",
    "companies_infor.checksum  = all[15]\n"
   ]
  },
  {
   "cell_type": "code",
   "execution_count": 32,
   "metadata": {},
   "outputs": [
    {
     "data": {
      "text/html": [
       "<table class=\"data-frame\"><thead><tr><th></th><th>id</th><th>change_date_category</th><th>country</th><th>created_at</th><th>description</th><th>developed</th><th>logo</th></tr><tr><th></th><th>Int64</th><th>Int64</th><th>Any</th><th>Int64</th><th>Any</th><th>Any</th><th>Any</th></tr></thead><tbody><p>500 rows × 15 columns (omitted printing of 8 columns)</p><tr><th>1</th><td>13710</td><td>7</td><td>752</td><td>1508976000</td><td>'T'</td><td>74974</td><td>1396</td></tr><tr><th>2</th><td>15094</td><td>7</td><td>233</td><td>1520899200</td><td>Null</td><td>26472</td><td>Null</td></tr><tr><th>3</th><td>17841</td><td>7</td><td>246</td><td>1548720000</td><td>Null</td><td>114715</td><td>Null</td></tr><tr><th>4</th><td>16305</td><td>7</td><td>208</td><td>1535673600</td><td>'P'</td><td>107175</td><td>1748</td></tr><tr><th>5</th><td>4270</td><td>7</td><td>392</td><td>1418428800</td><td>'T'</td><td>Null</td><td>3304</td></tr><tr><th>6</th><td>11327</td><td>7</td><td>578</td><td>1476748800</td><td>Null</td><td>18688</td><td>Null</td></tr><tr><th>7</th><td>11203</td><td>7</td><td>643</td><td>1475798400</td><td>Null</td><td>24825</td><td>1597</td></tr><tr><th>8</th><td>15775</td><td>7</td><td>Null</td><td>1529625600</td><td>Null</td><td>104233</td><td>Null</td></tr><tr><th>9</th><td>558</td><td>0</td><td>Null</td><td>1317686400</td><td>Null</td><td>5793</td><td>Null</td></tr><tr><th>10</th><td>22479</td><td>7</td><td>Null</td><td>1573344000</td><td>Null</td><td>Null</td><td>Null</td></tr><tr><th>11</th><td>14536</td><td>7</td><td>Null</td><td>1517011200</td><td>Null</td><td>48933</td><td>Null</td></tr><tr><th>12</th><td>1573</td><td>0</td><td>Null</td><td>1384905600</td><td>Null</td><td>Null</td><td>Null</td></tr><tr><th>13</th><td>1580</td><td>0</td><td>Null</td><td>1384905600</td><td>Null</td><td>Null</td><td>Null</td></tr><tr><th>14</th><td>2734</td><td>7</td><td>Null</td><td>1398038400</td><td>Null</td><td>6274</td><td>Null</td></tr><tr><th>15</th><td>18824</td><td>7</td><td>Null</td><td>1553558400</td><td>Null</td><td>35300</td><td>Null</td></tr><tr><th>16</th><td>18826</td><td>7</td><td>Null</td><td>1553558400</td><td>Null</td><td>101635</td><td>Null</td></tr><tr><th>17</th><td>19930</td><td>7</td><td>Null</td><td>1557100800</td><td>Null</td><td>115827</td><td>Null</td></tr><tr><th>18</th><td>1572</td><td>0</td><td>Null</td><td>1384905600</td><td>Null</td><td>Null</td><td>Null</td></tr><tr><th>19</th><td>868</td><td>0</td><td>Null</td><td>1350172800</td><td>Null</td><td>1509</td><td>Null</td></tr><tr><th>20</th><td>19987</td><td>7</td><td>Null</td><td>1557619200</td><td>Null</td><td>28518</td><td>Null</td></tr><tr><th>21</th><td>22304</td><td>7</td><td>Null</td><td>1572566400</td><td>Null</td><td>Null</td><td>Null</td></tr><tr><th>22</th><td>21994</td><td>7</td><td>Null</td><td>1570060800</td><td>Null</td><td>Null</td><td>Null</td></tr><tr><th>23</th><td>22302</td><td>7</td><td>Null</td><td>1572480000</td><td>Null</td><td>Null</td><td>Null</td></tr><tr><th>24</th><td>17172</td><td>7</td><td>Null</td><td>1546041600</td><td>Null</td><td>113483</td><td>Null</td></tr><tr><th>25</th><td>12736</td><td>7</td><td>840</td><td>1494979200</td><td>Null</td><td>28952</td><td>2828</td></tr><tr><th>26</th><td>15956</td><td>7</td><td>752</td><td>1531872000</td><td>Null</td><td>26633</td><td>Null</td></tr><tr><th>27</th><td>24141</td><td>7</td><td>Null</td><td>1580860800</td><td>Null</td><td>116261</td><td>Null</td></tr><tr><th>28</th><td>21167</td><td>7</td><td>Null</td><td>1562803200</td><td>Null</td><td>120628</td><td>Null</td></tr><tr><th>29</th><td>173</td><td>0</td><td>Null</td><td>1301875200</td><td>Null</td><td>34</td><td>Null</td></tr><tr><th>30</th><td>185</td><td>0</td><td>Null</td><td>1301961600</td><td>Null</td><td>Null</td><td>Null</td></tr><tr><th>&vellip;</th><td>&vellip;</td><td>&vellip;</td><td>&vellip;</td><td>&vellip;</td><td>&vellip;</td><td>&vellip;</td><td>&vellip;</td></tr></tbody></table>"
      ],
      "text/latex": [
       "\\begin{tabular}{r|cccccccc}\n",
       "\t& id & change\\_date\\_category & country & created\\_at & description & developed & logo & \\\\\n",
       "\t\\hline\n",
       "\t& Int64 & Int64 & Any & Int64 & Any & Any & Any & \\\\\n",
       "\t\\hline\n",
       "\t1 & 13710 & 7 & 752 & 1508976000 & 'T' & 74974 & 1396 & $\\dots$ \\\\\n",
       "\t2 & 15094 & 7 & 233 & 1520899200 & Null & 26472 & Null & $\\dots$ \\\\\n",
       "\t3 & 17841 & 7 & 246 & 1548720000 & Null & 114715 & Null & $\\dots$ \\\\\n",
       "\t4 & 16305 & 7 & 208 & 1535673600 & 'P' & 107175 & 1748 & $\\dots$ \\\\\n",
       "\t5 & 4270 & 7 & 392 & 1418428800 & 'T' & Null & 3304 & $\\dots$ \\\\\n",
       "\t6 & 11327 & 7 & 578 & 1476748800 & Null & 18688 & Null & $\\dots$ \\\\\n",
       "\t7 & 11203 & 7 & 643 & 1475798400 & Null & 24825 & 1597 & $\\dots$ \\\\\n",
       "\t8 & 15775 & 7 & Null & 1529625600 & Null & 104233 & Null & $\\dots$ \\\\\n",
       "\t9 & 558 & 0 & Null & 1317686400 & Null & 5793 & Null & $\\dots$ \\\\\n",
       "\t10 & 22479 & 7 & Null & 1573344000 & Null & Null & Null & $\\dots$ \\\\\n",
       "\t11 & 14536 & 7 & Null & 1517011200 & Null & 48933 & Null & $\\dots$ \\\\\n",
       "\t12 & 1573 & 0 & Null & 1384905600 & Null & Null & Null & $\\dots$ \\\\\n",
       "\t13 & 1580 & 0 & Null & 1384905600 & Null & Null & Null & $\\dots$ \\\\\n",
       "\t14 & 2734 & 7 & Null & 1398038400 & Null & 6274 & Null & $\\dots$ \\\\\n",
       "\t15 & 18824 & 7 & Null & 1553558400 & Null & 35300 & Null & $\\dots$ \\\\\n",
       "\t16 & 18826 & 7 & Null & 1553558400 & Null & 101635 & Null & $\\dots$ \\\\\n",
       "\t17 & 19930 & 7 & Null & 1557100800 & Null & 115827 & Null & $\\dots$ \\\\\n",
       "\t18 & 1572 & 0 & Null & 1384905600 & Null & Null & Null & $\\dots$ \\\\\n",
       "\t19 & 868 & 0 & Null & 1350172800 & Null & 1509 & Null & $\\dots$ \\\\\n",
       "\t20 & 19987 & 7 & Null & 1557619200 & Null & 28518 & Null & $\\dots$ \\\\\n",
       "\t21 & 22304 & 7 & Null & 1572566400 & Null & Null & Null & $\\dots$ \\\\\n",
       "\t22 & 21994 & 7 & Null & 1570060800 & Null & Null & Null & $\\dots$ \\\\\n",
       "\t23 & 22302 & 7 & Null & 1572480000 & Null & Null & Null & $\\dots$ \\\\\n",
       "\t24 & 17172 & 7 & Null & 1546041600 & Null & 113483 & Null & $\\dots$ \\\\\n",
       "\t25 & 12736 & 7 & 840 & 1494979200 & Null & 28952 & 2828 & $\\dots$ \\\\\n",
       "\t26 & 15956 & 7 & 752 & 1531872000 & Null & 26633 & Null & $\\dots$ \\\\\n",
       "\t27 & 24141 & 7 & Null & 1580860800 & Null & 116261 & Null & $\\dots$ \\\\\n",
       "\t28 & 21167 & 7 & Null & 1562803200 & Null & 120628 & Null & $\\dots$ \\\\\n",
       "\t29 & 173 & 0 & Null & 1301875200 & Null & 34 & Null & $\\dots$ \\\\\n",
       "\t30 & 185 & 0 & Null & 1301961600 & Null & Null & Null & $\\dots$ \\\\\n",
       "\t$\\dots$ & $\\dots$ & $\\dots$ & $\\dots$ & $\\dots$ & $\\dots$ & $\\dots$ & $\\dots$ &  \\\\\n",
       "\\end{tabular}\n"
      ],
      "text/plain": [
       "500×15 DataFrame. Omitted printing of 10 columns\n",
       "│ Row │ id    │ change_date_category │ country │ created_at │ description │\n",
       "│     │ \u001b[90mInt64\u001b[39m │ \u001b[90mInt64\u001b[39m                │ \u001b[90mAny\u001b[39m     │ \u001b[90mInt64\u001b[39m      │ \u001b[90mAny\u001b[39m         │\n",
       "├─────┼───────┼──────────────────────┼─────────┼────────────┼─────────────┤\n",
       "│ 1   │ 13710 │ 7                    │ 752     │ 1508976000 │ 'T'         │\n",
       "│ 2   │ 15094 │ 7                    │ 233     │ 1520899200 │ Null        │\n",
       "│ 3   │ 17841 │ 7                    │ 246     │ 1548720000 │ Null        │\n",
       "│ 4   │ 16305 │ 7                    │ 208     │ 1535673600 │ 'P'         │\n",
       "│ 5   │ 4270  │ 7                    │ 392     │ 1418428800 │ 'T'         │\n",
       "│ 6   │ 11327 │ 7                    │ 578     │ 1476748800 │ Null        │\n",
       "│ 7   │ 11203 │ 7                    │ 643     │ 1475798400 │ Null        │\n",
       "│ 8   │ 15775 │ 7                    │ Null    │ 1529625600 │ Null        │\n",
       "│ 9   │ 558   │ 0                    │ Null    │ 1317686400 │ Null        │\n",
       "│ 10  │ 22479 │ 7                    │ Null    │ 1573344000 │ Null        │\n",
       "⋮\n",
       "│ 490 │ 23362 │ 7                    │ Null    │ 1578614400 │ Null        │\n",
       "│ 491 │ 15372 │ 7                    │ Null    │ 1524096000 │ Null        │\n",
       "│ 492 │ 5435  │ 7                    │ Null    │ 1430697600 │ Null        │\n",
       "│ 493 │ 14450 │ 7                    │ Null    │ 1516320000 │ Null        │\n",
       "│ 494 │ 19539 │ 7                    │ Null    │ 1555977600 │ Null        │\n",
       "│ 495 │ 18543 │ 7                    │ Null    │ 1552608000 │ Null        │\n",
       "│ 496 │ 5590  │ 7                    │ Null    │ 1431993600 │ Null        │\n",
       "│ 497 │ 16600 │ 7                    │ Null    │ 1538438400 │ Null        │\n",
       "│ 498 │ 12892 │ 7                    │ Null    │ 1496880000 │ Null        │\n",
       "│ 499 │ 5591  │ 7                    │ Null    │ 1431993600 │ Null        │\n",
       "│ 500 │ 16602 │ 7                    │ Null    │ 1538438400 │ Null        │"
      ]
     },
     "execution_count": 32,
     "metadata": {},
     "output_type": "execute_result"
    }
   ],
   "source": [
    "companies_infor"
   ]
  },
  {
   "cell_type": "code",
   "execution_count": 33,
   "metadata": {},
   "outputs": [
    {
     "data": {
      "text/plain": [
       "\"/Users/mengzhang/projects/github/wrangling_project/game_companies_test.csv\""
      ]
     },
     "execution_count": 33,
     "metadata": {},
     "output_type": "execute_result"
    }
   ],
   "source": [
    "CSV.write(\"/Users/mengzhang/projects/github/wrangling_project/game_companies_test.csv\", companies_infor)"
   ]
  },
  {
   "cell_type": "code",
   "execution_count": null,
   "metadata": {},
   "outputs": [],
   "source": []
  }
 ],
 "metadata": {
  "kernelspec": {
   "display_name": "Julia 1.4.2",
   "language": "julia",
   "name": "julia-1.4"
  },
  "language_info": {
   "file_extension": ".jl",
   "mimetype": "application/julia",
   "name": "julia",
   "version": "1.4.2"
  }
 },
 "nbformat": 4,
 "nbformat_minor": 4
}
