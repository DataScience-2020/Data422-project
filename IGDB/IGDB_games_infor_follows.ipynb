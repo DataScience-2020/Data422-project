{
 "cells": [
  {
   "cell_type": "code",
   "execution_count": 2,
   "metadata": {},
   "outputs": [],
   "source": [
    "# import library\n",
    "using HTTP\n",
    "using DataFrames\n",
    "using JSON2\n",
    "using CSV"
   ]
  },
  {
   "cell_type": "code",
   "execution_count": 3,
   "metadata": {},
   "outputs": [
    {
     "data": {
      "text/plain": [
       "\"&grant_type=client_credentials\""
      ]
     },
     "execution_count": 3,
     "metadata": {},
     "output_type": "execute_result"
    }
   ],
   "source": [
    "# define the html components\n",
    "\n",
    "access_token_url = \"https://id.twitch.tv/oauth2/token?\"\n",
    "twitch_client_id = \"nkhild64eit6lxke8b9edmml63963g\"\n",
    "twitch_client_secret = \"ai1hob8i3g4r5gc5tv8ij4p68wrbtq\"\n",
    "grant_type = \"&grant_type=client_credentials\""
   ]
  },
  {
   "cell_type": "code",
   "execution_count": 4,
   "metadata": {},
   "outputs": [
    {
     "data": {
      "text/plain": [
       "\"https://id.twitch.tv/oauth2/token?client_id=nkhild64eit6lxke8b9edmml63963g&client_secret=ai1hob8i3g4r5gc5tv8ij4p68wrbtq&grant_type=client_credentials\""
      ]
     },
     "execution_count": 4,
     "metadata": {},
     "output_type": "execute_result"
    }
   ],
   "source": [
    "# define url for IGDB game information scrapping\n",
    "url = access_token_url *\n",
    "  \"client_id=\" *\n",
    "  twitch_client_id *\n",
    "  \"&client_secret=\" *\n",
    "  twitch_client_secret *\n",
    "  grant_type"
   ]
  },
  {
   "cell_type": "code",
   "execution_count": 5,
   "metadata": {},
   "outputs": [
    {
     "data": {
      "text/plain": [
       "HTTP.Messages.Response:\n",
       "\"\"\"\n",
       "HTTP/1.1 200 OK\r\n",
       "Date: Tue, 13 Oct 2020 04:19:15 GMT\r\n",
       "Content-Type: application/json\r\n",
       "Content-Length: 93\r\n",
       "Connection: keep-alive\r\n",
       "Server: nginx/1.14.1\r\n",
       "Access-Control-Allow-Origin: *\r\n",
       "X-Ctxlog-Logid: 1-5f852ac3-53a1c72342caffd307159755\r\n",
       "\r\n",
       "{\"access_token\":\"u6mno75urriqj4l4qa56w0f35imnxl\",\"expires_in\":5318125,\"token_type\":\"bearer\"}\n",
       "\"\"\""
      ]
     },
     "execution_count": 5,
     "metadata": {},
     "output_type": "execute_result"
    }
   ],
   "source": [
    "response_from_server = HTTP.post(url)"
   ]
  },
  {
   "cell_type": "code",
   "execution_count": 6,
   "metadata": {},
   "outputs": [
    {
     "data": {
      "text/plain": [
       "(access_token = \"u6mno75urriqj4l4qa56w0f35imnxl\", expires_in = 5318125, token_type = \"bearer\")"
      ]
     },
     "execution_count": 6,
     "metadata": {},
     "output_type": "execute_result"
    }
   ],
   "source": [
    "# by using the JSON2.read(IOBuffer) function help to translate the web string into json format\n",
    "access_token, expires_in, token_type = JSON2.read(IOBuffer(response_from_server.body))"
   ]
  },
  {
   "cell_type": "code",
   "execution_count": 7,
   "metadata": {},
   "outputs": [
    {
     "data": {
      "text/plain": [
       "\"u6mno75urriqj4l4qa56w0f35imnxl\""
      ]
     },
     "execution_count": 7,
     "metadata": {},
     "output_type": "execute_result"
    }
   ],
   "source": [
    "# print the token\n",
    "access_token"
   ]
  },
  {
   "cell_type": "code",
   "execution_count": 8,
   "metadata": {},
   "outputs": [
    {
     "data": {
      "text/plain": [
       "Dict{String,String} with 2 entries:\n",
       "  \"Authorization\" => \"Bearer u6mno75urriqj4l4qa56w0f35imnxl\"\n",
       "  \"Client-ID\"     => \"nkhild64eit6lxke8b9edmml63963g\""
      ]
     },
     "execution_count": 8,
     "metadata": {},
     "output_type": "execute_result"
    }
   ],
   "source": [
    "# difine the auth_dictionary\n",
    "auth_dictionary = Dict(\"Client-ID\" => twitch_client_id,\n",
    "                        \"Authorization\" => \"Bearer \" * access_token)"
   ]
  },
  {
   "cell_type": "code",
   "execution_count": 9,
   "metadata": {},
   "outputs": [
    {
     "data": {
      "text/plain": [
       "HTTP.Messages.Response:\n",
       "\"\"\"\n",
       "HTTP/1.1 200 OK\r\n",
       "Date: Tue, 13 Oct 2020 04:19:24 GMT\r\n",
       "Content-Type: application/json;charset=utf-8\r\n",
       "Transfer-Encoding: chunked\r\n",
       "Connection: keep-alive\r\n",
       "Set-Cookie: __cfduid=dd74863f433dffbbe4bf35aa83d93a3041602562763; expires=Thu, 12-Nov-20 04:19:23 GMT; path=/; domain=.igdb.com; HttpOnly; SameSite=Lax; Secure\r\n",
       "x-amzn-RequestId: 89cc0dfe-377d-4c52-8192-cdcade6e212c\r\n",
       "x-amz-apigw-id: UVOf4HAXvHcF2LQ=\r\n",
       "x-amzn-Remapped-Server: Javalin\r\n",
       "X-Count: 737\r\n",
       "x-amzn-Remapped-Date: Tue, 13 Oct 2020 04:19:24 GMT\r\n",
       "X-Cache: Miss from cloudfront\r\n",
       "Via: 1.1 1a685e4ebbc8099aecee289fd547f396.cloudfront.net (CloudFront)\r\n",
       "X-Amz-Cf-Pop: AKL50-C1\r\n",
       "X-Amz-Cf-Id: oiaYgZBxliOWDZtHky1qLy2KarUtCqoNK_7xihz88UFhvkJDwmMM7A==\r\n",
       "CF-Cache-Status: DYNAMIC\r\n",
       "cf-request-id: 05c1c8426a0000fb8806261200000001\r\n",
       "Expect-CT: max-age=604800, report-uri=\"https://report-uri.cloudflare.com/cdn-cgi/beacon/expect-ct\"\r\n",
       "Strict-Transport-Security: max-age=15552000; includeSubDomains; preload\r\n",
       "X-Content-Type-Options: nosniff\r\n",
       "Server: cloudflare\r\n",
       "CF-RAY: 5e1643171d8bfb88-AKL\r\n",
       "\r\n",
       "[\n",
       "  {\n",
       "    \"id\": 1020,\n",
       "    \"age_ratings\": [\n",
       "      990,\n",
       "      12749\n",
       "    ],\n",
       "    \"aggregated_rating\": 95.84,\n",
       "    \"aggregated_rating_count\": 34,\n",
       "    \"alternative_names\": [\n",
       "      12289,\n",
       "      13339,\n",
       "      13340,\n",
       "      13341,\n",
       "      13342,\n",
       "      13343,\n",
       "      30474,\n",
       "      30475,\n",
       "      30476,\n",
       "      47683,\n",
       "      47684,\n",
       "      47685,\n",
       "      47686,\n",
       "      47687,\n",
       "      47688\n",
       "    ],\n",
       "    \"artworks\": [\n",
       "      2628,\n",
       "      2629,\n",
       "      2630,\n",
       "      2631,\n",
       "      2632,\n",
       "      2633,\n",
       "      2634,\n",
       "      2635,\n",
       "      2636,\n",
       "      5650,\n",
       "      5848,\n",
       "      5849\n",
       "    ],\n",
       "    \"bundles\": [\n",
       "      98077\n",
       "    ],\n",
       "    \"category\": 0,\n",
       "    \"collection\": 130,\n",
       "    \"cover\": 84845,\n",
       "    \"created_at\": 1326067200,\n",
       "    \"external_games\": [\n",
       "      11827,\n",
       "      62562,\n",
       "      74600,\n",
       "      79999,\n",
       "      80000,\n",
       "      85133,\n",
       "      93643,\n",
       "      93827,\n",
       "      93828,\n",
       "      93829,\n",
       "      96685,\n",
       "      96686,\n",
       "      123664,\n",
       "      189339,\n",
       "      189925,\n",
       "      210553,\n",
       "      213597,\n",
       "      245105,\n",
       "      401442,\n",
       "      402059,\n",
       "      1238119,\n",
       "      1304319,\n",
       "      1304320,\n",
       "⋮\n",
       "3755445-byte body\n",
       "\"\"\""
      ]
     },
     "execution_count": 9,
     "metadata": {},
     "output_type": "execute_result"
    }
   ],
   "source": [
    "body_fellow = \"fields *; limit 500; sort follows desc; where total_rating_count > 100 & total_rating > 75 & total_rating != null;\"\n",
    "games_follows = HTTP.post(\"https://api.igdb.com/v4/games/\",\n",
    "          auth_dictionary,\n",
    "          body_fellow)\n"
   ]
  },
  {
   "cell_type": "code",
   "execution_count": 10,
   "metadata": {},
   "outputs": [
    {
     "data": {
      "text/plain": [
       "500-element Array{Any,1}:\n",
       " (id = 1020, age_ratings = Any[990, 12749], aggregated_rating = 95.84, aggregated_rating_count = 34, alternative_names = Any[12289, 13339, 13340, 13341, 13342, 13343, 30474, 30475, 30476, 47683, 47684, 47685, 47686, 47687, 47688], artworks = Any[2628, 2629, 2630, 2631, 2632, 2633, 2634, 2635, 2636, 5650, 5848, 5849], bundles = Any[98077], category = 0, collection = 130, cover = 84845, created_at = 1326067200, external_games = Any[11827, 62562, 74600, 79999, 80000, 85133, 93643, 93827, 93828, 93829  …  1936733, 1936881, 1936890, 1937066, 1937182, 1937291, 1937403, 1937473, 1937971, 1938297], first_release_date = 1379376000, follows = 1687, game_engines = Any[26], game_modes = Any[1, 2], genres = Any[5, 10, 14, 31], involved_companies = Any[18070, 18071, 20018], keywords = Any[3, 11, 17, 21, 22, 25, 30, 57, 64, 72  …  16745, 17215, 17569, 19073, 19662, 19699, 19700, 19701, 19702, 22980], multiplayer_modes = Any[1045, 8098], name = \"Grand Theft Auto V\", platforms = Any[6, 9, 12, 48, 49], player_perspectives = Any[1, 2], rating = 91.0628943639561, rating_count = 2690, release_dates = Any[20290, 20291, 20293, 20294, 27436, 103344, 103345, 133723, 133724, 136048], screenshots = Any[5670, 5671, 5672, 5673, 5674, 6913], similar_games = Any[40, 109, 733, 960, 1121, 1377, 3188, 3262, 19441], slug = \"grand-theft-auto-v\", standalone_expansions = Any[134710], storyline = \"Los Santos: a sprawling sun-soaked metropolis full of self-help gurus, starlets and fading celebrities, once the envy of the Western world, now struggling to stay afloat in an era of economic uncertainty and cheap reality TV. \\n \\nAmidst the turmoil, three very different criminals plot their own chances of survival and success: Franklin, a street hustler looking for real opportunities and serious money; Michael, a professional ex-con whose retirement is a lot less rosy than he hoped it would be; and Trevor, a violent maniac driven by the chance of a cheap high and the next big score. Running out of options, the crew risks everything in a series of daring\", summary = \"The biggest, most dynamic and most diverse open world ever created, Grand Theft Auto V blends storytelling and gameplay in new ways as players repeatedly jump in and out of the lives of the game’s three lead characters, playing all sides of the game’s interwoven story.\", tags = Any[1, 27, 33, 38, 268435461, 268435466, 268435470, 268435487, 536870915, 536870923  …  536887657, 536888127, 536888481, 536889985, 536890574, 536890611, 536890612, 536890613, 536890614, 536893892], themes = Any[1, 27, 33, 38], total_rating = 93.45144718197805, total_rating_count = 2724, updated_at = 1602547200, url = \"https://www.igdb.com/games/grand-theft-auto-v\", videos = Any[710, 1420, 3164], websites = Any[18730, 18731, 18732, 18733, 41200, 41201, 41202, 41203, 41204, 141326], checksum = \"d04cc171-5e4b-9db2-3289-556a6470d3ad\")\n",
       " (id = 1942, age_ratings = Any[9776, 11875], aggregated_rating = 91.72, aggregated_rating_count = 26, alternative_names = Any[2427, 2495, 4159, 8278, 10454, 30723, 30724, 37625, 48357], artworks = Any[142, 143, 144, 145, 146, 147, 148, 149, 150, 901, 1146, 1147, 1148], bundles = Any[22439], category = 0, collection = 62, cover = 89386, created_at = 1361664000, expansions = Any[12503, 13166], external_games = Any[11306, 68441, 78478, 83864, 119254, 189745, 211029, 246257, 401086, 1238322, 1928370, 1931970, 1934807, 1935171, 1937739], first_release_date = 1431993600, follows = 1455, franchises = Any[452], game_engines = Any[24], game_modes = Any[1], genres = Any[12, 31], hypes = 179, involved_companies = Any[17436, 17768, 17769, 17770, 17771, 42142, 64293], keywords = Any[129, 151, 227, 296, 537, 592, 617, 623, 665, 770  …  8202, 15075, 15076, 16826, 16828, 16894, 18730, 19424, 19425, 19426], name = \"The Witcher 3: Wild Hunt\", platforms = Any[6, 48, 49], player_perspectives = Any[2], rating = 95.68483076155759, rating_count = 2389, release_dates = Any[23743, 23744, 23745], screenshots = Any[9742, 9743, 9744, 9745, 21107], similar_games = Any[121, 472, 533, 1334, 1593, 1887, 3025, 9938, 11270], slug = \"the-witcher-3-wild-hunt\", storyline = \"The Witcher 3: Wild Hunt concludes the story of the witcher Geralt of Rivia, the series' protagonist, whose story to date has been covered in the previous installments. Geralt's new mission comes in dark times as the mysterious and otherworldly army known as the Wild Hunt invades the Northern Kingdoms, leaving only blood soaked earth and fiery ruin in its wake; and it seems the Witcher is the key to stopping their cataclysmic rampage.\", summary = \"The Witcher: Wild Hunt is a story-driven, next-generation open world role-playing game set in a visually stunning fantasy universe full of meaningful choices and impactful consequences. In The Witcher you play as the professional monster hunter, Geralt of Rivia, tasked with finding a child of prophecy in a vast open world rich with merchant cities, viking pirate islands, dangerous mountain passes, and forgotten caverns to explore.\", tags = Any[1, 17, 38, 268435468, 268435487, 536871041, 536871063, 536871139, 536871208, 536871449  …  536879114, 536885987, 536885988, 536887738, 536887740, 536887806, 536889642, 536890336, 536890337, 536890338], themes = Any[1, 17, 38], total_rating = 93.7024153807788, total_rating_count = 2415, updated_at = 1602460800, url = \"https://www.igdb.com/games/the-witcher-3-wild-hunt\", videos = Any[5987, 5988, 5989, 5990, 5991, 5992, 5993, 5994, 5995, 5996, 9648, 15748], websites = Any[19101, 19102, 19103, 19104, 19105, 19106, 19107, 41185, 66471, 78076, 119948, 141346, 141347], checksum = \"b35378a1-24ec-a38e-fa03-0dfdb36b8056\")\n",
       " (id = 472, age_ratings = Any[11842, 11843], aggregated_rating = 96.1111111111111, aggregated_rating_count = 12, alternative_names = Any[4222, 9916, 13759, 13760, 35673, 35674, 35675, 37431, 37432, 37433, 47147, 47148, 47149, 47150, 47151, 47152], artworks = Any[169, 170, 171, 172, 173, 174, 175, 176, 177, 178, 179, 180], bundles = Any[47445], category = 0, collection = 6, cover = 85100, created_at = 1301097600, dlcs = Any[2992, 6068, 6069], external_games = Any[13726, 83594, 91302, 99350, 126709, 189914, 214145, 245218, 1302797, 1928839  …  1931682, 1932931, 1932940, 1933029, 1933604, 1934138, 1935585, 1936754, 1937242, 1937423], first_release_date = 1320969600, follows = 1024, game_engines = Any[17, 95], game_modes = Any[1], genres = Any[12, 31], involved_companies = Any[3719, 95350], keywords = Any[22, 96, 121, 129, 132, 151, 159, 211, 221, 226  …  12321, 12322, 12323, 12324, 12325, 12326, 12327, 12328, 12329, 12330], name = \"The Elder Scrolls V: Skyrim\", platforms = Any[6, 9, 12], player_perspectives = Any[1, 2], rating = 87.6598479241695, rating_count = 2131, release_dates = Any[21154, 21155, 21156, 21664, 21666, 106167, 106168, 106169], screenshots = Any[345, 346, 347, 348, 349], similar_games = Any[56, 59, 121, 533, 538, 832, 1081, 1942, 3025], slug = \"the-elder-scrolls-v-skyrim\", storyline = \"The Empire of Tamriel is on the edge. The High King of Skyrim has been murdered. Alliances form as claims to the throne are made. In the midst of this conflict, a far more dangerous, ancient evil is awakened. Dragons, long lost to the passages of the Elder Scrolls, have returned to Tamriel. The future of Skyrim, even the Empire itself, hangs in the balance as they wait for the prophesized Dragonborn to come; a hero born with the power of The Voice, and the only one who can stand amongst the dragons.\", summary = \"The next chapter in the highly anticipated Elder Scrolls saga arrives from the makers of the 2006 and 2008 Games of the Year, Bethesda Game Studios. Skyrim reimagines and revolutionizes the open-world fantasy epic, bringing to life a complete virtual world open for you to explore any way you choose.  \\n \\nPlay any type of character you can imagine, and do whatever you want; the legendary freedom of choice, storytelling, and adventure of The Elder Scrolls is realized like never before.  \\n \\nSkyrim’s new game engine brings to life a complete virtual world with rolling clouds, rugged mountains, bustling cities, lush fields, and ancient dungeons.  \\n \\nChoose from hundreds of weapons, spells, and abilities. The new character system allows you to play any way you want and define yourself through your actions.  \\n \\nBattle ancient dragons like you’ve never seen. As Dragonborn, learn their secrets and harness their power for yourself.\", tags = Any[1, 17, 33, 38, 268435468, 268435487, 536870934, 536871008, 536871033, 536871041  …  536883233, 536883234, 536883235, 536883236, 536883237, 536883238, 536883239, 536883240, 536883241, 536883242], themes = Any[1, 17, 33, 38], total_rating = 91.8854795176403, total_rating_count = 2143, updated_at = 1602460800, url = \"https://www.igdb.com/games/the-elder-scrolls-v-skyrim\", videos = Any[17546, 17547, 17548, 17549, 17550, 17551, 17552, 17553, 17554], websites = Any[18782, 41207, 41208, 41209, 41210, 58222, 65048, 67978, 70001], checksum = \"a60d5474-6aa8-2eb4-0436-3dd0d51c0e89\")\n",
       " (id = 732, age_ratings = Any[1444, 5369], aggregated_rating = 93.1428571428571, aggregated_rating_count = 7, alternative_names = Any[2332, 6795, 7305, 42032, 42033], bundles = Any[5850], category = 0, collection = 130, cover = 84848, created_at = 1317686400, external_games = Any[14740, 17904, 72864, 85113, 94603, 96695, 150549, 189779, 213596, 223571  …  1185090, 1304318, 1859369, 1929382, 1930015, 1931787, 1933109, 1933194, 1934769, 1937264], first_release_date = 1098748800, follows = 949, franchises = Any[493], game_engines = Any[41], game_modes = Any[1], genres = Any[5, 10, 31], hypes = 2, involved_companies = Any[55974, 55979, 55980], keywords = Any[11, 17, 21, 57, 58, 72, 79, 109, 129, 132  …  11656, 11699, 11702, 12385, 13217, 15444, 15445, 16204, 22668, 22669], multiplayer_modes = Any[1858], name = \"Grand Theft Auto: San Andreas\", platforms = Any[6, 8, 9, 11, 12, 14, 34, 36, 39, 48], player_perspectives = Any[1, 2], rating = 90.3615756224511, rating_count = 1816, release_dates = Any[1613, 1614, 2203, 3317, 3318, 19227, 48660, 55583, 123523, 123524, 147098], screenshots = Any[676, 677, 678, 679, 680, 189150, 189151, 189152, 189153, 189154, 189155, 189156], similar_games = Any[564, 730, 731, 733, 1020, 1121, 3262, 3263, 19441], slug = \"grand-theft-auto-san-andreas\", storyline = \"Five years ago, Carl Johnson escaped from the pressures of life in Los Santos, San Andreas, a city tearing itself apart with gang trouble, drugs and corruption. Where filmstars and millionaires do their best to avoid the dealers and gangbangers. \\nNow, it’s the early 90’s. Carl’s got to go home. His mother has been murdered, his family has fallen apart and his childhood friends are all heading towards disaster. \\n \\nOn his return to the neighborhood, a couple of corrupt cops frame him for homicide. CJ is forced on a journey that takes him across the entire state of San Andreas, to save his family and to take control of the streets.\", summary = \"Returning after his mother's murder to the semi-fictional city of Los Santos (based on Los Angeles), Carl Johnson, a former gang banger, must take back the streets for his family and friends by gaining respect and once again gaining control over the city. However, a story filled with plots, lies and corruption will lead him to trudge the entire state of San Andreas (based on California and Nevada) to get revenge.\", tags = Any[1, 32, 38, 268435461, 268435466, 268435487, 536870923, 536870929, 536870933, 536870969  …  536882568, 536882611, 536882614, 536883297, 536884129, 536886356, 536886357, 536887116, 536893580, 536893581], themes = Any[1, 32, 38], total_rating = 91.7522163826541, total_rating_count = 1823, updated_at = 1602460800, url = \"https://www.igdb.com/games/grand-theft-auto-san-andreas\", videos = Any[19022, 19023], websites = Any[12921, 12922, 12923, 12924, 12925, 12926, 67033, 72229, 72599], checksum = \"289a285c-aa6d-c4ab-260a-eee61b9000c8\")\n",
       " (id = 72, age_ratings = Any[11721, 29684], aggregated_rating = 92.4444444444444, aggregated_rating_count = 13, alternative_names = Any[50135, 50136], bundles = Any[55025], category = 0, collection = 87, cover = 82660, created_at = 1297900800, dlcs = Any[99969, 106227, 114140], external_games = Any[15150, 73156, 81867, 92870, 92979, 137388, 189642, 214010, 245334, 403070, 1303428, 1929756, 1931953], first_release_date = 1303171200, follows = 947, franchises = Any[1724], game_engines = Any[3], game_modes = Any[1, 2, 3, 4], genres = Any[5, 8, 9, 31], involved_companies = Any[106733, 106734], keywords = Any[350, 453, 592, 1026, 1027, 1158, 1181, 1293, 1440, 1559  …  9814, 10435, 11023, 11208, 12516, 14224, 18139, 18567, 21739, 21740], multiplayer_modes = Any[11591, 11592, 11593, 11594, 11595], name = \"Portal 2\", platforms = Any[3, 6, 9, 12, 14], player_perspectives = Any[1], rating = 91.3361014858053, rating_count = 2071, release_dates = Any[104964, 104965, 208203, 208204, 208205, 208206, 208207, 208208], screenshots = Any[725, 726, 727, 728, 729], similar_games = Any[7350, 11646, 16992, 20342, 22387, 24426, 55173, 55190, 56033], slug = \"portal-2\", storyline = \"You lost your memory, you are alone in a world full of danger, and your mission is survive using your mind. The only way to get out from this hell is.....Hi i'm GLAdOS, and welcome to the amazing world of portal 2, here i will expose you to a lot of tests, and try to k.. help Aperture Science envolve in a new era. \\nYour job is advance in the levels i propose and get better and better, you will have an portal gun to help you, and remember nothing is impossible if you try, and try again and again and again.... \\nThe puzzles are waiting for you!\", summary = \"Sequel to the acclaimed Portal (2007), Portal 2 pits the protagonist of the original game, Chell, and her new robot friend, Wheatley, against more puzzles conceived by GLaDOS, an A.I. with the sole purpose of testing the Portal Gun's mechanics and taking revenge on Chell for the events of Portal. As a result of several interactions and revelations, Chell once again pushes to escape Aperture Science Labs.\", tags = Any[1, 18, 27, 268435461, 268435464, 268435465, 268435487, 536871262, 536871365, 536871504  …  536880726, 536881347, 536881935, 536882120, 536883428, 536885136, 536889051, 536889479, 536892651, 536892652], themes = Any[1, 18, 27], total_rating = 91.89027296512485, total_rating_count = 2084, updated_at = 1602460800, url = \"https://www.igdb.com/games/portal-2\", videos = Any[432, 16451, 17844, 17845], websites = Any[17869, 17870, 41194, 41195, 150881, 150882, 150883], checksum = \"f704b40e-a3d8-86a5-554f-de310a0a5379\")\n",
       " (id = 233, age_ratings = Any[828, 11281], aggregated_rating = 91, aggregated_rating_count = 8, alternative_names = Any[37599, 37600, 37601, 40860], bundles = Any[339, 55025], category = 0, collection = 35, cover = 77288, created_at = 1300320000, external_games = Any[15164, 17805, 155609, 190217, 245454], first_release_date = 1100563200, follows = 886, franchises = Any[425], game_engines = Any[3], game_modes = Any[1], genres = Any[5], involved_companies = Any[18928, 18929, 88970], keywords = Any[3, 5, 453, 466, 540, 605, 970, 1089, 1120, 1158  …  10452, 10672, 10756, 11580, 12159, 12169, 13474, 14603, 15622, 15654], name = \"Half-Life 2\", platforms = Any[3, 6, 9, 11, 12, 14, 34], player_perspectives = Any[1], rating = 90.9593408799534, rating_count = 1740, release_dates = Any[21490, 21491, 21492, 21493, 21494, 21495, 21496, 21497, 21498, 21529, 21530, 21531, 21532, 21533, 21534, 21535, 182662], screenshots = Any[1138, 1139, 1140, 1141, 1142], similar_games = Any[231, 247, 338, 471, 571, 673, 1011, 6739, 15536], slug = \"half-life-2\", standalone_expansions = Any[70647], storyline = \"Gordon Freeman is brought out of stasis by the G-Man, who inserts him into a train arriving at City 17. After arriving at the station and eluding Combine forces, Gordon joins Lambda resistance members including Barney Calhoun, a former Black Mesa security guard now working undercover as a Combine CP officer, and Alyx Vance, the daughter of one of Gordon's former colleagues, Dr. Eli Vance. After a failed attempt to teleport Gordon to Black Mesa East from Dr. Kleiner's makeshift laboratory, Gordon, re-equipped with the HEV suit and a crowbar, is forced to embark on foot through the city's old canal system. After obtaining an airboat, he battles his way to Black Mesa East, several miles from the city. \\nGordon is reintroduced to Eli and meets Dr. Judith Mossman. Alyx introduces Gordon to her large pet robot D0g and gives him a \\\"Gravity Gun\\\", a weapon which allows Gordon to pick up and move any large object with ease. Black Mesa East soon comes under Combine attack and Eli and Mossman are captured to be taken to a Combine prison, Nova Prospekt. Gordon and Alyx are forced to take separate paths to Nova Prospekt; Gordon takes a detour through the town of Ravenholm, receiving help from its last survivor, Father Grigori. After making his way through the town and a mine, Gordon makes his way to a Resistance outpost. Gordon is provided with a Dune Buggy, which he uses to travel along a crumbling coastal road to Nova Prospekt. Along the way, Gordon encounters frequent Combine patrols, and helps one of the resistance leaders, Colonel Odessa Cubbage, to defend a Resistance base from a Combine gunship. \\nAfter crossing an antlion-infested beach, Gordon enters Nova Prospekt, where he is reunited with Alyx. They manage to locate Eli, but also discover that Mossman is a Combine informant. Before they can stop her, she teleports herself and Eli back to City 17's Citadel. The Combine teleporter explodes as Gordon and Alyx use it to escape Nova Prospekt. \\nUpon reaching Kleiner's lab, a shaken Dr. Kleiner reveals to Gordon and Alyx that they were caught in a \\\"slow teleport\\\", during which a week had passed. In their absence, the Resistance, who heard about what had happened at Nova Prospekt, has mobilized against the Combine, turning City 17 into a battleground. During the fighting, Alyx is captured by the Combine and taken to the Citadel, and Gordon fights through the city with the aid of D0g and Barney to reach it. Inside the Citadel, he is caught in a Combine confiscation chamber that destroys all of his weapons except for the Gravity Gun, the energy enhancing its capabilities and allowing Gordon to escape and dispatch platoons of Combine soldiers. \\nEventually, Gordon is captured riding in a Combine transport pod and is taken to Dr. Breen's office, where he and Dr. Mossman are waiting with Eli and Alyx in captivity. Dr. Breen begins to explain his plans for further conquest of the humans by the Combine, contrary to what he had told Dr. Mossman. Angered, Mossman frees Gordon, Alyx, and Eli before Breen teleports them off-world. Dr. Breen tries to escape through a portal, but Gordon pursues him and destroys the portal reactor with the super-charged Gravity Gun. Breen appears to be annihilated in the resulting explosion. Just before Gordon and Alyx are presumably met with a similar fate, time is frozen. The G-Man reappears, praising Gordon for his actions in City 17 and the Citadel. Making vague mention of \\\"offers for [Gordon's] services\\\", the G-Man places him back into stasis.\", summary = \"1998. HALF-LIFE sends a shock through the game industry with its combination of pounding action and continuous, immersive storytelling. \\n \\nNOW. By taking the suspense, challenge and visceral charge of the original, and adding startling new realism and responsiveness, Half-Life 2 opens the door to a world where the player's presence affects everything around him, from the physical environment to the behaviors even the emotions of both friends and enemies.\", tags = Any[1, 18, 19, 268435461, 536870915, 536870917, 536871365, 536871378, 536871452, 536871517  …  536881364, 536881584, 536881668, 536882492, 536883071, 536883081, 536884386, 536885515, 536886534, 536886566], themes = Any[1, 18, 19], total_rating = 90.9796704399767, total_rating_count = 1748, updated_at = 1602460800, url = \"https://www.igdb.com/games/half-life-2\", videos = Any[2028], websites = Any[15368, 41188, 124944, 124945, 128347], checksum = \"2b7e42ac-ec3c-8d80-b196-34a7b967a8dc\")\n",
       " (id = 71, age_ratings = Any[984, 4395], aggregated_rating = 80, aggregated_rating_count = 2, alternative_names = Any[41940, 41941, 50137, 50138], bundles = Any[339, 55025], category = 0, collection = 87, cover = 89689, created_at = 1297900800, external_games = Any[13860, 15156, 17807, 137813, 188776, 245612], first_release_date = 1191974400, follows = 881, franchises = Any[1724], game_engines = Any[3], game_modes = Any[1], genres = Any[5, 8, 9], involved_companies = Any[99702, 99703], keywords = Any[129, 137, 350, 558, 575, 603, 962, 966, 970, 1152  …  12127, 12442, 12731, 13033, 13083, 13213, 14224, 14380, 14512, 14513], name = \"Portal\", platforms = Any[3, 6, 9, 12, 14, 34], player_perspectives = Any[1], rating = 87.19726167439211, rating_count = 1870, release_dates = Any[196895, 196896, 196897, 196898, 196899, 196900, 196901, 196902, 196903, 196904, 196905, 196906], screenshots = Any[46963, 46964, 46965, 46966, 46967], similar_games = Any[72, 231, 247, 338, 571, 1006, 7386, 9727, 21798], slug = \"portal\", storyline = \"Portal's plot is revealed to the player via audio messages or \\\"announcements\\\" from GLaDOS and visual elements inside rooms found in later levels. According to The Final Hours of Portal 2, the year is established to be \\\"somewhere in 2010\\\"—twelve years after Aperture Science has been abandoned. \\n \\nThe game begins with Chell waking up from a stasis bed and hearing instructions and warnings from GLaDOS, an artificial intelligence, about upcoming tests. Chell enters into distinct chambers that introduce players to the game's mechanics, sequentially. GLaDOS's announcements serve as instructions to Chell and help the player progress through the game, but also develops the atmosphere and characterizes the AI as a person.[4] Chell is promised cake as her reward if she completes all test chambers.[19] \\n \\nChell proceeds through the empty Enrichment Center, with GLaDOS as her only interaction. As the player nears completion, GLaDOS's motives and behavior turn more sinister; although she is designed to appear encouraging, GLaDOS's actions and speech suggest insincerity and callous disregard for the safety and well-being of the test subjects. The test chambers become increasingly dangerous as Chell proceeds, tests including a live-fire course designed for military androids, as well as some chambers flooded with a hazardous liquid. In another chamber, GLaDOS notes the importance of the Weighted Companion Cube, a waist-high crate with a single large pink heart on each face, for helping Chell to complete the test. However, GLaDOS declares it must be euthanized in an \\\"emergency intelligence incinerator\\\" before Chell can continue.[17] Some later chambers include automated turrets with childlike voices (also voiced by McLain) that fire at Chell, only to sympathize with her after being destroyed or disabled.[20][21] \\n \\nAfter Chell completes the final test chamber, GLaDOS maneuvers Chell into an incinerator in an attempt to kill her. Chell escapes with the portal gun and makes her way through the maintenance areas within the Enrichment Center.[22] GLaDOS panics and insists that she was pretending to kill Chell as part of testing. GLaDOS then asks Chell to assume the \\\"party escort submission position\\\", lying face-first on the ground, so that a \\\"party associate\\\" can take her to her reward, but Chell continues her escape. In this section, GLaDOS communes with Chell as it becomes clear the AI had killed everyone else in the center.[11][12] Chell makes her way through the maintenance areas and empty office spaces behind the chambers, sometimes following graffiti messages which point in the right direction. These backstage areas, which are in an extremely dilapidated state, stand in stark contrast to the pristine test chambers. The graffiti includes statements such as \\\"the cake is a lie\\\", and pastiches of Emily Dickinson's poem \\\"The Chariot\\\", Henry Wadsworth Longfellow's \\\"The Reaper and the Flowers\\\", and Emily Brontë's \\\"No Coward Soul Is Mine\\\", referring to and mourning the death of the Companion Cube.[4] \\n \\nGLaDOS attempts to dissuade Chell with threats of physical harm and misleading statements as Chell makes her way deeper into the maintenance areas. Chell reaches a large chamber where GLaDOS's hardware hangs overhead. GLaDOS continues to threaten Chell, but during the exchange, a sphere falls off of GLaDOS and Chell drops it in an incinerator. GLaDOS reveals that Chell has just destroyed the morality core or her conscience, one of the multiple \\\"personality cores\\\" that Aperture Science employees installed after the AI flooded the enrichment center with neurotoxin gas. With it removed, she can access its emitters again. A six-minute countdown starts as Chell dislodges and incinerates more of GLaDOS' personality cores, while GLaDOS discourages her both verbally, with taunts and juvenile insults, and physically by firing rockets at her. After Chell destroys the last personality core, a malfunction tears the room apart and transports everything to the surface. Chell is then seen lying outside the facility's gates amid the remains of GLaDOS. Following the announcement of Portal 2, the ending was expanded in a later update. In this retroactive continuity, Chell is dragged away from the scene by an unseen entity speaking in a robotic voice, thanking her for assuming the \\\"party escort submission position\\\".[15][23] \\n \\nThe final scene, after a long and speedy zoom through the bowels of the facility, shows a Black Forest cake,[24] and the Weighted Companion Cube, surrounded by a mix of shelves containing dozens of apparently inactive personality cores. The cores begin to light up, before a robotic arm descends and extinguishes the candle on the cake, causing the room to blackout.[25] As the credits roll, GLaDOS delivers a concluding report: the song \\\"Still Alive\\\", which declares the experiment to be a huge success, as well as serving to indicate to the player that GLaDOS is still alive,[26] that her \\\"happy\\\" core was not disabled.\", summary = \"Waking up in a seemingly empty laboratory, the player is made to complete various physics-based puzzle challenges through numerous test chambers in order to test out the new Aperture Science Handheld Portal Device, without an explanation as to how, why or by whom.\", tags = Any[1, 18, 27, 268435461, 268435464, 268435465, 536871041, 536871049, 536871262, 536871470  …  536883039, 536883354, 536883643, 536883945, 536883995, 536884125, 536885136, 536885292, 536885424, 536885425], themes = Any[1, 18, 27], total_rating = 83.59863083719605, total_rating_count = 1872, updated_at = 1602460800, url = \"https://www.igdb.com/games/portal\", videos = Any[460], websites = Any[20401, 20402, 68019, 141378, 141379, 141380], checksum = \"52ea4583-f3eb-94ed-734c-4b570d65a1fe\")\n",
       " (id = 1009, age_ratings = Any[11042, 23999], aggregated_rating = 91.5384615384615, aggregated_rating_count = 16, alternative_names = Any[24559, 37402, 47728, 47729], artworks = Any[3436, 3437, 3438, 3439, 3440, 3441, 3442, 3443, 3444, 3445, 3446, 3447], category = 0, collection = 864, cover = 81915, created_at = 1324252800, expansions = Any[11790], external_games = Any[53373, 83676, 123463, 189055, 245215, 402202, 1932074, 1932928, 1932975, 1933824, 1934127, 1934250, 1936040, 1936365, 1936644, 1937199], first_release_date = 1371168000, follows = 832, game_modes = Any[1, 2], genres = Any[5, 31], involved_companies = Any[73932, 73933], keywords = Any[64, 69, 132, 159, 161, 221, 222, 283, 339, 380  …  11577, 11578, 11579, 11580, 11581, 11582, 16717, 17215, 19437, 20474], name = \"The Last of Us\", platforms = Any[9], player_perspectives = Any[2], rating = 94.4403312956676, rating_count = 1784, release_dates = Any[106244, 106245], screenshots = Any[236, 237, 238, 239, 240], similar_games = Any[533, 538, 1020, 1121, 1164, 1985, 2031, 11270, 19441], slug = \"the-last-of-us\", storyline = \"Joel, a ruthless survivor with few moral lines left to cross, lives in one of the last remaining Quarantine Zones. These walled-off, oppressive cities are run by what’s left of the military. Despite the strict martial law, Joel operates in the black market of the city, smuggling contraband for the right price. \\n \\nJoel is asked by a dying friend to look after Ellie, a fourteen-year-old girl with courage beyond her years. What starts out as a simple job to deliver Ellie to another Quarantine Zone, soon transforms into a profound journey that will forever change Joel and Ellie. \\n \\nAs they journey across a post-pandemic United States, Joel and Ellie will encounter different factions of survivors that have each found a unique way of dealing with the infected humans, the lack of supplies, and the threat of other survivors. As Joel and Ellie struggle to persevere, they must learn to trust each other and work together in order to survive the realities of this new world.\", summary = \"A third person shooter/stealth/survival hybrid, in which twenty years after the outbreak of a parasitic fungus which takes over the neural functions of humans, Joel, a Texan with a tragic familial past, finds himself responsible with smuggling a fourteen year old girl named Ellie to a militia group called the Fireflies, while avoiding strict and deadly authorities, infected fungal hosts and other violent survivors.\", tags = Any[1, 19, 21, 23, 268435461, 268435487, 536870976, 536870981, 536871044, 536871071  …  536882489, 536882490, 536882491, 536882492, 536882493, 536882494, 536887629, 536888127, 536890349, 536891386], themes = Any[1, 19, 21, 23], total_rating = 92.98939641706455, total_rating_count = 1800, updated_at = 1602288000, url = \"https://www.igdb.com/games/the-last-of-us\", videos = Any[14721, 14722, 14723, 14724, 14725, 14726, 14727], websites = Any[19632, 19633], checksum = \"d18175ec-6303-9399-1a1b-4098d895d9ae\")\n",
       " (id = 74, age_ratings = Any[4666, 11490], aggregated_rating = 95.6, aggregated_rating_count = 14, alternative_names = Any[19924, 45203, 50352], artworks = Any[4512, 4513, 4514, 4515, 4516, 4517, 4518, 4519, 4520, 4521, 4522, 6508], bundles = Any[45181], category = 0, collection = 25, cover = 93684, created_at = 1297987200, dlcs = Any[782, 783, 1596, 13790, 13794, 13798, 13885], external_games = Any[14434, 80756, 86905, 137458, 213810, 245424, 403258, 1303815, 1303816], first_release_date = 1264464000, follows = 783, game_engines = Any[351], game_modes = Any[1], genres = Any[5, 12, 13], hypes = 1, involved_companies = Any[5240, 5241, 18482, 52062], keywords = Any[3, 22, 72, 129, 159, 201, 274, 284, 301, 558  …  14343, 14344, 14345, 14346, 14347, 14348, 14349, 18567, 22014, 22015], name = \"Mass Effect 2\", platforms = Any[6, 9, 12], player_perspectives = Any[2], rating = 91.8215642614266, rating_count = 1543, release_dates = Any[20909, 20910, 20911, 20912, 20913, 20914, 20917, 107956, 107957], screenshots = Any[892, 893, 8205, 8206, 8218], similar_games = Any[16, 21, 43, 533, 571, 960, 1020, 1985, 2031], slug = \"mass-effect-2\", storyline = \"Two years after Commander Shepard repelled invading Reapers bent on the destruction of organic life, a mysterious new enemy has emerged. On the fringes of known space, something is silently abducting entire human colonies. Now Shepard must work with Cerberus, a ruthless organization devoted to human survival at any cost, to stop the most terrifying threat mankind has ever faced. \\n \\nTo even attempt this perilous mission, Shepard must assemble the galaxy's most elite team and command the most powerful ship ever built. Even then, they say it would be suicide. Commander Shepard intends to prove them wrong.\", summary = \"Are you prepared to lose everything to save the galaxy? You'll need to be, Commander Shephard. It's time to bring together your greatest allies and recruit the galaxy's fighting elite to continue the resistance against the invading Reapers. So steel yourself, because this is an astronomical mission where sacrifices must be made. You'll face tougher choices and new, deadlier enemies. Arm yourself and prepare for an unforgettable intergalactic adventure. \\n \\nGame Features: \\n \\nShift the fight in your favour. Equip yourself with powerful new weapons almost instantly thanks to a new inventory system. Plus, an improved health regeneration system means you'll spend less time hunting for restorative items. \\n \\nMake every decision matter. Divisive crew members are just the tip of the iceberg, Commander, because you'll also be tasked with issues of intergalactic diplomacy. And time's a wastin' so don't be afraid to use new prompt-based actions that let you interrupt conversations, even if they could alter the fate of your crew...and the galaxy. \\n \\nForge new alliances, carefully. You'll fight alongside some of your most trustworthy crew members, but you'll also get the opportunity to recruit new talent. Just choose your new partners with care because the fate of the galaxy rests on your shoulders, Commander.\", tags = Any[1, 18, 268435461, 268435468, 268435469, 536870915, 536870934, 536870984, 536871041, 536871071  …  536885255, 536885256, 536885257, 536885258, 536885259, 536885260, 536885261, 536889479, 536892926, 536892927], themes = Any[1, 18], total_rating = 93.7107821307133, total_rating_count = 1557, updated_at = 1602460800, url = \"https://www.igdb.com/games/mass-effect-2\", videos = Any[3344], websites = Any[18939, 18940, 18941, 18942, 18943, 18944, 40360, 40361], checksum = \"939ae9b0-3bc9-eac7-665f-d7cbe9450941\")\n",
       " (id = 231, age_ratings = Any[4903, 11277], aggregated_rating = 80, aggregated_rating_count = 1, alternative_names = Any[3857, 3858, 18279, 28433, 28434, 37595, 41184, 41185, 41186], bundles = Any[50095, 55025], category = 0, collection = 35, cover = 85097, created_at = 1300320000, external_games = Any[15169, 72456, 154294, 188800, 245229], first_release_date = 912124800, follows = 782, franchises = Any[425], game_engines = Any[3, 4], game_modes = Any[1, 2], genres = Any[5, 9, 31], involved_companies = Any[18908, 42057, 96883], keywords = Any[3, 22, 129, 137, 301, 453, 466, 558, 563, 594  …  12307, 12972, 13032, 13120, 13121, 13213, 14369, 14512, 15300, 15480], name = \"Half-Life\", platforms = Any[6, 8, 14], player_perspectives = Any[1], rating = 89.907263917814, rating_count = 1507, release_dates = Any[193587, 193588, 205331, 205332], screenshots = Any[1133, 1134, 1135, 1136, 1137], similar_games = Any[233, 241, 247, 356, 571, 1006, 2031, 6739, 7351], slug = \"half-life\", standalone_expansions = Any[232, 2549, 6738], storyline = \"Dr. Gordon Freeman arrives late for work at 8:47 am in the Black Mesa Research Facility, using the advanced Black Mesa tram system that leads through the facility. He arrives at the Anomalous Materials Lab, his work place, and he is informed by the security officer that the scientists have a special experiment today, so he goes to the locker room and puts on the hazard suit. He goes to the lab's lower levels, and arrives at the Anti-Mass Chamber, where he is instructed that the specimen to be used that day is the rarest and also the most unstable specimen. He is tasked with pushing the specimen into the scanning beam of the Anti-Mass Spectrometer for analysis. However as soon as he pushes it, it explodes, and creates a sudden catastrophe called a \\\"resonance cascade\\\", opening a portal between Earth and a dimension called Xen. Freeman is apparently teleported to an alien planet and catches glimpses of various alien lifeforms, including a circle of Vortigaunts, shortly before blacking out.\", summary = \"Dr. Gordon Freeman doesn't speak, but he's got a helluva story to tell. This first-person roller-coaster initiated a new era in the history of action games by combining engrossing gameplay, upgraded graphics, ingenious level design and a revolutionary story that may not be all that it seems, told not through cutscenes, but through the visual environment.\", tags = Any[1, 18, 19, 20, 39, 268435461, 268435465, 268435487, 536870915, 536870934  …  536883219, 536883884, 536883944, 536884032, 536884033, 536884125, 536885281, 536885424, 536886212, 536886392], themes = Any[1, 18, 19, 20, 39], total_rating = 84.95363195890701, total_rating_count = 1508, updated_at = 1602374400, url = \"https://www.igdb.com/games/half-life\", videos = Any[3175], websites = Any[15342, 41193, 63952, 144036], checksum = \"2dd5344b-4f6f-58e5-acf7-15c53a6b43f3\")\n",
       " (id = 127, age_ratings = Any[5717, 11114], aggregated_rating = 90.25, aggregated_rating_count = 11, alternative_names = Any[2016, 2017, 2018, 10911, 20674, 20675, 45418, 45419, 45420, 45421, 45422], artworks = Any[601, 602, 603, 604, 605, 606, 607, 608, 609, 610], bundles = Any[22754, 23954, 43015, 45120], category = 0, collection = 18, cover = 82095, created_at = 1300060800, dlcs = Any[9562, 22974], external_games = Any[14300, 78862, 136289, 189499, 236050, 246605, 1305155], first_release_date = 1258416000, follows = 752, franchises = Any[571], game_engines = Any[8, 9], game_modes = Any[1], genres = Any[8, 31], involved_companies = Any[8109, 8110], keywords = Any[22, 121, 129, 132, 151, 170, 221, 227, 257, 284  …  11298, 11474, 11905, 12953, 12986, 13036, 13068, 13082, 13209, 13341], name = \"Assassin's Creed II\", platforms = Any[6, 9, 12, 14, 39, 48], player_perspectives = Any[2], rating = 87.24296067535549, rating_count = 1601, release_dates = Any[53, 54, 56, 57, 107336, 107337, 107338, 118282, 181633], screenshots = Any[8213, 8214, 8215, 8216, 8217], similar_games = Any[113, 128, 472, 499, 533, 1266, 1970, 2031, 3025], slug = \"assassin-s-creed-ii\", storyline = \"The lineage continues as this new chapter introduces Ezio, inheritor of the talents and creed of the Assassins. His family murdered by rival families, Ezio resolves to learn the ancient art of the Assassin in order to seek revenge. He will not do so alone though, allying with historical figures such as philosopher and writer Niccolò Machiavelli. You will also be able to master the art of the assassin with all new weapons and instruments created by the renowned inventor and genius of the Renaissance, Leonardo Da Vinci himself.\", summary = \"Discover an intriguing and epic story of power, revenge and conspiracy set during a pivotal moment in history: the Italian Renaissance. \\nExperience the freedom and immersion of an all new open world and mission structure with settings such as the rooftops and canals of beautiful Venice. Your options in combat, assassination and escape are vast, with many new weapons, settings and gameplay elements.\", tags = Any[1, 17, 18, 22, 23, 33, 38, 268435464, 268435487, 536870934  …  536882210, 536882386, 536882817, 536883865, 536883898, 536883948, 536883980, 536883994, 536884121, 536884253], themes = Any[1, 17, 18, 22, 23, 33, 38], total_rating = 88.74648033767775, total_rating_count = 1612, updated_at = 1602460800, url = \"https://www.igdb.com/games/assassin-s-creed-ii\", videos = Any[41, 3352], websites = Any[13748, 13749, 13750, 13751, 13752, 13753, 40149, 40150, 56797], checksum = \"764e6ef3-6f6e-d075-addb-7ec808ab03db\")\n",
       " (id = 733, age_ratings = Any[1342, 21348], aggregated_rating = 94, aggregated_rating_count = 6, alternative_names = Any[21962, 21963, 43995], bundles = Any[5850, 119155], category = 0, collection = 130, cover = 84847, created_at = 1317686400, external_games = Any[14741, 17938, 96696, 141517, 189680, 223583, 224899, 246155, 352225, 402356], first_release_date = 1035676800, follows = 745, franchises = Any[493], game_engines = Any[41], game_modes = Any[1], genres = Any[5, 10, 31, 33], hypes = 1, involved_companies = Any[8285, 20013, 63950, 63951], keywords = Any[17, 57, 79, 121, 128, 129, 155, 221, 222, 284  …  16042, 16043, 16044, 16045, 16046, 16047, 16048, 16716, 20709, 20710], name = \"Grand Theft Auto: Vice City\", platforms = Any[6, 8, 11, 14, 34, 39, 48], player_perspectives = Any[2], rating = 88.033766460078, rating_count = 1467, release_dates = Any[2204, 3319, 6715, 38066, 48659, 124933, 147097, 149893], screenshots = Any[8541, 23406, 23407, 23408, 23409], similar_games = Any[730, 731, 732, 1020, 1121, 3262, 3263, 3270, 19441], slug = \"grand-theft-auto-vice-city\", storyline = \"Welcome to Vice City. Welcome to the 1980s.  \\n  \\nHaving just made it back onto the streets of Liberty City after a long stretch in maximum security, Tommy Vercetti is sent to Vice City by his old boss, Sonny Forelli. They were understandably nervous about his re-appearance in Liberty City, so a trip down south seemed like a good idea. But all does not go smoothly upon his arrival in the glamorous, hedonistic metropolis of Vice City. He's set up and is left with no money and no merchandise. Sonny wants his money back, but the biker gangs, Cuban gangsters, and corrupt politicians stand in his way. Most of Vice City seems to want Tommy dead. His only answer is to fight back and take over the city himself.\", summary = \"In the year 1986, Tommy Vercetti is heavily indebted to his mafia superiors after a drug deal gone awry, but his dreams of taking over Vice City (based on Miami) push him down a different path. Featuring a wide variety of vehicles and weapons, radio stations playing hit songs from the era and an intense atmosphere, GTA: Vice City is an open-world sandbox satire of '80's Miami.\", tags = Any[1, 27, 38, 268435461, 268435466, 268435487, 268435489, 536870929, 536870969, 536870991  …  536886954, 536886955, 536886956, 536886957, 536886958, 536886959, 536886960, 536887628, 536891621, 536891622], themes = Any[1, 27, 38], total_rating = 91.016883230039, total_rating_count = 1473, updated_at = 1602374400, url = \"https://www.igdb.com/games/grand-theft-auto-vice-city\", videos = Any[3544, 3546, 18992, 19717], websites = Any[19244, 19245, 19246, 42934, 42943, 67035, 72600, 76329], checksum = \"801ec40b-36e4-1337-b7a0-b73e75ac4a48\")\n",
       " (id = 20, age_ratings = Any[344, 27000], aggregated_rating = 92.625, aggregated_rating_count = 10, alternative_names = Any[44029], artworks = Any[2210, 2211, 2212, 2213, 2214, 2215, 2216, 2217, 2218, 2219, 5783, 5784], bundles = Any[47467], category = 0, collection = 1, cover = 82656, created_at = 1297641600, dlcs = Any[23038], external_games = Any[14884, 79005, 81700, 95264, 141292, 189440, 213242, 231187, 246086, 403637, 1305117, 1305118, 1305119, 1305120, 1305121], first_release_date = 1187654400, follows = 708, game_engines = Any[6, 8], game_modes = Any[1], genres = Any[5], hypes = 1, involved_companies = Any[42277, 42278, 42279, 42280, 42281, 91803, 91804, 91805], keywords = Any[16, 22, 129, 132, 138, 170, 221, 271, 274, 301  …  12493, 13033, 13083, 13106, 14513, 17215, 18567, 20538, 22545, 22546], name = \"BioShock\", platforms = Any[6, 9, 12, 14, 39], player_perspectives = Any[1], rating = 87.73187571176439, rating_count = 1647, release_dates = Any[4971, 4972, 4973, 101888, 101889, 101890, 187429], screenshots = Any[5817, 5818, 5819, 5820, 5821], similar_games = Any[21, 533, 538, 1020, 1164, 2031, 3188, 9498, 11270], slug = \"bioshock\", storyline = \"BioShock takes place in 1960 in the middle of the Atlantic Ocean, where Jack, sole survivor of a plane crash, discovers the entrance to the recluse underwater city of Rapture, at the end of a civil war which left most of this utopia in disrepair. Finding himself in an alien world, he has no choice but to fight for his survival against the Splicers, degenerated citizens addicted to the genetic material known as ADAM, and all the traps laid down by the city's visionary founder, Andrew Ryan. His only help lies in Atlas, a revolutionary man seeking to escape safely to the surface with his family.\", summary = \"Set in the Objectivist underwater dystopia of Rapture in the '60's, Bioshock is a first-person shooter with the premise of arming and genetically modifying yourself in order to survive against the city's resident great minds-turned-maddened anomalies and aid Atlas in his mission to overthrow the city's cruel ruler, Andrew Ryan.\", tags = Any[1, 18, 19, 22, 268435461, 536870928, 536870934, 536871041, 536871044, 536871050  …  536883405, 536883945, 536883995, 536884018, 536885425, 536888127, 536889479, 536891450, 536893457, 536893458], themes = Any[1, 18, 19, 22], total_rating = 90.1784378558822, total_rating_count = 1657, updated_at = 1602460800, url = \"https://www.igdb.com/games/bioshock\", videos = Any[3353], websites = Any[15932, 15933, 131591, 131592, 131593, 146155], checksum = \"089e6a1b-06eb-a8c2-13aa-ac9553f04802\")\n",
       " ⋮\n",
       " (id = 2472, age_ratings = Any[1250], alternative_names = Any[1252, 41097, 41098, 41099, 41100, 41101], category = 0, collection = 187, cover = 88016, created_at = 1372982400, external_games = Any[16331, 154678, 246322], first_release_date = 623376000, follows = 74, franchises = Any[495], game_modes = Any[1], genres = Any[4, 8], involved_companies = Any[92415, 92416, 92418], keywords = Any[137, 227, 296, 301, 390, 558, 953, 1033, 1299, 1345  …  8212, 8779, 9532, 9551, 9721, 9942, 10072, 10175, 10452, 11253], name = \"Prince of Persia\", platforms = Any[8, 9, 12, 13, 14, 16, 18, 19, 22, 25, 26, 29, 33, 35, 63, 64, 78, 121], player_perspectives = Any[4], rating = 82.45037906873091, rating_count = 162, release_dates = Any[7147, 7148, 7149, 7150, 7151, 7152, 7155, 7156, 7157, 7158, 7159, 33119, 34614, 34615, 35750, 43584, 186996, 186997, 186998, 188256], screenshots = Any[18140, 18141, 355766, 355769], similar_games = Any[836, 837, 1103, 1185, 2437, 3222, 22565, 24426, 26855], slug = \"prince-of-persia--2\", storyline = \"The game is set in ancient Persia. While the sultan is fighting a war in a foreign land, his vizier Jaffar, a wizard, seizes power. His only obstacle to the throne is the Sultan's daughter (although the game never specifically mentions how). Jaffar locks her in a tower and orders her to become his wife, or she would die within 60 minutes (extended to 120 minutes in the Super NES version, which has longer and harder levels). The game's unnamed protagonist, whom the Princess loves, is thrown prisoner into the palace dungeons. In order to free her, he must escape the dungeons, get to the palace tower and defeat Jaffar before time runs out. But in addition to guards, various traps and dungeons, the protagonist is further hindered by his own doppelgänger, an apparition of his own self that is conjured out of a magic mirror.\", summary = \"The game is set in ancient Persia. While the sultan is fighting a war in a foreign land, his vizier Jaffar, a wizard, seizes power. Jaffar's only obstacle to the throne is the Sultan's daughter (although the game never specifically mentions how). Jaffar locks her in a tower and orders her, under threat of execution, to become his wife. The game's nameless protagonist, whom the Princess loves, is thrown into the palace dungeons. The player must lead the protagonist out of the dungeons and to the palace tower, defeating Jaffar and freeing the Princess in under 60 minutes. In addition to guards, various traps and dungeons, the protagonist is further hindered by his own doppelgänger, an apparition of his own self that is conjured out of a magic mirror.\", tags = Any[1, 268435460, 268435464, 536871049, 536871139, 536871208, 536871213, 536871302, 536871470, 536871865  …  536879124, 536879691, 536880444, 536880463, 536880633, 536880854, 536880984, 536881087, 536881364, 536882165], themes = Any[1], total_rating = 82.45037906873091, total_rating_count = 162, updated_at = 1601510400, url = \"https://www.igdb.com/games/prince-of-persia--2\", videos = Any[1402], websites = Any[692, 4520, 4521], checksum = \"f7423f78-fba1-1719-ee89-5668744f7cc1\")\n",
       " (id = 2064, aggregated_rating = 82.6666666666667, aggregated_rating_count = 7, alternative_names = Any[39589, 47083], category = 0, cover = 90251, created_at = 1369008000, external_games = Any[12947, 127189, 246775], first_release_date = 1359590400, follows = 74, game_engines = Any[6], game_modes = Any[1], genres = Any[8, 9, 31, 32], involved_companies = Any[38506, 38507], keywords = Any[72, 117, 156, 157, 158, 687, 966, 1158, 1202, 1289  …  6724, 7080, 7235, 7402, 7403, 7589, 9266, 9324, 10563, 11782], name = \"Antichamber\", platforms = Any[3, 6, 14], player_perspectives = Any[1], rating = 80.1492532721563, rating_count = 139, release_dates = Any[207397, 207398, 207399], screenshots = Any[101371, 101372, 101373, 396737, 396738, 396739, 396740, 396741, 396742, 396743], similar_games = Any[1906, 2939, 5601, 7342, 7386, 16992, 55173, 55190, 56033], slug = \"antichamber\", summary = \"Antichamber is a single-player first-person puzzle-platform video game. Many of the puzzles are based on phenomena that occur within the Impossible Objects created by the game engine, such as passages that lead the player to different locations depending on which way they face, and structures that seem otherwise impossible within normal three-dimensional space. The game includes elements of psychological exploration through brief messages of advice to help the player figure out solutions to the puzzles as well as adages for real life.\", tags = Any[18, 268435464, 268435465, 268435487, 268435488, 536870984, 536871029, 536871068, 536871069, 536871070  …  536877636, 536877992, 536878147, 536878314, 536878315, 536878501, 536880178, 536880236, 536881475, 536882694], themes = Any[18], total_rating = 81.40795996941151, total_rating_count = 146, updated_at = 1602374400, url = \"https://www.igdb.com/games/antichamber\", videos = Any[39684], websites = Any[21551, 21552, 21553, 21554], checksum = \"536ee81e-b5b3-4b6f-7f58-ffd66b489fcb\")\n",
       " (id = 544, age_ratings = Any[32, 10364], aggregated_rating = 76.6363636363636, aggregated_rating_count = 11, alternative_names = Any[14988, 14989, 45348, 45349], category = 0, collection = 293, cover = 76387, created_at = 1317600000, external_games = Any[13767, 74005, 83573, 91247, 93295, 93296, 99330, 99331, 136746, 189328, 213385, 281337, 402793, 1302791], first_release_date = 1328572800, follows = 74, game_engines = Any[416], game_modes = Any[1, 3], genres = Any[5], involved_companies = Any[3698, 3699], keywords = Any[21, 29, 129, 221, 296, 301, 453, 497, 558, 846  …  13083, 13106, 13109, 13478, 16104, 16105, 18139, 18567, 21316, 21317], multiplayer_modes = Any[791], name = \"The Darkness II\", platforms = Any[6, 9, 12], player_perspectives = Any[1], rating = 76.56679892843951, rating_count = 141, release_dates = Any[1211, 1212, 1213, 106147, 106148], screenshots = Any[1086, 1087, 1088, 1089, 1090], similar_games = Any[356, 495, 533, 564, 571, 960, 1006, 2031, 19441], slug = \"the-darkness-ii\", summary = \"Inspired by the popular comic book series produced by Top Cow Productions, Inc., The Darkness II is an intense first person shooter that delivers a twisted and gripping narrative of tragedy, modern crime drama, and supernatural horror. \\nPlayers will be taken down the brutal and personal path of Jackie Estacado, head of a New York crime family and wielder of an ancient and ruthless force of chaos and destruction known as The Darkness. \\nIt’s been two years since Jackie Estacado used The Darkness to kill the men responsible for his girlfriend’s murder. He’s been unable to shake the memory of Jenny’s death since bottling up his supernatural power and now The Darkness wants out. A sudden, unprovoked attack by a mysterious organization known as the Brotherhood heralds the start of a full-scale war and opens the door for The Darkness to reemerge, setting Jackie on a journey to hell and worse.\", tags = Any[1, 19, 21, 268435461, 536870933, 536870941, 536871041, 536871133, 536871208, 536871213  …  536883995, 536884018, 536884021, 536884390, 536887016, 536887017, 536889051, 536889479, 536892228, 536892229], themes = Any[1, 19, 21], total_rating = 76.60158128240155, total_rating_count = 152, updated_at = 1600732800, url = \"https://www.igdb.com/games/the-darkness-ii\", videos = Any[23735, 23736], websites = Any[66881, 66882, 111756, 113312], checksum = \"3775604d-d7e8-69a1-aede-19ae13f3ccff\")\n",
       " (id = 520, age_ratings = Any[28119, 28120], aggregated_rating = 76, aggregated_rating_count = 9, alternative_names = Any[6805, 23618, 44759, 44760, 44761], artworks = Any[5806], category = 0, collection = 95, cover = 86608, created_at = 1308009600, dlcs = Any[22985], expansions = Any[22886], external_games = Any[14615, 79718, 84269, 96331, 138263, 213535, 245668, 1304405, 1304572], first_release_date = 1234224000, follows = 74, game_engines = Any[61], game_modes = Any[1, 2], genres = Any[5], involved_companies = Any[1263, 51848], name = \"F.E.A.R. 2: Project Origin\", platforms = Any[6, 9, 12], player_perspectives = Any[1], rating = 77.5534233697244, rating_count = 170, release_dates = Any[1145, 1146, 1147, 102927, 102928, 102929], screenshots = Any[995, 996, 997, 998, 999], similar_games = Any[27270, 38030, 43367, 103281, 103292, 103298, 103301, 105049, 106805], slug = \"f-e-a-r-2-project-origin\", summary = \"The sequel to F.E.A.R. continues the original game's spine-tingling supernatural suspense story, of an escalating paranormal crisis that threatens to destroy a major American city. \\n \\nA routine assignment to locate the president of Armacham Technology Corporation in connection with an unfolding hostage crisis turns into a desperate battle for survival after an explosion decimates the city and unleashes Alma Wade, the terrifying supernatural menace at the center of Armacham’s highly classified Project Origin.\", tags = Any[1, 19, 268435461], themes = Any[1, 19], total_rating = 76.77671168486219, total_rating_count = 179, updated_at = 1602115200, url = \"https://www.igdb.com/games/f-e-a-r-2-project-origin\", videos = Any[31827], websites = Any[40618, 73434, 113864, 146261, 146262], checksum = \"dee6811a-387f-75e6-1a9c-3f08b0f038c5\")\n",
       " (id = 509, age_ratings = Any[159, 11793], aggregated_rating = 80.8, aggregated_rating_count = 14, alternative_names = Any[38132], artworks = Any[3963, 3964, 3965, 3966, 3967, 3968, 3969, 3970, 3971, 3972], category = 0, collection = 1427, cover = 91147, created_at = 1306886400, dlcs = Any[10751], external_games = Any[72963, 82049, 88774, 92783, 92784, 98260, 138255, 189040, 214036, 257127, 281299, 322612, 1303351], first_release_date = 1317686400, follows = 74, game_engines = Any[47], game_modes = Any[1, 2, 3], genres = Any[5, 10], involved_companies = Any[42068, 42069, 95298], keywords = Any[25, 69, 453, 466, 484, 778, 923, 970, 1025, 1459, 3627, 4345, 4918, 5633, 5845, 8196, 12307, 13509], multiplayer_modes = Any[11394, 11395], name = \"RAGE\", platforms = Any[6, 9, 12, 14], player_perspectives = Any[1, 2], rating = 74.1641302645416, rating_count = 181, release_dates = Any[26335, 26337, 26338, 26339, 26340, 26341, 26342, 26343, 26344, 26345, 26346, 26347, 26348, 26351, 105080, 105081], screenshots = Any[336, 337, 338, 339, 937], similar_games = Any[142, 673, 3772, 15443, 55038, 68286, 68287, 90099, 105269], slug = \"rage\", storyline = \"On August 23, 2029, the asteroid 99942 Apophis collides with Earth, destroying human civilization and turning the world into a wasteland. Survivors come together to form settlements around oases and other practical or habitable locations, while the wastes are plagued by various bandits clans, and mutants, who attack all normal humans in a voracious horde. \\n \\nIn 2135, former U.S. Marine Lieutenant Nicholas Raine emerges from an underground shelter called an Ark, 106 years after being put into stasis. These underground shelters are the direct result of the Eden Project, a massive international undertaking in which hundreds of Arks, containing cryogenic pods, were sealed under the surface of the Earth to preserve enough of the human population to rebuild civilization after the asteroid collision. The Eden Project was far less successful than hoped, as Raine's Ark in particular was heavily damaged, with all of its other residents dead and equipment destroyed, and he wakes up alone with no specific goal in mind. \\n \\nRaine enters the surface, where he is immediately attacked by bandits but is saved by Dan Hagar, a local wasteland settler who brings Raine to his settlement. Hagar informs him that a powerful technologically advanced organization known as the Authority, that considers itself the one true government of the wasteland, is hunting for Ark survivors for an unknown purpose. Raine briefly aids Hagar's settlement and others in the local area by completing a few small jobs, and during this time it is revealed that the nanotrites injected into Raine's blood before he was sent into hibernation have granted him superhuman abilities to help him survive the harsh environment, but have made him valuable to the Authority. Hagar believes Raine's continued presence is too dangerous for the settlement and sends him to the nearby town of Wellspring instead. \\n \\nIn Wellspring, Raine helps the town with various problems such as fighting off bandits, mutants, and ferrying supplies. Eventually, he comes into contact with Dr. Kvasir, an elderly scientist who previously worked for the Authority, who tells Raine about the inhumane experiments they were responsible for, such as the creation of the mutants. Kvasir puts him into contact with the Resistance, an armed anti-Authority group, where he is tasked with rescuing their leader, Captain Marshall, who has recently been imprisoned by the Authority. Raine again attracts attention from the Authority, forcing him to flee Wellspring and join the Resistance at their headquarters in Subway Town, where he earns the trust of the town and its tyrannical mayor, Redstone. He also learns what had happened in the past century from Captain Marshall, who is an Ark survivor himself. General Martin Cross, who was in charge of the Eden Project, sabotaged the operation shortly before 99942 Apophis struck the Earth by ensuring that only the Arks with people loyal to him were opened on schedule, with this first wave of Ark survivors eventually forming the Authority. The remaining Arks were supposed to stay underground forever in hibernation, including Raine's Ark, which surfaced only because its systems were damaged and it automatically rose to protect any surviving inhabitants. \\n \\nWith the Authority beginning to forcefully expand its influence on the wasteland settlements, the Resistance is forced to act with the help of Raine who can recover data that shows the location of every Ark on the planet. Captain Marshall plans to use this data to activate all the Arks and form an army that can defeat the Authority, but the only way to do this is to transmit the data from Capital Prime, the main headquarters for the Authority. Alone, Raine fights his way through Capital Prime to transmit the Ark activation code, and the game concludes with all the remaining Arks simultaneously becoming active and surfacing.\", summary = \"RAGE is a groundbreaking first-person shooter set in the not-too-distant future after an asteroid impacts Earth, leaving a ravaged world behind. You emerge into this vast wasteland to discover humanity working to rebuild itself against such forces as raider gangs, mutants, and the Authority – an oppressive government regime that has a special interest in you in particular. \\n \\nFeaturing intense first-person action, vehicle combat, an expansive world and jaw-dropping graphics powered by id’s revolutionary idTech 5 technology. RAGE promises an experience like no other.\", tags = Any[1, 18, 268435461, 268435466, 536870937, 536870981, 536871365, 536871378, 536871396, 536871690  …  536871937, 536872371, 536874539, 536875257, 536875830, 536876545, 536876757, 536879108, 536883219, 536884421], themes = Any[1, 18], total_rating = 77.4820651322708, total_rating_count = 195, updated_at = 1601683200, url = \"https://www.igdb.com/games/rage\", videos = Any[543], websites = Any[18261, 18262, 54021, 54022, 67050, 146719], checksum = \"c2890275-bb56-3903-6460-089d18bf13bb\")\n",
       " (id = 26855, age_ratings = Any[25554, 25555], aggregated_rating = 90.0833333333333, aggregated_rating_count = 17, artworks = Any[8445], bundles = Any[122268], category = 0, cover = 82243, created_at = 1484870400, dlcs = Any[116141, 127256], external_games = Any[940, 83116, 95837, 103533, 281233, 307361, 645423, 1344938, 1365954, 1458646, 1930489, 1931341, 1934279, 1938148], first_release_date = 1533600000, follows = 73, game_engines = Any[610], game_modes = Any[1], genres = Any[8, 31, 32], hypes = 7, involved_companies = Any[97154], keywords = Any[117, 227, 296, 416, 477, 578, 1033, 1158, 1967, 1982  …  4389, 4390, 4391, 4392, 4393, 4394, 5019, 23379, 23380, 23381], name = \"Dead Cells\", platforms = Any[3, 6, 14, 34, 39, 48, 49, 130], player_perspectives = Any[4], rating = 83.2985741973788, rating_count = 202, release_dates = Any[155642, 155643, 155644, 155645, 156599, 156600, 175078, 192710], screenshots = Any[42978, 42979, 42980, 42981, 42982], similar_games = Any[3222, 11646, 18182, 19150, 23733, 26226, 36198, 55190, 56033], slug = \"dead-cells\", summary = \"Dead Cells is a rogue-lite, metroidvania inspired, action-platformer. You'll explore a sprawling, ever-changing castle... assuming you’re able to fight your way past its keepers in 2D souls-lite combat. No checkpoints. Kill, die, learn, repeat.\", tags = Any[1, 17, 18, 268435464, 268435487, 268435488, 536871029, 536871139, 536871208, 536871328  …  536875301, 536875302, 536875303, 536875304, 536875305, 536875306, 536875931, 536894291, 536894292, 536894293], themes = Any[1, 17, 18], total_rating = 86.69095376535606, total_rating_count = 219, updated_at = 1602374400, url = \"https://www.igdb.com/games/dead-cells\", videos = Any[11789, 13742, 17957, 21116, 21487, 27094], websites = Any[21863, 21864, 65673, 69402, 69403, 94894, 94895, 94896, 121205, 138087, 138108], checksum = \"1625c3ac-de8a-7ed1-4b75-5bbd6655200c\")\n",
       " (id = 26761, age_ratings = Any[13837, 13838], aggregated_rating = 82.4705882352941, aggregated_rating_count = 20, artworks = Any[6172], bundles = Any[136382], category = 0, collection = 2584, cover = 101069, created_at = 1484265600, expansions = Any[103364], external_games = Any[35472, 75799, 104316, 189723, 220482, 281217, 1865392, 1865493, 1865574, 1865723  …  1929220, 1930409, 1930796, 1930940, 1931002, 1931420, 1931467, 1933769, 1934811, 1937930], first_release_date = 1500595200, follows = 73, game_modes = Any[1, 2], genres = Any[5, 8], hypes = 14, involved_companies = Any[46349, 46350], keywords = Any[897, 1025, 1333, 2049, 2071, 2229, 4161, 4438, 4466, 4706, 4707, 6022, 12087, 12088, 12091, 12556], multiplayer_modes = Any[5168], name = \"Splatoon 2\", platforms = Any[130], player_perspectives = Any[2], rating = 83.02902778164591, rating_count = 96, release_dates = Any[99451], screenshots = Any[43924, 43925, 43926, 173585, 173586, 173587, 173588, 173589, 173590, 173591, 173592, 173593], similar_games = Any[10039, 20342, 24426, 25076, 26192, 38030, 55190, 89597, 105049], slug = \"splatoon-2\", summary = \"Splatoon 2 is a multiplayer third-person shooter in which players control characters known as Inklings and use colored ink to attack opponents and clear goals. Inklings can alternate between humanoid form, during which they can fire ink with their weapons, and squid form, which allows them to swim through ink of their own color in order to move quickly and replenish ink supplies.\", tags = Any[1, 268435461, 268435464, 536871809, 536871937, 536872245, 536872961, 536872983, 536873141, 536875073, 536875350, 536875378, 536875618, 536875619, 536876934, 536882999, 536883000, 536883003, 536883468], themes = Any[1], total_rating = 82.74980800847001, total_rating_count = 116, updated_at = 1601942400, url = \"https://www.igdb.com/games/splatoon-2\", videos = Any[11651, 13838, 14426, 15129], websites = Any[21896, 21897, 21898], checksum = \"7a1743bc-e2b0-b235-0834-78930f91fb5a\")\n",
       " (id = 23248, age_ratings = Any[22557], aggregated_rating = 86.2222222222222, aggregated_rating_count = 10, alternative_names = Any[24633, 50367], artworks = Any[2, 3, 4], category = 0, cover = 64984, created_at = 1472515200, expansions = Any[109637, 124965, 134402, 135952], external_games = Any[105606, 184571, 360625, 1184697, 1721689], first_release_date = 1524528000, follows = 73, game_engines = Any[578], game_modes = Any[1], genres = Any[13, 15, 32], hypes = 14, involved_companies = Any[54543], keywords = Any[117, 649, 906, 1148, 4134, 4154], name = \"Frostpunk\", platforms = Any[6, 48, 49], player_perspectives = Any[3], rating = 83.9952598880356, rating_count = 119, release_dates = Any[148862, 174251, 174252], screenshots = Any[151397, 151398, 151399, 151400, 151401, 151402, 193517, 193518, 193519, 209491, 209492, 209493], similar_games = Any[17111, 17130, 17519, 18623, 19376, 26145, 31515, 51945, 55590], slug = \"frostpunk\", storyline = \"In an entirely frozen world, people develop steam-powered technology to oppose the overwhelming cold. The city’s ruler has to manage both the citizens and the infrastructure they live in. The leader’s tactical skills face challenges that will frequently question morality and the basic foundations of what we consider organized society. Optimization and resource management often clash with empathy and thoughtful decision-making. While city and society management will consume most of the ruler’s time, at some point exploration of the outside world is necessary to understand its history and present state. \\n \\nWhat decisions will you make to ensure the survival of your society? What will you do when pushed to the limit? And... \\n \\n...who will you become in the process?\", summary = \"In a completely frozen world, people develop steam-powered technology to oppose the overwhelming cold. Society in its current form becomes ineffective and it has to change in order to survive.\", tags = Any[21, 268435469, 268435471, 268435488, 536871029, 536871561, 536871818, 536872060, 536875046, 536875066], themes = Any[21], total_rating = 85.1087410551289, total_rating_count = 129, updated_at = 1602115200, url = \"https://www.igdb.com/games/frostpunk\", videos = Any[9867, 13158, 15726, 19029, 20825], websites = Any[20554, 20555, 54951, 57525, 66393, 77311, 80409, 80410], checksum = \"047de94d-47ff-c1dd-22ae-bfef9d0579b3\")\n",
       " (id = 857, aggregated_rating = 83.3333333333333, aggregated_rating_count = 3, alternative_names = Any[37735, 46255], category = 0, collection = 99, cover = 77424, created_at = 1317686400, external_games = Any[14065, 38068, 72621, 73129, 77948, 89695, 132463, 156945, 247262], first_release_date = 983404800, follows = 73, game_modes = Any[1, 2, 3], genres = Any[5], hypes = 1, involved_companies = Any[1881, 1882], name = \"Serious Sam: The First Encounter\", platforms = Any[3, 6, 11, 36], player_perspectives = Any[1], rating = 80.01906284440251, rating_count = 140, release_dates = Any[1850, 2333, 2334, 2335], screenshots = Any[14344, 14345], similar_games = Any[306, 103281, 103292, 103298, 103301, 103329, 105049, 105269, 113362], slug = \"serious-sam-the-first-encounter\", summary = \"A first person shooter extravaganza where you take the role of Serious Sam, a badass killer whose goal is to defeat monsters commanded by Mental, an extraterrestrial entity that wants to destroy humanity.\\n\\nSerious Sam is a high-adrenaline arcade-action shooter heavily focused on frantic arcade-style single player action. In a world where cyberpunk meets fantasy-fiction and advanced technology is mixed with black magic and psycho-powers, Sam travels through the beautiful world of ancient Egypt and several diverse planets, confronting countless Mental's minions on his way to the Mental's base.Key Features\\n\\nFrantic Arcade-Style Action - Fight your way through 15+ nightmarish warriors in Mental's army, including the charging Sirian Werebull, screaming Headless Kamikaze and other crazy monsters, and finally challenge the multi-story Ugh-Zan boss!\", tags = Any[1, 18, 268435461], themes = Any[1, 18], total_rating = 81.6761980888679, total_rating_count = 143, updated_at = 1602374400, url = \"https://www.igdb.com/games/serious-sam-the-first-encounter\", videos = Any[3551], websites = Any[4643, 119568], checksum = \"5e2de017-ace4-c8d4-d2cb-15cbd8031e66\")\n",
       " (id = 3221, age_ratings = Any[8992, 23418], aggregated_rating = 86, aggregated_rating_count = 14, category = 0, collection = 6096, cover = 102942, created_at = 1386115200, external_games = Any[12574, 56894, 77884, 82406, 82408, 82410, 98469, 118111, 210856, 245682, 401681, 401682, 401684, 1238179, 1605947], first_release_date = 1372291200, follows = 72, game_modes = Any[1, 3], genres = Any[8, 12, 31, 32, 33], involved_companies = Any[34969, 37166], keywords = Any[16, 72, 117, 151, 163, 164, 226, 227, 274, 296  …  6675, 6676, 6677, 17215, 17436, 18722, 18784, 19907, 19908, 20038], multiplayer_modes = Any[8238], name = \"Rogue Legacy\", platforms = Any[3, 6, 9, 14, 45, 46, 48, 49, 130], player_perspectives = Any[4], rating = 77.9511126205548, rating_count = 184, release_dates = Any[7336, 7337, 7341, 53104, 53105, 53106, 53107, 105335, 105336, 136261, 160331], screenshots = Any[25658, 25659, 25660, 25661, 25662], similar_games = Any[533, 832, 1035, 1879, 2939, 7789, 8456, 11270, 12597], slug = \"rogue-legacy\", summary = \"You control a family of characters one at a time, and when your character dies, you choose who his or her successor is, whether it is a barbarian son of yours who has OCD, your daughter who became a ninja even though she can't see well, an assassin who is fighting for the gays, or a miner who wants to collect gold! Traits are randomized each time upon death, leading to multiple playthroughs with 35 traits, each character will be unique.\", tags = Any[1, 17, 22, 27, 268435464, 268435468, 268435487, 268435488, 268435489, 536870928  …  536877587, 536877588, 536877589, 536888127, 536888348, 536889634, 536889696, 536890819, 536890820, 536890950], themes = Any[1, 17, 22, 27], total_rating = 81.9755563102774, total_rating_count = 198, updated_at = 1601683200, url = \"https://www.igdb.com/games/rogue-legacy\", videos = Any[1771], websites = Any[47826, 47827, 119492, 138059, 138060], checksum = \"a6be5d4a-9d42-c564-5f90-7d6156b42bd9\")\n",
       " (id = 3155, age_ratings = Any[1222, 13032], aggregated_rating = 80.8333333333333, aggregated_rating_count = 6, alternative_names = Any[3902, 3903, 3904, 3906, 3907, 9055, 9056, 17944, 30947, 41568], category = 0, collection = 2812, cover = 94193, created_at = 1384387200, expansions = Any[3156], external_games = Any[25224, 152589, 213774, 246232], first_release_date = 1141257600, follows = 72, franchise = 11, franchises = Any[11], game_engines = Any[130], game_modes = Any[1, 2, 3], genres = Any[11, 15], involved_companies = Any[8092, 51861], keywords = Any[2, 96, 147, 226, 227, 296, 332, 392, 415, 490  …  10110, 10604, 10739, 11347, 12123, 13066, 13106, 13133, 14235, 15359], name = \"The Lord of the Rings: The Battle for Middle-earth II\", platforms = Any[6, 12], player_perspectives = Any[3], rating = 82.11972213091171, rating_count = 141, release_dates = Any[27612, 27613, 27614, 27615], screenshots = Any[27907, 110034, 110035], similar_games = Any[848, 2365, 3154, 6500, 7027, 7056, 9058, 9256, 9834], slug = \"the-lord-of-the-rings-the-battle-for-middle-earth-ii\", status = 5, summary = \"Lord of the Rings, The Battle for Middle-Earth II: The Rise of the Witch-King expands the universe Tolkien created. This expansion pack to the fan favorite game series lets you command the rise of evil in Middle-earth while experiencing the epic battles that took place before the films. \\n \\nBecome the leader of an evil faction and lead an invasion of the peaceful kingdom of Arnor, home of Aragorn's ancestors. \\nTo fully experience the evil side of Middle-earth, gamers can now play as the all new Angmar faction in skirmish, multiplayer, and War of the Ring modes.\", tags = Any[17, 39, 268435467, 268435471, 536870914, 536871008, 536871059, 536871138, 536871139, 536871208  …  536881022, 536881516, 536881651, 536882259, 536883035, 536883978, 536884018, 536884045, 536885147, 536886271], themes = Any[17, 39], total_rating = 81.4765277321225, total_rating_count = 147, updated_at = 1602460800, url = \"https://www.igdb.com/games/the-lord-of-the-rings-the-battle-for-middle-earth-ii\", videos = Any[4541], websites = Any[1092, 51554, 51555], checksum = \"dea8e0ca-e7a1-b571-b315-ad614466ec34\")\n",
       " (id = 1058, age_ratings = Any[28976, 28977], aggregated_rating = 96, aggregated_rating_count = 12, alternative_names = Any[37786, 37787, 37788, 48446, 48447, 48448], artworks = Any[3560, 3561, 3562, 3563, 3564, 3565, 5903, 5904], category = 0, collection = 238, cover = 79903, created_at = 1329350400, external_games = Any[56786, 72507, 80536, 80538, 93160, 138322, 247612], first_release_date = 1225065600, follows = 72, franchises = Any[800], game_modes = Any[1, 2, 3], genres = Any[8], involved_companies = Any[4506, 104330], keywords = Any[1495, 2049, 3224, 6274, 19707], multiplayer_modes = Any[11300], name = \"LittleBigPlanet\", platforms = Any[9], player_perspectives = Any[4], rating = 78.8204272453329, rating_count = 170, release_dates = Any[107801, 107802, 107803], screenshots = Any[1163, 1164, 1165, 1166, 1167], similar_games = Any[19164, 20342, 24426, 37001, 77349, 77529, 109581, 113360, 119156], slug = \"littlebigplanet\", storyline = \"LittleBigPlanet is set in a world full of creations made by Creator Curators. One of the Curators, a rogue Creator called \\\"the Collector\\\", is stealing the other Creators' creations and not sharing them with the world (sharing is one of the core elements of LittleBigPlanet). Play starts at the \\\"Gardens\\\" level, where the player meets the King, one of the Curators; the Queen; Little Xim; Big Zam and Dumpty. The player is taught the basic gameplay at this stage: running, jumping, and grabbing. The next setting is the \\\"Savannah\\\", where the player accidentally breaks one of the ruler's creations. In return for forgiveness the player must investigate what's scaring the ruler's buffalo. Further adventures involve finding Meerkat Mum's son and a Bridegroom (a story arc with a Day of the Dead theme). After the wedding play moves to the \\\"Canyons\\\", where the player must rescue Uncle Jalapeño and defeat the evil Sheriff Zapata. After completing this the player is taken to the \\\"Metropolis\\\" and gets a car for a race scenario. The next adventure takes place on the \\\"Islands\\\", where the player is trained in martial arts and must defeat the Terrible Oni. From there the player goes to the \\\"Temples\\\", to get a flame-throwing cat. Here they meet the Great Magician, who tells them to defeat the Collector in his \\\"Wilderness\\\". After the final battle the Collector is revealed to be a little, lonely man who kidnapped everyone because he did not have any friends. Everyone, including the player, offers to be his friend and he accepts, ending his being evil.\", summary = \"The core mechanics of the series revolve around its tagline \\\"Play, Create, Share\\\". \\nThe Play component involves players taking control of Sackboy and navigating him through various levels. In the first two instalments of the series, gameplay consisted primarily of traditional platforming like jumping and avoiding obstacles to successfully navigate to the end of a level to win. Since LittleBigPlanet 2, gameplay has expanded to being a \\\"platform for games\\\" with the introduction of numerous mini-games and other genres into the game diversifying the game from being strictly a traditional platforming game. Most LittleBigPlanet games involve a player playing solo or co-operatively with friends to navigate through a level whilst collecting various \\\"prize bubbles\\\" along the way. These prize bubbles come in two types, small ones which constitute points and larger ones that contain new costumes, stickers or other type of collectibles that can be used to customise Sackboy or in level creation. There are also numerous co-operative parts of levels whereby certain prize bubbles can only be collected with the help of at least one player or more depending on the number of players stated in the level.\", tags = Any[17, 27, 33, 35, 268435464, 536872407, 536872961, 536874136, 536877186, 536890619], themes = Any[17, 27, 33, 35], total_rating = 87.41021362266645, total_rating_count = 182, updated_at = 1601164800, url = \"https://www.igdb.com/games/littlebigplanet\", videos = Any[756], websites = Any[132357, 147560, 147561, 147562, 147563, 147564, 147565, 147704], checksum = \"1afcd1fc-ee3d-fd15-c812-c968b8f0fc47\")"
      ]
     },
     "execution_count": 10,
     "metadata": {},
     "output_type": "execute_result"
    }
   ],
   "source": [
    "games_infor_follows = JSON2.read(IOBuffer(games_follows.body))"
   ]
  },
  {
   "cell_type": "code",
   "execution_count": 11,
   "metadata": {},
   "outputs": [
    {
     "data": {
      "text/plain": [
       "25-element Array{Symbol,1}:\n",
       " :id\n",
       " :url\n",
       " :version_parent\n",
       " :age_ratings\n",
       " :follows\n",
       " :total_rating\n",
       " :total_rating_count\n",
       " :release_dates\n",
       " :status\n",
       " :category\n",
       " :hypes\n",
       " :genres\n",
       " :themes\n",
       " :keywords\n",
       " :player_perspectives\n",
       " :storyline\n",
       " :summary\n",
       " :tags\n",
       " :game_engines\n",
       " :game_modes\n",
       " :multiplayer_modes\n",
       " :involved_companies\n",
       " :platforms\n",
       " :similar_games\n",
       " :name"
      ]
     },
     "execution_count": 11,
     "metadata": {},
     "output_type": "execute_result"
    }
   ],
   "source": [
    "# filter : creadted_at\n",
    "features = [:id, \n",
    "    :url,\n",
    "    :version_parent, \n",
    "    :age_ratings, \n",
    "    :follows,\n",
    "    :total_rating, \n",
    "    :total_rating_count,\n",
    "    :release_dates, \n",
    "    :status, \n",
    "    :category, \n",
    "    :hypes, \n",
    "    :genres,\n",
    "    :themes, \n",
    "    :keywords, \n",
    "    :player_perspectives, \n",
    "    :storyline, \n",
    "    :summary,\n",
    "    :tags,\n",
    "    :game_engines, \n",
    "    :game_modes, \n",
    "    :multiplayer_modes, \n",
    "    :involved_companies, \n",
    "    :platforms, \n",
    "    :similar_games,\n",
    "    :name]"
   ]
  },
  {
   "cell_type": "code",
   "execution_count": 12,
   "metadata": {},
   "outputs": [
    {
     "data": {
      "text/plain": [
       "get_this (generic function with 1 method)"
      ]
     },
     "execution_count": 12,
     "metadata": {},
     "output_type": "execute_result"
    }
   ],
   "source": [
    "function get_this(x,column_name)\n",
    "    try\n",
    "    result = getindex(x,column_name)\n",
    "    return result\n",
    "    catch\n",
    "        return \"Null\"\n",
    "    end\n",
    "end"
   ]
  },
  {
   "cell_type": "code",
   "execution_count": 13,
   "metadata": {},
   "outputs": [
    {
     "data": {
      "text/plain": [
       "25-element Array{Array{T,1} where T,1}:\n",
       " [1020, 1942, 472, 732, 72, 233, 71, 1009, 74, 231  …  544, 520, 509, 26855, 26761, 23248, 857, 3221, 3155, 1058]\n",
       " [\"https://www.igdb.com/games/grand-theft-auto-v\", \"https://www.igdb.com/games/the-witcher-3-wild-hunt\", \"https://www.igdb.com/games/the-elder-scrolls-v-skyrim\", \"https://www.igdb.com/games/grand-theft-auto-san-andreas\", \"https://www.igdb.com/games/portal-2\", \"https://www.igdb.com/games/half-life-2\", \"https://www.igdb.com/games/portal\", \"https://www.igdb.com/games/the-last-of-us\", \"https://www.igdb.com/games/mass-effect-2\", \"https://www.igdb.com/games/half-life\"  …  \"https://www.igdb.com/games/the-darkness-ii\", \"https://www.igdb.com/games/f-e-a-r-2-project-origin\", \"https://www.igdb.com/games/rage\", \"https://www.igdb.com/games/dead-cells\", \"https://www.igdb.com/games/splatoon-2\", \"https://www.igdb.com/games/frostpunk\", \"https://www.igdb.com/games/serious-sam-the-first-encounter\", \"https://www.igdb.com/games/rogue-legacy\", \"https://www.igdb.com/games/the-lord-of-the-rings-the-battle-for-middle-earth-ii\", \"https://www.igdb.com/games/littlebigplanet\"]\n",
       " Any[\"Null\", \"Null\", \"Null\", \"Null\", \"Null\", \"Null\", \"Null\", \"Null\", \"Null\", \"Null\"  …  \"Null\", \"Null\", \"Null\", \"Null\", \"Null\", \"Null\", \"Null\", \"Null\", \"Null\", \"Null\"]\n",
       " Any[Any[990, 12749], Any[9776, 11875], Any[11842, 11843], Any[1444, 5369], Any[11721, 29684], Any[828, 11281], Any[984, 4395], Any[11042, 23999], Any[4666, 11490], Any[4903, 11277]  …  Any[32, 10364], Any[28119, 28120], Any[159, 11793], Any[25554, 25555], Any[13837, 13838], Any[22557], \"Null\", Any[8992, 23418], Any[1222, 13032], Any[28976, 28977]]\n",
       " [1687, 1455, 1024, 949, 947, 886, 881, 832, 783, 782  …  74, 74, 74, 73, 73, 73, 73, 72, 72, 72]\n",
       " [93.45144718197805, 93.7024153807788, 91.8854795176403, 91.7522163826541, 91.89027296512485, 90.9796704399767, 83.59863083719605, 92.98939641706455, 93.7107821307133, 84.95363195890701  …  76.60158128240155, 76.77671168486219, 77.4820651322708, 86.69095376535606, 82.74980800847001, 85.1087410551289, 81.6761980888679, 81.9755563102774, 81.4765277321225, 87.41021362266645]\n",
       " [2724, 2415, 2143, 1823, 2084, 1748, 1872, 1800, 1557, 1508  …  152, 179, 195, 219, 116, 129, 143, 198, 147, 182]\n",
       " Array{Any,1}[[20290, 20291, 20293, 20294, 27436, 103344, 103345, 133723, 133724, 136048], [23743, 23744, 23745], [21154, 21155, 21156, 21664, 21666, 106167, 106168, 106169], [1613, 1614, 2203, 3317, 3318, 19227, 48660, 55583, 123523, 123524, 147098], [104964, 104965, 208203, 208204, 208205, 208206, 208207, 208208], [21490, 21491, 21492, 21493, 21494, 21495, 21496, 21497, 21498, 21529, 21530, 21531, 21532, 21533, 21534, 21535, 182662], [196895, 196896, 196897, 196898, 196899, 196900, 196901, 196902, 196903, 196904, 196905, 196906], [106244, 106245], [20909, 20910, 20911, 20912, 20913, 20914, 20917, 107956, 107957], [193587, 193588, 205331, 205332]  …  [1211, 1212, 1213, 106147, 106148], [1145, 1146, 1147, 102927, 102928, 102929], [26335, 26337, 26338, 26339, 26340, 26341, 26342, 26343, 26344, 26345, 26346, 26347, 26348, 26351, 105080, 105081], [155642, 155643, 155644, 155645, 156599, 156600, 175078, 192710], [99451], [148862, 174251, 174252], [1850, 2333, 2334, 2335], [7336, 7337, 7341, 53104, 53105, 53106, 53107, 105335, 105336, 136261, 160331], [27612, 27613, 27614, 27615], [107801, 107802, 107803]]\n",
       " Any[\"Null\", \"Null\", \"Null\", \"Null\", \"Null\", \"Null\", \"Null\", \"Null\", \"Null\", \"Null\"  …  \"Null\", \"Null\", \"Null\", \"Null\", \"Null\", \"Null\", \"Null\", \"Null\", 5, \"Null\"]\n",
       " [0, 0, 0, 0, 0, 0, 0, 0, 0, 0  …  0, 0, 0, 0, 0, 0, 0, 0, 0, 0]\n",
       " Any[\"Null\", 179, \"Null\", 2, \"Null\", \"Null\", \"Null\", \"Null\", 1, \"Null\"  …  \"Null\", \"Null\", \"Null\", 7, 14, 14, 1, \"Null\", \"Null\", \"Null\"]\n",
       " Array{Any,1}[[5, 10, 14, 31], [12, 31], [12, 31], [5, 10, 31], [5, 8, 9, 31], [5], [5, 8, 9], [5, 31], [5, 12, 13], [5, 9, 31]  …  [5], [5], [5, 10], [8, 31, 32], [5, 8], [13, 15, 32], [5], [8, 12, 31, 32, 33], [11, 15], [8]]\n",
       " Any[Any[1, 27, 33, 38], Any[1, 17, 38], Any[1, 17, 33, 38], Any[1, 32, 38], Any[1, 18, 27], Any[1, 18, 19], Any[1, 18, 27], Any[1, 19, 21, 23], Any[1, 18], Any[1, 18, 19, 20, 39]  …  Any[1, 19, 21], Any[1, 19], Any[1, 18], Any[1, 17, 18], Any[1], Any[21], Any[1, 18], Any[1, 17, 22, 27], Any[17, 39], Any[17, 27, 33, 35]]\n",
       " Any[Any[3, 11, 17, 21, 22, 25, 30, 57, 64, 72  …  16745, 17215, 17569, 19073, 19662, 19699, 19700, 19701, 19702, 22980], Any[129, 151, 227, 296, 537, 592, 617, 623, 665, 770  …  8202, 15075, 15076, 16826, 16828, 16894, 18730, 19424, 19425, 19426], Any[22, 96, 121, 129, 132, 151, 159, 211, 221, 226  …  12321, 12322, 12323, 12324, 12325, 12326, 12327, 12328, 12329, 12330], Any[11, 17, 21, 57, 58, 72, 79, 109, 129, 132  …  11656, 11699, 11702, 12385, 13217, 15444, 15445, 16204, 22668, 22669], Any[350, 453, 592, 1026, 1027, 1158, 1181, 1293, 1440, 1559  …  9814, 10435, 11023, 11208, 12516, 14224, 18139, 18567, 21739, 21740], Any[3, 5, 453, 466, 540, 605, 970, 1089, 1120, 1158  …  10452, 10672, 10756, 11580, 12159, 12169, 13474, 14603, 15622, 15654], Any[129, 137, 350, 558, 575, 603, 962, 966, 970, 1152  …  12127, 12442, 12731, 13033, 13083, 13213, 14224, 14380, 14512, 14513], Any[64, 69, 132, 159, 161, 221, 222, 283, 339, 380  …  11577, 11578, 11579, 11580, 11581, 11582, 16717, 17215, 19437, 20474], Any[3, 22, 72, 129, 159, 201, 274, 284, 301, 558  …  14343, 14344, 14345, 14346, 14347, 14348, 14349, 18567, 22014, 22015], Any[3, 22, 129, 137, 301, 453, 466, 558, 563, 594  …  12307, 12972, 13032, 13120, 13121, 13213, 14369, 14512, 15300, 15480]  …  Any[21, 29, 129, 221, 296, 301, 453, 497, 558, 846  …  13083, 13106, 13109, 13478, 16104, 16105, 18139, 18567, 21316, 21317], \"Null\", Any[25, 69, 453, 466, 484, 778, 923, 970, 1025, 1459, 3627, 4345, 4918, 5633, 5845, 8196, 12307, 13509], Any[117, 227, 296, 416, 477, 578, 1033, 1158, 1967, 1982  …  4389, 4390, 4391, 4392, 4393, 4394, 5019, 23379, 23380, 23381], Any[897, 1025, 1333, 2049, 2071, 2229, 4161, 4438, 4466, 4706, 4707, 6022, 12087, 12088, 12091, 12556], Any[117, 649, 906, 1148, 4134, 4154], \"Null\", Any[16, 72, 117, 151, 163, 164, 226, 227, 274, 296  …  6675, 6676, 6677, 17215, 17436, 18722, 18784, 19907, 19908, 20038], Any[2, 96, 147, 226, 227, 296, 332, 392, 415, 490  …  10110, 10604, 10739, 11347, 12123, 13066, 13106, 13133, 14235, 15359], Any[1495, 2049, 3224, 6274, 19707]]\n",
       " Any[Any[1, 2], Any[2], Any[1, 2], Any[1, 2], Any[1], Any[1], Any[1], Any[2], Any[2], Any[1]  …  Any[1], Any[1], Any[1, 2], Any[4], Any[2], Any[3], Any[1], Any[4], Any[3], Any[4]]\n",
       " [\"Los Santos: a sprawling sun-soaked metropolis full of self-help gurus, starlets and fading celebrities, once the envy of the Western world, now struggling to stay afloat in an era of economic uncertainty and cheap reality TV. \\n \\nAmidst the turmoil, three very different criminals plot their own chances of survival and success: Franklin, a street hustler looking for real opportunities and serious money; Michael, a professional ex-con whose retirement is a lot less rosy than he hoped it would be; and Trevor, a violent maniac driven by the chance of a cheap high and the next big score. Running out of options, the crew risks everything in a series of daring\", \"The Witcher 3: Wild Hunt concludes the story of the witcher Geralt of Rivia, the series' protagonist, whose story to date has been covered in the previous installments. Geralt's new mission comes in dark times as the mysterious and otherworldly army known as the Wild Hunt invades the Northern Kingdoms, leaving only blood soaked earth and fiery ruin in its wake; and it seems the Witcher is the key to stopping their cataclysmic rampage.\", \"The Empire of Tamriel is on the edge. The High King of Skyrim has been murdered. Alliances form as claims to the throne are made. In the midst of this conflict, a far more dangerous, ancient evil is awakened. Dragons, long lost to the passages of the Elder Scrolls, have returned to Tamriel. The future of Skyrim, even the Empire itself, hangs in the balance as they wait for the prophesized Dragonborn to come; a hero born with the power of The Voice, and the only one who can stand amongst the dragons.\", \"Five years ago, Carl Johnson escaped from the pressures of life in Los Santos, San Andreas, a city tearing itself apart with gang trouble, drugs and corruption. Where filmstars and millionaires do their best to avoid the dealers and gangbangers. \\nNow, it’s the early 90’s. Carl’s got to go home. His mother has been murdered, his family has fallen apart and his childhood friends are all heading towards disaster. \\n \\nOn his return to the neighborhood, a couple of corrupt cops frame him for homicide. CJ is forced on a journey that takes him across the entire state of San Andreas, to save his family and to take control of the streets.\", \"You lost your memory, you are alone in a world full of danger, and your mission is survive using your mind. The only way to get out from this hell is.....Hi i'm GLAdOS, and welcome to the amazing world of portal 2, here i will expose you to a lot of tests, and try to k.. help Aperture Science envolve in a new era. \\nYour job is advance in the levels i propose and get better and better, you will have an portal gun to help you, and remember nothing is impossible if you try, and try again and again and again.... \\nThe puzzles are waiting for you!\", \"Gordon Freeman is brought out of stasis by the G-Man, who inserts him into a train arriving at City 17. After arriving at the station and eluding Combine forces, Gordon joins Lambda resistance members including Barney Calhoun, a former Black Mesa security guard now working undercover as a Combine CP officer, and Alyx Vance, the daughter of one of Gordon's former colleagues, Dr. Eli Vance. After a failed attempt to teleport Gordon to Black Mesa East from Dr. Kleiner's makeshift laboratory, Gordon, re-equipped with the HEV suit and a crowbar, is forced to embark on foot through the city's old canal system. After obtaining an airboat, he battles his way to Black Mesa East, several miles from the city. \\nGordon is reintroduced to Eli and meets Dr. Judith Mossman. Alyx introduces Gordon to her large pet robot D0g and gives him a \\\"Gravity Gun\\\", a weapon which allows Gordon to pick up and move any large object with ease. Black Mesa East soon comes under Combine attack and Eli and Mossman are captured to be taken to a Combine prison, Nova Prospekt. Gordon and Alyx are forced to take separate paths to Nova Prospekt; Gordon takes a detour through the town of Ravenholm, receiving help from its last survivor, Father Grigori. After making his way through the town and a mine, Gordon makes his way to a Resistance outpost. Gordon is provided with a Dune Buggy, which he uses to travel along a crumbling coastal road to Nova Prospekt. Along the way, Gordon encounters frequent Combine patrols, and helps one of the resistance leaders, Colonel Odessa Cubbage, to defend a Resistance base from a Combine gunship. \\nAfter crossing an antlion-infested beach, Gordon enters Nova Prospekt, where he is reunited with Alyx. They manage to locate Eli, but also discover that Mossman is a Combine informant. Before they can stop her, she teleports herself and Eli back to City 17's Citadel. The Combine teleporter explodes as Gordon and Alyx use it to escape Nova Prospekt. \\nUpon reaching Kleiner's lab, a shaken Dr. Kleiner reveals to Gordon and Alyx that they were caught in a \\\"slow teleport\\\", during which a week had passed. In their absence, the Resistance, who heard about what had happened at Nova Prospekt, has mobilized against the Combine, turning City 17 into a battleground. During the fighting, Alyx is captured by the Combine and taken to the Citadel, and Gordon fights through the city with the aid of D0g and Barney to reach it. Inside the Citadel, he is caught in a Combine confiscation chamber that destroys all of his weapons except for the Gravity Gun, the energy enhancing its capabilities and allowing Gordon to escape and dispatch platoons of Combine soldiers. \\nEventually, Gordon is captured riding in a Combine transport pod and is taken to Dr. Breen's office, where he and Dr. Mossman are waiting with Eli and Alyx in captivity. Dr. Breen begins to explain his plans for further conquest of the humans by the Combine, contrary to what he had told Dr. Mossman. Angered, Mossman frees Gordon, Alyx, and Eli before Breen teleports them off-world. Dr. Breen tries to escape through a portal, but Gordon pursues him and destroys the portal reactor with the super-charged Gravity Gun. Breen appears to be annihilated in the resulting explosion. Just before Gordon and Alyx are presumably met with a similar fate, time is frozen. The G-Man reappears, praising Gordon for his actions in City 17 and the Citadel. Making vague mention of \\\"offers for [Gordon's] services\\\", the G-Man places him back into stasis.\", \"Portal's plot is revealed to the player via audio messages or \\\"announcements\\\" from GLaDOS and visual elements inside rooms found in later levels. According to The Final Hours of Portal 2, the year is established to be \\\"somewhere in 2010\\\"—twelve years after Aperture Science has been abandoned. \\n \\nThe game begins with Chell waking up from a stasis bed and hearing instructions and warnings from GLaDOS, an artificial intelligence, about upcoming tests. Chell enters into distinct chambers that introduce players to the game's mechanics, sequentially. GLaDOS's announcements serve as instructions to Chell and help the player progress through the game, but also develops the atmosphere and characterizes the AI as a person.[4] Chell is promised cake as her reward if she completes all test chambers.[19] \\n \\nChell proceeds through the empty Enrichment Center, with GLaDOS as her only interaction. As the player nears completion, GLaDOS's motives and behavior turn more sinister; although she is designed to appear encouraging, GLaDOS's actions and speech suggest insincerity and callous disregard for the safety and well-being of the test subjects. The test chambers become increasingly dangerous as Chell proceeds, tests including a live-fire course designed for military androids, as well as some chambers flooded with a hazardous liquid. In another chamber, GLaDOS notes the importance of the Weighted Companion Cube, a waist-high crate with a single large pink heart on each face, for helping Chell to complete the test. However, GLaDOS declares it must be euthanized in an \\\"emergency intelligence incinerator\\\" before Chell can continue.[17] Some later chambers include automated turrets with childlike voices (also voiced by McLain) that fire at Chell, only to sympathize with her after being destroyed or disabled.[20][21] \\n \\nAfter Chell completes the final test chamber, GLaDOS maneuvers Chell into an incinerator in an attempt to kill her. Chell escapes with the portal gun and makes her way through the maintenance areas within the Enrichment Center.[22] GLaDOS panics and insists that she was pretending to kill Chell as part of testing. GLaDOS then asks Chell to assume the \\\"party escort submission position\\\", lying face-first on the ground, so that a \\\"party associate\\\" can take her to her reward, but Chell continues her escape. In this section, GLaDOS communes with Chell as it becomes clear the AI had killed everyone else in the center.[11][12] Chell makes her way through the maintenance areas and empty office spaces behind the chambers, sometimes following graffiti messages which point in the right direction. These backstage areas, which are in an extremely dilapidated state, stand in stark contrast to the pristine test chambers. The graffiti includes statements such as \\\"the cake is a lie\\\", and pastiches of Emily Dickinson's poem \\\"The Chariot\\\", Henry Wadsworth Longfellow's \\\"The Reaper and the Flowers\\\", and Emily Brontë's \\\"No Coward Soul Is Mine\\\", referring to and mourning the death of the Companion Cube.[4] \\n \\nGLaDOS attempts to dissuade Chell with threats of physical harm and misleading statements as Chell makes her way deeper into the maintenance areas. Chell reaches a large chamber where GLaDOS's hardware hangs overhead. GLaDOS continues to threaten Chell, but during the exchange, a sphere falls off of GLaDOS and Chell drops it in an incinerator. GLaDOS reveals that Chell has just destroyed the morality core or her conscience, one of the multiple \\\"personality cores\\\" that Aperture Science employees installed after the AI flooded the enrichment center with neurotoxin gas. With it removed, she can access its emitters again. A six-minute countdown starts as Chell dislodges and incinerates more of GLaDOS' personality cores, while GLaDOS discourages her both verbally, with taunts and juvenile insults, and physically by firing rockets at her. After Chell destroys the last personality core, a malfunction tears the room apart and transports everything to the surface. Chell is then seen lying outside the facility's gates amid the remains of GLaDOS. Following the announcement of Portal 2, the ending was expanded in a later update. In this retroactive continuity, Chell is dragged away from the scene by an unseen entity speaking in a robotic voice, thanking her for assuming the \\\"party escort submission position\\\".[15][23] \\n \\nThe final scene, after a long and speedy zoom through the bowels of the facility, shows a Black Forest cake,[24] and the Weighted Companion Cube, surrounded by a mix of shelves containing dozens of apparently inactive personality cores. The cores begin to light up, before a robotic arm descends and extinguishes the candle on the cake, causing the room to blackout.[25] As the credits roll, GLaDOS delivers a concluding report: the song \\\"Still Alive\\\", which declares the experiment to be a huge success, as well as serving to indicate to the player that GLaDOS is still alive,[26] that her \\\"happy\\\" core was not disabled.\", \"Joel, a ruthless survivor with few moral lines left to cross, lives in one of the last remaining Quarantine Zones. These walled-off, oppressive cities are run by what’s left of the military. Despite the strict martial law, Joel operates in the black market of the city, smuggling contraband for the right price. \\n \\nJoel is asked by a dying friend to look after Ellie, a fourteen-year-old girl with courage beyond her years. What starts out as a simple job to deliver Ellie to another Quarantine Zone, soon transforms into a profound journey that will forever change Joel and Ellie. \\n \\nAs they journey across a post-pandemic United States, Joel and Ellie will encounter different factions of survivors that have each found a unique way of dealing with the infected humans, the lack of supplies, and the threat of other survivors. As Joel and Ellie struggle to persevere, they must learn to trust each other and work together in order to survive the realities of this new world.\", \"Two years after Commander Shepard repelled invading Reapers bent on the destruction of organic life, a mysterious new enemy has emerged. On the fringes of known space, something is silently abducting entire human colonies. Now Shepard must work with Cerberus, a ruthless organization devoted to human survival at any cost, to stop the most terrifying threat mankind has ever faced. \\n \\nTo even attempt this perilous mission, Shepard must assemble the galaxy's most elite team and command the most powerful ship ever built. Even then, they say it would be suicide. Commander Shepard intends to prove them wrong.\", \"Dr. Gordon Freeman arrives late for work at 8:47 am in the Black Mesa Research Facility, using the advanced Black Mesa tram system that leads through the facility. He arrives at the Anomalous Materials Lab, his work place, and he is informed by the security officer that the scientists have a special experiment today, so he goes to the locker room and puts on the hazard suit. He goes to the lab's lower levels, and arrives at the Anti-Mass Chamber, where he is instructed that the specimen to be used that day is the rarest and also the most unstable specimen. He is tasked with pushing the specimen into the scanning beam of the Anti-Mass Spectrometer for analysis. However as soon as he pushes it, it explodes, and creates a sudden catastrophe called a \\\"resonance cascade\\\", opening a portal between Earth and a dimension called Xen. Freeman is apparently teleported to an alien planet and catches glimpses of various alien lifeforms, including a circle of Vortigaunts, shortly before blacking out.\"  …  \"Null\", \"Null\", \"On August 23, 2029, the asteroid 99942 Apophis collides with Earth, destroying human civilization and turning the world into a wasteland. Survivors come together to form settlements around oases and other practical or habitable locations, while the wastes are plagued by various bandits clans, and mutants, who attack all normal humans in a voracious horde. \\n \\nIn 2135, former U.S. Marine Lieutenant Nicholas Raine emerges from an underground shelter called an Ark, 106 years after being put into stasis. These underground shelters are the direct result of the Eden Project, a massive international undertaking in which hundreds of Arks, containing cryogenic pods, were sealed under the surface of the Earth to preserve enough of the human population to rebuild civilization after the asteroid collision. The Eden Project was far less successful than hoped, as Raine's Ark in particular was heavily damaged, with all of its other residents dead and equipment destroyed, and he wakes up alone with no specific goal in mind. \\n \\nRaine enters the surface, where he is immediately attacked by bandits but is saved by Dan Hagar, a local wasteland settler who brings Raine to his settlement. Hagar informs him that a powerful technologically advanced organization known as the Authority, that considers itself the one true government of the wasteland, is hunting for Ark survivors for an unknown purpose. Raine briefly aids Hagar's settlement and others in the local area by completing a few small jobs, and during this time it is revealed that the nanotrites injected into Raine's blood before he was sent into hibernation have granted him superhuman abilities to help him survive the harsh environment, but have made him valuable to the Authority. Hagar believes Raine's continued presence is too dangerous for the settlement and sends him to the nearby town of Wellspring instead. \\n \\nIn Wellspring, Raine helps the town with various problems such as fighting off bandits, mutants, and ferrying supplies. Eventually, he comes into contact with Dr. Kvasir, an elderly scientist who previously worked for the Authority, who tells Raine about the inhumane experiments they were responsible for, such as the creation of the mutants. Kvasir puts him into contact with the Resistance, an armed anti-Authority group, where he is tasked with rescuing their leader, Captain Marshall, who has recently been imprisoned by the Authority. Raine again attracts attention from the Authority, forcing him to flee Wellspring and join the Resistance at their headquarters in Subway Town, where he earns the trust of the town and its tyrannical mayor, Redstone. He also learns what had happened in the past century from Captain Marshall, who is an Ark survivor himself. General Martin Cross, who was in charge of the Eden Project, sabotaged the operation shortly before 99942 Apophis struck the Earth by ensuring that only the Arks with people loyal to him were opened on schedule, with this first wave of Ark survivors eventually forming the Authority. The remaining Arks were supposed to stay underground forever in hibernation, including Raine's Ark, which surfaced only because its systems were damaged and it automatically rose to protect any surviving inhabitants. \\n \\nWith the Authority beginning to forcefully expand its influence on the wasteland settlements, the Resistance is forced to act with the help of Raine who can recover data that shows the location of every Ark on the planet. Captain Marshall plans to use this data to activate all the Arks and form an army that can defeat the Authority, but the only way to do this is to transmit the data from Capital Prime, the main headquarters for the Authority. Alone, Raine fights his way through Capital Prime to transmit the Ark activation code, and the game concludes with all the remaining Arks simultaneously becoming active and surfacing.\", \"Null\", \"Null\", \"In an entirely frozen world, people develop steam-powered technology to oppose the overwhelming cold. The city’s ruler has to manage both the citizens and the infrastructure they live in. The leader’s tactical skills face challenges that will frequently question morality and the basic foundations of what we consider organized society. Optimization and resource management often clash with empathy and thoughtful decision-making. While city and society management will consume most of the ruler’s time, at some point exploration of the outside world is necessary to understand its history and present state. \\n \\nWhat decisions will you make to ensure the survival of your society? What will you do when pushed to the limit? And... \\n \\n...who will you become in the process?\", \"Null\", \"Null\", \"Null\", \"LittleBigPlanet is set in a world full of creations made by Creator Curators. One of the Curators, a rogue Creator called \\\"the Collector\\\", is stealing the other Creators' creations and not sharing them with the world (sharing is one of the core elements of LittleBigPlanet). Play starts at the \\\"Gardens\\\" level, where the player meets the King, one of the Curators; the Queen; Little Xim; Big Zam and Dumpty. The player is taught the basic gameplay at this stage: running, jumping, and grabbing. The next setting is the \\\"Savannah\\\", where the player accidentally breaks one of the ruler's creations. In return for forgiveness the player must investigate what's scaring the ruler's buffalo. Further adventures involve finding Meerkat Mum's son and a Bridegroom (a story arc with a Day of the Dead theme). After the wedding play moves to the \\\"Canyons\\\", where the player must rescue Uncle Jalapeño and defeat the evil Sheriff Zapata. After completing this the player is taken to the \\\"Metropolis\\\" and gets a car for a race scenario. The next adventure takes place on the \\\"Islands\\\", where the player is trained in martial arts and must defeat the Terrible Oni. From there the player goes to the \\\"Temples\\\", to get a flame-throwing cat. Here they meet the Great Magician, who tells them to defeat the Collector in his \\\"Wilderness\\\". After the final battle the Collector is revealed to be a little, lonely man who kidnapped everyone because he did not have any friends. Everyone, including the player, offers to be his friend and he accepts, ending his being evil.\"]\n",
       " [\"The biggest, most dynamic and most diverse open world ever created, Grand Theft Auto V blends storytelling and gameplay in new ways as players repeatedly jump in and out of the lives of the game’s three lead characters, playing all sides of the game’s interwoven story.\", \"The Witcher: Wild Hunt is a story-driven, next-generation open world role-playing game set in a visually stunning fantasy universe full of meaningful choices and impactful consequences. In The Witcher you play as the professional monster hunter, Geralt of Rivia, tasked with finding a child of prophecy in a vast open world rich with merchant cities, viking pirate islands, dangerous mountain passes, and forgotten caverns to explore.\", \"The next chapter in the highly anticipated Elder Scrolls saga arrives from the makers of the 2006 and 2008 Games of the Year, Bethesda Game Studios. Skyrim reimagines and revolutionizes the open-world fantasy epic, bringing to life a complete virtual world open for you to explore any way you choose.  \\n \\nPlay any type of character you can imagine, and do whatever you want; the legendary freedom of choice, storytelling, and adventure of The Elder Scrolls is realized like never before.  \\n \\nSkyrim’s new game engine brings to life a complete virtual world with rolling clouds, rugged mountains, bustling cities, lush fields, and ancient dungeons.  \\n \\nChoose from hundreds of weapons, spells, and abilities. The new character system allows you to play any way you want and define yourself through your actions.  \\n \\nBattle ancient dragons like you’ve never seen. As Dragonborn, learn their secrets and harness their power for yourself.\", \"Returning after his mother's murder to the semi-fictional city of Los Santos (based on Los Angeles), Carl Johnson, a former gang banger, must take back the streets for his family and friends by gaining respect and once again gaining control over the city. However, a story filled with plots, lies and corruption will lead him to trudge the entire state of San Andreas (based on California and Nevada) to get revenge.\", \"Sequel to the acclaimed Portal (2007), Portal 2 pits the protagonist of the original game, Chell, and her new robot friend, Wheatley, against more puzzles conceived by GLaDOS, an A.I. with the sole purpose of testing the Portal Gun's mechanics and taking revenge on Chell for the events of Portal. As a result of several interactions and revelations, Chell once again pushes to escape Aperture Science Labs.\", \"1998. HALF-LIFE sends a shock through the game industry with its combination of pounding action and continuous, immersive storytelling. \\n \\nNOW. By taking the suspense, challenge and visceral charge of the original, and adding startling new realism and responsiveness, Half-Life 2 opens the door to a world where the player's presence affects everything around him, from the physical environment to the behaviors even the emotions of both friends and enemies.\", \"Waking up in a seemingly empty laboratory, the player is made to complete various physics-based puzzle challenges through numerous test chambers in order to test out the new Aperture Science Handheld Portal Device, without an explanation as to how, why or by whom.\", \"A third person shooter/stealth/survival hybrid, in which twenty years after the outbreak of a parasitic fungus which takes over the neural functions of humans, Joel, a Texan with a tragic familial past, finds himself responsible with smuggling a fourteen year old girl named Ellie to a militia group called the Fireflies, while avoiding strict and deadly authorities, infected fungal hosts and other violent survivors.\", \"Are you prepared to lose everything to save the galaxy? You'll need to be, Commander Shephard. It's time to bring together your greatest allies and recruit the galaxy's fighting elite to continue the resistance against the invading Reapers. So steel yourself, because this is an astronomical mission where sacrifices must be made. You'll face tougher choices and new, deadlier enemies. Arm yourself and prepare for an unforgettable intergalactic adventure. \\n \\nGame Features: \\n \\nShift the fight in your favour. Equip yourself with powerful new weapons almost instantly thanks to a new inventory system. Plus, an improved health regeneration system means you'll spend less time hunting for restorative items. \\n \\nMake every decision matter. Divisive crew members are just the tip of the iceberg, Commander, because you'll also be tasked with issues of intergalactic diplomacy. And time's a wastin' so don't be afraid to use new prompt-based actions that let you interrupt conversations, even if they could alter the fate of your crew...and the galaxy. \\n \\nForge new alliances, carefully. You'll fight alongside some of your most trustworthy crew members, but you'll also get the opportunity to recruit new talent. Just choose your new partners with care because the fate of the galaxy rests on your shoulders, Commander.\", \"Dr. Gordon Freeman doesn't speak, but he's got a helluva story to tell. This first-person roller-coaster initiated a new era in the history of action games by combining engrossing gameplay, upgraded graphics, ingenious level design and a revolutionary story that may not be all that it seems, told not through cutscenes, but through the visual environment.\"  …  \"Inspired by the popular comic book series produced by Top Cow Productions, Inc., The Darkness II is an intense first person shooter that delivers a twisted and gripping narrative of tragedy, modern crime drama, and supernatural horror. \\nPlayers will be taken down the brutal and personal path of Jackie Estacado, head of a New York crime family and wielder of an ancient and ruthless force of chaos and destruction known as The Darkness. \\nIt’s been two years since Jackie Estacado used The Darkness to kill the men responsible for his girlfriend’s murder. He’s been unable to shake the memory of Jenny’s death since bottling up his supernatural power and now The Darkness wants out. A sudden, unprovoked attack by a mysterious organization known as the Brotherhood heralds the start of a full-scale war and opens the door for The Darkness to reemerge, setting Jackie on a journey to hell and worse.\", \"The sequel to F.E.A.R. continues the original game's spine-tingling supernatural suspense story, of an escalating paranormal crisis that threatens to destroy a major American city. \\n \\nA routine assignment to locate the president of Armacham Technology Corporation in connection with an unfolding hostage crisis turns into a desperate battle for survival after an explosion decimates the city and unleashes Alma Wade, the terrifying supernatural menace at the center of Armacham’s highly classified Project Origin.\", \"RAGE is a groundbreaking first-person shooter set in the not-too-distant future after an asteroid impacts Earth, leaving a ravaged world behind. You emerge into this vast wasteland to discover humanity working to rebuild itself against such forces as raider gangs, mutants, and the Authority – an oppressive government regime that has a special interest in you in particular. \\n \\nFeaturing intense first-person action, vehicle combat, an expansive world and jaw-dropping graphics powered by id’s revolutionary idTech 5 technology. RAGE promises an experience like no other.\", \"Dead Cells is a rogue-lite, metroidvania inspired, action-platformer. You'll explore a sprawling, ever-changing castle... assuming you’re able to fight your way past its keepers in 2D souls-lite combat. No checkpoints. Kill, die, learn, repeat.\", \"Splatoon 2 is a multiplayer third-person shooter in which players control characters known as Inklings and use colored ink to attack opponents and clear goals. Inklings can alternate between humanoid form, during which they can fire ink with their weapons, and squid form, which allows them to swim through ink of their own color in order to move quickly and replenish ink supplies.\", \"In a completely frozen world, people develop steam-powered technology to oppose the overwhelming cold. Society in its current form becomes ineffective and it has to change in order to survive.\", \"A first person shooter extravaganza where you take the role of Serious Sam, a badass killer whose goal is to defeat monsters commanded by Mental, an extraterrestrial entity that wants to destroy humanity.\\n\\nSerious Sam is a high-adrenaline arcade-action shooter heavily focused on frantic arcade-style single player action. In a world where cyberpunk meets fantasy-fiction and advanced technology is mixed with black magic and psycho-powers, Sam travels through the beautiful world of ancient Egypt and several diverse planets, confronting countless Mental's minions on his way to the Mental's base.Key Features\\n\\nFrantic Arcade-Style Action - Fight your way through 15+ nightmarish warriors in Mental's army, including the charging Sirian Werebull, screaming Headless Kamikaze and other crazy monsters, and finally challenge the multi-story Ugh-Zan boss!\", \"You control a family of characters one at a time, and when your character dies, you choose who his or her successor is, whether it is a barbarian son of yours who has OCD, your daughter who became a ninja even though she can't see well, an assassin who is fighting for the gays, or a miner who wants to collect gold! Traits are randomized each time upon death, leading to multiple playthroughs with 35 traits, each character will be unique.\", \"Lord of the Rings, The Battle for Middle-Earth II: The Rise of the Witch-King expands the universe Tolkien created. This expansion pack to the fan favorite game series lets you command the rise of evil in Middle-earth while experiencing the epic battles that took place before the films. \\n \\nBecome the leader of an evil faction and lead an invasion of the peaceful kingdom of Arnor, home of Aragorn's ancestors. \\nTo fully experience the evil side of Middle-earth, gamers can now play as the all new Angmar faction in skirmish, multiplayer, and War of the Ring modes.\", \"The core mechanics of the series revolve around its tagline \\\"Play, Create, Share\\\". \\nThe Play component involves players taking control of Sackboy and navigating him through various levels. In the first two instalments of the series, gameplay consisted primarily of traditional platforming like jumping and avoiding obstacles to successfully navigate to the end of a level to win. Since LittleBigPlanet 2, gameplay has expanded to being a \\\"platform for games\\\" with the introduction of numerous mini-games and other genres into the game diversifying the game from being strictly a traditional platforming game. Most LittleBigPlanet games involve a player playing solo or co-operatively with friends to navigate through a level whilst collecting various \\\"prize bubbles\\\" along the way. These prize bubbles come in two types, small ones which constitute points and larger ones that contain new costumes, stickers or other type of collectibles that can be used to customise Sackboy or in level creation. There are also numerous co-operative parts of levels whereby certain prize bubbles can only be collected with the help of at least one player or more depending on the number of players stated in the level.\"]\n",
       " Array{Any,1}[[1, 27, 33, 38, 268435461, 268435466, 268435470, 268435487, 536870915, 536870923  …  536887657, 536888127, 536888481, 536889985, 536890574, 536890611, 536890612, 536890613, 536890614, 536893892], [1, 17, 38, 268435468, 268435487, 536871041, 536871063, 536871139, 536871208, 536871449  …  536879114, 536885987, 536885988, 536887738, 536887740, 536887806, 536889642, 536890336, 536890337, 536890338], [1, 17, 33, 38, 268435468, 268435487, 536870934, 536871008, 536871033, 536871041  …  536883233, 536883234, 536883235, 536883236, 536883237, 536883238, 536883239, 536883240, 536883241, 536883242], [1, 32, 38, 268435461, 268435466, 268435487, 536870923, 536870929, 536870933, 536870969  …  536882568, 536882611, 536882614, 536883297, 536884129, 536886356, 536886357, 536887116, 536893580, 536893581], [1, 18, 27, 268435461, 268435464, 268435465, 268435487, 536871262, 536871365, 536871504  …  536880726, 536881347, 536881935, 536882120, 536883428, 536885136, 536889051, 536889479, 536892651, 536892652], [1, 18, 19, 268435461, 536870915, 536870917, 536871365, 536871378, 536871452, 536871517  …  536881364, 536881584, 536881668, 536882492, 536883071, 536883081, 536884386, 536885515, 536886534, 536886566], [1, 18, 27, 268435461, 268435464, 268435465, 536871041, 536871049, 536871262, 536871470  …  536883039, 536883354, 536883643, 536883945, 536883995, 536884125, 536885136, 536885292, 536885424, 536885425], [1, 19, 21, 23, 268435461, 268435487, 536870976, 536870981, 536871044, 536871071  …  536882489, 536882490, 536882491, 536882492, 536882493, 536882494, 536887629, 536888127, 536890349, 536891386], [1, 18, 268435461, 268435468, 268435469, 536870915, 536870934, 536870984, 536871041, 536871071  …  536885255, 536885256, 536885257, 536885258, 536885259, 536885260, 536885261, 536889479, 536892926, 536892927], [1, 18, 19, 20, 39, 268435461, 268435465, 268435487, 536870915, 536870934  …  536883219, 536883884, 536883944, 536884032, 536884033, 536884125, 536885281, 536885424, 536886212, 536886392]  …  [1, 19, 21, 268435461, 536870933, 536870941, 536871041, 536871133, 536871208, 536871213  …  536883995, 536884018, 536884021, 536884390, 536887016, 536887017, 536889051, 536889479, 536892228, 536892229], [1, 19, 268435461], [1, 18, 268435461, 268435466, 536870937, 536870981, 536871365, 536871378, 536871396, 536871690  …  536871937, 536872371, 536874539, 536875257, 536875830, 536876545, 536876757, 536879108, 536883219, 536884421], [1, 17, 18, 268435464, 268435487, 268435488, 536871029, 536871139, 536871208, 536871328  …  536875301, 536875302, 536875303, 536875304, 536875305, 536875306, 536875931, 536894291, 536894292, 536894293], [1, 268435461, 268435464, 536871809, 536871937, 536872245, 536872961, 536872983, 536873141, 536875073, 536875350, 536875378, 536875618, 536875619, 536876934, 536882999, 536883000, 536883003, 536883468], [21, 268435469, 268435471, 268435488, 536871029, 536871561, 536871818, 536872060, 536875046, 536875066], [1, 18, 268435461], [1, 17, 22, 27, 268435464, 268435468, 268435487, 268435488, 268435489, 536870928  …  536877587, 536877588, 536877589, 536888127, 536888348, 536889634, 536889696, 536890819, 536890820, 536890950], [17, 39, 268435467, 268435471, 536870914, 536871008, 536871059, 536871138, 536871139, 536871208  …  536881022, 536881516, 536881651, 536882259, 536883035, 536883978, 536884018, 536884045, 536885147, 536886271], [17, 27, 33, 35, 268435464, 536872407, 536872961, 536874136, 536877186, 536890619]]\n",
       " Any[Any[26], Any[24], Any[17, 95], Any[41], Any[3], Any[3], Any[3], \"Null\", Any[351], Any[3, 4]  …  Any[416], Any[61], Any[47], Any[610], \"Null\", Any[578], \"Null\", \"Null\", Any[130], \"Null\"]\n",
       " Array{Any,1}[[1, 2], [1], [1], [1], [1, 2, 3, 4], [1], [1], [1, 2], [1], [1, 2]  …  [1, 3], [1, 2], [1, 2, 3], [1], [1, 2], [1], [1, 2, 3], [1, 3], [1, 2, 3], [1, 2, 3]]\n",
       " Any[Any[1045, 8098], \"Null\", \"Null\", Any[1858], Any[11591, 11592, 11593, 11594, 11595], \"Null\", \"Null\", \"Null\", \"Null\", \"Null\"  …  Any[791], \"Null\", Any[11394, 11395], \"Null\", Any[5168], \"Null\", \"Null\", Any[8238], \"Null\", Any[11300]]\n",
       " Array{Any,1}[[18070, 18071, 20018], [17436, 17768, 17769, 17770, 17771, 42142, 64293], [3719, 95350], [55974, 55979, 55980], [106733, 106734], [18928, 18929, 88970], [99702, 99703], [73932, 73933], [5240, 5241, 18482, 52062], [18908, 42057, 96883]  …  [3698, 3699], [1263, 51848], [42068, 42069, 95298], [97154], [46349, 46350], [54543], [1881, 1882], [34969, 37166], [8092, 51861], [4506, 104330]]\n",
       " Array{Any,1}[[6, 9, 12, 48, 49], [6, 48, 49], [6, 9, 12], [6, 8, 9, 11, 12, 14, 34, 36, 39, 48], [3, 6, 9, 12, 14], [3, 6, 9, 11, 12, 14, 34], [3, 6, 9, 12, 14, 34], [9], [6, 9, 12], [6, 8, 14]  …  [6, 9, 12], [6, 9, 12], [6, 9, 12, 14], [3, 6, 14, 34, 39, 48, 49, 130], [130], [6, 48, 49], [3, 6, 11, 36], [3, 6, 9, 14, 45, 46, 48, 49, 130], [6, 12], [9]]\n",
       " Array{Any,1}[[40, 109, 733, 960, 1121, 1377, 3188, 3262, 19441], [121, 472, 533, 1334, 1593, 1887, 3025, 9938, 11270], [56, 59, 121, 533, 538, 832, 1081, 1942, 3025], [564, 730, 731, 733, 1020, 1121, 3262, 3263, 19441], [7350, 11646, 16992, 20342, 22387, 24426, 55173, 55190, 56033], [231, 247, 338, 471, 571, 673, 1011, 6739, 15536], [72, 231, 247, 338, 571, 1006, 7386, 9727, 21798], [533, 538, 1020, 1121, 1164, 1985, 2031, 11270, 19441], [16, 21, 43, 533, 571, 960, 1020, 1985, 2031], [233, 241, 247, 356, 571, 1006, 2031, 6739, 7351]  …  [356, 495, 533, 564, 571, 960, 1006, 2031, 19441], [27270, 38030, 43367, 103281, 103292, 103298, 103301, 105049, 106805], [142, 673, 3772, 15443, 55038, 68286, 68287, 90099, 105269], [3222, 11646, 18182, 19150, 23733, 26226, 36198, 55190, 56033], [10039, 20342, 24426, 25076, 26192, 38030, 55190, 89597, 105049], [17111, 17130, 17519, 18623, 19376, 26145, 31515, 51945, 55590], [306, 103281, 103292, 103298, 103301, 103329, 105049, 105269, 113362], [533, 832, 1035, 1879, 2939, 7789, 8456, 11270, 12597], [848, 2365, 3154, 6500, 7027, 7056, 9058, 9256, 9834], [19164, 20342, 24426, 37001, 77349, 77529, 109581, 113360, 119156]]\n",
       " [\"Grand Theft Auto V\", \"The Witcher 3: Wild Hunt\", \"The Elder Scrolls V: Skyrim\", \"Grand Theft Auto: San Andreas\", \"Portal 2\", \"Half-Life 2\", \"Portal\", \"The Last of Us\", \"Mass Effect 2\", \"Half-Life\"  …  \"The Darkness II\", \"F.E.A.R. 2: Project Origin\", \"RAGE\", \"Dead Cells\", \"Splatoon 2\", \"Frostpunk\", \"Serious Sam: The First Encounter\", \"Rogue Legacy\", \"The Lord of the Rings: The Battle for Middle-earth II\", \"LittleBigPlanet\"]"
      ]
     },
     "execution_count": 13,
     "metadata": {},
     "output_type": "execute_result"
    }
   ],
   "source": [
    "all = [get_this.(games_infor_follows,column_name) for column_name in features]"
   ]
  },
  {
   "cell_type": "code",
   "execution_count": 14,
   "metadata": {},
   "outputs": [
    {
     "data": {
      "text/plain": [
       "500-element Array{String,1}:\n",
       " \"Grand Theft Auto V\"\n",
       " \"The Witcher 3: Wild Hunt\"\n",
       " \"The Elder Scrolls V: Skyrim\"\n",
       " \"Grand Theft Auto: San Andreas\"\n",
       " \"Portal 2\"\n",
       " \"Half-Life 2\"\n",
       " \"Portal\"\n",
       " \"The Last of Us\"\n",
       " \"Mass Effect 2\"\n",
       " \"Half-Life\"\n",
       " \"Assassin's Creed II\"\n",
       " \"Grand Theft Auto: Vice City\"\n",
       " \"BioShock\"\n",
       " ⋮\n",
       " \"Prince of Persia\"\n",
       " \"Antichamber\"\n",
       " \"The Darkness II\"\n",
       " \"F.E.A.R. 2: Project Origin\"\n",
       " \"RAGE\"\n",
       " \"Dead Cells\"\n",
       " \"Splatoon 2\"\n",
       " \"Frostpunk\"\n",
       " \"Serious Sam: The First Encounter\"\n",
       " \"Rogue Legacy\"\n",
       " \"The Lord of the Rings: The Battle for Middle-earth II\"\n",
       " \"LittleBigPlanet\""
      ]
     },
     "execution_count": 14,
     "metadata": {},
     "output_type": "execute_result"
    }
   ],
   "source": [
    "target_games_infor = DataFrame()\n",
    "target_games_infor.id = all[1]\n",
    "target_games_infor.url= all[2]\n",
    "target_games_infor.version_parent = all[3] \n",
    "target_games_infor.age_ratings = all[4]\n",
    "target_games_infor.follows = all[5]\n",
    "target_games_infor.total_rating = all[6]\n",
    "target_games_infor.total_rating_count = all[7]\n",
    "target_games_infor.release_dates = all[8]\n",
    "target_games_infor.status = all[9]\n",
    "target_games_infor.category = all[10]\n",
    "target_games_infor.hypes = all[11]\n",
    "target_games_infor.genres = all[12]\n",
    "target_games_infor.themes = all[13]\n",
    "target_games_infor.keywords = all[14]\n",
    "target_games_infor.player_perspectives = all[15] \n",
    "target_games_infor.story_line = all[16] \n",
    "target_games_infor.summary = all[17]\n",
    "target_games_infor.tags = all[18]\n",
    "target_games_infor.game_engines = all[19]\n",
    "target_games_infor.game_modes = all[20]\n",
    "target_games_infor.multiplayer_modes = all[21]\n",
    "target_games_infor.involved_companies = all[22]\n",
    "target_games_infor.platforms = all[23]\n",
    "target_games_infor.similar_games = all[24]\n",
    "target_games_infor.name = all[25]\n",
    "\n"
   ]
  },
  {
   "cell_type": "code",
   "execution_count": 15,
   "metadata": {},
   "outputs": [
    {
     "data": {
      "text/html": [
       "<table class=\"data-frame\"><thead><tr><th></th><th>id</th><th>url</th><th>version_parent</th></tr><tr><th></th><th>Int64</th><th>String</th><th>Any</th></tr></thead><tbody><p>500 rows × 25 columns (omitted printing of 22 columns)</p><tr><th>1</th><td>1020</td><td>https://www.igdb.com/games/grand-theft-auto-v</td><td>Null</td></tr><tr><th>2</th><td>1942</td><td>https://www.igdb.com/games/the-witcher-3-wild-hunt</td><td>Null</td></tr><tr><th>3</th><td>472</td><td>https://www.igdb.com/games/the-elder-scrolls-v-skyrim</td><td>Null</td></tr><tr><th>4</th><td>732</td><td>https://www.igdb.com/games/grand-theft-auto-san-andreas</td><td>Null</td></tr><tr><th>5</th><td>72</td><td>https://www.igdb.com/games/portal-2</td><td>Null</td></tr><tr><th>6</th><td>233</td><td>https://www.igdb.com/games/half-life-2</td><td>Null</td></tr><tr><th>7</th><td>71</td><td>https://www.igdb.com/games/portal</td><td>Null</td></tr><tr><th>8</th><td>1009</td><td>https://www.igdb.com/games/the-last-of-us</td><td>Null</td></tr><tr><th>9</th><td>74</td><td>https://www.igdb.com/games/mass-effect-2</td><td>Null</td></tr><tr><th>10</th><td>231</td><td>https://www.igdb.com/games/half-life</td><td>Null</td></tr><tr><th>11</th><td>127</td><td>https://www.igdb.com/games/assassin-s-creed-ii</td><td>Null</td></tr><tr><th>12</th><td>733</td><td>https://www.igdb.com/games/grand-theft-auto-vice-city</td><td>Null</td></tr><tr><th>13</th><td>20</td><td>https://www.igdb.com/games/bioshock</td><td>Null</td></tr><tr><th>14</th><td>73</td><td>https://www.igdb.com/games/mass-effect</td><td>Null</td></tr><tr><th>15</th><td>25076</td><td>https://www.igdb.com/games/red-dead-redemption-2</td><td>Null</td></tr><tr><th>16</th><td>500</td><td>https://www.igdb.com/games/batman-arkham-asylum</td><td>Null</td></tr><tr><th>17</th><td>7346</td><td>https://www.igdb.com/games/the-legend-of-zelda-breath-of-the-wild</td><td>Null</td></tr><tr><th>18</th><td>538</td><td>https://www.igdb.com/games/bioshock-infinite</td><td>Null</td></tr><tr><th>19</th><td>1164</td><td>https://www.igdb.com/games/tomb-raider--2</td><td>Null</td></tr><tr><th>20</th><td>11156</td><td>https://www.igdb.com/games/horizon-zero-dawn</td><td>Null</td></tr><tr><th>21</th><td>1029</td><td>https://www.igdb.com/games/the-legend-of-zelda-ocarina-of-time</td><td>Null</td></tr><tr><th>22</th><td>7331</td><td>https://www.igdb.com/games/uncharted-4-a-thief-s-end</td><td>Null</td></tr><tr><th>23</th><td>501</td><td>https://www.igdb.com/games/batman-arkham-city</td><td>Null</td></tr><tr><th>24</th><td>434</td><td>https://www.igdb.com/games/red-dead-redemption</td><td>Null</td></tr><tr><th>25</th><td>75</td><td>https://www.igdb.com/games/mass-effect-3</td><td>Null</td></tr><tr><th>26</th><td>121</td><td>https://www.igdb.com/games/minecraft</td><td>Null</td></tr><tr><th>27</th><td>565</td><td>https://www.igdb.com/games/uncharted-2-among-thieves</td><td>Null</td></tr><tr><th>28</th><td>529</td><td>https://www.igdb.com/games/far-cry-3</td><td>Null</td></tr><tr><th>29</th><td>26192</td><td>https://www.igdb.com/games/the-last-of-us-part-ii</td><td>Null</td></tr><tr><th>30</th><td>15</td><td>https://www.igdb.com/games/fallout-3</td><td>Null</td></tr><tr><th>&vellip;</th><td>&vellip;</td><td>&vellip;</td><td>&vellip;</td></tr></tbody></table>"
      ],
      "text/latex": [
       "\\begin{tabular}{r|cccc}\n",
       "\t& id & url & version\\_parent & \\\\\n",
       "\t\\hline\n",
       "\t& Int64 & String & Any & \\\\\n",
       "\t\\hline\n",
       "\t1 & 1020 & https://www.igdb.com/games/grand-theft-auto-v & Null & $\\dots$ \\\\\n",
       "\t2 & 1942 & https://www.igdb.com/games/the-witcher-3-wild-hunt & Null & $\\dots$ \\\\\n",
       "\t3 & 472 & https://www.igdb.com/games/the-elder-scrolls-v-skyrim & Null & $\\dots$ \\\\\n",
       "\t4 & 732 & https://www.igdb.com/games/grand-theft-auto-san-andreas & Null & $\\dots$ \\\\\n",
       "\t5 & 72 & https://www.igdb.com/games/portal-2 & Null & $\\dots$ \\\\\n",
       "\t6 & 233 & https://www.igdb.com/games/half-life-2 & Null & $\\dots$ \\\\\n",
       "\t7 & 71 & https://www.igdb.com/games/portal & Null & $\\dots$ \\\\\n",
       "\t8 & 1009 & https://www.igdb.com/games/the-last-of-us & Null & $\\dots$ \\\\\n",
       "\t9 & 74 & https://www.igdb.com/games/mass-effect-2 & Null & $\\dots$ \\\\\n",
       "\t10 & 231 & https://www.igdb.com/games/half-life & Null & $\\dots$ \\\\\n",
       "\t11 & 127 & https://www.igdb.com/games/assassin-s-creed-ii & Null & $\\dots$ \\\\\n",
       "\t12 & 733 & https://www.igdb.com/games/grand-theft-auto-vice-city & Null & $\\dots$ \\\\\n",
       "\t13 & 20 & https://www.igdb.com/games/bioshock & Null & $\\dots$ \\\\\n",
       "\t14 & 73 & https://www.igdb.com/games/mass-effect & Null & $\\dots$ \\\\\n",
       "\t15 & 25076 & https://www.igdb.com/games/red-dead-redemption-2 & Null & $\\dots$ \\\\\n",
       "\t16 & 500 & https://www.igdb.com/games/batman-arkham-asylum & Null & $\\dots$ \\\\\n",
       "\t17 & 7346 & https://www.igdb.com/games/the-legend-of-zelda-breath-of-the-wild & Null & $\\dots$ \\\\\n",
       "\t18 & 538 & https://www.igdb.com/games/bioshock-infinite & Null & $\\dots$ \\\\\n",
       "\t19 & 1164 & https://www.igdb.com/games/tomb-raider--2 & Null & $\\dots$ \\\\\n",
       "\t20 & 11156 & https://www.igdb.com/games/horizon-zero-dawn & Null & $\\dots$ \\\\\n",
       "\t21 & 1029 & https://www.igdb.com/games/the-legend-of-zelda-ocarina-of-time & Null & $\\dots$ \\\\\n",
       "\t22 & 7331 & https://www.igdb.com/games/uncharted-4-a-thief-s-end & Null & $\\dots$ \\\\\n",
       "\t23 & 501 & https://www.igdb.com/games/batman-arkham-city & Null & $\\dots$ \\\\\n",
       "\t24 & 434 & https://www.igdb.com/games/red-dead-redemption & Null & $\\dots$ \\\\\n",
       "\t25 & 75 & https://www.igdb.com/games/mass-effect-3 & Null & $\\dots$ \\\\\n",
       "\t26 & 121 & https://www.igdb.com/games/minecraft & Null & $\\dots$ \\\\\n",
       "\t27 & 565 & https://www.igdb.com/games/uncharted-2-among-thieves & Null & $\\dots$ \\\\\n",
       "\t28 & 529 & https://www.igdb.com/games/far-cry-3 & Null & $\\dots$ \\\\\n",
       "\t29 & 26192 & https://www.igdb.com/games/the-last-of-us-part-ii & Null & $\\dots$ \\\\\n",
       "\t30 & 15 & https://www.igdb.com/games/fallout-3 & Null & $\\dots$ \\\\\n",
       "\t$\\dots$ & $\\dots$ & $\\dots$ & $\\dots$ &  \\\\\n",
       "\\end{tabular}\n"
      ],
      "text/plain": [
       "500×25 DataFrame. Omitted printing of 24 columns\n",
       "│ Row │ id    │\n",
       "│     │ \u001b[90mInt64\u001b[39m │\n",
       "├─────┼───────┤\n",
       "│ 1   │ 1020  │\n",
       "│ 2   │ 1942  │\n",
       "│ 3   │ 472   │\n",
       "│ 4   │ 732   │\n",
       "│ 5   │ 72    │\n",
       "│ 6   │ 233   │\n",
       "│ 7   │ 71    │\n",
       "│ 8   │ 1009  │\n",
       "│ 9   │ 74    │\n",
       "│ 10  │ 231   │\n",
       "⋮\n",
       "│ 490 │ 2064  │\n",
       "│ 491 │ 544   │\n",
       "│ 492 │ 520   │\n",
       "│ 493 │ 509   │\n",
       "│ 494 │ 26855 │\n",
       "│ 495 │ 26761 │\n",
       "│ 496 │ 23248 │\n",
       "│ 497 │ 857   │\n",
       "│ 498 │ 3221  │\n",
       "│ 499 │ 3155  │\n",
       "│ 500 │ 1058  │"
      ]
     },
     "execution_count": 15,
     "metadata": {},
     "output_type": "execute_result"
    }
   ],
   "source": [
    "target_games_infor"
   ]
  },
  {
   "cell_type": "code",
   "execution_count": 181,
   "metadata": {},
   "outputs": [
    {
     "data": {
      "text/plain": [
       "\"/Users/mengzhang/projects/github/wrangling_project/IGDB/target_games_fellow.csv\""
      ]
     },
     "execution_count": 181,
     "metadata": {},
     "output_type": "execute_result"
    }
   ],
   "source": [
    "# Save the data to local\n",
    "CSV.write(\"/Users/mengzhang/projects/github/wrangling_project/IGDB/target_games_fellow.csv\", target_games_infor)"
   ]
  },
  {
   "cell_type": "markdown",
   "metadata": {},
   "source": [
    "### Section 2\n",
    "Modify the \"date\" to be human readable way"
   ]
  },
  {
   "cell_type": "code",
   "execution_count": 74,
   "metadata": {},
   "outputs": [
    {
     "data": {
      "text/plain": [
       "500-element Array{Int64,1}:\n",
       "  1020\n",
       "  1942\n",
       "   472\n",
       "   732\n",
       "    72\n",
       "   233\n",
       "    71\n",
       "  1009\n",
       "    74\n",
       "   231\n",
       "   127\n",
       "   733\n",
       "    20\n",
       "     ⋮\n",
       "  2472\n",
       "  2064\n",
       "   544\n",
       "   520\n",
       "   509\n",
       " 26855\n",
       " 26761\n",
       " 23248\n",
       "   857\n",
       "  3221\n",
       "  3155\n",
       "  1058"
      ]
     },
     "execution_count": 74,
     "metadata": {},
     "output_type": "execute_result"
    }
   ],
   "source": [
    "all[1]"
   ]
  },
  {
   "cell_type": "code",
   "execution_count": 44,
   "metadata": {},
   "outputs": [
    {
     "data": {
      "text/plain": [
       "\"/Users/mengzhang/projects/github/wrangling_project/IGDB/target_id.csv\""
      ]
     },
     "execution_count": 44,
     "metadata": {},
     "output_type": "execute_result"
    }
   ],
   "source": [
    "# Save targetId as csv\n",
    "target_id = DataFrame()\n",
    "target_id.id = all[1]\n",
    "CSV.write(\"/Users/mengzhang/projects/github/wrangling_project/IGDB/target_id.csv\", target_id)"
   ]
  },
  {
   "cell_type": "code",
   "execution_count": 75,
   "metadata": {},
   "outputs": [
    {
     "data": {
      "text/plain": [
       "\"fields *; limit 500;where game = (1020,1942,472,732,72,233,71,1009,74,231,127,733,20,73,25076,500,7346,538,1164,11156,1029,7331,501,434,75,121,565,529,26192,15,16,19441,1070,1871,7599,18,9630,1074,19560,113,59,623,1011,6036,1068,731,25657,28204,8173,1026,1970,76,478,5503,28540,1372,375,512,427,132,866,974,247,116,533,7351,1802,3025,2114,7334,11169,2155,28552,7323,2207,358,1262,730,26758,1985,36926,37,128,9061,1384,39,126,673,12517,286,1331,1887,19565,43,2031,230,56,6801,11133,1266,327,14362,379,3035,559,2993,7344,11208,7342,549,41,622,18320,1352,537,19561,1033,109,481,8197,1905,19562,431,9730,21,40,343,1062,11198,27421,359,1103,885,493,1121,960,7205,11118,239,1051,124,1036,98,38,19,19564,19531,289,1105,498,421,338,1979,9927,418,123,120,14,119313,142,551,11161,37016,3097,545,17000,355,1279,1078,7603,1968,118,117,27789,1377,37094,1077,530,376,426,4754,9066,2933,380,2368,539,2909,80,891,1334,115,1022,36952,740,836,3042,1983,13,2963,60,495,7609,2853,1318,96,987,621,97,9498,133,1030,6707,296,499,1267,1627,12503,11233,1221,979,8187,5601,1073,37777,7444,1122,7360,61,873,352,22439,111,11157,364,246,181,11,26193,17447,3182,333,625,6,14593,2350,125,122,9604,36897,4438,1341,1048,29004,1879,2136,837,312,13166,10962,9727,986,10919,819,471,2935,103298,2262,103054,990,425,245,1906,1219,153,7789,1185,324,260,184,3022,1039,517,78,2342,1910,847,9192,1561,5328,2261,1991,1941,480,378,620,9174,1628,1244,1075,2899,113114,2997,7292,4756,2180,991,14587,1981,1090,342,19130,3278,3070,307,19457,74701,3102,647,3750,6632,1254,11800,5,2990,2001,1593,558,90099,19686,8222,7327,5025,130,26196,12571,3192,1270,224,9600,2939,2437,534,22,21062,1928,36813,2126,1513,547,1715,981,457,9806,7352,3075,1187,910,748,241,223,26226,19164,980,912,299,7706,1511,1305,227,62,76882,27081,5619,1128,7386,1638,1559,966,90101,479,11065,320,295,1512,832,424,277,112,3193,3152,2985,2276,482,326,1558,1186,523,306,280,232,193,1277,361,7170,2025,1911,1339,456,152,109462,20275,19459,3174,2183,2129,562,3186,10148,458,228,9254,6739,2148,1067,913,570,548,9602,19539,1183,398,136,36911,8254,7313,6803,6247,2438,1035,911,293,3349,1092,438,37001,8965,1337,11790,2132,1557,119,20740,103329,1271,1269,494,83728,26764,19470,6250,3154,2115,1626,1192,942,515,1426,1156,1079,389,55935,1514,11170,7348,890,826,521,272,1918,1289,105,5508,1976,948,76253,21040,18099,3265,2472,2064,544,520,509,26855,26761,23248,857,3221,3155,1058);\""
      ]
     },
     "execution_count": 75,
     "metadata": {},
     "output_type": "execute_result"
    }
   ],
   "source": [
    "# define the scrap target on the web page\n",
    "body_date = \"fields *; limit 500;where game = (1020,1942,472,732,72,233,71,1009,74,231,127,733,20,73,25076,500,7346,538,1164,11156,1029,7331,501,434,75,121,565,529,26192,15,16,19441,1070,1871,7599,18,9630,1074,19560,113,59,623,1011,6036,1068,731,25657,28204,8173,1026,1970,76,478,5503,28540,1372,375,512,427,132,866,974,247,116,533,7351,1802,3025,2114,7334,11169,2155,28552,7323,2207,358,1262,730,26758,1985,36926,37,128,9061,1384,39,126,673,12517,286,1331,1887,19565,43,2031,230,56,6801,11133,1266,327,14362,379,3035,559,2993,7344,11208,7342,549,41,622,18320,1352,537,19561,1033,109,481,8197,1905,19562,431,9730,21,40,343,1062,11198,27421,359,1103,885,493,1121,960,7205,11118,239,1051,124,1036,98,38,19,19564,19531,289,1105,498,421,338,1979,9927,418,123,120,14,119313,142,551,11161,37016,3097,545,17000,355,1279,1078,7603,1968,118,117,27789,1377,37094,1077,530,376,426,4754,9066,2933,380,2368,539,2909,80,891,1334,115,1022,36952,740,836,3042,1983,13,2963,60,495,7609,2853,1318,96,987,621,97,9498,133,1030,6707,296,499,1267,1627,12503,11233,1221,979,8187,5601,1073,37777,7444,1122,7360,61,873,352,22439,111,11157,364,246,181,11,26193,17447,3182,333,625,6,14593,2350,125,122,9604,36897,4438,1341,1048,29004,1879,2136,837,312,13166,10962,9727,986,10919,819,471,2935,103298,2262,103054,990,425,245,1906,1219,153,7789,1185,324,260,184,3022,1039,517,78,2342,1910,847,9192,1561,5328,2261,1991,1941,480,378,620,9174,1628,1244,1075,2899,113114,2997,7292,4756,2180,991,14587,1981,1090,342,19130,3278,3070,307,19457,74701,3102,647,3750,6632,1254,11800,5,2990,2001,1593,558,90099,19686,8222,7327,5025,130,26196,12571,3192,1270,224,9600,2939,2437,534,22,21062,1928,36813,2126,1513,547,1715,981,457,9806,7352,3075,1187,910,748,241,223,26226,19164,980,912,299,7706,1511,1305,227,62,76882,27081,5619,1128,7386,1638,1559,966,90101,479,11065,320,295,1512,832,424,277,112,3193,3152,2985,2276,482,326,1558,1186,523,306,280,232,193,1277,361,7170,2025,1911,1339,456,152,109462,20275,19459,3174,2183,2129,562,3186,10148,458,228,9254,6739,2148,1067,913,570,548,9602,19539,1183,398,136,36911,8254,7313,6803,6247,2438,1035,911,293,3349,1092,438,37001,8965,1337,11790,2132,1557,119,20740,103329,1271,1269,494,83728,26764,19470,6250,3154,2115,1626,1192,942,515,1426,1156,1079,389,55935,1514,11170,7348,890,826,521,272,1918,1289,105,5508,1976,948,76253,21040,18099,3265,2472,2064,544,520,509,26855,26761,23248,857,3221,3155,1058);\""
   ]
  },
  {
   "cell_type": "code",
   "execution_count": 76,
   "metadata": {},
   "outputs": [
    {
     "data": {
      "text/plain": [
       "NTuple{500,Int64}"
      ]
     },
     "execution_count": 76,
     "metadata": {},
     "output_type": "execute_result"
    }
   ],
   "source": [
    "# Check the number and type of id\n",
    "id = (1020,1942,472,732,72,233,71,1009,74,231,127,733,20,73,25076,500,7346,538,1164,11156,1029,7331,501,434,75,121,565,529,26192,15,16,19441,1070,1871,7599,18,9630,1074,19560,113,59,623,1011,6036,1068,731,25657,28204,8173,1026,1970,76,478,5503,28540,1372,375,512,427,132,866,974,247,116,533,7351,1802,3025,2114,7334,11169,2155,28552,7323,2207,358,1262,730,26758,1985,36926,37,128,9061,1384,39,126,673,12517,286,1331,1887,19565,43,2031,230,56,6801,11133,1266,327,14362,379,3035,559,2993,7344,11208,7342,549,41,622,18320,1352,537,19561,1033,109,481,8197,1905,19562,431,9730,21,40,343,1062,11198,27421,359,1103,885,493,1121,960,7205,11118,239,1051,124,1036,98,38,19,19564,19531,289,1105,498,421,338,1979,9927,418,123,120,14,119313,142,551,11161,37016,3097,545,17000,355,1279,1078,7603,1968,118,117,27789,1377,37094,1077,530,376,426,4754,9066,2933,380,2368,539,2909,80,891,1334,115,1022,36952,740,836,3042,1983,13,2963,60,495,7609,2853,1318,96,987,621,97,9498,133,1030,6707,296,499,1267,1627,12503,11233,1221,979,8187,5601,1073,37777,7444,1122,7360,61,873,352,22439,111,11157,364,246,181,11,26193,17447,3182,333,625,6,14593,2350,125,122,9604,36897,4438,1341,1048,29004,1879,2136,837,312,13166,10962,9727,986,10919,819,471,2935,103298,2262,103054,990,425,245,1906,1219,153,7789,1185,324,260,184,3022,1039,517,78,2342,1910,847,9192,1561,5328,2261,1991,1941,480,378,620,9174,1628,1244,1075,2899,113114,2997,7292,4756,2180,991,14587,1981,1090,342,19130,3278,3070,307,19457,74701,3102,647,3750,6632,1254,11800,5,2990,2001,1593,558,90099,19686,8222,7327,5025,130,26196,12571,3192,1270,224,9600,2939,2437,534,22,21062,1928,36813,2126,1513,547,1715,981,457,9806,7352,3075,1187,910,748,241,223,26226,19164,980,912,299,7706,1511,1305,227,62,76882,27081,5619,1128,7386,1638,1559,966,90101,479,11065,320,295,1512,832,424,277,112,3193,3152,2985,2276,482,326,1558,1186,523,306,280,232,193,1277,361,7170,2025,1911,1339,456,152,109462,20275,19459,3174,2183,2129,562,3186,10148,458,228,9254,6739,2148,1067,913,570,548,9602,19539,1183,398,136,36911,8254,7313,6803,6247,2438,1035,911,293,3349,1092,438,37001,8965,1337,11790,2132,1557,119,20740,103329,1271,1269,494,83728,26764,19470,6250,3154,2115,1626,1192,942,515,1426,1156,1079,389,55935,1514,11170,7348,890,826,521,272,1918,1289,105,5508,1976,948,76253,21040,18099,3265,2472,2064,544,520,509,26855,26761,23248,857,3221,3155,1058)\n",
    "typeof(id)"
   ]
  },
  {
   "cell_type": "code",
   "execution_count": 77,
   "metadata": {},
   "outputs": [
    {
     "data": {
      "text/plain": [
       "HTTP.Messages.Response:\n",
       "\"\"\"\n",
       "HTTP/1.1 200 OK\r\n",
       "Date: Tue, 13 Oct 2020 07:49:50 GMT\r\n",
       "Content-Type: application/json;charset=utf-8\r\n",
       "Transfer-Encoding: chunked\r\n",
       "Connection: keep-alive\r\n",
       "Set-Cookie: __cfduid=dcdc2471b6e85f79fb93e65780fb5dd901602575389; expires=Thu, 12-Nov-20 07:49:49 GMT; path=/; domain=.igdb.com; HttpOnly; SameSite=Lax; Secure\r\n",
       "x-amzn-RequestId: ca9c87bf-7c9f-48cb-8d61-d023960c9d86\r\n",
       "x-amz-apigw-id: UVtUuExUPHcFihg=\r\n",
       "x-amzn-Remapped-Server: Javalin\r\n",
       "X-Count: 3680\r\n",
       "x-amzn-Remapped-Date: Tue, 13 Oct 2020 07:49:50 GMT\r\n",
       "X-Cache: Miss from cloudfront\r\n",
       "Via: 1.1 8f0eabccda03f9d30c01b8f28cbea6ea.cloudfront.net (CloudFront)\r\n",
       "X-Amz-Cf-Pop: AKL50-C1\r\n",
       "X-Amz-Cf-Id: YCxngR6Ch2h4T00XCAQISTA08I1ljGIdZiouHMG-lDtYZO51w2ELfw==\r\n",
       "CF-Cache-Status: DYNAMIC\r\n",
       "cf-request-id: 05c288ebad0000fb8802033200000001\r\n",
       "Expect-CT: max-age=604800, report-uri=\"https://report-uri.cloudflare.com/cdn-cgi/beacon/expect-ct\"\r\n",
       "Strict-Transport-Security: max-age=15552000; includeSubDomains; preload\r\n",
       "X-Content-Type-Options: nosniff\r\n",
       "Server: cloudflare\r\n",
       "CF-RAY: 5e1777591f5cfb88-AKL\r\n",
       "\r\n",
       "[\n",
       "  {\n",
       "    \"id\": 138868,\n",
       "    \"category\": 0,\n",
       "    \"created_at\": 1517529600,\n",
       "    \"date\": 1458777600,\n",
       "    \"game\": 1092,\n",
       "    \"human\": \"Mar 24, 2016\",\n",
       "    \"m\": 3,\n",
       "    \"platform\": 37,\n",
       "    \"region\": 1,\n",
       "    \"updated_at\": 1517788800,\n",
       "    \"y\": 2016,\n",
       "    \"checksum\": \"0a6eaef1-2f00-9da4-8d1b-a7cb734650e2\"\n",
       "  },\n",
       "  {\n",
       "    \"id\": 138860,\n",
       "    \"category\": 0,\n",
       "    \"created_at\": 1517529600,\n",
       "    \"date\": 1424908800,\n",
       "    \"game\": 1090,\n",
       "    \"human\": \"Feb 26, 2015\",\n",
       "    \"m\": 2,\n",
       "    \"platform\": 41,\n",
       "    \"region\": 2,\n",
       "    \"updated_at\": 1517788800,\n",
       "    \"y\": 2015,\n",
       "    \"checksum\": \"280ad367-f4bc-c708-201f-33ea3662ad0a\"\n",
       "  },\n",
       "  {\n",
       "    \"id\": 106850,\n",
       "    \"category\": 0,\n",
       "    \"created_at\": 1501804800,\n",
       "    \"date\": 1493078400,\n",
       "    \"game\": 11233,\n",
       "    \"human\": \"Apr 25, 2017\",\n",
       "    \"m\": 4,\n",
       "    \"platform\": 45,\n",
       "    \"region\": 2,\n",
       "    \"updated_at\": 1501804800,\n",
       "    \"y\": 2017,\n",
       "    \"checksum\": \"3dca257f-05ea-48af-f6a6-e7722249fda9\"\n",
       "  },\n",
       "  {\n",
       "    \"id\": 687,\n",
       "    \"category\": 0,\n",
       "    \"created_at\": 1302652800,\n",
       "    \"date\": 930182400,\n",
       "    \"game\": 375,\n",
       " \n",
       "⋮\n",
       "146979-byte body\n",
       "\"\"\""
      ]
     },
     "execution_count": 77,
     "metadata": {},
     "output_type": "execute_result"
    }
   ],
   "source": [
    "# Using HTTP.post(\"path\") to scrap the relasase date web information\n",
    "releaseDates = HTTP.post(\"https://api.igdb.com/v4/release_dates\",\n",
    "          auth_dictionary,\n",
    "          body_date)"
   ]
  },
  {
   "cell_type": "code",
   "execution_count": 78,
   "metadata": {},
   "outputs": [
    {
     "data": {
      "text/plain": [
       "500-element Array{Any,1}:\n",
       " (id = 138868, category = 0, created_at = 1517529600, date = 1458777600, game = 1092, human = \"Mar 24, 2016\", m = 3, platform = 37, region = 1, updated_at = 1517788800, y = 2016, checksum = \"0a6eaef1-2f00-9da4-8d1b-a7cb734650e2\")\n",
       " (id = 138860, category = 0, created_at = 1517529600, date = 1424908800, game = 1090, human = \"Feb 26, 2015\", m = 2, platform = 41, region = 2, updated_at = 1517788800, y = 2015, checksum = \"280ad367-f4bc-c708-201f-33ea3662ad0a\")\n",
       " (id = 106850, category = 0, created_at = 1501804800, date = 1493078400, game = 11233, human = \"Apr 25, 2017\", m = 4, platform = 45, region = 2, updated_at = 1501804800, y = 2017, checksum = \"3dca257f-05ea-48af-f6a6-e7722249fda9\")\n",
       " (id = 687, category = 0, created_at = 1302652800, date = 930182400, game = 375, human = \"Jun 24, 1999\", m = 6, platform = 6, region = 8, updated_at = 1339372800, y = 1999, checksum = \"89ab4d46-8311-6ea3-ee4a-a1fd8f855914\")\n",
       " (id = 107436, category = 0, created_at = 1501804800, date = 1268265600, game = 352, human = \"Mar 11, 2010\", m = 3, platform = 9, region = 5, updated_at = 1501804800, y = 2010, checksum = \"ef6cb6f1-9a65-e0a3-af92-7b2ab628367a\")\n",
       " (id = 143850, category = 0, created_at = 1517616000, date = 1368576000, game = 1103, human = \"May 15, 2013\", m = 5, platform = 41, region = 2, updated_at = 1517788800, y = 2013, checksum = \"b30682f5-e8ec-39b6-a96d-60da3eb63a99\")\n",
       " (id = 143847, category = 0, created_at = 1517616000, date = 1192147200, game = 1103, human = \"Oct 12, 2007\", m = 10, platform = 5, region = 1, updated_at = 1517788800, y = 2007, checksum = \"cfeb8422-41b5-6596-e19a-f19e828e8ca1\")\n",
       " (id = 16207, category = 0, created_at = 1399507200, date = 1398816000, game = 4756, human = \"Apr 30, 2014\", m = 4, platform = 49, region = 8, updated_at = 1399507200, y = 2014, checksum = \"f5028e47-9f25-b5a1-0711-ce6f55dd0306\")\n",
       " (id = 107505, category = 0, created_at = 1501804800, date = 1049932800, game = 910, human = \"Apr 10, 2003\", m = 4, platform = 21, region = 2, updated_at = 1501804800, y = 2003, checksum = \"8a88f27c-8426-8bb3-cd08-2db30fb47191\")\n",
       " (id = 107790, category = 0, created_at = 1501977600, date = 1295481600, game = 1331, human = \"Jan 20, 2011\", m = 1, platform = 9, region = 1, updated_at = 1501977600, y = 2011, checksum = \"b86e4b33-3875-456b-2c00-c99e3862e00c\")\n",
       " (id = 116355, category = 0, created_at = 1507248000, date = 1398816000, game = 4756, human = \"Apr 30, 2014\", m = 4, platform = 6, region = 2, updated_at = 1507248000, y = 2014, checksum = \"a2f31a9f-d00e-c1f7-a76c-4658019ab31e\")\n",
       " (id = 11691, category = 0, created_at = 1391731200, date = 1335398400, game = 43, human = \"Apr 26, 2012\", m = 4, platform = 14, region = 8, updated_at = 1391731200, y = 2012, checksum = \"31ed8d50-9572-598a-e2f0-ca967d8c77b8\")\n",
       " (id = 143791, category = 0, created_at = 1517616000, date = 593568000, game = 1068, human = \"Oct 23, 1988\", m = 10, platform = 18, region = 5, updated_at = 1517788800, y = 1988, checksum = \"f92a59dc-4e2f-e475-4597-18cf71048d60\")\n",
       " ⋮\n",
       " (id = 28682, category = 0, created_at = 1428796800, date = 1428969600, game = 7292, human = \"Apr 14, 2015\", m = 4, platform = 49, region = 8, updated_at = 1428796800, y = 2015, checksum = \"8e271c28-1fcb-778f-2bd8-016591b22e79\")\n",
       " (id = 118135, category = 0, created_at = 1507680000, date = 1400544000, game = 3022, human = \"May 20, 2014\", m = 5, platform = 48, region = 2, updated_at = 1507766400, y = 2014, checksum = \"2ac2a682-3484-2a28-20b0-b6b74e066da6\")\n",
       " (id = 170249, category = 0, created_at = 1559088000, date = 1573171200, game = 19564, human = \"Nov 08, 2019\", m = 11, platform = 48, region = 8, updated_at = 1559088000, y = 2019, checksum = \"1a1b124f-bd2a-735e-b7a3-7aac88909d64\")\n",
       " (id = 143337, category = 0, created_at = 1517616000, date = 1221782400, game = 3192, human = \"Sep 19, 2008\", m = 9, platform = 5, region = 1, updated_at = 1517788800, y = 2008, checksum = \"88e481d0-2fe4-83ac-e0e1-4862b5d8df38\")\n",
       " (id = 106580, category = 0, created_at = 1501804800, date = 1324339200, game = 6250, human = \"Dec 20, 2011\", m = 12, platform = 9, region = 2, updated_at = 1501804800, y = 2011, checksum = \"e85dfeac-9cb1-b7f2-51b5-aa8f026a71c9\")\n",
       " (id = 55041, category = 0, created_at = 1470960000, date = 1334620800, game = 20740, human = \"Apr 17, 2012\", m = 4, platform = 12, region = 2, updated_at = 1470960000, y = 2012, checksum = \"9943ac66-d6f7-969f-3cf7-8fb68a963fcb\")\n",
       " (id = 170234, category = 0, created_at = 1559088000, date = 1559779200, game = 1352, human = \"Jun 06, 2019\", m = 6, platform = 6, region = 8, updated_at = 1559088000, y = 2019, checksum = \"7284057b-26e8-7c39-e1ff-b72e2a471204\")\n",
       " (id = 2203, category = 0, created_at = 1319932800, date = 1224460800, game = 732, human = \"Oct 20, 2008\", m = 10, platform = 36, region = 8, updated_at = 1339372800, y = 2008, checksum = \"ff56ce4d-7ffa-da62-82c0-8a1bf1a9973d\")\n",
       " (id = 133724, category = 0, created_at = 1515542400, date = 1416268800, game = 1020, human = \"Nov 18, 2014\", m = 11, platform = 48, region = 1, updated_at = 1515628800, y = 2014, checksum = \"a98304d5-f247-a0f9-bd47-2c9d4e73bde3\")\n",
       " (id = 2405, category = 0, created_at = 1322438400, date = 1190678400, game = 987, human = \"Sep 25, 2007\", m = 9, platform = 12, region = 8, updated_at = 1339372800, y = 2007, checksum = \"7296d662-085f-77c3-2e42-637ea6cbcc0d\")\n",
       " (id = 31117, category = 0, created_at = 1435795200, date = 1142467200, game = 398, human = \"Mar 16, 2006\", m = 3, platform = 8, region = 5, updated_at = 1435795200, y = 2006, checksum = \"ef43fef1-fc61-61bb-bccf-939a50e1f391\")\n",
       " (id = 21602, category = 0, created_at = 1414800000, date = 1299715200, game = 78, human = \"Mar 10, 2011\", m = 3, platform = 6, region = 3, updated_at = 1414800000, y = 2011, checksum = \"e728da8a-896f-d991-a720-63e93a5f64aa\")"
      ]
     },
     "execution_count": 78,
     "metadata": {},
     "output_type": "execute_result"
    }
   ],
   "source": [
    "releaseDates= JSON2.read(IOBuffer(releaseDates.body))"
   ]
  },
  {
   "cell_type": "code",
   "execution_count": 79,
   "metadata": {},
   "outputs": [
    {
     "data": {
      "text/plain": [
       "12-element Array{Symbol,1}:\n",
       " :id\n",
       " :categoty\n",
       " :created_at\n",
       " :date\n",
       " :game\n",
       " :human\n",
       " :m\n",
       " :platform\n",
       " :region\n",
       " :updated_at\n",
       " :y\n",
       " :checksum"
      ]
     },
     "execution_count": 79,
     "metadata": {},
     "output_type": "execute_result"
    }
   ],
   "source": [
    "# define the features we want to generate\n",
    "features_releaseDates = [:id, \n",
    "    :categoty, \n",
    "    :created_at, \n",
    "    :date, \n",
    "    :game, \n",
    "    :human, \n",
    "    :m, \n",
    "    :platform,\n",
    "    :region, \n",
    "    :updated_at, \n",
    "    :y, \n",
    "    :checksum\n",
    "    ]"
   ]
  },
  {
   "cell_type": "code",
   "execution_count": 80,
   "metadata": {},
   "outputs": [
    {
     "data": {
      "text/plain": [
       "12-element Array{Array{T,1} where T,1}:\n",
       " [138868, 138860, 106850, 687, 107436, 143850, 143847, 16207, 107505, 107790  …  170249, 143337, 106580, 55041, 170234, 2203, 133724, 2405, 31117, 21602]\n",
       " [\"Null\", \"Null\", \"Null\", \"Null\", \"Null\", \"Null\", \"Null\", \"Null\", \"Null\", \"Null\"  …  \"Null\", \"Null\", \"Null\", \"Null\", \"Null\", \"Null\", \"Null\", \"Null\", \"Null\", \"Null\"]\n",
       " [1517529600, 1517529600, 1501804800, 1302652800, 1501804800, 1517616000, 1517616000, 1399507200, 1501804800, 1501977600  …  1559088000, 1517616000, 1501804800, 1470960000, 1559088000, 1319932800, 1515542400, 1322438400, 1435795200, 1414800000]\n",
       " Any[1458777600, 1424908800, 1493078400, 930182400, 1268265600, 1368576000, 1192147200, 1398816000, 1049932800, 1295481600  …  1573171200, 1221782400, 1324339200, 1334620800, 1559779200, 1224460800, 1416268800, 1190678400, 1142467200, 1299715200]\n",
       " [1092, 1090, 11233, 375, 352, 1103, 1103, 4756, 910, 1331  …  19564, 3192, 6250, 20740, 1352, 732, 1020, 987, 398, 78]\n",
       " [\"Mar 24, 2016\", \"Feb 26, 2015\", \"Apr 25, 2017\", \"Jun 24, 1999\", \"Mar 11, 2010\", \"May 15, 2013\", \"Oct 12, 2007\", \"Apr 30, 2014\", \"Apr 10, 2003\", \"Jan 20, 2011\"  …  \"Nov 08, 2019\", \"Sep 19, 2008\", \"Dec 20, 2011\", \"Apr 17, 2012\", \"Jun 06, 2019\", \"Oct 20, 2008\", \"Nov 18, 2014\", \"Sep 25, 2007\", \"Mar 16, 2006\", \"Mar 10, 2011\"]\n",
       " Any[3, 2, 4, 6, 3, 5, 10, 4, 4, 1  …  11, 9, 12, 4, 6, 10, 11, 9, 3, 3]\n",
       " [37, 41, 45, 6, 9, 41, 5, 49, 21, 9  …  48, 5, 9, 12, 6, 36, 48, 12, 8, 6]\n",
       " [1, 2, 2, 8, 5, 2, 1, 8, 2, 1  …  8, 1, 2, 2, 8, 8, 1, 8, 5, 3]\n",
       " [1517788800, 1517788800, 1501804800, 1339372800, 1501804800, 1517788800, 1517788800, 1399507200, 1501804800, 1501977600  …  1559088000, 1517788800, 1501804800, 1470960000, 1559088000, 1339372800, 1515628800, 1339372800, 1435795200, 1414800000]\n",
       " Any[2016, 2015, 2017, 1999, 2010, 2013, 2007, 2014, 2003, 2011  …  2019, 2008, 2011, 2012, 2019, 2008, 2014, 2007, 2006, 2011]\n",
       " [\"0a6eaef1-2f00-9da4-8d1b-a7cb734650e2\", \"280ad367-f4bc-c708-201f-33ea3662ad0a\", \"3dca257f-05ea-48af-f6a6-e7722249fda9\", \"89ab4d46-8311-6ea3-ee4a-a1fd8f855914\", \"ef6cb6f1-9a65-e0a3-af92-7b2ab628367a\", \"b30682f5-e8ec-39b6-a96d-60da3eb63a99\", \"cfeb8422-41b5-6596-e19a-f19e828e8ca1\", \"f5028e47-9f25-b5a1-0711-ce6f55dd0306\", \"8a88f27c-8426-8bb3-cd08-2db30fb47191\", \"b86e4b33-3875-456b-2c00-c99e3862e00c\"  …  \"1a1b124f-bd2a-735e-b7a3-7aac88909d64\", \"88e481d0-2fe4-83ac-e0e1-4862b5d8df38\", \"e85dfeac-9cb1-b7f2-51b5-aa8f026a71c9\", \"9943ac66-d6f7-969f-3cf7-8fb68a963fcb\", \"7284057b-26e8-7c39-e1ff-b72e2a471204\", \"ff56ce4d-7ffa-da62-82c0-8a1bf1a9973d\", \"a98304d5-f247-a0f9-bd47-2c9d4e73bde3\", \"7296d662-085f-77c3-2e42-637ea6cbcc0d\", \"ef43fef1-fc61-61bb-bccf-939a50e1f391\", \"e728da8a-896f-d991-a720-63e93a5f64aa\"]"
      ]
     },
     "execution_count": 80,
     "metadata": {},
     "output_type": "execute_result"
    }
   ],
   "source": [
    "all_releaseDates = [get_this.(releaseDates,column_name) for column_name in features_releaseDates]"
   ]
  },
  {
   "cell_type": "code",
   "execution_count": 81,
   "metadata": {},
   "outputs": [
    {
     "data": {
      "text/plain": [
       "500-element Array{String,1}:\n",
       " \"0a6eaef1-2f00-9da4-8d1b-a7cb734650e2\"\n",
       " \"280ad367-f4bc-c708-201f-33ea3662ad0a\"\n",
       " \"3dca257f-05ea-48af-f6a6-e7722249fda9\"\n",
       " \"89ab4d46-8311-6ea3-ee4a-a1fd8f855914\"\n",
       " \"ef6cb6f1-9a65-e0a3-af92-7b2ab628367a\"\n",
       " \"b30682f5-e8ec-39b6-a96d-60da3eb63a99\"\n",
       " \"cfeb8422-41b5-6596-e19a-f19e828e8ca1\"\n",
       " \"f5028e47-9f25-b5a1-0711-ce6f55dd0306\"\n",
       " \"8a88f27c-8426-8bb3-cd08-2db30fb47191\"\n",
       " \"b86e4b33-3875-456b-2c00-c99e3862e00c\"\n",
       " \"a2f31a9f-d00e-c1f7-a76c-4658019ab31e\"\n",
       " \"31ed8d50-9572-598a-e2f0-ca967d8c77b8\"\n",
       " \"f92a59dc-4e2f-e475-4597-18cf71048d60\"\n",
       " ⋮\n",
       " \"8e271c28-1fcb-778f-2bd8-016591b22e79\"\n",
       " \"2ac2a682-3484-2a28-20b0-b6b74e066da6\"\n",
       " \"1a1b124f-bd2a-735e-b7a3-7aac88909d64\"\n",
       " \"88e481d0-2fe4-83ac-e0e1-4862b5d8df38\"\n",
       " \"e85dfeac-9cb1-b7f2-51b5-aa8f026a71c9\"\n",
       " \"9943ac66-d6f7-969f-3cf7-8fb68a963fcb\"\n",
       " \"7284057b-26e8-7c39-e1ff-b72e2a471204\"\n",
       " \"ff56ce4d-7ffa-da62-82c0-8a1bf1a9973d\"\n",
       " \"a98304d5-f247-a0f9-bd47-2c9d4e73bde3\"\n",
       " \"7296d662-085f-77c3-2e42-637ea6cbcc0d\"\n",
       " \"ef43fef1-fc61-61bb-bccf-939a50e1f391\"\n",
       " \"e728da8a-896f-d991-a720-63e93a5f64aa\""
      ]
     },
     "execution_count": 81,
     "metadata": {},
     "output_type": "execute_result"
    }
   ],
   "source": [
    "releaseDates_infor = DataFrame()\n",
    "releaseDates_infor.id = all_releaseDates[1]\n",
    "releaseDates_infor.game = all_releaseDates[5]\n",
    "releaseDates_infor.platform = all_releaseDates[8]\n",
    "releaseDates_infor.region = all_releaseDates[9]\n",
    "releaseDates_infor.categoty = all_releaseDates[2]\n",
    "releaseDates_infor.created_at = all_releaseDates[3]\n",
    "releaseDates_infor.date = all_releaseDates[4]\n",
    "releaseDates_infor.human = all_releaseDates[6]\n",
    "releaseDates_infor.y = all_releaseDates[11]\n",
    "releaseDates_infor.m = all_releaseDates[7]\n",
    "releaseDates_infor.updated_at = all_releaseDates[10]\n",
    "releaseDates_infor.checksum = all_releaseDates[12]"
   ]
  },
  {
   "cell_type": "code",
   "execution_count": 82,
   "metadata": {},
   "outputs": [
    {
     "data": {
      "text/plain": [
       "\"/Users/mengzhang/projects/github/wrangling_project/IGDB/game_releaseDates.csv\""
      ]
     },
     "execution_count": 82,
     "metadata": {},
     "output_type": "execute_result"
    }
   ],
   "source": [
    "CSV.write(\"/Users/mengzhang/projects/github/wrangling_project/IGDB/game_releaseDates.csv\", releaseDates_infor)"
   ]
  },
  {
   "cell_type": "markdown",
   "metadata": {},
   "source": [
    "### Section 3\n",
    "Find more information about the involved companies"
   ]
  },
  {
   "cell_type": "code",
   "execution_count": 83,
   "metadata": {},
   "outputs": [
    {
     "data": {
      "text/plain": [
       "\"fields *; limit 500;where published = (1020,1942,472,732,72,233,71,1009,74,231,127,733,20,73,25076,500,7346,538,1164,11156,1029,7331,501,434,75,121,565,529,26192,15,16,19441,1070,1871,7599,18,9630,1074,19560,113,59,623,1011,6036,1068,731,25657,28204,8173,1026,1970,76,478,5503,28540,1372,375,512,427,132,866,974,247,116,533,7351,1802,3025,2114,7334,11169,2155,28552,7323,2207,358,1262,730,26758,1985,36926,37,128,9061,1384,39,126,673,12517,286,1331,1887,19565,43,2031,230,56,6801,11133,1266,327,14362,379,3035,559,2993,7344,11208,7342,549,41,622,18320,1352,537,19561,1033,109,481,8197,1905,19562,431,9730,21,40,343,1062,11198,27421,359,1103,885,493,1121,960,7205,11118,239,1051,124,1036,98,38,19,19564,19531,289,1105,498,421,338,1979,9927,418,123,120,14,119313,142,551,11161,37016,3097,545,17000,355,1279,1078,7603,1968,118,117,27789,1377,37094,1077,530,376,426,4754,9066,2933,380,2368,539,2909,80,891,1334,115,1022,36952,740,836,3042,1983,13,2963,60,495,7609,2853,1318,96,987,621,97,9498,133,1030,6707,296,499,1267,1627,12503,11233,1221,979,8187,5601,1073,37777,7444,1122,7360,61,873,352,22439,111,11157,364,246,181,11,26193,17447,3182,333,625,6,14593,2350,125,122,9604,36897,4438,1341,1048,29004,1879,2136,837,312,13166,10962,9727,986,10919,819,471,2935,103298,2262,103054,990,425,245,1906,1219,153,7789,1185,324,260,184,3022,1039,517,78,2342,1910,847,9192,1561,5328,2261,1991,1941,480,378,620,9174,1628,1244,1075,2899,113114,2997,7292,4756,2180,991,14587,1981,1090,342,19130,3278,3070,307,19457,74701,3102,647,3750,6632,1254,11800,5,2990,2001,1593,558,90099,19686,8222,7327,5025,130,26196,12571,3192,1270,224,9600,2939,2437,534,22,21062,1928,36813,2126,1513,547,1715,981,457,9806,7352,3075,1187,910,748,241,223,26226,19164,980,912,299,7706,1511,1305,227,62,76882,27081,5619,1128,7386,1638,1559,966,90101,479,11065,320,295,1512,832,424,277,112,3193,3152,2985,2276,482,326,1558,1186,523,306,280,232,193,1277,361,7170,2025,1911,1339,456,152,109462,20275,19459,3174,2183,2129,562,3186,10148,458,228,9254,6739,2148,1067,913,570,548,9602,19539,1183,398,136,36911,8254,7313,6803,6247,2438,1035,911,293,3349,1092,438,37001,8965,1337,11790,2132,1557,119,20740,103329,1271,1269,494,83728,26764,19470,6250,3154,2115,1626,1192,942,515,1426,1156,1079,389,55935,1514,11170,7348,890,826,521,272,1918,1289,105,5508,1976,948,76253,21040,18099,3265,2472,2064,544,520,509,26855,26761,23248,857,3221,3155,1058);\""
      ]
     },
     "execution_count": 83,
     "metadata": {},
     "output_type": "execute_result"
    }
   ],
   "source": [
    "# define the scrap target on the web page\n",
    "body_date = \"fields *; limit 500;where published = (1020,1942,472,732,72,233,71,1009,74,231,127,733,20,73,25076,500,7346,538,1164,11156,1029,7331,501,434,75,121,565,529,26192,15,16,19441,1070,1871,7599,18,9630,1074,19560,113,59,623,1011,6036,1068,731,25657,28204,8173,1026,1970,76,478,5503,28540,1372,375,512,427,132,866,974,247,116,533,7351,1802,3025,2114,7334,11169,2155,28552,7323,2207,358,1262,730,26758,1985,36926,37,128,9061,1384,39,126,673,12517,286,1331,1887,19565,43,2031,230,56,6801,11133,1266,327,14362,379,3035,559,2993,7344,11208,7342,549,41,622,18320,1352,537,19561,1033,109,481,8197,1905,19562,431,9730,21,40,343,1062,11198,27421,359,1103,885,493,1121,960,7205,11118,239,1051,124,1036,98,38,19,19564,19531,289,1105,498,421,338,1979,9927,418,123,120,14,119313,142,551,11161,37016,3097,545,17000,355,1279,1078,7603,1968,118,117,27789,1377,37094,1077,530,376,426,4754,9066,2933,380,2368,539,2909,80,891,1334,115,1022,36952,740,836,3042,1983,13,2963,60,495,7609,2853,1318,96,987,621,97,9498,133,1030,6707,296,499,1267,1627,12503,11233,1221,979,8187,5601,1073,37777,7444,1122,7360,61,873,352,22439,111,11157,364,246,181,11,26193,17447,3182,333,625,6,14593,2350,125,122,9604,36897,4438,1341,1048,29004,1879,2136,837,312,13166,10962,9727,986,10919,819,471,2935,103298,2262,103054,990,425,245,1906,1219,153,7789,1185,324,260,184,3022,1039,517,78,2342,1910,847,9192,1561,5328,2261,1991,1941,480,378,620,9174,1628,1244,1075,2899,113114,2997,7292,4756,2180,991,14587,1981,1090,342,19130,3278,3070,307,19457,74701,3102,647,3750,6632,1254,11800,5,2990,2001,1593,558,90099,19686,8222,7327,5025,130,26196,12571,3192,1270,224,9600,2939,2437,534,22,21062,1928,36813,2126,1513,547,1715,981,457,9806,7352,3075,1187,910,748,241,223,26226,19164,980,912,299,7706,1511,1305,227,62,76882,27081,5619,1128,7386,1638,1559,966,90101,479,11065,320,295,1512,832,424,277,112,3193,3152,2985,2276,482,326,1558,1186,523,306,280,232,193,1277,361,7170,2025,1911,1339,456,152,109462,20275,19459,3174,2183,2129,562,3186,10148,458,228,9254,6739,2148,1067,913,570,548,9602,19539,1183,398,136,36911,8254,7313,6803,6247,2438,1035,911,293,3349,1092,438,37001,8965,1337,11790,2132,1557,119,20740,103329,1271,1269,494,83728,26764,19470,6250,3154,2115,1626,1192,942,515,1426,1156,1079,389,55935,1514,11170,7348,890,826,521,272,1918,1289,105,5508,1976,948,76253,21040,18099,3265,2472,2064,544,520,509,26855,26761,23248,857,3221,3155,1058);\""
   ]
  },
  {
   "cell_type": "code",
   "execution_count": 84,
   "metadata": {},
   "outputs": [
    {
     "data": {
      "text/plain": [
       "HTTP.Messages.Response:\n",
       "\"\"\"\n",
       "HTTP/1.1 200 OK\r\n",
       "Date: Tue, 13 Oct 2020 07:54:36 GMT\r\n",
       "Content-Type: application/json;charset=utf-8\r\n",
       "Transfer-Encoding: chunked\r\n",
       "Connection: keep-alive\r\n",
       "Set-Cookie: __cfduid=d88d45885ba06acf74e62ebacebe657b91602575675; expires=Thu, 12-Nov-20 07:54:35 GMT; path=/; domain=.igdb.com; HttpOnly; SameSite=Lax; Secure\r\n",
       "x-amzn-RequestId: 195e129d-acf2-4f08-a69b-058e7e7261e3\r\n",
       "x-amz-apigw-id: UVuBZEesPHcFokw=\r\n",
       "x-amzn-Remapped-Server: Javalin\r\n",
       "X-Count: 220\r\n",
       "x-amzn-Remapped-Date: Tue, 13 Oct 2020 07:54:36 GMT\r\n",
       "X-Cache: Miss from cloudfront\r\n",
       "Via: 1.1 1afcd397058f15be8cae1f4ab178b100.cloudfront.net (CloudFront)\r\n",
       "X-Amz-Cf-Pop: AKL50-C1\r\n",
       "X-Amz-Cf-Id: KrM3XXeOPiofLthznTHewDje12fFlIYCaelSBx6YINdWO-7Y3euxUA==\r\n",
       "CF-Cache-Status: DYNAMIC\r\n",
       "cf-request-id: 05c28d48780000fb8802096200000001\r\n",
       "Expect-CT: max-age=604800, report-uri=\"https://report-uri.cloudflare.com/cdn-cgi/beacon/expect-ct\"\r\n",
       "Strict-Transport-Security: max-age=15552000; includeSubDomains; preload\r\n",
       "X-Content-Type-Options: nosniff\r\n",
       "Server: cloudflare\r\n",
       "CF-RAY: 5e177e53fe5efb88-AKL\r\n",
       "\r\n",
       "[\n",
       "  {\n",
       "    \"id\": 8,\n",
       "    \"change_date_category\": 7,\n",
       "    \"country\": 840,\n",
       "    \"created_at\": 1298764800,\n",
       "    \"description\": \"2K Games is the main publishing company for Take-Two Interactive, created the day after they acquired the rights for the 2K sports series from Sega along with the purchase of the companies Visual Concepts and Kush Games. \\n \\nAlmost all development studios owned by Take-Two are listed as subsidiaries through 2K Games, or its publishing divisions 2K Sports and 2K Play. \\n \\n\\\"2K is a videogame publisher managing some of the most creative, respected and premium brands in games today. \\n \\nFounded in 2005 within Take Two Interactive, 2K develops and publishes interactive entertainment for PC, console and mobile platforms.\\\"\",\n",
       "    \"developed\": [\n",
       "      19839,\n",
       "      52937\n",
       "    ],\n",
       "    \"logo\": 36,\n",
       "    \"name\": \"2K Games\",\n",
       "    \"parent\": 139,\n",
       "    \"published\": [\n",
       "      10,\n",
       "      20,\n",
       "      21,\n",
       "      25,\n",
       "      40,\n",
       "      59,\n",
       "      244,\n",
       "      293,\n",
       "      490,\n",
       "      498,\n",
       "      538,\n",
       "     \n",
       "⋮\n",
       "381206-byte body\n",
       "\"\"\""
      ]
     },
     "execution_count": 84,
     "metadata": {},
     "output_type": "execute_result"
    }
   ],
   "source": [
    "# Using HTTP.post(\"path\") to scrap the relasase date web information\n",
    "companies = HTTP.post(\"https://api.igdb.com/v4/companies\",\n",
    "          auth_dictionary,\n",
    "          body_date)"
   ]
  },
  {
   "cell_type": "code",
   "execution_count": 85,
   "metadata": {},
   "outputs": [
    {
     "data": {
      "text/plain": [
       "220-element Array{Any,1}:\n",
       " (id = 8, change_date_category = 7, country = 840, created_at = 1298764800, description = \"2K Games is the main publishing company for Take-Two Interactive, created the day after they acquired the rights for the 2K sports series from Sega along with the purchase of the companies Visual Concepts and Kush Games. \\n \\nAlmost all development studios owned by Take-Two are listed as subsidiaries through 2K Games, or its publishing divisions 2K Sports and 2K Play. \\n \\n\\\"2K is a videogame publisher managing some of the most creative, respected and premium brands in games today. \\n \\nFounded in 2005 within Take Two Interactive, 2K develops and publishes interactive entertainment for PC, console and mobile platforms.\\\"\", developed = Any[19839, 52937], logo = 36, name = \"2K Games\", parent = 139, published = Any[10, 20, 21, 25, 40, 59, 244, 293, 490, 498  …  113374, 114285, 114793, 117315, 126138, 127036, 131966, 132956, 133900, 134100], slug = \"2k-games\", start_date = 1106611200, start_date_category = 0, updated_at = 1588032000, url = \"https://www.igdb.com/companies/2k-games\", websites = Any[424], checksum = \"4f06e086-f039-2c92-4b6b-50149c2ed28f\")\n",
       " (id = 70, change_date_category = 7, country = 392, created_at = 1300147200, description = \"Nintendo Co., Ltd. is a multinational corporation located in Kyoto, Japan. Founded on September 23, 1889 by Fusajiro Yamauchi, it produced handmade hanafuda cards. By 1963, the company had tried several small niche businesses, such as a cab company and a love hotel. \\n \\nNintendo developed into a video game company, becoming one of the most influential in the industry and Japan's third most valuable listed company, with a market value of over US\\$85 billion. \\n \\nBesides video games, Nintendo is also the majority owner of the Seattle Mariners, a Major League Baseball team in Seattle, Washington. \\n \\nAccording to Nintendo's Touch! Generations website, the name \\\"Nintendo\\\" translated from Japanese to English means \\\"Leave luck to Heaven\\\".\", developed = Any[1032, 1041, 1086, 1087, 1088, 1106, 1112, 1113, 1711, 1713  …  122260, 129859, 130310, 134258, 134437, 134468, 134469, 134499, 134500, 135104], logo = 892, name = \"Nintendo\", published = Any[154, 163, 164, 358, 385, 408, 412, 414, 415, 426  …  134468, 134469, 134496, 134499, 134500, 135104, 135142, 135164, 135233, 135389], slug = \"nintendo\", start_date = -1681171200, start_date_category = 0, updated_at = 1588809600, url = \"https://www.igdb.com/companies/nintendo\", websites = Any[1096], checksum = \"f17cd4d5-9810-9fb5-1102-726453aae5db\")\n",
       " (id = 14329, change_date_category = 7, country = 840, created_at = 1515369600, developed = Any[55935], name = \"Team Salvato\", published = Any[55935], slug = \"team-salvato\", start_date_category = 7, updated_at = 1580342400, url = \"https://www.igdb.com/companies/team-salvato\", checksum = \"728f1af8-86ad-692a-1c04-6c8fc702b832\")\n",
       " (id = 213, change_date = 1243555200, change_date_category = 0, changed_company_id = 82, country = 250, created_at = 1302134400, description = \"Infogrames Entertainment, SA  was an international French holding company headquartered in Lyon, France. Owner of Atari inc. and Atari Europe along with numerous other companies and studios. Through its subsidiaries, the company published games for every major video game platform.\\n\\nInfogrames Entertainment, SA renamed itself in 2009 after its subsidiary Atari inc. to Atari, SA.\", developed = Any[1874, 1956, 1957, 1959, 2225, 3605, 4190, 4402, 5903, 6225  …  45944, 49298, 53925, 54558, 54628, 55094, 55095, 55096, 55097, 72073], name = \"Infogrames\", published = Any[69, 261, 272, 310, 331, 417, 421, 675, 757, 758  …  93395, 93967, 94296, 94846, 95376, 104973, 115838, 117956, 122752, 124105], slug = \"infogrames\", start_date = 424483200, start_date_category = 0, updated_at = 1588550400, url = \"https://www.igdb.com/companies/infogrames\", checksum = \"92c47f65-2195-867b-ae01-768b56719dd0\")\n",
       " (id = 104, change_date_category = 7, country = 250, created_at = 1300406400, description = \"When my brothers and I created Ubisoft back in 1986, we started out with a simple motivation: work with passionate people and make fun games. Today, to continue surprising our millions of fans all over the world, we're always on the lookout for new ways to push back the boundaries of creativity and innovation. Beyond simple games, we strive to create immersive and engaging creative worlds that not only offer moments of pure fun, escapism and adventure, but also opportunities for learning and self-discovery. \\n \\nThe video game industry is constantly evolving, and Ubisoft teams and I are eager to take up the next challenges in store so that you can have even more gaming pleasure.\", developed = Any[691, 843, 1964, 2279, 3858, 3887, 4162, 4772, 4925, 4926  …  82097, 86389, 91311, 97487, 118882, 118898, 118900, 119071, 127328, 132134], logo = 1240, name = \"Ubisoft Entertainment\", published = Any[56, 57, 58, 113, 127, 128, 136, 185, 306, 360  …  129900, 129901, 129902, 129903, 130516, 132134, 133004, 133963, 135155, 135157], slug = \"ubisoft-entertainment\", start_date = 512611200, start_date_category = 3, updated_at = 1588204800, url = \"https://www.igdb.com/companies/ubisoft-entertainment\", websites = Any[951], checksum = \"808129a5-3818-2ec3-4872-0b63933c2162\")\n",
       " (id = 245, change_date_category = 7, country = 840, created_at = 1302220800, description = \"Headquartered just north of Washington, D.C., with offices in North America, Europe, Australia and Asia, ZeniMax Media is a video game publisher, managed by an experienced group of executives, which has assembled a strong creative team of world-class game developers, graphic artists and designers, sound engineers, producers and programmers to create and sell premium video game titles to a growing worldwide market.\\n\\nZeniMax creates and publishes original interactive entertainment content for consoles, the PC, and handheld/wireless devices. Its Bethesda Softworks division, founded in 1986 in the early days of the industry, has a long history of success as a publisher of award-winning video games. In addition, the ZeniMax group includes some of the most acclaimed development studios in the world. The Company's growing library of intellectual properties includes such major franchises as The Elder Scrolls, Fallout, Dishonored, DOOM, QUAKE, Wolfenstein, Enemy Territory, and RAGE.\", logo = 50, name = \"ZeniMax Media\", published = Any[15, 56], slug = \"zenimax-media\", start_date = 925516800, start_date_category = 1, updated_at = 1556928000, url = \"https://www.igdb.com/companies/zenimax-media\", websites = Any[886], checksum = \"99d24db6-ed27-a35b-50df-74001970d447\")\n",
       " (id = 753, change_date = 1470960000, change_date_category = 0, changed_company_id = 10075, country = 40, created_at = 1339372800, description = \"From the main company:\\n\\\"Nordic Games is also the name of the Group’s publishing unit, which handles the operative business of the group-wide IP catalogue, with its head office in Vienna, Austria.\\n\\nThe publishing unit originally started in 2008, with its main purpose being to create more content to the Game Outlet pallet concept.\\\"\\n\\nFrom the publisher website:\\n\\\"Nordic Games GmbH is a wholly owned publishing subsidiary of Nordic Games Group AB.\\n\\nFounded in 2011, the Vienna/Austria based company Nordic Games GmbH puts great emphasis on its extensive game catalogue. The core portfolio comprises products and brands which have been acquired from JoWooD Entertainment AG and DreamCatcher Interactive Inc., and other IPs and trademarks.\\n\\nThe company will pursue the long-term goal of delivering quality products that live up to expectations of gamers worldwide.\\\"\", developed = Any[10887], logo = 815, name = \"Nordic Games Publishing\", parent = 7416, published = Any[1062, 1789, 1839, 2261, 2262, 2263, 2602, 3087, 5266, 5267  …  9817, 9818, 10887, 13165, 14297, 14551, 14805, 14828, 15762, 19962], slug = \"nordic-games-publishing\", start_date = 1230681600, start_date_category = 2, updated_at = 1577577600, url = \"https://www.igdb.com/companies/nordic-games-publishing\", websites = Any[984], checksum = \"3b2eb13f-ab54-30eb-dd72-c17b17fd0cc8\")\n",
       " (id = 4602, change_date_category = 7, country = 724, created_at = 1421366400, developed = Any[2637, 28170, 75239], logo = 1412, name = \"BlitWorks\", published = Any[885, 7891, 9048, 10973, 13675, 15911, 103209], slug = \"blitworks\", start_date = 1341187200, start_date_category = 0, updated_at = 1548115200, url = \"https://www.igdb.com/companies/blitworks\", websites = Any[1352], checksum = \"71ca4718-0498-d8f9-5893-d680e636d69f\")\n",
       " (id = 1396, change_date_category = 7, country = 203, created_at = 1381449600, developed = Any[2990, 6611, 8621, 15537, 15731, 57263, 63472, 110834, 122766], logo = 361, name = \"Amanita Design\", published = Any[2990, 6611, 8621, 15537, 15731, 57263, 63472, 110834, 122766], slug = \"amanita-design\", start_date = 1072828800, start_date_category = 2, updated_at = 1599955200, url = \"https://www.igdb.com/companies/amanita-design\", websites = Any[800], checksum = \"7a1e1dc9-7f18-28e6-6e05-92b033dd5394\")\n",
       " (id = 129, change_date_category = 7, country = 392, created_at = 1301270400, description = \"Konami Holdings Corporation, commonly referred to as Konami, is a Japanese entertainment and gaming conglomerate. It operates as a product distributor, video game developer and publisher company. It also operates health and physical fitness clubs across Japan.\", developed = Any[374, 377, 1114, 1115, 1116, 1117, 1118, 1119, 1120, 1123  …  125015, 128475, 131795, 131796, 132805, 133917, 134079, 134080, 134261, 135089], logo = 1793, name = \"Konami\", published = Any[327, 374, 375, 376, 377, 378, 379, 380, 381, 382  …  135384, 135385, 135387, 135392, 135393, 135394, 135395, 135396, 135509, 135510], slug = \"konami\", start_date = -24710400, start_date_category = 0, updated_at = 1588291200, url = \"https://www.igdb.com/companies/konami\", websites = Any[257], checksum = \"dc62151c-a960-d029-9f72-e76c3aa347ba\")\n",
       " (id = 2262, change_date_category = 7, country = 840, created_at = 1391817600, description = \"Nippon Ichi Software was founded in September 1991 in Gifu Prefecture, Japan, as an entertainment software company. It was relocated and reincorporated on July 12, 1993. Since then Nippon Ichi Software, Inc. has grown into an international company focused on creating video game products across modern console platforms. NIS America, Inc. subsidiary of Nippon Ichi Software, Inc. of Japan, established its North American operations on December 24, 2003. Based in Santa Ana, California, NIS America, Inc. handles operations including localization, marketing, and publishing of Nippon Ichi titles. The first game to be released in North America by NIS America was Phantom Brave.\\n\\nNIS America was the result of the company's wish to focus on international publication of their works in the U.S., given the increased popularity of their titles. Prior to the creation of this subsidiary, NIS software titles that appeared in the U.S. were localized and distributed by outside publishers. Notable examples would be Disgaea: Hour of Darkness, published in North America by Atlus and in Europe by Koei, La Pucelle, published in North America by Mastiff Inc, and Rhapsody: A Musical Adventure which was also published in North America by Atlus. The publisher has become a somewhat of a well-known presence in the North American market, having won RPGLand's \\\"Stateside Publisher of the Year Award\\\" in 2009.\", developed = Any[15284], logo = 457, name = \"NIS America\", parent = 1405, published = Any[2985, 3966, 5097, 5136, 6767, 6883, 6887, 6948, 7268, 7274  …  103052, 107260, 112082, 113207, 115989, 119506, 121651, 121652, 122721, 135301], slug = \"nis-america\", start_date = 1072224000, start_date_category = 0, updated_at = 1588636800, url = \"https://www.igdb.com/companies/nis-america\", websites = Any[1355], checksum = \"4ca4e39f-9f4f-609c-18dc-248f59b00353\")\n",
       " (id = 250, change_date = 1049155200, change_date_category = 0, changed_company_id = 26, country = 392, created_at = 1302307200, description = \"Square Co., Ltd. (株式会社スクウェア Kabushiki-gaisha Sukuwea) was a Japanese video game company founded in September 1986 by Masafumi Miyamoto. It merged with Enix in 2003 and became Square Enix. The company also used SquareSoft as a brand name to refer to their games, and the term is occasionally used to refer to the company itself. In addition, \\\"Squaresoft, Inc\\\" was the name of the company's American arm before the merger, after which it was renamed to \\\"Square Enix, Inc\\\".\", developed = Any[385, 387, 393, 396, 399, 403, 406, 407, 410, 411  …  38105, 41723, 41835, 42258, 49559, 76182, 79447, 121688, 121717, 134463], logo = 1484, name = \"Square\", published = Any[385, 387, 396, 399, 400, 403, 406, 407, 410, 411  …  22897, 22899, 28402, 36811, 41723, 41835, 42258, 49559, 76182, 121688], slug = \"square\", start_date = 431222400, start_date_category = 0, updated_at = 1584489600, url = \"https://www.igdb.com/companies/square\", checksum = \"da57c1dc-7a6c-d7b7-a1a5-19b9a2018e96\")\n",
       " (id = 25048, change_date_category = 7, created_at = 1587513600, developed = Any[70463, 79890], name = \"EA\", published = Any[71, 50346, 70020, 70463, 79890, 112104, 134150], slug = \"ea\", start_date_category = 7, updated_at = 1587513600, url = \"https://www.igdb.com/companies/ea\", checksum = \"bda20855-e118-ce4c-0f77-4faaba0fc706\")\n",
       " ⋮\n",
       " (id = 231, change_date_category = 0, created_at = 1302220800, developed = Any[8125, 9557, 81031, 84282, 84302, 92871, 92887], name = \"Tec Toy Indústria de Brinquedos\", published = Any[185, 342, 2878, 4444, 4468, 6841, 8125, 10194, 10218, 12910, 18577, 19762, 39695, 54649, 84282, 84302, 92871, 92887, 98931], slug = \"tec-toy-industria-de-brinquedos\", start_date_category = 0, updated_at = 1587600000, url = \"https://www.igdb.com/companies/tec-toy-industria-de-brinquedos\", checksum = \"214329f7-387d-68e4-25bf-985ed9f1c7a0\")\n",
       " (id = 1037, change_date_category = 0, created_at = 1372291200, developed = Any[2219, 2379, 8535], name = \"Philips Interactive Media, Inc.\", published = Any[2219, 2379, 4248, 5454, 8197, 8532, 8533, 8534, 8535, 8669, 10516, 12034, 37287, 45905, 45937, 46414, 69664, 81551, 127151], slug = \"philips-interactive-media-inc\", start_date_category = 0, updated_at = 1575763200, url = \"https://www.igdb.com/companies/philips-interactive-media-inc\", checksum = \"30a5c7d4-32b3-1a3a-2cfa-2d279cabba4b\")\n",
       " (id = 14055, change_date_category = 7, created_at = 1513382400, developed = Any[20926, 57989, 118756, 125209], name = \"Warner Bros. Interactive Entertainment\", published = Any[500, 5503, 10028, 15519, 15520, 15521, 15522, 15523, 15524, 15525  …  121924, 128009, 133266, 133273, 133274, 133275, 133276, 133277, 133278, 133955], slug = \"warner-bros-interactive-entertainment\", start_date_category = 7, updated_at = 1588809600, url = \"https://www.igdb.com/companies/warner-bros-interactive-entertainment\", checksum = \"84f16845-276a-be1b-5aa7-4dc6cab01526\")\n",
       " (id = 200, change_date_category = 0, created_at = 1301961600, developed = Any[3521], name = \"Electronic Arts Victor\", published = Any[129, 130, 131, 283, 284, 1624, 1957, 1959, 3249, 3521  …  8515, 11281, 11630, 12205, 14585, 19494, 34783, 39665, 48459, 49326], slug = \"electronic-arts-victor\", start_date_category = 0, updated_at = 1587686400, url = \"https://www.igdb.com/companies/electronic-arts-victor\", checksum = \"9e49db6e-a6b5-3911-fe86-259cf5aab90c\")\n",
       " (id = 204, change_date_category = 0, created_at = 1301961600, name = \"Gathering of Developers\", published = Any[18, 39, 107, 108, 271, 274, 285, 294, 464, 490  …  11029, 18112, 18489, 18490, 18491, 22248, 24085, 60671, 79984, 119356], slug = \"gathering-of-developers\", start_date_category = 0, updated_at = 1560211200, url = \"https://www.igdb.com/companies/gathering-of-developers\", checksum = \"6f127ea5-5e76-f62e-7bfb-1e7ff2534497\")\n",
       " (id = 205, change_date_category = 0, created_at = 1301961600, developed = Any[6541], name = \"GT Interactive\", published = Any[272, 273, 284, 312, 333, 342, 490, 673, 675, 901  …  39769, 45041, 46627, 49015, 50347, 57628, 76199, 92538, 129581, 129898], slug = \"gt-interactive\", start_date_category = 0, updated_at = 1582070400, url = \"https://www.igdb.com/companies/gt-interactive\", checksum = \"132630aa-683c-de28-6172-f321b2dc23e3\")\n",
       " (id = 19200, change_date_category = 7, created_at = 1555200000, developed = Any[13139, 13140], name = \"EA Games\", published = Any[226, 247, 338, 1901, 3941, 3944, 4151, 4908, 5243, 5534  …  19423, 21401, 23809, 68299, 110433, 112660, 115430, 117003, 117322, 118554], slug = \"ea-games\", start_date_category = 7, updated_at = 1580515200, url = \"https://www.igdb.com/companies/ea-games\", checksum = \"e3c91d01-f142-8b6c-ce65-c5bcb4a61052\")\n",
       " (id = 449, change_date_category = 0, created_at = 1317686400, name = \"D3 Publisher\", published = Any[21, 574, 1892, 2108, 2370, 2797, 2800, 2801, 2802, 2806  …  124087, 124110, 124151, 125676, 130025, 132070, 132071, 132072, 132073, 132092], slug = \"d3-publisher\", start_date_category = 0, updated_at = 1586304000, url = \"https://www.igdb.com/companies/d3-publisher\", checksum = \"feb7efb3-e0a4-2c37-47a0-bc989276b578\")\n",
       " (id = 468, change_date_category = 0, created_at = 1317686400, developed = Any[14856, 15625, 15780, 15781, 16147, 17349, 17680, 85833], name = \"Meridian4\", published = Any[601, 890, 6175, 6176, 6185, 8074, 9019, 9029, 9091, 9092  …  27790, 28922, 28923, 29191, 29736, 30316, 31789, 33752, 68682, 85833], slug = \"meridian4\", start_date_category = 0, updated_at = 1545436800, url = \"https://www.igdb.com/companies/meridian4\", checksum = \"1f5f8abb-990b-d10e-58e5-8622b245e843\")\n",
       " (id = 652, change_date_category = 0, created_at = 1319155200, name = \"Nintendo Australia\", published = Any[880, 966, 970, 1426, 3376, 3377, 3379, 3381, 3383, 3384, 3385, 3386, 3387, 3388, 3389, 3390, 4231, 6895], slug = \"nintendo-australia\", start_date_category = 0, updated_at = 1513296000, url = \"https://www.igdb.com/companies/nintendo-australia\", checksum = \"1ce6da8a-a896-7e7f-f135-45de03c4236d\")\n",
       " (id = 2113, change_date_category = 0, created_at = 1391126400, name = \"Nobilis\", published = Any[4750, 5039, 6247, 7332, 9376, 18515, 19458, 27491, 27496, 27578, 46701, 47709, 47910, 47976, 52888, 128761], slug = \"nobilis\", start_date_category = 0, updated_at = 1579564800, url = \"https://www.igdb.com/companies/nobilis\", checksum = \"073ab3a7-1a50-5908-797f-f52928eebedf\")\n",
       " (id = 13634, change_date_category = 7, created_at = 1508112000, developed = Any[52170, 53014, 83829, 86096], name = \"Sony Computer Entertainment\", published = Any[295, 1320, 1801, 2212, 6530, 7415, 7422, 7606, 8655, 9056  …  94070, 94130, 95000, 95002, 101462, 102081, 102082, 102083, 103386, 103404], slug = \"sony-computer-entertainment\", start_date_category = 7, updated_at = 1588723200, url = \"https://www.igdb.com/companies/sony-computer-entertainment\", checksum = \"f50812da-3c18-f6ba-0f6a-485838d8b9c9\")"
      ]
     },
     "execution_count": 85,
     "metadata": {},
     "output_type": "execute_result"
    }
   ],
   "source": [
    "# Read the web body information into JSON format\n",
    "companies = JSON2.read(IOBuffer(companies.body))"
   ]
  },
  {
   "cell_type": "code",
   "execution_count": 86,
   "metadata": {},
   "outputs": [
    {
     "data": {
      "text/plain": [
       "15-element Array{Symbol,1}:\n",
       " :id\n",
       " :change_date_category\n",
       " :country\n",
       " :created_at\n",
       " :description\n",
       " :developed\n",
       " :logo\n",
       " :name\n",
       " :slug\n",
       " :start_date\n",
       " :start_date_category\n",
       " :updated_at\n",
       " :url\n",
       " :websites\n",
       " :checksum"
      ]
     },
     "execution_count": 86,
     "metadata": {},
     "output_type": "execute_result"
    }
   ],
   "source": [
    "# Define the features we want to generate\n",
    "features_companies = [:id, \n",
    "    :change_date_category, \n",
    "    :country,\n",
    "    :created_at, \n",
    "    :description,\n",
    "    :developed,\n",
    "    :logo,\n",
    "    :name, \n",
    "    :slug, \n",
    "    :start_date,\n",
    "    :start_date_category, \n",
    "    :updated_at, \n",
    "    :url,\n",
    "    :websites,\n",
    "    :checksum\n",
    "    ]"
   ]
  },
  {
   "cell_type": "code",
   "execution_count": 87,
   "metadata": {},
   "outputs": [
    {
     "data": {
      "text/plain": [
       "15-element Array{Array{T,1} where T,1}:\n",
       " [8, 70, 14329, 213, 104, 245, 753, 4602, 1396, 129  …  14055, 200, 204, 205, 19200, 449, 468, 652, 2113, 13634]\n",
       " [7, 7, 7, 0, 7, 7, 0, 7, 7, 7  …  7, 0, 0, 0, 7, 0, 0, 0, 0, 7]\n",
       " Any[840, 392, 840, 250, 250, 840, 40, 724, 203, 392  …  \"Null\", \"Null\", \"Null\", \"Null\", \"Null\", \"Null\", \"Null\", \"Null\", \"Null\", \"Null\"]\n",
       " [1298764800, 1300147200, 1515369600, 1302134400, 1300406400, 1302220800, 1339372800, 1421366400, 1381449600, 1301270400  …  1513382400, 1301961600, 1301961600, 1301961600, 1555200000, 1317686400, 1317686400, 1319155200, 1391126400, 1508112000]\n",
       " [\"2K Games is the main publishing company for Take-Two Interactive, created the day after they acquired the rights for the 2K sports series from Sega along with the purchase of the companies Visual Concepts and Kush Games. \\n \\nAlmost all development studios owned by Take-Two are listed as subsidiaries through 2K Games, or its publishing divisions 2K Sports and 2K Play. \\n \\n\\\"2K is a videogame publisher managing some of the most creative, respected and premium brands in games today. \\n \\nFounded in 2005 within Take Two Interactive, 2K develops and publishes interactive entertainment for PC, console and mobile platforms.\\\"\", \"Nintendo Co., Ltd. is a multinational corporation located in Kyoto, Japan. Founded on September 23, 1889 by Fusajiro Yamauchi, it produced handmade hanafuda cards. By 1963, the company had tried several small niche businesses, such as a cab company and a love hotel. \\n \\nNintendo developed into a video game company, becoming one of the most influential in the industry and Japan's third most valuable listed company, with a market value of over US\\$85 billion. \\n \\nBesides video games, Nintendo is also the majority owner of the Seattle Mariners, a Major League Baseball team in Seattle, Washington. \\n \\nAccording to Nintendo's Touch! Generations website, the name \\\"Nintendo\\\" translated from Japanese to English means \\\"Leave luck to Heaven\\\".\", \"Null\", \"Infogrames Entertainment, SA  was an international French holding company headquartered in Lyon, France. Owner of Atari inc. and Atari Europe along with numerous other companies and studios. Through its subsidiaries, the company published games for every major video game platform.\\n\\nInfogrames Entertainment, SA renamed itself in 2009 after its subsidiary Atari inc. to Atari, SA.\", \"When my brothers and I created Ubisoft back in 1986, we started out with a simple motivation: work with passionate people and make fun games. Today, to continue surprising our millions of fans all over the world, we're always on the lookout for new ways to push back the boundaries of creativity and innovation. Beyond simple games, we strive to create immersive and engaging creative worlds that not only offer moments of pure fun, escapism and adventure, but also opportunities for learning and self-discovery. \\n \\nThe video game industry is constantly evolving, and Ubisoft teams and I are eager to take up the next challenges in store so that you can have even more gaming pleasure.\", \"Headquartered just north of Washington, D.C., with offices in North America, Europe, Australia and Asia, ZeniMax Media is a video game publisher, managed by an experienced group of executives, which has assembled a strong creative team of world-class game developers, graphic artists and designers, sound engineers, producers and programmers to create and sell premium video game titles to a growing worldwide market.\\n\\nZeniMax creates and publishes original interactive entertainment content for consoles, the PC, and handheld/wireless devices. Its Bethesda Softworks division, founded in 1986 in the early days of the industry, has a long history of success as a publisher of award-winning video games. In addition, the ZeniMax group includes some of the most acclaimed development studios in the world. The Company's growing library of intellectual properties includes such major franchises as The Elder Scrolls, Fallout, Dishonored, DOOM, QUAKE, Wolfenstein, Enemy Territory, and RAGE.\", \"From the main company:\\n\\\"Nordic Games is also the name of the Group’s publishing unit, which handles the operative business of the group-wide IP catalogue, with its head office in Vienna, Austria.\\n\\nThe publishing unit originally started in 2008, with its main purpose being to create more content to the Game Outlet pallet concept.\\\"\\n\\nFrom the publisher website:\\n\\\"Nordic Games GmbH is a wholly owned publishing subsidiary of Nordic Games Group AB.\\n\\nFounded in 2011, the Vienna/Austria based company Nordic Games GmbH puts great emphasis on its extensive game catalogue. The core portfolio comprises products and brands which have been acquired from JoWooD Entertainment AG and DreamCatcher Interactive Inc., and other IPs and trademarks.\\n\\nThe company will pursue the long-term goal of delivering quality products that live up to expectations of gamers worldwide.\\\"\", \"Null\", \"Null\", \"Konami Holdings Corporation, commonly referred to as Konami, is a Japanese entertainment and gaming conglomerate. It operates as a product distributor, video game developer and publisher company. It also operates health and physical fitness clubs across Japan.\"  …  \"Null\", \"Null\", \"Null\", \"Null\", \"Null\", \"Null\", \"Null\", \"Null\", \"Null\", \"Null\"]\n",
       " Any[Any[19839, 52937], Any[1032, 1041, 1086, 1087, 1088, 1106, 1112, 1113, 1711, 1713  …  122260, 129859, 130310, 134258, 134437, 134468, 134469, 134499, 134500, 135104], Any[55935], Any[1874, 1956, 1957, 1959, 2225, 3605, 4190, 4402, 5903, 6225  …  45944, 49298, 53925, 54558, 54628, 55094, 55095, 55096, 55097, 72073], Any[691, 843, 1964, 2279, 3858, 3887, 4162, 4772, 4925, 4926  …  82097, 86389, 91311, 97487, 118882, 118898, 118900, 119071, 127328, 132134], \"Null\", Any[10887], Any[2637, 28170, 75239], Any[2990, 6611, 8621, 15537, 15731, 57263, 63472, 110834, 122766], Any[374, 377, 1114, 1115, 1116, 1117, 1118, 1119, 1120, 1123  …  125015, 128475, 131795, 131796, 132805, 133917, 134079, 134080, 134261, 135089]  …  Any[20926, 57989, 118756, 125209], Any[3521], \"Null\", Any[6541], Any[13139, 13140], \"Null\", Any[14856, 15625, 15780, 15781, 16147, 17349, 17680, 85833], \"Null\", \"Null\", Any[52170, 53014, 83829, 86096]]\n",
       " Any[36, 892, \"Null\", \"Null\", 1240, 50, 815, 1412, 361, 1793  …  \"Null\", \"Null\", \"Null\", \"Null\", \"Null\", \"Null\", \"Null\", \"Null\", \"Null\", \"Null\"]\n",
       " [\"2K Games\", \"Nintendo\", \"Team Salvato\", \"Infogrames\", \"Ubisoft Entertainment\", \"ZeniMax Media\", \"Nordic Games Publishing\", \"BlitWorks\", \"Amanita Design\", \"Konami\"  …  \"Warner Bros. Interactive Entertainment\", \"Electronic Arts Victor\", \"Gathering of Developers\", \"GT Interactive\", \"EA Games\", \"D3 Publisher\", \"Meridian4\", \"Nintendo Australia\", \"Nobilis\", \"Sony Computer Entertainment\"]\n",
       " [\"2k-games\", \"nintendo\", \"team-salvato\", \"infogrames\", \"ubisoft-entertainment\", \"zenimax-media\", \"nordic-games-publishing\", \"blitworks\", \"amanita-design\", \"konami\"  …  \"warner-bros-interactive-entertainment\", \"electronic-arts-victor\", \"gathering-of-developers\", \"gt-interactive\", \"ea-games\", \"d3-publisher\", \"meridian4\", \"nintendo-australia\", \"nobilis\", \"sony-computer-entertainment\"]\n",
       " Any[1106611200, -1681171200, \"Null\", 424483200, 512611200, 925516800, 1230681600, 1341187200, 1072828800, -24710400  …  \"Null\", \"Null\", \"Null\", \"Null\", \"Null\", \"Null\", \"Null\", \"Null\", \"Null\", \"Null\"]\n",
       " [0, 0, 7, 0, 3, 1, 2, 0, 2, 0  …  7, 0, 0, 0, 7, 0, 0, 0, 0, 7]\n",
       " [1588032000, 1588809600, 1580342400, 1588550400, 1588204800, 1556928000, 1577577600, 1548115200, 1599955200, 1588291200  …  1588809600, 1587686400, 1560211200, 1582070400, 1580515200, 1586304000, 1545436800, 1513296000, 1579564800, 1588723200]\n",
       " [\"https://www.igdb.com/companies/2k-games\", \"https://www.igdb.com/companies/nintendo\", \"https://www.igdb.com/companies/team-salvato\", \"https://www.igdb.com/companies/infogrames\", \"https://www.igdb.com/companies/ubisoft-entertainment\", \"https://www.igdb.com/companies/zenimax-media\", \"https://www.igdb.com/companies/nordic-games-publishing\", \"https://www.igdb.com/companies/blitworks\", \"https://www.igdb.com/companies/amanita-design\", \"https://www.igdb.com/companies/konami\"  …  \"https://www.igdb.com/companies/warner-bros-interactive-entertainment\", \"https://www.igdb.com/companies/electronic-arts-victor\", \"https://www.igdb.com/companies/gathering-of-developers\", \"https://www.igdb.com/companies/gt-interactive\", \"https://www.igdb.com/companies/ea-games\", \"https://www.igdb.com/companies/d3-publisher\", \"https://www.igdb.com/companies/meridian4\", \"https://www.igdb.com/companies/nintendo-australia\", \"https://www.igdb.com/companies/nobilis\", \"https://www.igdb.com/companies/sony-computer-entertainment\"]\n",
       " Any[Any[424], Any[1096], \"Null\", \"Null\", Any[951], Any[886], Any[984], Any[1352], Any[800], Any[257]  …  \"Null\", \"Null\", \"Null\", \"Null\", \"Null\", \"Null\", \"Null\", \"Null\", \"Null\", \"Null\"]\n",
       " [\"4f06e086-f039-2c92-4b6b-50149c2ed28f\", \"f17cd4d5-9810-9fb5-1102-726453aae5db\", \"728f1af8-86ad-692a-1c04-6c8fc702b832\", \"92c47f65-2195-867b-ae01-768b56719dd0\", \"808129a5-3818-2ec3-4872-0b63933c2162\", \"99d24db6-ed27-a35b-50df-74001970d447\", \"3b2eb13f-ab54-30eb-dd72-c17b17fd0cc8\", \"71ca4718-0498-d8f9-5893-d680e636d69f\", \"7a1e1dc9-7f18-28e6-6e05-92b033dd5394\", \"dc62151c-a960-d029-9f72-e76c3aa347ba\"  …  \"84f16845-276a-be1b-5aa7-4dc6cab01526\", \"9e49db6e-a6b5-3911-fe86-259cf5aab90c\", \"6f127ea5-5e76-f62e-7bfb-1e7ff2534497\", \"132630aa-683c-de28-6172-f321b2dc23e3\", \"e3c91d01-f142-8b6c-ce65-c5bcb4a61052\", \"feb7efb3-e0a4-2c37-47a0-bc989276b578\", \"1f5f8abb-990b-d10e-58e5-8622b245e843\", \"1ce6da8a-a896-7e7f-f135-45de03c4236d\", \"073ab3a7-1a50-5908-797f-f52928eebedf\", \"f50812da-3c18-f6ba-0f6a-485838d8b9c9\"]"
      ]
     },
     "execution_count": 87,
     "metadata": {},
     "output_type": "execute_result"
    }
   ],
   "source": [
    "all_companies = [get_this.(companies,column_name) for column_name in features_companies]"
   ]
  },
  {
   "cell_type": "code",
   "execution_count": 88,
   "metadata": {},
   "outputs": [
    {
     "data": {
      "text/plain": [
       "220-element Array{String,1}:\n",
       " \"4f06e086-f039-2c92-4b6b-50149c2ed28f\"\n",
       " \"f17cd4d5-9810-9fb5-1102-726453aae5db\"\n",
       " \"728f1af8-86ad-692a-1c04-6c8fc702b832\"\n",
       " \"92c47f65-2195-867b-ae01-768b56719dd0\"\n",
       " \"808129a5-3818-2ec3-4872-0b63933c2162\"\n",
       " \"99d24db6-ed27-a35b-50df-74001970d447\"\n",
       " \"3b2eb13f-ab54-30eb-dd72-c17b17fd0cc8\"\n",
       " \"71ca4718-0498-d8f9-5893-d680e636d69f\"\n",
       " \"7a1e1dc9-7f18-28e6-6e05-92b033dd5394\"\n",
       " \"dc62151c-a960-d029-9f72-e76c3aa347ba\"\n",
       " \"4ca4e39f-9f4f-609c-18dc-248f59b00353\"\n",
       " \"da57c1dc-7a6c-d7b7-a1a5-19b9a2018e96\"\n",
       " \"bda20855-e118-ce4c-0f77-4faaba0fc706\"\n",
       " ⋮\n",
       " \"214329f7-387d-68e4-25bf-985ed9f1c7a0\"\n",
       " \"30a5c7d4-32b3-1a3a-2cfa-2d279cabba4b\"\n",
       " \"84f16845-276a-be1b-5aa7-4dc6cab01526\"\n",
       " \"9e49db6e-a6b5-3911-fe86-259cf5aab90c\"\n",
       " \"6f127ea5-5e76-f62e-7bfb-1e7ff2534497\"\n",
       " \"132630aa-683c-de28-6172-f321b2dc23e3\"\n",
       " \"e3c91d01-f142-8b6c-ce65-c5bcb4a61052\"\n",
       " \"feb7efb3-e0a4-2c37-47a0-bc989276b578\"\n",
       " \"1f5f8abb-990b-d10e-58e5-8622b245e843\"\n",
       " \"1ce6da8a-a896-7e7f-f135-45de03c4236d\"\n",
       " \"073ab3a7-1a50-5908-797f-f52928eebedf\"\n",
       " \"f50812da-3c18-f6ba-0f6a-485838d8b9c9\""
      ]
     },
     "execution_count": 88,
     "metadata": {},
     "output_type": "execute_result"
    }
   ],
   "source": [
    "companies_infor = DataFrame()\n",
    "companies_infor.id = all_companies[1]\n",
    "companies_infor.change_date_category = all_companies[2]\n",
    "companies_infor.country = all_companies[3]\n",
    "companies_infor.created_at = all_companies[4]\n",
    "companies_infor.description  = all_companies[5]\n",
    "companies_infor.developed  = all_companies[6]\n",
    "companies_infor.logo  = all_companies[7]\n",
    "companies_infor.name  = all_companies[8]\n",
    "companies_infor.slug  = all_companies[9]\n",
    "companies_infor.start_date  = all_companies[10]\n",
    "companies_infor.start_date_category  = all_companies[11] \n",
    "companies_infor.updated_at  = all_companies[12]\n",
    "companies_infor.url  = all_companies[13]\n",
    "companies_infor.websites  = all_companies[14]\n",
    "companies_infor.checksum  = all_companies[15]"
   ]
  },
  {
   "cell_type": "code",
   "execution_count": 89,
   "metadata": {},
   "outputs": [
    {
     "data": {
      "text/html": [
       "<table class=\"data-frame\"><thead><tr><th></th><th>id</th><th>change_date_category</th><th>country</th><th>created_at</th><th>description</th></tr><tr><th></th><th>Int64</th><th>Int64</th><th>Any</th><th>Int64</th><th>String</th></tr></thead><tbody><p>220 rows × 15 columns (omitted printing of 10 columns)</p><tr><th>1</th><td>8</td><td>7</td><td>840</td><td>1298764800</td><td>2K Games is the main publishing company for Take-Two Interactive, created the day after they acquired the rights for the 2K sports series from Sega along with the purchase of the companies Visual Concepts and Kush Games. \\n \\nAlmost all development studios owned by Take-Two are listed as subsidiaries through 2K Games, or its publishing divisions 2K Sports and 2K Play. \\n \\n\"2K is a videogame publisher managing some of the most creative, respected and premium brands in games today. \\n \\nFounded in 2005 within Take Two Interactive, 2K develops and publishes interactive entertainment for PC, console and mobile platforms.\"</td></tr><tr><th>2</th><td>70</td><td>7</td><td>392</td><td>1300147200</td><td>Nintendo Co., Ltd. is a multinational corporation located in Kyoto, Japan. Founded on September 23, 1889 by Fusajiro Yamauchi, it produced handmade hanafuda cards. By 1963, the company had tried several small niche businesses, such as a cab company and a love hotel. \\n \\nNintendo developed into a video game company, becoming one of the most influential in the industry and Japan's third most valuable listed company, with a market value of over US$85 billion. \\n \\nBesides video games, Nintendo is also the majority owner of the Seattle Mariners, a Major League Baseball team in Seattle, Washington. \\n \\nAccording to Nintendo's Touch! Generations website, the name \"Nintendo\" translated from Japanese to English means \"Leave luck to Heaven\".</td></tr><tr><th>3</th><td>14329</td><td>7</td><td>840</td><td>1515369600</td><td>Null</td></tr><tr><th>4</th><td>213</td><td>0</td><td>250</td><td>1302134400</td><td>Infogrames Entertainment, SA  was an international French holding company headquartered in Lyon, France. Owner of Atari inc. and Atari Europe along with numerous other companies and studios. Through its subsidiaries, the company published games for every major video game platform.\\n\\nInfogrames Entertainment, SA renamed itself in 2009 after its subsidiary Atari inc. to Atari, SA.</td></tr><tr><th>5</th><td>104</td><td>7</td><td>250</td><td>1300406400</td><td>When my brothers and I created Ubisoft back in 1986, we started out with a simple motivation: work with passionate people and make fun games. Today, to continue surprising our millions of fans all over the world, we're always on the lookout for new ways to push back the boundaries of creativity and innovation. Beyond simple games, we strive to create immersive and engaging creative worlds that not only offer moments of pure fun, escapism and adventure, but also opportunities for learning and self-discovery. \\n \\nThe video game industry is constantly evolving, and Ubisoft teams and I are eager to take up the next challenges in store so that you can have even more gaming pleasure.</td></tr><tr><th>6</th><td>245</td><td>7</td><td>840</td><td>1302220800</td><td>Headquartered just north of Washington, D.C., with offices in North America, Europe, Australia and Asia, ZeniMax Media is a video game publisher, managed by an experienced group of executives, which has assembled a strong creative team of world-class game developers, graphic artists and designers, sound engineers, producers and programmers to create and sell premium video game titles to a growing worldwide market.\\n\\nZeniMax creates and publishes original interactive entertainment content for consoles, the PC, and handheld/wireless devices. Its Bethesda Softworks division, founded in 1986 in the early days of the industry, has a long history of success as a publisher of award-winning video games. In addition, the ZeniMax group includes some of the most acclaimed development studios in the world. The Company's growing library of intellectual properties includes such major franchises as The Elder Scrolls, Fallout, Dishonored, DOOM, QUAKE, Wolfenstein, Enemy Territory, and RAGE.</td></tr><tr><th>7</th><td>753</td><td>0</td><td>40</td><td>1339372800</td><td>From the main company:\\n\"Nordic Games is also the name of the Group’s publishing unit, which handles the operative business of the group-wide IP catalogue, with its head office in Vienna, Austria.\\n\\nThe publishing unit originally started in 2008, with its main purpose being to create more content to the Game Outlet pallet concept.\"\\n\\nFrom the publisher website:\\n\"Nordic Games GmbH is a wholly owned publishing subsidiary of Nordic Games Group AB.\\n\\nFounded in 2011, the Vienna/Austria based company Nordic Games GmbH puts great emphasis on its extensive game catalogue. The core portfolio comprises products and brands which have been acquired from JoWooD Entertainment AG and DreamCatcher Interactive Inc., and other IPs and trademarks.\\n\\nThe company will pursue the long-term goal of delivering quality products that live up to expectations of gamers worldwide.\"</td></tr><tr><th>8</th><td>4602</td><td>7</td><td>724</td><td>1421366400</td><td>Null</td></tr><tr><th>9</th><td>1396</td><td>7</td><td>203</td><td>1381449600</td><td>Null</td></tr><tr><th>10</th><td>129</td><td>7</td><td>392</td><td>1301270400</td><td>Konami Holdings Corporation, commonly referred to as Konami, is a Japanese entertainment and gaming conglomerate. It operates as a product distributor, video game developer and publisher company. It also operates health and physical fitness clubs across Japan.</td></tr><tr><th>11</th><td>2262</td><td>7</td><td>840</td><td>1391817600</td><td>Nippon Ichi Software was founded in September 1991 in Gifu Prefecture, Japan, as an entertainment software company. It was relocated and reincorporated on July 12, 1993. Since then Nippon Ichi Software, Inc. has grown into an international company focused on creating video game products across modern console platforms. NIS America, Inc. subsidiary of Nippon Ichi Software, Inc. of Japan, established its North American operations on December 24, 2003. Based in Santa Ana, California, NIS America, Inc. handles operations including localization, marketing, and publishing of Nippon Ichi titles. The first game to be released in North America by NIS America was Phantom Brave.\\n\\nNIS America was the result of the company's wish to focus on international publication of their works in the U.S., given the increased popularity of their titles. Prior to the creation of this subsidiary, NIS software titles that appeared in the U.S. were localized and distributed by outside publishers. Notable examples would be Disgaea: Hour of Darkness, published in North America by Atlus and in Europe by Koei, La Pucelle, published in North America by Mastiff Inc, and Rhapsody: A Musical Adventure which was also published in North America by Atlus. The publisher has become a somewhat of a well-known presence in the North American market, having won RPGLand's \"Stateside Publisher of the Year Award\" in 2009.</td></tr><tr><th>12</th><td>250</td><td>0</td><td>392</td><td>1302307200</td><td>Square Co., Ltd. (株式会社スクウェア Kabushiki-gaisha Sukuwea) was a Japanese video game company founded in September 1986 by Masafumi Miyamoto. It merged with Enix in 2003 and became Square Enix. The company also used SquareSoft as a brand name to refer to their games, and the term is occasionally used to refer to the company itself. In addition, \"Squaresoft, Inc\" was the name of the company's American arm before the merger, after which it was renamed to \"Square Enix, Inc\".</td></tr><tr><th>13</th><td>25048</td><td>7</td><td>Null</td><td>1587513600</td><td>Null</td></tr><tr><th>14</th><td>1053</td><td>0</td><td>392</td><td>1372377600</td><td>Null</td></tr><tr><th>15</th><td>4122</td><td>7</td><td>Null</td><td>1415923200</td><td>Null</td></tr><tr><th>16</th><td>4121</td><td>7</td><td>Null</td><td>1415923200</td><td>Null</td></tr><tr><th>17</th><td>10392</td><td>7</td><td>Null</td><td>1469059200</td><td>Null</td></tr><tr><th>18</th><td>4120</td><td>7</td><td>Null</td><td>1415923200</td><td>Null</td></tr><tr><th>19</th><td>244</td><td>0</td><td>Null</td><td>1302220800</td><td>Null</td></tr><tr><th>20</th><td>344</td><td>0</td><td>Null</td><td>1303171200</td><td>Null</td></tr><tr><th>21</th><td>228</td><td>0</td><td>Null</td><td>1302220800</td><td>Null</td></tr><tr><th>22</th><td>147</td><td>0</td><td>Null</td><td>1301270400</td><td>Null</td></tr><tr><th>23</th><td>238</td><td>0</td><td>Null</td><td>1302220800</td><td>Null</td></tr><tr><th>24</th><td>361</td><td>7</td><td>56</td><td>1303430400</td><td>Null</td></tr><tr><th>25</th><td>4796</td><td>7</td><td>840</td><td>1423699200</td><td>StudioMDHR (Studio Moldenhauer) is an independent video game company founded by two brothers: Chad &amp;amp; Jared Moldenhauer.\\nBased in Oakville, ON / Regina, SK</td></tr><tr><th>26</th><td>152</td><td>7</td><td>840</td><td>1301270400</td><td>Null</td></tr><tr><th>27</th><td>56</td><td>7</td><td>840</td><td>1300060800</td><td>Valve's debut title, Half-Life, was released in 1998. It won more than 50 game of the year awards, and PC Gamer even called it the Best PC Game Ever. Since then, we've released dozens of titles that changed the world. Today, millions of people play our games every day.</td></tr><tr><th>28</th><td>651</td><td>0</td><td>Null</td><td>1319155200</td><td>Null</td></tr><tr><th>29</th><td>612</td><td>0</td><td>Null</td><td>1317686400</td><td>Null</td></tr><tr><th>30</th><td>707</td><td>0</td><td>Null</td><td>1321401600</td><td>Null</td></tr><tr><th>&vellip;</th><td>&vellip;</td><td>&vellip;</td><td>&vellip;</td><td>&vellip;</td><td>&vellip;</td></tr></tbody></table>"
      ],
      "text/latex": [
       "\\begin{tabular}{r|cccccc}\n",
       "\t& id & change\\_date\\_category & country & created\\_at & description & \\\\\n",
       "\t\\hline\n",
       "\t& Int64 & Int64 & Any & Int64 & String & \\\\\n",
       "\t\\hline\n",
       "\t1 & 8 & 7 & 840 & 1298764800 & 2K Games is the main publishing company for Take-Two Interactive, created the day after they acquired the rights for the 2K sports series from Sega along with the purchase of the companies Visual Concepts and Kush Games. \\textbackslash{}n \\textbackslash{}nAlmost all development studios owned by Take-Two are listed as subsidiaries through 2K Games, or its publishing divisions 2K Sports and 2K Play. \\textbackslash{}n \\textbackslash{}n\"2K is a videogame publisher managing some of the most creative, respected and premium brands in games today. \\textbackslash{}n \\textbackslash{}nFounded in 2005 within Take Two Interactive, 2K develops and publishes interactive entertainment for PC, console and mobile platforms.\" & $\\dots$ \\\\\n",
       "\t2 & 70 & 7 & 392 & 1300147200 & Nintendo Co., Ltd. is a multinational corporation located in Kyoto, Japan. Founded on September 23, 1889 by Fusajiro Yamauchi, it produced handmade hanafuda cards. By 1963, the company had tried several small niche businesses, such as a cab company and a love hotel. \\textbackslash{}n \\textbackslash{}nNintendo developed into a video game company, becoming one of the most influential in the industry and Japan's third most valuable listed company, with a market value of over US\\$85 billion. \\textbackslash{}n \\textbackslash{}nBesides video games, Nintendo is also the majority owner of the Seattle Mariners, a Major League Baseball team in Seattle, Washington. \\textbackslash{}n \\textbackslash{}nAccording to Nintendo's Touch! Generations website, the name \"Nintendo\" translated from Japanese to English means \"Leave luck to Heaven\". & $\\dots$ \\\\\n",
       "\t3 & 14329 & 7 & 840 & 1515369600 & Null & $\\dots$ \\\\\n",
       "\t4 & 213 & 0 & 250 & 1302134400 & Infogrames Entertainment, SA  was an international French holding company headquartered in Lyon, France. Owner of Atari inc. and Atari Europe along with numerous other companies and studios. Through its subsidiaries, the company published games for every major video game platform.\\textbackslash{}n\\textbackslash{}nInfogrames Entertainment, SA renamed itself in 2009 after its subsidiary Atari inc. to Atari, SA. & $\\dots$ \\\\\n",
       "\t5 & 104 & 7 & 250 & 1300406400 & When my brothers and I created Ubisoft back in 1986, we started out with a simple motivation: work with passionate people and make fun games. Today, to continue surprising our millions of fans all over the world, we're always on the lookout for new ways to push back the boundaries of creativity and innovation. Beyond simple games, we strive to create immersive and engaging creative worlds that not only offer moments of pure fun, escapism and adventure, but also opportunities for learning and self-discovery. \\textbackslash{}n \\textbackslash{}nThe video game industry is constantly evolving, and Ubisoft teams and I are eager to take up the next challenges in store so that you can have even more gaming pleasure. & $\\dots$ \\\\\n",
       "\t6 & 245 & 7 & 840 & 1302220800 & Headquartered just north of Washington, D.C., with offices in North America, Europe, Australia and Asia, ZeniMax Media is a video game publisher, managed by an experienced group of executives, which has assembled a strong creative team of world-class game developers, graphic artists and designers, sound engineers, producers and programmers to create and sell premium video game titles to a growing worldwide market.\\textbackslash{}n\\textbackslash{}nZeniMax creates and publishes original interactive entertainment content for consoles, the PC, and handheld/wireless devices. Its Bethesda Softworks division, founded in 1986 in the early days of the industry, has a long history of success as a publisher of award-winning video games. In addition, the ZeniMax group includes some of the most acclaimed development studios in the world. The Company's growing library of intellectual properties includes such major franchises as The Elder Scrolls, Fallout, Dishonored, DOOM, QUAKE, Wolfenstein, Enemy Territory, and RAGE. & $\\dots$ \\\\\n",
       "\t7 & 753 & 0 & 40 & 1339372800 & From the main company:\\textbackslash{}n\"Nordic Games is also the name of the Group’s publishing unit, which handles the operative business of the group-wide IP catalogue, with its head office in Vienna, Austria.\\textbackslash{}n\\textbackslash{}nThe publishing unit originally started in 2008, with its main purpose being to create more content to the Game Outlet pallet concept.\"\\textbackslash{}n\\textbackslash{}nFrom the publisher website:\\textbackslash{}n\"Nordic Games GmbH is a wholly owned publishing subsidiary of Nordic Games Group AB.\\textbackslash{}n\\textbackslash{}nFounded in 2011, the Vienna/Austria based company Nordic Games GmbH puts great emphasis on its extensive game catalogue. The core portfolio comprises products and brands which have been acquired from JoWooD Entertainment AG and DreamCatcher Interactive Inc., and other IPs and trademarks.\\textbackslash{}n\\textbackslash{}nThe company will pursue the long-term goal of delivering quality products that live up to expectations of gamers worldwide.\" & $\\dots$ \\\\\n",
       "\t8 & 4602 & 7 & 724 & 1421366400 & Null & $\\dots$ \\\\\n",
       "\t9 & 1396 & 7 & 203 & 1381449600 & Null & $\\dots$ \\\\\n",
       "\t10 & 129 & 7 & 392 & 1301270400 & Konami Holdings Corporation, commonly referred to as Konami, is a Japanese entertainment and gaming conglomerate. It operates as a product distributor, video game developer and publisher company. It also operates health and physical fitness clubs across Japan. & $\\dots$ \\\\\n",
       "\t11 & 2262 & 7 & 840 & 1391817600 & Nippon Ichi Software was founded in September 1991 in Gifu Prefecture, Japan, as an entertainment software company. It was relocated and reincorporated on July 12, 1993. Since then Nippon Ichi Software, Inc. has grown into an international company focused on creating video game products across modern console platforms. NIS America, Inc. subsidiary of Nippon Ichi Software, Inc. of Japan, established its North American operations on December 24, 2003. Based in Santa Ana, California, NIS America, Inc. handles operations including localization, marketing, and publishing of Nippon Ichi titles. The first game to be released in North America by NIS America was Phantom Brave.\\textbackslash{}n\\textbackslash{}nNIS America was the result of the company's wish to focus on international publication of their works in the U.S., given the increased popularity of their titles. Prior to the creation of this subsidiary, NIS software titles that appeared in the U.S. were localized and distributed by outside publishers. Notable examples would be Disgaea: Hour of Darkness, published in North America by Atlus and in Europe by Koei, La Pucelle, published in North America by Mastiff Inc, and Rhapsody: A Musical Adventure which was also published in North America by Atlus. The publisher has become a somewhat of a well-known presence in the North American market, having won RPGLand's \"Stateside Publisher of the Year Award\" in 2009. & $\\dots$ \\\\\n",
       "\t12 & 250 & 0 & 392 & 1302307200 & Square Co., Ltd. (株式会社スクウェア Kabushiki-gaisha Sukuwea) was a Japanese video game company founded in September 1986 by Masafumi Miyamoto. It merged with Enix in 2003 and became Square Enix. The company also used SquareSoft as a brand name to refer to their games, and the term is occasionally used to refer to the company itself. In addition, \"Squaresoft, Inc\" was the name of the company's American arm before the merger, after which it was renamed to \"Square Enix, Inc\". & $\\dots$ \\\\\n",
       "\t13 & 25048 & 7 & Null & 1587513600 & Null & $\\dots$ \\\\\n",
       "\t14 & 1053 & 0 & 392 & 1372377600 & Null & $\\dots$ \\\\\n",
       "\t15 & 4122 & 7 & Null & 1415923200 & Null & $\\dots$ \\\\\n",
       "\t16 & 4121 & 7 & Null & 1415923200 & Null & $\\dots$ \\\\\n",
       "\t17 & 10392 & 7 & Null & 1469059200 & Null & $\\dots$ \\\\\n",
       "\t18 & 4120 & 7 & Null & 1415923200 & Null & $\\dots$ \\\\\n",
       "\t19 & 244 & 0 & Null & 1302220800 & Null & $\\dots$ \\\\\n",
       "\t20 & 344 & 0 & Null & 1303171200 & Null & $\\dots$ \\\\\n",
       "\t21 & 228 & 0 & Null & 1302220800 & Null & $\\dots$ \\\\\n",
       "\t22 & 147 & 0 & Null & 1301270400 & Null & $\\dots$ \\\\\n",
       "\t23 & 238 & 0 & Null & 1302220800 & Null & $\\dots$ \\\\\n",
       "\t24 & 361 & 7 & 56 & 1303430400 & Null & $\\dots$ \\\\\n",
       "\t25 & 4796 & 7 & 840 & 1423699200 & StudioMDHR (Studio Moldenhauer) is an independent video game company founded by two brothers: Chad \\&amp; Jared Moldenhauer.\\textbackslash{}nBased in Oakville, ON / Regina, SK & $\\dots$ \\\\\n",
       "\t26 & 152 & 7 & 840 & 1301270400 & Null & $\\dots$ \\\\\n",
       "\t27 & 56 & 7 & 840 & 1300060800 & Valve's debut title, Half-Life, was released in 1998. It won more than 50 game of the year awards, and PC Gamer even called it the Best PC Game Ever. Since then, we've released dozens of titles that changed the world. Today, millions of people play our games every day. & $\\dots$ \\\\\n",
       "\t28 & 651 & 0 & Null & 1319155200 & Null & $\\dots$ \\\\\n",
       "\t29 & 612 & 0 & Null & 1317686400 & Null & $\\dots$ \\\\\n",
       "\t30 & 707 & 0 & Null & 1321401600 & Null & $\\dots$ \\\\\n",
       "\t$\\dots$ & $\\dots$ & $\\dots$ & $\\dots$ & $\\dots$ & $\\dots$ &  \\\\\n",
       "\\end{tabular}\n"
      ],
      "text/plain": [
       "220×15 DataFrame. Omitted printing of 11 columns\n",
       "│ Row │ id    │ change_date_category │ country │ created_at │\n",
       "│     │ \u001b[90mInt64\u001b[39m │ \u001b[90mInt64\u001b[39m                │ \u001b[90mAny\u001b[39m     │ \u001b[90mInt64\u001b[39m      │\n",
       "├─────┼───────┼──────────────────────┼─────────┼────────────┤\n",
       "│ 1   │ 8     │ 7                    │ 840     │ 1298764800 │\n",
       "│ 2   │ 70    │ 7                    │ 392     │ 1300147200 │\n",
       "│ 3   │ 14329 │ 7                    │ 840     │ 1515369600 │\n",
       "│ 4   │ 213   │ 0                    │ 250     │ 1302134400 │\n",
       "│ 5   │ 104   │ 7                    │ 250     │ 1300406400 │\n",
       "│ 6   │ 245   │ 7                    │ 840     │ 1302220800 │\n",
       "│ 7   │ 753   │ 0                    │ 40      │ 1339372800 │\n",
       "│ 8   │ 4602  │ 7                    │ 724     │ 1421366400 │\n",
       "│ 9   │ 1396  │ 7                    │ 203     │ 1381449600 │\n",
       "│ 10  │ 129   │ 7                    │ 392     │ 1301270400 │\n",
       "⋮\n",
       "│ 210 │ 1037  │ 0                    │ Null    │ 1372291200 │\n",
       "│ 211 │ 14055 │ 7                    │ Null    │ 1513382400 │\n",
       "│ 212 │ 200   │ 0                    │ Null    │ 1301961600 │\n",
       "│ 213 │ 204   │ 0                    │ Null    │ 1301961600 │\n",
       "│ 214 │ 205   │ 0                    │ Null    │ 1301961600 │\n",
       "│ 215 │ 19200 │ 7                    │ Null    │ 1555200000 │\n",
       "│ 216 │ 449   │ 0                    │ Null    │ 1317686400 │\n",
       "│ 217 │ 468   │ 0                    │ Null    │ 1317686400 │\n",
       "│ 218 │ 652   │ 0                    │ Null    │ 1319155200 │\n",
       "│ 219 │ 2113  │ 0                    │ Null    │ 1391126400 │\n",
       "│ 220 │ 13634 │ 7                    │ Null    │ 1508112000 │"
      ]
     },
     "execution_count": 89,
     "metadata": {},
     "output_type": "execute_result"
    }
   ],
   "source": [
    "companies_infor"
   ]
  },
  {
   "cell_type": "code",
   "execution_count": 90,
   "metadata": {},
   "outputs": [
    {
     "data": {
      "text/plain": [
       "\"/Users/mengzhang/projects/github/wrangling_project/IGDB/game_companies.csv\""
      ]
     },
     "execution_count": 90,
     "metadata": {},
     "output_type": "execute_result"
    }
   ],
   "source": [
    "CSV.write(\"/Users/mengzhang/projects/github/wrangling_project/IGDB/game_companies.csv\", companies_infor)"
   ]
  },
  {
   "cell_type": "markdown",
   "metadata": {},
   "source": [
    "\n",
    "### Section 4\n",
    "Find more information about the games characters"
   ]
  },
  {
   "cell_type": "code",
   "execution_count": 91,
   "metadata": {},
   "outputs": [
    {
     "data": {
      "text/plain": [
       "\"fields *; limit 500;where games = (1020,1942,472,732,72,233,71,1009,74,231,127,733,20,73,25076,500,7346,538,1164,11156,1029,7331,501,434,75,121,565,529,26192,15,16,19441,1070,1871,7599,18,9630,1074,19560,113,59,623,1011,6036,1068,731,25657,28204,8173,1026,1970,76,478,5503,28540,1372,375,512,427,132,866,974,247,116,533,7351,1802,3025,2114,7334,11169,2155,28552,7323,2207,358,1262,730,26758,1985,36926,37,128,9061,1384,39,126,673,12517,286,1331,1887,19565,43,2031,230,56,6801,11133,1266,327,14362,379,3035,559,2993,7344,11208,7342,549,41,622,18320,1352,537,19561,1033,109,481,8197,1905,19562,431,9730,21,40,343,1062,11198,27421,359,1103,885,493,1121,960,7205,11118,239,1051,124,1036,98,38,19,19564,19531,289,1105,498,421,338,1979,9927,418,123,120,14,119313,142,551,11161,37016,3097,545,17000,355,1279,1078,7603,1968,118,117,27789,1377,37094,1077,530,376,426,4754,9066,2933,380,2368,539,2909,80,891,1334,115,1022,36952,740,836,3042,1983,13,2963,60,495,7609,2853,1318,96,987,621,97,9498,133,1030,6707,296,499,1267,1627,12503,11233,1221,979,8187,5601,1073,37777,7444,1122,7360,61,873,352,22439,111,11157,364,246,181,11,26193,17447,3182,333,625,6,14593,2350,125,122,9604,36897,4438,1341,1048,29004,1879,2136,837,312,13166,10962,9727,986,10919,819,471,2935,103298,2262,103054,990,425,245,1906,1219,153,7789,1185,324,260,184,3022,1039,517,78,2342,1910,847,9192,1561,5328,2261,1991,1941,480,378,620,9174,1628,1244,1075,2899,113114,2997,7292,4756,2180,991,14587,1981,1090,342,19130,3278,3070,307,19457,74701,3102,647,3750,6632,1254,11800,5,2990,2001,1593,558,90099,19686,8222,7327,5025,130,26196,12571,3192,1270,224,9600,2939,2437,534,22,21062,1928,36813,2126,1513,547,1715,981,457,9806,7352,3075,1187,910,748,241,223,26226,19164,980,912,299,7706,1511,1305,227,62,76882,27081,5619,1128,7386,1638,1559,966,90101,479,11065,320,295,1512,832,424,277,112,3193,3152,2985,2276,482,326,1558,1186,523,306,280,232,193,1277,361,7170,2025,1911,1339,456,152,109462,20275,19459,3174,2183,2129,562,3186,10148,458,228,9254,6739,2148,1067,913,570,548,9602,19539,1183,398,136,36911,8254,7313,6803,6247,2438,1035,911,293,3349,1092,438,37001,8965,1337,11790,2132,1557,119,20740,103329,1271,1269,494,83728,26764,19470,6250,3154,2115,1626,1192,942,515,1426,1156,1079,389,55935,1514,11170,7348,890,826,521,272,1918,1289,105,5508,1976,948,76253,21040,18099,3265,2472,2064,544,520,509,26855,26761,23248,857,3221,3155,1058);\""
      ]
     },
     "execution_count": 91,
     "metadata": {},
     "output_type": "execute_result"
    }
   ],
   "source": [
    "# define the scrap target on the web page\n",
    "body_date = \"fields *; limit 500;where games = (1020,1942,472,732,72,233,71,1009,74,231,127,733,20,73,25076,500,7346,538,1164,11156,1029,7331,501,434,75,121,565,529,26192,15,16,19441,1070,1871,7599,18,9630,1074,19560,113,59,623,1011,6036,1068,731,25657,28204,8173,1026,1970,76,478,5503,28540,1372,375,512,427,132,866,974,247,116,533,7351,1802,3025,2114,7334,11169,2155,28552,7323,2207,358,1262,730,26758,1985,36926,37,128,9061,1384,39,126,673,12517,286,1331,1887,19565,43,2031,230,56,6801,11133,1266,327,14362,379,3035,559,2993,7344,11208,7342,549,41,622,18320,1352,537,19561,1033,109,481,8197,1905,19562,431,9730,21,40,343,1062,11198,27421,359,1103,885,493,1121,960,7205,11118,239,1051,124,1036,98,38,19,19564,19531,289,1105,498,421,338,1979,9927,418,123,120,14,119313,142,551,11161,37016,3097,545,17000,355,1279,1078,7603,1968,118,117,27789,1377,37094,1077,530,376,426,4754,9066,2933,380,2368,539,2909,80,891,1334,115,1022,36952,740,836,3042,1983,13,2963,60,495,7609,2853,1318,96,987,621,97,9498,133,1030,6707,296,499,1267,1627,12503,11233,1221,979,8187,5601,1073,37777,7444,1122,7360,61,873,352,22439,111,11157,364,246,181,11,26193,17447,3182,333,625,6,14593,2350,125,122,9604,36897,4438,1341,1048,29004,1879,2136,837,312,13166,10962,9727,986,10919,819,471,2935,103298,2262,103054,990,425,245,1906,1219,153,7789,1185,324,260,184,3022,1039,517,78,2342,1910,847,9192,1561,5328,2261,1991,1941,480,378,620,9174,1628,1244,1075,2899,113114,2997,7292,4756,2180,991,14587,1981,1090,342,19130,3278,3070,307,19457,74701,3102,647,3750,6632,1254,11800,5,2990,2001,1593,558,90099,19686,8222,7327,5025,130,26196,12571,3192,1270,224,9600,2939,2437,534,22,21062,1928,36813,2126,1513,547,1715,981,457,9806,7352,3075,1187,910,748,241,223,26226,19164,980,912,299,7706,1511,1305,227,62,76882,27081,5619,1128,7386,1638,1559,966,90101,479,11065,320,295,1512,832,424,277,112,3193,3152,2985,2276,482,326,1558,1186,523,306,280,232,193,1277,361,7170,2025,1911,1339,456,152,109462,20275,19459,3174,2183,2129,562,3186,10148,458,228,9254,6739,2148,1067,913,570,548,9602,19539,1183,398,136,36911,8254,7313,6803,6247,2438,1035,911,293,3349,1092,438,37001,8965,1337,11790,2132,1557,119,20740,103329,1271,1269,494,83728,26764,19470,6250,3154,2115,1626,1192,942,515,1426,1156,1079,389,55935,1514,11170,7348,890,826,521,272,1918,1289,105,5508,1976,948,76253,21040,18099,3265,2472,2064,544,520,509,26855,26761,23248,857,3221,3155,1058);\""
   ]
  },
  {
   "cell_type": "code",
   "execution_count": 92,
   "metadata": {},
   "outputs": [
    {
     "data": {
      "text/plain": [
       "HTTP.Messages.Response:\n",
       "\"\"\"\n",
       "HTTP/1.1 200 OK\r\n",
       "Date: Tue, 13 Oct 2020 07:57:18 GMT\r\n",
       "Content-Type: application/json;charset=utf-8\r\n",
       "Transfer-Encoding: chunked\r\n",
       "Connection: keep-alive\r\n",
       "Set-Cookie: __cfduid=dcdd04d27b839fa392e0c9cd928a972fb1602575837; expires=Thu, 12-Nov-20 07:57:17 GMT; path=/; domain=.igdb.com; HttpOnly; SameSite=Lax; Secure\r\n",
       "x-amzn-RequestId: a9b44633-9ac1-4855-b906-aef6f78148eb\r\n",
       "x-amz-apigw-id: UVuavFukPHcFf9A=\r\n",
       "x-amzn-Remapped-Server: Javalin\r\n",
       "X-Count: 5410\r\n",
       "x-amzn-Remapped-Date: Tue, 13 Oct 2020 07:57:18 GMT\r\n",
       "X-Cache: Miss from cloudfront\r\n",
       "Via: 1.1 1ab050280d3274ab44266135e30c9946.cloudfront.net (CloudFront)\r\n",
       "X-Amz-Cf-Pop: AKL50-C1\r\n",
       "X-Amz-Cf-Id: QytGkgLX3fUsz6M8T4lFwbkM6iUxRX26I5m9NTfcT59HazAydTUf7Q==\r\n",
       "CF-Cache-Status: DYNAMIC\r\n",
       "cf-request-id: 05c28fc1ff0000fb88020b8200000001\r\n",
       "Expect-CT: max-age=604800, report-uri=\"https://report-uri.cloudflare.com/cdn-cgi/beacon/expect-ct\"\r\n",
       "Strict-Transport-Security: max-age=15552000; includeSubDomains; preload\r\n",
       "X-Content-Type-Options: nosniff\r\n",
       "Server: cloudflare\r\n",
       "CF-RAY: 5e1782499e3ffb88-AKL\r\n",
       "\r\n",
       "[\n",
       "  {\n",
       "    \"id\": 2692,\n",
       "    \"created_at\": 1414800000,\n",
       "    \"games\": [\n",
       "      41\n",
       "    ],\n",
       "    \"name\": \"O\",\n",
       "    \"slug\": \"o\",\n",
       "    \"updated_at\": 1458518400,\n",
       "    \"url\": \"https://www.igdb.com/characters/o\",\n",
       "    \"checksum\": \"e32722d2-9798-5a72-b240-fdcbe43fabc5\"\n",
       "  },\n",
       "  {\n",
       "    \"id\": 5144,\n",
       "    \"created_at\": 1433721600,\n",
       "    \"games\": [\n",
       "      418\n",
       "    ],\n",
       "    \"name\": \"Dona\",\n",
       "    \"slug\": \"dona\",\n",
       "    \"updated_at\": 1433721600,\n",
       "    \"url\": \"https://www.igdb.com/characters/dona\",\n",
       "    \"checksum\": \"3d6292b3-3ad5-c02f-943c-83cb0bcccb36\"\n",
       "  },\n",
       "  {\n",
       "    \"id\": 7238,\n",
       "    \"created_at\": 1456185600,\n",
       "    \"games\": [\n",
       "      378\n",
       "    ],\n",
       "    \"name\": \"Boris\",\n",
       "    \"slug\": \"boris\",\n",
       "    \"updated_at\": 1502236800,\n",
       "    \"url\": \"https://www.igdb.com/characters/boris\",\n",
       "    \"checksum\": \"bfd8448b-42f3-b444-8ed7-7af534bb273d\"\n",
       "  },\n",
       "  {\n",
       "    \"id\": 12335,\n",
       "    \"created_at\": 1547337600,\n",
       "    \"games\": [\n",
       "      25076\n",
       "    ],\n",
       "    \"name\": \"Karen Jones\",\n",
       "    \"slug\": \"karen-jones\",\n",
       "    \"updated_at\": 1547337600,\n",
       "    \"url\": \"https://www.igdb.com/characters/kar\n",
       "⋮\n",
       "144980-byte body\n",
       "\"\"\""
      ]
     },
     "execution_count": 92,
     "metadata": {},
     "output_type": "execute_result"
    }
   ],
   "source": [
    "# Using HTTP.post(\"path\") to scrap the relasase date web information\n",
    "characters = HTTP.post(\"https://api.igdb.com/v4/characters\",\n",
    "          auth_dictionary,\n",
    "          body_date)"
   ]
  },
  {
   "cell_type": "code",
   "execution_count": 93,
   "metadata": {},
   "outputs": [
    {
     "data": {
      "text/plain": [
       "500-element Array{Any,1}:\n",
       " (id = 2692, created_at = 1414800000, games = Any[41], name = \"O\", slug = \"o\", updated_at = 1458518400, url = \"https://www.igdb.com/characters/o\", checksum = \"e32722d2-9798-5a72-b240-fdcbe43fabc5\")\n",
       " (id = 5144, created_at = 1433721600, games = Any[418], name = \"Dona\", slug = \"dona\", updated_at = 1433721600, url = \"https://www.igdb.com/characters/dona\", checksum = \"3d6292b3-3ad5-c02f-943c-83cb0bcccb36\")\n",
       " (id = 7238, created_at = 1456185600, games = Any[378], name = \"Boris\", slug = \"boris\", updated_at = 1502236800, url = \"https://www.igdb.com/characters/boris\", checksum = \"bfd8448b-42f3-b444-8ed7-7af534bb273d\")\n",
       " (id = 12335, created_at = 1547337600, games = Any[25076], name = \"Karen Jones\", slug = \"karen-jones\", updated_at = 1547337600, url = \"https://www.igdb.com/characters/karen-jones\", checksum = \"a7467209-203b-bc37-b39e-a594c3a432da\")\n",
       " (id = 710, created_at = 1408060800, games = Any[18], name = \"Alex Balder\", slug = \"alex-balder\", updated_at = 1417219200, url = \"https://www.igdb.com/characters/alex-balder\", checksum = \"a37f715d-1db0-4a21-dd8a-531f2ab1eac6\")\n",
       " (id = 12956, created_at = 1555977600, games = Any[26193], name = \"Asav's Insurgents\", slug = \"asavs-insurgents\", updated_at = 1555977600, url = \"https://www.igdb.com/characters/asavs-insurgents\", checksum = \"d1a25369-ed71-fa8c-a927-cd01edeef87c\")\n",
       " (id = 5971, created_at = 1445731200, games = Any[3174], name = \"Production voice and Imaging\", slug = \"production-voice-and-imaging\", updated_at = 1445731200, url = \"https://www.igdb.com/characters/production-voice-and-imaging\", checksum = \"b1c8e79c-2909-0012-78cd-452a1dd869d7\")\n",
       " (id = 4445, created_at = 1431216000, games = Any[380, 1219, 1221, 2993], gender = 0, mug_shot = 3620, name = \"Beast\", slug = \"beast\", species = 5, updated_at = 1472601600, url = \"https://www.igdb.com/characters/beast\", checksum = \"eb661aaf-a1e1-4acf-b48a-14b8aaa26a52\")\n",
       " (id = 5140, created_at = 1433721600, games = Any[418, 1221, 2444, 2449], name = \"Cid\", slug = \"cid--1\", updated_at = 1502323200, url = \"https://www.igdb.com/characters/cid--1\", checksum = \"39804e5f-9eb3-7afb-5d6a-d5c0b3ba051b\")\n",
       " (id = 889, created_at = 1409011200, games = Any[2368], name = \"Steady Hand McDuff\", slug = \"steady-hand-mcduff\", updated_at = 1417219200, url = \"https://www.igdb.com/characters/steady-hand-mcduff\", checksum = \"f0c53b9e-7d30-b8c6-e2e8-fbf082b139a0\")\n",
       " (id = 10120, created_at = 1475020800, games = Any[5619], name = \"Patches, the Hyena\", slug = \"patches-the-hyena\", updated_at = 1475020800, url = \"https://www.igdb.com/characters/patches-the-hyena\", checksum = \"8bd3f23d-18ad-f751-d7dd-133073783df8\")\n",
       " (id = 7518, created_at = 1459728000, games = Any[184], name = \"\", slug = \"\", updated_at = 1502236800, url = \"https://www.igdb.com/characters/\", checksum = \"99a68b1a-49ac-9104-7934-4c8b7aba67d6\")\n",
       " (id = 8639, created_at = 1463961600, games = Any[25076], name = \"Hercule\", slug = \"hercule\", updated_at = 1547337600, url = \"https://www.igdb.com/characters/hercule\", checksum = \"defa64d9-58a7-3642-fa48-21c03c0819f2\")\n",
       " ⋮\n",
       " (id = 649, created_at = 1407110400, games = Any[15], name = \"Timmy Neusbaum\", slug = \"timmy-neusbaum\", updated_at = 1417219200, url = \"https://www.igdb.com/characters/timmy-neusbaum\", checksum = \"11fd2624-6afa-38a5-ade5-8e2651d466e1\")\n",
       " (id = 651, created_at = 1407110400, games = Any[15], name = \"Paladin Vargas\", slug = \"paladin-vargas\", updated_at = 1417219200, url = \"https://www.igdb.com/characters/paladin-vargas\", checksum = \"190b96ed-83da-2bc4-21e6-c4ab895f213c\")\n",
       " (id = 673, created_at = 1407110400, games = Any[16, 9112], name = \"Benny\", slug = \"benny\", updated_at = 1456185600, url = \"https://www.igdb.com/characters/benny\", checksum = \"8154da0b-b152-7850-99fc-3d1b172ee366\")\n",
       " (id = 678, created_at = 1407110400, games = Any[16], name = \"Mr. House\", slug = \"mr-house\", updated_at = 1417219200, url = \"https://www.igdb.com/characters/mr-house\", checksum = \"42c65228-8c9d-0389-c679-9197c2dbd022\")\n",
       " (id = 689, created_at = 1407110400, games = Any[16], name = \"Festus\", slug = \"festus\", updated_at = 1417219200, url = \"https://www.igdb.com/characters/festus\", checksum = \"998949f3-e890-9f9a-f1a0-4e065d28ca8f\")\n",
       " (id = 704, created_at = 1407110400, games = Any[16], name = \"Ghouls\", slug = \"ghouls\", updated_at = 1417219200, url = \"https://www.igdb.com/characters/ghouls\", checksum = \"46858833-71ff-3904-2f8d-9097b389ab44\")\n",
       " (id = 720, created_at = 1408060800, games = Any[18, 19, 960], name = \"Captain Baseballbat-Boy\", slug = \"captain-baseballbat-boy\", updated_at = 1417219200, url = \"https://www.igdb.com/characters/captain-baseballbat-boy\", checksum = \"0e28c9c2-58b4-89a4-909a-925d6e184f76\")\n",
       " (id = 736, created_at = 1408060800, games = Any[18], name = \"Transit Police\", slug = \"transit-police\", updated_at = 1417219200, url = \"https://www.igdb.com/characters/transit-police\", checksum = \"5027bf8a-b386-6263-c055-d159dfd1685f\")\n",
       " (id = 737, created_at = 1408060800, games = Any[18], name = \"Chemists\", slug = \"chemists\", updated_at = 1417219200, url = \"https://www.igdb.com/characters/chemists\", checksum = \"9b669e9e-d091-08a3-6855-4b597bd22a68\")\n",
       " (id = 743, created_at = 1408060800, games = Any[18, 19], name = \"Booze Hounds\", slug = \"booze-hounds\", updated_at = 1417219200, url = \"https://www.igdb.com/characters/booze-hounds\", checksum = \"9695f837-1626-c574-c609-7b00929a5dd2\")\n",
       " (id = 751, created_at = 1408147200, games = Any[19], name = \"Mama\", slug = \"mama\", updated_at = 1502236800, url = \"https://www.igdb.com/characters/mama\", checksum = \"97ed735b-6190-0167-e53d-a89c222451ef\")\n",
       " (id = 749, created_at = 1408147200, games = Any[19], name = \"Lord Valentine\", slug = \"lord-valentine\", updated_at = 1417219200, url = \"https://www.igdb.com/characters/lord-valentine\", checksum = \"819ab00f-387b-6241-20c8-14d6f0b1e15a\")"
      ]
     },
     "execution_count": 93,
     "metadata": {},
     "output_type": "execute_result"
    }
   ],
   "source": [
    "# Read the web body information into JSON format\n",
    "characters = JSON2.read(IOBuffer(characters.body))"
   ]
  },
  {
   "cell_type": "code",
   "execution_count": 97,
   "metadata": {},
   "outputs": [
    {
     "data": {
      "text/plain": [
       "10-element Array{Symbol,1}:\n",
       " :id\n",
       " :country_name\n",
       " :created_at\n",
       " :description\n",
       " :games\n",
       " :gender\n",
       " :mug_shot\n",
       " :name\n",
       " :slug\n",
       " :species"
      ]
     },
     "execution_count": 97,
     "metadata": {},
     "output_type": "execute_result"
    }
   ],
   "source": [
    "# Define the features we want to generate\n",
    "features_characters = [:id, \n",
    "    :country_name,\n",
    "    :created_at,\n",
    "    :description,\n",
    "    :games,\n",
    "    :gender,\n",
    "    :mug_shot,\n",
    "    :name, \n",
    "    :slug,\n",
    "    :species\n",
    "    ]"
   ]
  },
  {
   "cell_type": "code",
   "execution_count": 98,
   "metadata": {},
   "outputs": [
    {
     "data": {
      "text/plain": [
       "10-element Array{Array{T,1} where T,1}:\n",
       " [2692, 5144, 7238, 12335, 710, 12956, 5971, 4445, 5140, 889  …  673, 678, 689, 704, 720, 736, 737, 743, 751, 749]\n",
       " [\"Null\", \"Null\", \"Null\", \"Null\", \"Null\", \"Null\", \"Null\", \"Null\", \"Null\", \"Null\"  …  \"Null\", \"Null\", \"Null\", \"Null\", \"Null\", \"Null\", \"Null\", \"Null\", \"Null\", \"Null\"]\n",
       " [1414800000, 1433721600, 1456185600, 1547337600, 1408060800, 1555977600, 1445731200, 1431216000, 1433721600, 1409011200  …  1407110400, 1407110400, 1407110400, 1407110400, 1408060800, 1408060800, 1408060800, 1408060800, 1408147200, 1408147200]\n",
       " [\"Null\", \"Null\", \"Null\", \"Null\", \"Null\", \"Null\", \"Null\", \"Null\", \"Null\", \"Null\"  …  \"Null\", \"Null\", \"Null\", \"Null\", \"Null\", \"Null\", \"Null\", \"Null\", \"Null\", \"Null\"]\n",
       " Array{Any,1}[[41], [418], [378], [25076], [18], [26193], [3174], [380, 1219, 1221, 2993], [418, 1221, 2444, 2449], [2368]  …  [16, 9112], [16], [16], [16], [18, 19, 960], [18], [18], [18, 19], [19], [19]]\n",
       " Any[\"Null\", \"Null\", \"Null\", \"Null\", \"Null\", \"Null\", \"Null\", 0, \"Null\", \"Null\"  …  \"Null\", \"Null\", \"Null\", \"Null\", \"Null\", \"Null\", \"Null\", \"Null\", \"Null\", \"Null\"]\n",
       " Any[\"Null\", \"Null\", \"Null\", \"Null\", \"Null\", \"Null\", \"Null\", 3620, \"Null\", \"Null\"  …  \"Null\", \"Null\", \"Null\", \"Null\", \"Null\", \"Null\", \"Null\", \"Null\", \"Null\", \"Null\"]\n",
       " [\"O\", \"Dona\", \"Boris\", \"Karen Jones\", \"Alex Balder\", \"Asav's Insurgents\", \"Production voice and Imaging\", \"Beast\", \"Cid\", \"Steady Hand McDuff\"  …  \"Benny\", \"Mr. House\", \"Festus\", \"Ghouls\", \"Captain Baseballbat-Boy\", \"Transit Police\", \"Chemists\", \"Booze Hounds\", \"Mama\", \"Lord Valentine\"]\n",
       " [\"o\", \"dona\", \"boris\", \"karen-jones\", \"alex-balder\", \"asavs-insurgents\", \"production-voice-and-imaging\", \"beast\", \"cid--1\", \"steady-hand-mcduff\"  …  \"benny\", \"mr-house\", \"festus\", \"ghouls\", \"captain-baseballbat-boy\", \"transit-police\", \"chemists\", \"booze-hounds\", \"mama\", \"lord-valentine\"]\n",
       " Any[\"Null\", \"Null\", \"Null\", \"Null\", \"Null\", \"Null\", \"Null\", 5, \"Null\", \"Null\"  …  \"Null\", \"Null\", \"Null\", \"Null\", \"Null\", \"Null\", \"Null\", \"Null\", \"Null\", \"Null\"]"
      ]
     },
     "execution_count": 98,
     "metadata": {},
     "output_type": "execute_result"
    }
   ],
   "source": [
    "all_characters = [get_this.(characters,column_name) for column_name in features_characters]"
   ]
  },
  {
   "cell_type": "code",
   "execution_count": 99,
   "metadata": {},
   "outputs": [
    {
     "data": {
      "text/plain": [
       "500-element Array{Any,1}:\n",
       "  \"Null\"\n",
       "  \"Null\"\n",
       "  \"Null\"\n",
       "  \"Null\"\n",
       "  \"Null\"\n",
       "  \"Null\"\n",
       "  \"Null\"\n",
       " 5\n",
       "  \"Null\"\n",
       "  \"Null\"\n",
       "  \"Null\"\n",
       "  \"Null\"\n",
       "  \"Null\"\n",
       " ⋮\n",
       "  \"Null\"\n",
       "  \"Null\"\n",
       "  \"Null\"\n",
       "  \"Null\"\n",
       "  \"Null\"\n",
       "  \"Null\"\n",
       "  \"Null\"\n",
       "  \"Null\"\n",
       "  \"Null\"\n",
       "  \"Null\"\n",
       "  \"Null\"\n",
       "  \"Null\""
      ]
     },
     "execution_count": 99,
     "metadata": {},
     "output_type": "execute_result"
    }
   ],
   "source": [
    "characters_infor = DataFrame()\n",
    "characters_infor.id = all_characters[1]\n",
    "characters_infor.country_name = all_characters[2]\n",
    "characters_infor.created_at = all_characters[3]\n",
    "characters_infor.description = all_characters[4]\n",
    "characters_infor.games  = all_characters[5]\n",
    "characters_infor.gender  = all_characters[6]\n",
    "characters_infor.mug_shot = all_characters[7]\n",
    "characters_infor.name  = all_characters[8]\n",
    "characters_infor.slug  = all_characters[9]\n",
    "characters_infor.species  = all_characters[10]\n"
   ]
  },
  {
   "cell_type": "code",
   "execution_count": 100,
   "metadata": {},
   "outputs": [
    {
     "data": {
      "text/html": [
       "<table class=\"data-frame\"><thead><tr><th></th><th>id</th><th>country_name</th><th>created_at</th><th>description</th><th>games</th></tr><tr><th></th><th>Int64</th><th>String</th><th>Int64</th><th>String</th><th>Array…</th></tr></thead><tbody><p>500 rows × 10 columns (omitted printing of 5 columns)</p><tr><th>1</th><td>2692</td><td>Null</td><td>1414800000</td><td>Null</td><td>[41]</td></tr><tr><th>2</th><td>5144</td><td>Null</td><td>1433721600</td><td>Null</td><td>[418]</td></tr><tr><th>3</th><td>7238</td><td>Null</td><td>1456185600</td><td>Null</td><td>[378]</td></tr><tr><th>4</th><td>12335</td><td>Null</td><td>1547337600</td><td>Null</td><td>[25076]</td></tr><tr><th>5</th><td>710</td><td>Null</td><td>1408060800</td><td>Null</td><td>[18]</td></tr><tr><th>6</th><td>12956</td><td>Null</td><td>1555977600</td><td>Null</td><td>[26193]</td></tr><tr><th>7</th><td>5971</td><td>Null</td><td>1445731200</td><td>Null</td><td>[3174]</td></tr><tr><th>8</th><td>4445</td><td>Null</td><td>1431216000</td><td>Null</td><td>[380, 1219, 1221, 2993]</td></tr><tr><th>9</th><td>5140</td><td>Null</td><td>1433721600</td><td>Null</td><td>[418, 1221, 2444, 2449]</td></tr><tr><th>10</th><td>889</td><td>Null</td><td>1409011200</td><td>Null</td><td>[2368]</td></tr><tr><th>11</th><td>10120</td><td>Null</td><td>1475020800</td><td>Null</td><td>[5619]</td></tr><tr><th>12</th><td>7518</td><td>Null</td><td>1459728000</td><td>Null</td><td>[184]</td></tr><tr><th>13</th><td>8639</td><td>Null</td><td>1463961600</td><td>Null</td><td>[25076]</td></tr><tr><th>14</th><td>5902</td><td>Null</td><td>1443398400</td><td>Null</td><td>[1289]</td></tr><tr><th>15</th><td>70</td><td>Null</td><td>1384905600</td><td>Null</td><td>[62]</td></tr><tr><th>16</th><td>12429</td><td>Null</td><td>1547337600</td><td>Null</td><td>[25076]</td></tr><tr><th>17</th><td>5744</td><td>Null</td><td>1442707200</td><td>Null</td><td>[4755, 19565]</td></tr><tr><th>18</th><td>6032</td><td>Null</td><td>1446681600</td><td>Null</td><td>[545, 1122]</td></tr><tr><th>19</th><td>5147</td><td>Null</td><td>1433721600</td><td>Null</td><td>[418]</td></tr><tr><th>20</th><td>834</td><td>Null</td><td>1408752000</td><td>Null</td><td>[66, 895, 1279, 2238, 55092, 55189]</td></tr><tr><th>21</th><td>3752</td><td>Null</td><td>1428796800</td><td>Null</td><td>[529, 5620, 6707, 9647, 19090]</td></tr><tr><th>22</th><td>2155</td><td>Null</td><td>1413158400</td><td>Null</td><td>[512, 1291, 3235, 4964]</td></tr><tr><th>23</th><td>5964</td><td>Null</td><td>1445731200</td><td>Null</td><td>[989, 3174]</td></tr><tr><th>24</th><td>1117</td><td>Null</td><td>1409443200</td><td>Null</td><td>[113, 127]</td></tr><tr><th>25</th><td>4998</td><td>Null</td><td>1432944000</td><td>Null</td><td>[1528, 76882]</td></tr><tr><th>26</th><td>15012</td><td>Null</td><td>1573084800</td><td>Null</td><td>[113114]</td></tr><tr><th>27</th><td>4537</td><td>Null</td><td>1431993600</td><td>Null</td><td>[1305]</td></tr><tr><th>28</th><td>4540</td><td>Null</td><td>1431993600</td><td>Null</td><td>[562, 1305]</td></tr><tr><th>29</th><td>4541</td><td>Null</td><td>1431993600</td><td>Null</td><td>[1305]</td></tr><tr><th>30</th><td>4544</td><td>Null</td><td>1431993600</td><td>Null</td><td>[1305]</td></tr><tr><th>&vellip;</th><td>&vellip;</td><td>&vellip;</td><td>&vellip;</td><td>&vellip;</td><td>&vellip;</td></tr></tbody></table>"
      ],
      "text/latex": [
       "\\begin{tabular}{r|cccccc}\n",
       "\t& id & country\\_name & created\\_at & description & games & \\\\\n",
       "\t\\hline\n",
       "\t& Int64 & String & Int64 & String & Array… & \\\\\n",
       "\t\\hline\n",
       "\t1 & 2692 & Null & 1414800000 & Null & [41] & $\\dots$ \\\\\n",
       "\t2 & 5144 & Null & 1433721600 & Null & [418] & $\\dots$ \\\\\n",
       "\t3 & 7238 & Null & 1456185600 & Null & [378] & $\\dots$ \\\\\n",
       "\t4 & 12335 & Null & 1547337600 & Null & [25076] & $\\dots$ \\\\\n",
       "\t5 & 710 & Null & 1408060800 & Null & [18] & $\\dots$ \\\\\n",
       "\t6 & 12956 & Null & 1555977600 & Null & [26193] & $\\dots$ \\\\\n",
       "\t7 & 5971 & Null & 1445731200 & Null & [3174] & $\\dots$ \\\\\n",
       "\t8 & 4445 & Null & 1431216000 & Null & [380, 1219, 1221, 2993] & $\\dots$ \\\\\n",
       "\t9 & 5140 & Null & 1433721600 & Null & [418, 1221, 2444, 2449] & $\\dots$ \\\\\n",
       "\t10 & 889 & Null & 1409011200 & Null & [2368] & $\\dots$ \\\\\n",
       "\t11 & 10120 & Null & 1475020800 & Null & [5619] & $\\dots$ \\\\\n",
       "\t12 & 7518 & Null & 1459728000 & Null & [184] & $\\dots$ \\\\\n",
       "\t13 & 8639 & Null & 1463961600 & Null & [25076] & $\\dots$ \\\\\n",
       "\t14 & 5902 & Null & 1443398400 & Null & [1289] & $\\dots$ \\\\\n",
       "\t15 & 70 & Null & 1384905600 & Null & [62] & $\\dots$ \\\\\n",
       "\t16 & 12429 & Null & 1547337600 & Null & [25076] & $\\dots$ \\\\\n",
       "\t17 & 5744 & Null & 1442707200 & Null & [4755, 19565] & $\\dots$ \\\\\n",
       "\t18 & 6032 & Null & 1446681600 & Null & [545, 1122] & $\\dots$ \\\\\n",
       "\t19 & 5147 & Null & 1433721600 & Null & [418] & $\\dots$ \\\\\n",
       "\t20 & 834 & Null & 1408752000 & Null & [66, 895, 1279, 2238, 55092, 55189] & $\\dots$ \\\\\n",
       "\t21 & 3752 & Null & 1428796800 & Null & [529, 5620, 6707, 9647, 19090] & $\\dots$ \\\\\n",
       "\t22 & 2155 & Null & 1413158400 & Null & [512, 1291, 3235, 4964] & $\\dots$ \\\\\n",
       "\t23 & 5964 & Null & 1445731200 & Null & [989, 3174] & $\\dots$ \\\\\n",
       "\t24 & 1117 & Null & 1409443200 & Null & [113, 127] & $\\dots$ \\\\\n",
       "\t25 & 4998 & Null & 1432944000 & Null & [1528, 76882] & $\\dots$ \\\\\n",
       "\t26 & 15012 & Null & 1573084800 & Null & [113114] & $\\dots$ \\\\\n",
       "\t27 & 4537 & Null & 1431993600 & Null & [1305] & $\\dots$ \\\\\n",
       "\t28 & 4540 & Null & 1431993600 & Null & [562, 1305] & $\\dots$ \\\\\n",
       "\t29 & 4541 & Null & 1431993600 & Null & [1305] & $\\dots$ \\\\\n",
       "\t30 & 4544 & Null & 1431993600 & Null & [1305] & $\\dots$ \\\\\n",
       "\t$\\dots$ & $\\dots$ & $\\dots$ & $\\dots$ & $\\dots$ & $\\dots$ &  \\\\\n",
       "\\end{tabular}\n"
      ],
      "text/plain": [
       "500×10 DataFrame. Omitted printing of 6 columns\n",
       "│ Row │ id    │ country_name │ created_at │ description │\n",
       "│     │ \u001b[90mInt64\u001b[39m │ \u001b[90mString\u001b[39m       │ \u001b[90mInt64\u001b[39m      │ \u001b[90mString\u001b[39m      │\n",
       "├─────┼───────┼──────────────┼────────────┼─────────────┤\n",
       "│ 1   │ 2692  │ Null         │ 1414800000 │ Null        │\n",
       "│ 2   │ 5144  │ Null         │ 1433721600 │ Null        │\n",
       "│ 3   │ 7238  │ Null         │ 1456185600 │ Null        │\n",
       "│ 4   │ 12335 │ Null         │ 1547337600 │ Null        │\n",
       "│ 5   │ 710   │ Null         │ 1408060800 │ Null        │\n",
       "│ 6   │ 12956 │ Null         │ 1555977600 │ Null        │\n",
       "│ 7   │ 5971  │ Null         │ 1445731200 │ Null        │\n",
       "│ 8   │ 4445  │ Null         │ 1431216000 │ Null        │\n",
       "│ 9   │ 5140  │ Null         │ 1433721600 │ Null        │\n",
       "│ 10  │ 889   │ Null         │ 1409011200 │ Null        │\n",
       "⋮\n",
       "│ 490 │ 651   │ Null         │ 1407110400 │ Null        │\n",
       "│ 491 │ 673   │ Null         │ 1407110400 │ Null        │\n",
       "│ 492 │ 678   │ Null         │ 1407110400 │ Null        │\n",
       "│ 493 │ 689   │ Null         │ 1407110400 │ Null        │\n",
       "│ 494 │ 704   │ Null         │ 1407110400 │ Null        │\n",
       "│ 495 │ 720   │ Null         │ 1408060800 │ Null        │\n",
       "│ 496 │ 736   │ Null         │ 1408060800 │ Null        │\n",
       "│ 497 │ 737   │ Null         │ 1408060800 │ Null        │\n",
       "│ 498 │ 743   │ Null         │ 1408060800 │ Null        │\n",
       "│ 499 │ 751   │ Null         │ 1408147200 │ Null        │\n",
       "│ 500 │ 749   │ Null         │ 1408147200 │ Null        │"
      ]
     },
     "execution_count": 100,
     "metadata": {},
     "output_type": "execute_result"
    }
   ],
   "source": [
    "characters_infor"
   ]
  },
  {
   "cell_type": "code",
   "execution_count": 101,
   "metadata": {},
   "outputs": [
    {
     "data": {
      "text/plain": [
       "\"/Users/mengzhang/projects/github/wrangling_project/IGDB/game_characters.csv\""
      ]
     },
     "execution_count": 101,
     "metadata": {},
     "output_type": "execute_result"
    }
   ],
   "source": [
    "CSV.write(\"/Users/mengzhang/projects/github/wrangling_project/IGDB/game_characters.csv\", characters_infor)"
   ]
  },
  {
   "cell_type": "markdown",
   "metadata": {},
   "source": [
    "### Section 5\n",
    "\n",
    "Find more information about the games age rating"
   ]
  },
  {
   "cell_type": "code",
   "execution_count": 106,
   "metadata": {},
   "outputs": [
    {
     "data": {
      "text/plain": [
       "\"fields *; limit 500;where id = (1020,1942,472,732,72,233,71,1009,74,231,127,733,20,73,25076,500,7346,538,1164,11156,1029,7331,501,434,75,121,565,529,26192,15,16,19441,1070,1871,7599,18,9630,1074,19560,113,59,623,1011,6036,1068,731,25657,28204,8173,1026,1970,76,478,5503,28540,1372,375,512,427,132,866,974,247,116,533,7351,1802,3025,2114,7334,11169,2155,28552,7323,2207,358,1262,730,26758,1985,36926,37,128,9061,1384,39,126,673,12517,286,1331,1887,19565,43,2031,230,56,6801,11133,1266,327,14362,379,3035,559,2993,7344,11208,7342,549,41,622,18320,1352,537,19561,1033,109,481,8197,1905,19562,431,9730,21,40,343,1062,11198,27421,359,1103,885,493,1121,960,7205,11118,239,1051,124,1036,98,38,19,19564,19531,289,1105,498,421,338,1979,9927,418,123,120,14,119313,142,551,11161,37016,3097,545,17000,355,1279,1078,7603,1968,118,117,27789,1377,37094,1077,530,376,426,4754,9066,2933,380,2368,539,2909,80,891,1334,115,1022,36952,740,836,3042,1983,13,2963,60,495,7609,2853,1318,96,987,621,97,9498,133,1030,6707,296,499,1267,1627,12503,11233,1221,979,8187,5601,1073,37777,7444,1122,7360,61,873,352,22439,111,11157,364,246,181,11,26193,17447,3182,333,625,6,14593,2350,125,122,9604,36897,4438,1341,1048,29004,1879,2136,837,312,13166,10962,9727,986,10919,819,471,2935,103298,2262,103054,990,425,245,1906,1219,153,7789,1185,324,260,184,3022,1039,517,78,2342,1910,847,9192,1561,5328,2261,1991,1941,480,378,620,9174,1628,1244,1075,2899,113114,2997,7292,4756,2180,991,14587,1981,1090,342,19130,3278,3070,307,19457,74701,3102,647,3750,6632,1254,11800,5,2990,2001,1593,558,90099,19686,8222,7327,5025,130,26196,12571,3192,1270,224,9600,2939,2437,534,22,21062,1928,36813,2126,1513,547,1715,981,457,9806,7352,3075,1187,910,748,241,223,26226,19164,980,912,299,7706,1511,1305,227,62,76882,27081,5619,1128,7386,1638,1559,966,90101,479,11065,320,295,1512,832,424,277,112,3193,3152,2985,2276,482,326,1558,1186,523,306,280,232,193,1277,361,7170,2025,1911,1339,456,152,109462,20275,19459,3174,2183,2129,562,3186,10148,458,228,9254,6739,2148,1067,913,570,548,9602,19539,1183,398,136,36911,8254,7313,6803,6247,2438,1035,911,293,3349,1092,438,37001,8965,1337,11790,2132,1557,119,20740,103329,1271,1269,494,83728,26764,19470,6250,3154,2115,1626,1192,942,515,1426,1156,1079,389,55935,1514,11170,7348,890,826,521,272,1918,1289,105,5508,1976,948,76253,21040,18099,3265,2472,2064,544,520,509,26855,26761,23248,857,3221,3155,1058);\""
      ]
     },
     "execution_count": 106,
     "metadata": {},
     "output_type": "execute_result"
    }
   ],
   "source": [
    "# define the scrap target on the web page\n",
    "body_date = \"fields *; limit 500;where id = (1020,1942,472,732,72,233,71,1009,74,231,127,733,20,73,25076,500,7346,538,1164,11156,1029,7331,501,434,75,121,565,529,26192,15,16,19441,1070,1871,7599,18,9630,1074,19560,113,59,623,1011,6036,1068,731,25657,28204,8173,1026,1970,76,478,5503,28540,1372,375,512,427,132,866,974,247,116,533,7351,1802,3025,2114,7334,11169,2155,28552,7323,2207,358,1262,730,26758,1985,36926,37,128,9061,1384,39,126,673,12517,286,1331,1887,19565,43,2031,230,56,6801,11133,1266,327,14362,379,3035,559,2993,7344,11208,7342,549,41,622,18320,1352,537,19561,1033,109,481,8197,1905,19562,431,9730,21,40,343,1062,11198,27421,359,1103,885,493,1121,960,7205,11118,239,1051,124,1036,98,38,19,19564,19531,289,1105,498,421,338,1979,9927,418,123,120,14,119313,142,551,11161,37016,3097,545,17000,355,1279,1078,7603,1968,118,117,27789,1377,37094,1077,530,376,426,4754,9066,2933,380,2368,539,2909,80,891,1334,115,1022,36952,740,836,3042,1983,13,2963,60,495,7609,2853,1318,96,987,621,97,9498,133,1030,6707,296,499,1267,1627,12503,11233,1221,979,8187,5601,1073,37777,7444,1122,7360,61,873,352,22439,111,11157,364,246,181,11,26193,17447,3182,333,625,6,14593,2350,125,122,9604,36897,4438,1341,1048,29004,1879,2136,837,312,13166,10962,9727,986,10919,819,471,2935,103298,2262,103054,990,425,245,1906,1219,153,7789,1185,324,260,184,3022,1039,517,78,2342,1910,847,9192,1561,5328,2261,1991,1941,480,378,620,9174,1628,1244,1075,2899,113114,2997,7292,4756,2180,991,14587,1981,1090,342,19130,3278,3070,307,19457,74701,3102,647,3750,6632,1254,11800,5,2990,2001,1593,558,90099,19686,8222,7327,5025,130,26196,12571,3192,1270,224,9600,2939,2437,534,22,21062,1928,36813,2126,1513,547,1715,981,457,9806,7352,3075,1187,910,748,241,223,26226,19164,980,912,299,7706,1511,1305,227,62,76882,27081,5619,1128,7386,1638,1559,966,90101,479,11065,320,295,1512,832,424,277,112,3193,3152,2985,2276,482,326,1558,1186,523,306,280,232,193,1277,361,7170,2025,1911,1339,456,152,109462,20275,19459,3174,2183,2129,562,3186,10148,458,228,9254,6739,2148,1067,913,570,548,9602,19539,1183,398,136,36911,8254,7313,6803,6247,2438,1035,911,293,3349,1092,438,37001,8965,1337,11790,2132,1557,119,20740,103329,1271,1269,494,83728,26764,19470,6250,3154,2115,1626,1192,942,515,1426,1156,1079,389,55935,1514,11170,7348,890,826,521,272,1918,1289,105,5508,1976,948,76253,21040,18099,3265,2472,2064,544,520,509,26855,26761,23248,857,3221,3155,1058);\""
   ]
  },
  {
   "cell_type": "code",
   "execution_count": 108,
   "metadata": {},
   "outputs": [
    {
     "data": {
      "text/plain": [
       "\"fields *;limit 500;\""
      ]
     },
     "execution_count": 108,
     "metadata": {},
     "output_type": "execute_result"
    }
   ],
   "source": [
    "body_ageRating = \"fields *;limit 500;\""
   ]
  },
  {
   "cell_type": "code",
   "execution_count": 109,
   "metadata": {},
   "outputs": [
    {
     "data": {
      "text/plain": [
       "HTTP.Messages.Response:\n",
       "\"\"\"\n",
       "HTTP/1.1 200 OK\r\n",
       "Date: Tue, 13 Oct 2020 08:23:18 GMT\r\n",
       "Content-Type: application/json;charset=utf-8\r\n",
       "Transfer-Encoding: chunked\r\n",
       "Connection: keep-alive\r\n",
       "Set-Cookie: __cfduid=d5e86f50a31ac25b0cd5dac496a93024a1602577398; expires=Thu, 12-Nov-20 08:23:18 GMT; path=/; domain=.igdb.com; HttpOnly; SameSite=Lax; Secure\r\n",
       "x-amzn-RequestId: 7624972b-f845-4542-8150-feb9b23c4ca6\r\n",
       "x-amz-apigw-id: UVyOiHOYPHcF6DQ=\r\n",
       "x-amzn-Remapped-Server: Javalin\r\n",
       "X-Count: 472\r\n",
       "x-amzn-Remapped-Date: Tue, 13 Oct 2020 08:23:18 GMT\r\n",
       "X-Cache: Miss from cloudfront\r\n",
       "Via: 1.1 de3063cfe3a4bc7ffde9031535a793bc.cloudfront.net (CloudFront)\r\n",
       "X-Amz-Cf-Pop: AKL50-C1\r\n",
       "X-Amz-Cf-Id: 8B2tyeb-YSEosuAdnF6nN1IcqnBdooyMTNLzbevY-oVbgLQc3kR0-A==\r\n",
       "CF-Cache-Status: DYNAMIC\r\n",
       "cf-request-id: 05c2a790f40000fb98e00ec200000001\r\n",
       "Expect-CT: max-age=604800, report-uri=\"https://report-uri.cloudflare.com/cdn-cgi/beacon/expect-ct\"\r\n",
       "Strict-Transport-Security: max-age=15552000; includeSubDomains; preload\r\n",
       "X-Content-Type-Options: nosniff\r\n",
       "Server: cloudflare\r\n",
       "CF-RAY: 5e17a8618b17fb98-AKL\r\n",
       "\r\n",
       "[\n",
       "  {\n",
       "    \"id\": 427,\n",
       "    \"category\": 1,\n",
       "    \"rating\": 8,\n",
       "    \"checksum\": \"ad665662-9738-22c2-2e69-509f4f112cba\"\n",
       "  },\n",
       "  {\n",
       "    \"id\": 22,\n",
       "    \"category\": 1,\n",
       "    \"rating\": 6,\n",
       "    \"checksum\": \"7a3c48ae-d0da-5cc1-ff5c-cf59c4999d30\"\n",
       "  },\n",
       "  {\n",
       "    \"id\": 62,\n",
       "    \"category\": 1,\n",
       "    \"rating\": 6,\n",
       "    \"checksum\": \"ea55c9c9-1d87-9a87-261b-99e82f1e8a2f\"\n",
       "  },\n",
       "  {\n",
       "    \"id\": 124,\n",
       "    \"category\": 1,\n",
       "    \"content_descriptions\": [],\n",
       "    \"rating\": 8,\n",
       "    \"checksum\": \"38e9474a-f6e1-c00c-1f28-817835e9ec09\"\n",
       "  },\n",
       "  {\n",
       "    \"id\": 127,\n",
       "    \"category\": 1,\n",
       "    \"content_descriptions\": [],\n",
       "    \"rating\": 10,\n",
       "    \"checksum\": \"214e533f-e08d-9a8c-18bc-cff1e12931a4\"\n",
       "  },\n",
       "  {\n",
       "    \"id\": 431,\n",
       "    \"category\": 1,\n",
       "    \"content_descriptions\": [],\n",
       "    \"rating\": 10,\n",
       "    \"checksum\": \"ff6ef704-730f-18dd-d231-7b414125e634\"\n",
       "  },\n",
       "  {\n",
       "    \"id\": 105,\n",
       "    \"category\": 1,\n",
       "    \"content_descriptions\": [],\n",
       "    \"rating\": 8,\n",
       "    \"checksum\": \"b6920f4c-5cc5-b3ae-ea11-ba81bcd1cff0\"\n",
       "  },\n",
       "  {\n",
       "    \"id\": 111,\n",
       "    \"category\": 1,\n",
       "    \"content_descriptions\":\n",
       "⋮\n",
       "165970-byte body\n",
       "\"\"\""
      ]
     },
     "execution_count": 109,
     "metadata": {},
     "output_type": "execute_result"
    }
   ],
   "source": [
    "# Using HTTP.post(\"path\") to scrap the relasase date web information\n",
    "ageRating = HTTP.post(\"https://api.igdb.com/v4/age_ratings\",\n",
    "          auth_dictionary,\n",
    "          body_date)"
   ]
  },
  {
   "cell_type": "code",
   "execution_count": 110,
   "metadata": {},
   "outputs": [
    {
     "data": {
      "text/plain": [
       "472-element Array{Any,1}:\n",
       " (id = 427, category = 1, rating = 8, checksum = \"ad665662-9738-22c2-2e69-509f4f112cba\")\n",
       " (id = 22, category = 1, rating = 6, checksum = \"7a3c48ae-d0da-5cc1-ff5c-cf59c4999d30\")\n",
       " (id = 62, category = 1, rating = 6, checksum = \"ea55c9c9-1d87-9a87-261b-99e82f1e8a2f\")\n",
       " (id = 124, category = 1, content_descriptions = Any[], rating = 8, checksum = \"38e9474a-f6e1-c00c-1f28-817835e9ec09\")\n",
       " (id = 127, category = 1, content_descriptions = Any[], rating = 10, checksum = \"214e533f-e08d-9a8c-18bc-cff1e12931a4\")\n",
       " (id = 431, category = 1, content_descriptions = Any[], rating = 10, checksum = \"ff6ef704-730f-18dd-d231-7b414125e634\")\n",
       " (id = 105, category = 1, content_descriptions = Any[], rating = 8, checksum = \"b6920f4c-5cc5-b3ae-ea11-ba81bcd1cff0\")\n",
       " (id = 111, category = 1, content_descriptions = Any[], rating = 11, checksum = \"59854d97-4b5d-27d1-1320-87baf07fe413\")\n",
       " (id = 223, category = 1, content_descriptions = Any[], rating = 10, checksum = \"d4136873-f83d-ba68-5641-efb7013b227b\")\n",
       " (id = 260, category = 1, content_descriptions = Any[], rating = 11, checksum = \"c17ec1a7-12d8-a917-20d1-6a8689c4de99\")\n",
       " (id = 364, category = 1, rating = 6, checksum = \"71b20ebb-f211-9265-c2e5-10d0d37a57a4\")\n",
       " (id = 1941, category = 1, rating = 8, checksum = \"543f8177-54ef-8a6a-081e-c5c03cc04be0\")\n",
       " (id = 80, category = 1, content_descriptions = Any[], rating = 11, checksum = \"454eb347-6328-faa2-0991-f4c8286d58db\")\n",
       " ⋮\n",
       " (id = 2207, category = 1, content_descriptions = Any[], rating = 8, checksum = \"5252777d-133d-4392-9055-33304d5b35a8\")\n",
       " (id = 8222, category = 2, content_descriptions = Any[49], rating = 4, synopsis = \"The content of this game is suitable for persons aged 16 years and over only.\\nIt contains: Realistic looking violence.\", checksum = \"8d9682d2-f3e3-29b8-1a24-763c16dd5e2f\")\n",
       " (id = 5601, category = 1, content_descriptions = Any[], rating = 8, synopsis = \"This is a side-scrolling platformer game in which players control a small spherical character in its quest to rescue friends. As players traverse through colorful levels, they defeat enemies by swallowing them, spitting back projectiles or using “cartoony” weapons (e.g., swords, whips, bows). In a handful of sequences, players can mount turrets and shoot projectiles at obstacles and boss characters. Damage is indicated by impact sounds and colorful light effects.\", checksum = \"68351c90-3dba-2604-624a-579307a5ac14\")\n",
       " (id = 912, category = 1, content_descriptions = Any[], rating = 10, synopsis = \"This is a first-person shooter in which players compete in a \\\"kill-or-be-killed\\\"-style TV program. Cartoonlike characters use frying pans, golf clubs, barbeque forks, machine guns, flamethrowers, knives, and swords to kill other actors on the TV/movie sets. Characters are often guided by the instructions and prompting of a TV/movie director. As the characters run around various sets, they are rewarded with notoriety, fame, and points for creative kills. Brightly-colored bloodstains sometimes appear when characters are hit; small bloodstains occasionally appear on floors and walls. Players are also assisted by environmental traps (e.g., electric currents, fiery gas explosions, and movable floors), which can kill several characters at once. Guards will occasionally zap characters with tasers for failing to observe in-game rules, such as refraining from killing innocent or non-targeted characters.  Some female characters are depicted in bikinis, low-cut clothing, bunny outfits, and showgirl costumes that expose a lot of cleavage. A movie set displays a call sheet that details a bedroom scene, with the text \\\"Please Note: As this scene involves nudity, ONLY the involved actors, the assigned camera op and the director should be present.\\\" During the course of the game, characters may use toilets and can be seen sitting on toilet bowls as they groan and emit flatulence. Items such as beer bottles, wine bottles, kegs, and tequila appear in the game; players are also able to consume beer. Some dialogue contains language such as \\\"a*s,\\\"\\\"damn,\\\" and \\\"hell,\\\" as well as references to drugs (e.g., \\\"toker,\\\"\\\"reefer,\\\"\\\"bongwater,\\\" and \\\"weed\\\").\", checksum = \"574b173f-3eb7-1ed3-459c-6128609bcdfc\")\n",
       " (id = 120, category = 1, content_descriptions = Any[], rating = 11, synopsis = \"This is a role-playing game (RPG) in which players control a group of mythical warriors through missions and battles in the ravaged lands of Ferelden. The combat system in the game is similar to other third-person role-playing games where the user does not usually have direct control over combat moves. Instead, players select a target (e.g., soldier, stone golem, dragon, bear, etc.) and an action (e.g., \\\"attack,\\\"\\\"kill,\\\" and magic spells), then watch as the game executes the move. Players use swords, axes, knives, and magic to attack enemies that react to damage by emitting splashes of red blood; pools of blood are occasionally depicted near dead bodies as well. The most intense instances of violence occur when players have the option to kill non-combatant civilians: A prisoner can be stabbed to death in order to steal a key; a merchant who overcharges refugees can be slashed in the throat; and a boy possessed by an evil demon can be killed off-screen. During the course of the game, players are able to visit a brothel where a hostess asks what they are interested in. If players select \\\"Surprise me,\\\" they can sometimes wind up face-to-face with a woman, a man, a transsexual, or an animal; sexual activity is never depicted during these brothel encounters. Players can also initiate brief cutscene sequences in which couples (male and female or same sex couples) can be depicted kissing, embracing, and caressing one another as the screen fades to black. Though the game never features  human  nudity, one female demon character is briefly depicted with bare breasts. Some profanity (e.g., \\\"sh*t,\\\"\\\"b*tch,\\\" and \\\"a*s\\\") can be heard in the dialogue.\", checksum = \"7cd8f9a3-b472-5b05-edf1-74096528dd0b\")\n",
       " (id = 3035, category = 1, content_descriptions = Any[], rating = 11, synopsis = \"This is an action role-playing game, set in a post-apocalyptic Mojave Desert, in which players assume the role of a survivor hero who investigates a mystery and performs a series of quests. Missions allow players to explore the Mojave Desert, surrounding casinos, and abandoned facilities; other quests involve combat with human and mutant survivors. Players use chainsaws, laser rifles, knives, and sledgehammers to kill enemies. Fighting can be frenetic and intense, highlighted by various camera effects (e.g., slow motion, blurring, screen shakes) and depictions of dismemberment, blood spray, and blood trails. In one sequence, players can choose to activate a collar bomb around a slave-woman's neck, resulting in depictions of blood and gore. During the course of the game, players will encounter male and female prostitutes: the screen fades to black as suggestive dialogue is heard in the background (e.g., \\\"Nice charlies, too! Give them a shake for the Ben-man, will ya?\\\"); there is also an extended sequence suggesting (no depiction) sexual activity with a robot (e.g., \\\"Fisto reporting for duty . . . Please assume the position,\\\"\\\"I suppose I should test you out . . . Servos active!\\\" and \\\"Something wrong with someone if they got to f**k a machine.\\\"). The storyline sometimes references a fictional drug called \\\"chems,\\\" as well as \\\"Day Trippers,\\\"\\\"cracked out junkies,\\\" and \\\"degenerate, drug-addicted killers.\\\" Players' Character can be seen consuming the drugs, which sometimes leads to a screen-blurring effect.\", checksum = \"f97d077e-70ce-38f3-0c3f-4cbbec5646b6\")\n",
       " (id = 43, category = 1, content_descriptions = Any[], rating = 11, synopsis = \"This is a fantasy role-playing game in which players assume the role of Dovakin, a prophesied figure with the power to combat dragons in the fictional world of Skyrim. As players traverse through mountainous \\\"open-world\\\" environments, they complete missions and quests that impact the eventual fate of their character. Players use swords, bows and arrows, axes, and magic attacks (e.g., fireballs, ice shards) to kill various enemies (e.g., wolves, dragons, human bandits and soldiers). As players engage in melee-style combat, some sequences are highlighted by slow-motion effects, particularly for decapitations. Large blood-splatter effects also occur during combat, and some environments are stained with blood or body parts (e.g., heads impaled on spikes). Some sequences allow players to injure/kill nonadversary characters, including prisoners chained to a wall; they scream in pain amid splashes of blood or fire. As the game progresses, the dialogue and on-screen text contains references to sexual material (e.g., “. . . all the whores your heart, or any other organ, desires,”“She . . . raped the men as cruelly as Bal had ravished her,” and “Remember when you thought [he] was . . . intent on making you . . . into his personal sex slave?”). Alcohol such as wine, mead, and ale can be purchased and consumed by players' character throughout the game; in one sequence, players can engage in a drinking contest with another character, which eventually results in slurred speech (e.g., “One more. No problemsh . . . Thash grape!”).\", checksum = \"45c2ad31-39c5-7b00-5337-9b38a390065a\")\n",
       " (id = 826, category = 1, content_descriptions = Any[], rating = 11, synopsis = \"This is a first-person shooter in which players assume the role of Maj. Fletcher, a soldier tasked with protecting a futuristic city from intelligent machines. Players use machine guns, plasma rifles, pulsar canons, and explosives to destroy robots and cyborgs in frenetic combat. Firefights are highlighted by cries of pain, realistic gunfire, and large explosions; some partially-human enemies emit blood effects when shot. A variety of comic book–style cutscenes also depict characters being killed/dismembered by mechanical creatures. In some playable sequences, players can shoot human corpses, resulting in scattered limbs and large splashes of blood. During the course of the game, one city billboard depicts a topless woman in the background. The word “f**k” can be heard in the dialogue.\", checksum = \"917382c4-ef2f-10b9-f032-44b36a83462d\")\n",
       " (id = 6250, category = 2, content_descriptions = Any[49], rating = 3, synopsis = \"The content of this game is suitable for persons aged 12 years and over only.\\nIt contains: Realistic looking violence towards non human looking characters - Violence that is not shown but is implied.\", checksum = \"1f20e5b1-ba9e-91eb-e0da-663d4579444a\")\n",
       " (id = 832, category = 1, content_descriptions = Any[], rating = 10, synopsis = \"This is a strategy role-playing game in which players assume the role of a pirate who must conquer rival factions in 16th- to 18th-century Europe. From a top-down perspective, players use swords, muskets, and cannon balls to defeat other pirates and enemy soldiers. These land and sea battles are accompanied by gunfire, sword-clanging sounds, and explosions; enemies cry out when hit and collapse to the ground when killed. In battle, players can use bottles of grog to restore characters' health; a variety of sequences contain other references to alcohol (e.g., “I'm laughing so hard I nearly spilled me rum,”“The ramblings of drunken sailors . . .” and “Where do pirates drink their beer?”). In one scene, a couple of characters allude to marijuana plants: “I trap here, mon. Got too much bad weed”/“Heh, I thought you meant the other kind of weed.” During the course of the game, players can uncover hidden jokes—some of which contain questions/answers that are sexual in nature (e.g., Q: “How does a pirate greet a prostitute?” Q: “What's a horny pirate's worst nightmare?” A: “A sunken chest with no booty,” Q: “How does a pirate tell his wench he wants to have sex?”). The words “a*s” and “bastard” appear in the dialogue.\", checksum = \"5e75e084-7dc8-fd70-a617-11fe2b394e33\")\n",
       " (id = 19686, category = 1, rating = 8, checksum = \"dd1f3a0a-ade5-9725-6ba7-1f1f4bec1dc6\")\n",
       " (id = 911, category = 1, content_descriptions = Any[], rating = 10, synopsis = \"This is an action adventure game in which players assume the role of Nathan Drake, a treasure hunter on a quest to save his friends, find the treasure, and stop a madman from obtaining a great and ancient power. Players can explore ancient ruins in international locales while traversing 3D landscapes embedded with puzzles and traps. Along the way, players will encounter mercenaries/soldiers who will attack with realistic machine guns. Players can brawl with these mercenaries/soldiers, shoot back at them with pistols and rifles, or sneak up on the enemies to perform \\\"stealth kills\\\" (e.g., neck-snapping, choke-holds). During gunfights, brief splashes of blood are emitted from characters; more shots—and thus, more blood—are required to kill a growling ice beast. The action sequences are interspersed with cutscenes that are dramatic, but just as often, humorous in tone; a handful of them contain sexual/suggestive innuendo: \\\"Oh! Is that an ancient Tibetan ritual dagger in your pocket . . . Oh! Maybe I'm just happy to see you\\\" and \\\"Well, so much for foreplay . . .\\\" In one scene, a woman (fully clothed) straddles on top of the central character, places his hands on her hips (he drums his fingers), then kisses him as the camera pans away (to a painting above the bed). In the heat of battle  and  conversation, the words  sh*t ,  b*tch , and  a*s  are sometimes exclaimed.\", checksum = \"c8853267-f024-55f9-281b-aeb8489d96a4\")"
      ]
     },
     "execution_count": 110,
     "metadata": {},
     "output_type": "execute_result"
    }
   ],
   "source": [
    "# Read the web body information into JSON format\n",
    "ageRating = JSON2.read(IOBuffer(ageRating.body))"
   ]
  },
  {
   "cell_type": "code",
   "execution_count": 113,
   "metadata": {},
   "outputs": [
    {
     "data": {
      "text/plain": [
       "5-element Array{Symbol,1}:\n",
       " :id\n",
       " :category\n",
       " :content_descriptions\n",
       " :rating\n",
       " :synopsis"
      ]
     },
     "execution_count": 113,
     "metadata": {},
     "output_type": "execute_result"
    }
   ],
   "source": [
    "# Define the features we want to generate\n",
    "features_ageRating = [:id, \n",
    "    :category,\n",
    "    :content_descriptions,\n",
    "    :rating,\n",
    "    :synopsis\n",
    "    ]"
   ]
  },
  {
   "cell_type": "code",
   "execution_count": 115,
   "metadata": {},
   "outputs": [
    {
     "data": {
      "text/plain": [
       "5-element Array{Array{T,1} where T,1}:\n",
       " [427, 22, 62, 124, 127, 431, 105, 111, 223, 260  …  5601, 912, 120, 3035, 43, 826, 6250, 832, 19686, 911]\n",
       " [1, 1, 1, 1, 1, 1, 1, 1, 1, 1  …  1, 1, 1, 1, 1, 1, 2, 1, 1, 1]\n",
       " Any[\"Null\", \"Null\", \"Null\", Any[], Any[], Any[], Any[], Any[], Any[], Any[]  …  Any[], Any[], Any[], Any[], Any[], Any[], Any[49], Any[], \"Null\", Any[]]\n",
       " [8, 6, 6, 8, 10, 10, 8, 11, 10, 11  …  8, 10, 11, 11, 11, 11, 3, 10, 8, 10]\n",
       " [\"Null\", \"Null\", \"Null\", \"Null\", \"Null\", \"Null\", \"Null\", \"Null\", \"Null\", \"Null\"  …  \"This is a side-scrolling platformer game in which players control a small spherical character in its quest to rescue friends. As players traverse through colorful levels, they defeat enemies by swallowing them, spitting back projectiles or using “cartoony” weapons (e.g., swords, whips, bows). In a handful of sequences, players can mount turrets and shoot projectiles at obstacles and boss characters. Damage is indicated by impact sounds and colorful light effects.\", \"This is a first-person shooter in which players compete in a \\\"kill-or-be-killed\\\"-style TV program. Cartoonlike characters use frying pans, golf clubs, barbeque forks, machine guns, flamethrowers, knives, and swords to kill other actors on the TV/movie sets. Characters are often guided by the instructions and prompting of a TV/movie director. As the characters run around various sets, they are rewarded with notoriety, fame, and points for creative kills. Brightly-colored bloodstains sometimes appear when characters are hit; small bloodstains occasionally appear on floors and walls. Players are also assisted by environmental traps (e.g., electric currents, fiery gas explosions, and movable floors), which can kill several characters at once. Guards will occasionally zap characters with tasers for failing to observe in-game rules, such as refraining from killing innocent or non-targeted characters.  Some female characters are depicted in bikinis, low-cut clothing, bunny outfits, and showgirl costumes that expose a lot of cleavage. A movie set displays a call sheet that details a bedroom scene, with the text \\\"Please Note: As this scene involves nudity, ONLY the involved actors, the assigned camera op and the director should be present.\\\" During the course of the game, characters may use toilets and can be seen sitting on toilet bowls as they groan and emit flatulence. Items such as beer bottles, wine bottles, kegs, and tequila appear in the game; players are also able to consume beer. Some dialogue contains language such as \\\"a*s,\\\"\\\"damn,\\\" and \\\"hell,\\\" as well as references to drugs (e.g., \\\"toker,\\\"\\\"reefer,\\\"\\\"bongwater,\\\" and \\\"weed\\\").\", \"This is a role-playing game (RPG) in which players control a group of mythical warriors through missions and battles in the ravaged lands of Ferelden. The combat system in the game is similar to other third-person role-playing games where the user does not usually have direct control over combat moves. Instead, players select a target (e.g., soldier, stone golem, dragon, bear, etc.) and an action (e.g., \\\"attack,\\\"\\\"kill,\\\" and magic spells), then watch as the game executes the move. Players use swords, axes, knives, and magic to attack enemies that react to damage by emitting splashes of red blood; pools of blood are occasionally depicted near dead bodies as well. The most intense instances of violence occur when players have the option to kill non-combatant civilians: A prisoner can be stabbed to death in order to steal a key; a merchant who overcharges refugees can be slashed in the throat; and a boy possessed by an evil demon can be killed off-screen. During the course of the game, players are able to visit a brothel where a hostess asks what they are interested in. If players select \\\"Surprise me,\\\" they can sometimes wind up face-to-face with a woman, a man, a transsexual, or an animal; sexual activity is never depicted during these brothel encounters. Players can also initiate brief cutscene sequences in which couples (male and female or same sex couples) can be depicted kissing, embracing, and caressing one another as the screen fades to black. Though the game never features  human  nudity, one female demon character is briefly depicted with bare breasts. Some profanity (e.g., \\\"sh*t,\\\"\\\"b*tch,\\\" and \\\"a*s\\\") can be heard in the dialogue.\", \"This is an action role-playing game, set in a post-apocalyptic Mojave Desert, in which players assume the role of a survivor hero who investigates a mystery and performs a series of quests. Missions allow players to explore the Mojave Desert, surrounding casinos, and abandoned facilities; other quests involve combat with human and mutant survivors. Players use chainsaws, laser rifles, knives, and sledgehammers to kill enemies. Fighting can be frenetic and intense, highlighted by various camera effects (e.g., slow motion, blurring, screen shakes) and depictions of dismemberment, blood spray, and blood trails. In one sequence, players can choose to activate a collar bomb around a slave-woman's neck, resulting in depictions of blood and gore. During the course of the game, players will encounter male and female prostitutes: the screen fades to black as suggestive dialogue is heard in the background (e.g., \\\"Nice charlies, too! Give them a shake for the Ben-man, will ya?\\\"); there is also an extended sequence suggesting (no depiction) sexual activity with a robot (e.g., \\\"Fisto reporting for duty . . . Please assume the position,\\\"\\\"I suppose I should test you out . . . Servos active!\\\" and \\\"Something wrong with someone if they got to f**k a machine.\\\"). The storyline sometimes references a fictional drug called \\\"chems,\\\" as well as \\\"Day Trippers,\\\"\\\"cracked out junkies,\\\" and \\\"degenerate, drug-addicted killers.\\\" Players' Character can be seen consuming the drugs, which sometimes leads to a screen-blurring effect.\", \"This is a fantasy role-playing game in which players assume the role of Dovakin, a prophesied figure with the power to combat dragons in the fictional world of Skyrim. As players traverse through mountainous \\\"open-world\\\" environments, they complete missions and quests that impact the eventual fate of their character. Players use swords, bows and arrows, axes, and magic attacks (e.g., fireballs, ice shards) to kill various enemies (e.g., wolves, dragons, human bandits and soldiers). As players engage in melee-style combat, some sequences are highlighted by slow-motion effects, particularly for decapitations. Large blood-splatter effects also occur during combat, and some environments are stained with blood or body parts (e.g., heads impaled on spikes). Some sequences allow players to injure/kill nonadversary characters, including prisoners chained to a wall; they scream in pain amid splashes of blood or fire. As the game progresses, the dialogue and on-screen text contains references to sexual material (e.g., “. . . all the whores your heart, or any other organ, desires,”“She . . . raped the men as cruelly as Bal had ravished her,” and “Remember when you thought [he] was . . . intent on making you . . . into his personal sex slave?”). Alcohol such as wine, mead, and ale can be purchased and consumed by players' character throughout the game; in one sequence, players can engage in a drinking contest with another character, which eventually results in slurred speech (e.g., “One more. No problemsh . . . Thash grape!”).\", \"This is a first-person shooter in which players assume the role of Maj. Fletcher, a soldier tasked with protecting a futuristic city from intelligent machines. Players use machine guns, plasma rifles, pulsar canons, and explosives to destroy robots and cyborgs in frenetic combat. Firefights are highlighted by cries of pain, realistic gunfire, and large explosions; some partially-human enemies emit blood effects when shot. A variety of comic book–style cutscenes also depict characters being killed/dismembered by mechanical creatures. In some playable sequences, players can shoot human corpses, resulting in scattered limbs and large splashes of blood. During the course of the game, one city billboard depicts a topless woman in the background. The word “f**k” can be heard in the dialogue.\", \"The content of this game is suitable for persons aged 12 years and over only.\\nIt contains: Realistic looking violence towards non human looking characters - Violence that is not shown but is implied.\", \"This is a strategy role-playing game in which players assume the role of a pirate who must conquer rival factions in 16th- to 18th-century Europe. From a top-down perspective, players use swords, muskets, and cannon balls to defeat other pirates and enemy soldiers. These land and sea battles are accompanied by gunfire, sword-clanging sounds, and explosions; enemies cry out when hit and collapse to the ground when killed. In battle, players can use bottles of grog to restore characters' health; a variety of sequences contain other references to alcohol (e.g., “I'm laughing so hard I nearly spilled me rum,”“The ramblings of drunken sailors . . .” and “Where do pirates drink their beer?”). In one scene, a couple of characters allude to marijuana plants: “I trap here, mon. Got too much bad weed”/“Heh, I thought you meant the other kind of weed.” During the course of the game, players can uncover hidden jokes—some of which contain questions/answers that are sexual in nature (e.g., Q: “How does a pirate greet a prostitute?” Q: “What's a horny pirate's worst nightmare?” A: “A sunken chest with no booty,” Q: “How does a pirate tell his wench he wants to have sex?”). The words “a*s” and “bastard” appear in the dialogue.\", \"Null\", \"This is an action adventure game in which players assume the role of Nathan Drake, a treasure hunter on a quest to save his friends, find the treasure, and stop a madman from obtaining a great and ancient power. Players can explore ancient ruins in international locales while traversing 3D landscapes embedded with puzzles and traps. Along the way, players will encounter mercenaries/soldiers who will attack with realistic machine guns. Players can brawl with these mercenaries/soldiers, shoot back at them with pistols and rifles, or sneak up on the enemies to perform \\\"stealth kills\\\" (e.g., neck-snapping, choke-holds). During gunfights, brief splashes of blood are emitted from characters; more shots—and thus, more blood—are required to kill a growling ice beast. The action sequences are interspersed with cutscenes that are dramatic, but just as often, humorous in tone; a handful of them contain sexual/suggestive innuendo: \\\"Oh! Is that an ancient Tibetan ritual dagger in your pocket . . . Oh! Maybe I'm just happy to see you\\\" and \\\"Well, so much for foreplay . . .\\\" In one scene, a woman (fully clothed) straddles on top of the central character, places his hands on her hips (he drums his fingers), then kisses him as the camera pans away (to a painting above the bed). In the heat of battle  and  conversation, the words  sh*t ,  b*tch , and  a*s  are sometimes exclaimed.\"]"
      ]
     },
     "execution_count": 115,
     "metadata": {},
     "output_type": "execute_result"
    }
   ],
   "source": [
    "all_ageRating = [get_this.(ageRating,column_name) for column_name in features_ageRating]"
   ]
  },
  {
   "cell_type": "code",
   "execution_count": 132,
   "metadata": {},
   "outputs": [
    {
     "data": {
      "text/plain": [
       "472-element Array{String,1}:\n",
       " \"Null\"\n",
       " \"Null\"\n",
       " \"Null\"\n",
       " \"Null\"\n",
       " \"Null\"\n",
       " \"Null\"\n",
       " \"Null\"\n",
       " \"Null\"\n",
       " \"Null\"\n",
       " \"Null\"\n",
       " \"Null\"\n",
       " \"Null\"\n",
       " \"Null\"\n",
       " ⋮\n",
       " \"Null\"\n",
       " \"The content of this game is suitable for persons aged 16 years and over only.\\nIt contains: Realistic looking violence.\"\n",
       " \"This is a side-scrolling platformer game in which players control a small spherical character in its quest to rescue friends. As players traverse through colorful levels, they defeat enemies by swallowing them, spitting back projectiles or using “cartoony” weapons (e.g., swords, whips, bows). In a handful of sequences, players can mount turrets and shoot projectiles at obstacles and boss characters. Damage is indicated by impact sounds and colorful light effects.\"\n",
       " \"This is a first-person shooter in which players compete in a \\\"kill-or-be-killed\\\"-style TV program. Cartoonlike characters use frying pans, golf clubs, barbeque forks, machine guns, flamethrowers, knives, and swords to kill other actors on the TV/movie sets. Characters are often guided by the instructions and prompting of a TV/movie director. As the characters run around various sets, they are rewarded with notoriety, fame, and points for creative kills. Brightly-colored bloodstains sometimes appear when characters are hit; small bloodstains occasionally appear on floors and walls. Players are also assisted by environmental traps (e.g., electric currents, fiery gas explosions, and movable floors), which can kill several characters at once. Guards will occasionally zap characters with tasers for failing to observe in-game rules, such as refraining from killing innocent or non-targeted characters.  Some female characters are depicted in bikinis, low-cut clothing, bunny outfits, and showgirl costumes that expose a lot of cleavage. A movie set displays a call sheet that details a bedroom scene, with the text \\\"Please Note: As this scene involves nudity, ONLY the involved actors, the assigned camera op and the director should be present.\\\" During the course of the game, characters may use toilets and can be seen sitting on toilet bowls as they groan and emit flatulence. Items such as beer bottles, wine bottles, kegs, and tequila appear in the game; players are also able to consume beer. Some dialogue contains language such as \\\"a*s,\\\"\\\"damn,\\\" and \\\"hell,\\\" as well as references to drugs (e.g., \\\"toker,\\\"\\\"reefer,\\\"\\\"bongwater,\\\" and \\\"weed\\\").\"\n",
       " \"This is a role-playing game (RPG) in which players control a group of mythical warriors through missions and battles in the ravaged lands of Ferelden. The combat system in the game is similar to other third-person role-playing games where the user does not usually have direct control over combat moves. Instead, players select a target (e.g., soldier, stone golem, dragon, bear, etc.) and an action (e.g., \\\"attack,\\\"\\\"kill,\\\" and magic spells), then watch as the game executes the move. Players use swords, axes, knives, and magic to attack enemies that react to damage by emitting splashes of red blood; pools of blood are occasionally depicted near dead bodies as well. The most intense instances of violence occur when players have the option to kill non-combatant civilians: A prisoner can be stabbed to death in order to steal a key; a merchant who overcharges refugees can be slashed in the throat; and a boy possessed by an evil demon can be killed off-screen. During the course of the game, players are able to visit a brothel where a hostess asks what they are interested in. If players select \\\"Surprise me,\\\" they can sometimes wind up face-to-face with a woman, a man, a transsexual, or an animal; sexual activity is never depicted during these brothel encounters. Players can also initiate brief cutscene sequences in which couples (male and female or same sex couples) can be depicted kissing, embracing, and caressing one another as the screen fades to black. Though the game never features  human  nudity, one female demon character is briefly depicted with bare breasts. Some profanity (e.g., \\\"sh*t,\\\"\\\"b*tch,\\\" and \\\"a*s\\\") can be heard in the dialogue.\"\n",
       " \"This is an action role-playing game, set in a post-apocalyptic Mojave Desert, in which players assume the role of a survivor hero who investigates a mystery and performs a series of quests. Missions allow players to explore the Mojave Desert, surrounding casinos, and abandoned facilities; other quests involve combat with human and mutant survivors. Players use chainsaws, laser rifles, knives, and sledgehammers to kill enemies. Fighting can be frenetic and intense, highlighted by various camera effects (e.g., slow motion, blurring, screen shakes) and depictions of dismemberment, blood spray, and blood trails. In one sequence, players can choose to activate a collar bomb around a slave-woman's neck, resulting in depictions of blood and gore. During the course of the game, players will encounter male and female prostitutes: the screen fades to black as suggestive dialogue is heard in the background (e.g., \\\"Nice charlies, too! Give them a shake for the Ben-man, will ya?\\\"); there is also an extended sequence suggesting (no depiction) sexual activity with a robot (e.g., \\\"Fisto reporting for duty . . . Please assume the position,\\\"\\\"I suppose I should test you out . . . Servos active!\\\" and \\\"Something wrong with someone if they got to f**k a machine.\\\"). The storyline sometimes references a fictional drug called \\\"chems,\\\" as well as \\\"Day Trippers,\\\"\\\"cracked out junkies,\\\" and \\\"degenerate, drug-addicted killers.\\\" Players' Character can be seen consuming the drugs, which sometimes leads to a screen-blurring effect.\"\n",
       " \"This is a fantasy role-playing game in which players assume the role of Dovakin, a prophesied figure with the power to combat dragons in the fictional world of Skyrim. As players traverse through mountainous \\\"open-world\\\" environments, they complete missions and quests that impact the eventual fate of their character. Players use swords, bows and arrows, axes, and magic attacks (e.g., fireballs, ice shards) to kill various enemies (e.g., wolves, dragons, human bandits and soldiers). As players engage in melee-style combat, some sequences are highlighted by slow-motion effects, particularly for decapitations. Large blood-splatter effects also occur during combat, and some environments are stained with blood or body parts (e.g., heads impaled on spikes). Some sequences allow players to injure/kill nonadversary characters, including prisoners chained to a wall; they scream in pain amid splashes of blood or fire. As the game progresses, the dialogue and on-screen text contains references to sexual material (e.g., “. . . all the whores your heart, or any other organ, desires,”“She . . . raped the men as cruelly as Bal had ravished her,” and “Remember when you thought [he] was . . . intent on making you . . . into his personal sex slave?”). Alcohol such as wine, mead, and ale can be purchased and consumed by players' character throughout the game; in one sequence, players can engage in a drinking contest with another character, which eventually results in slurred speech (e.g., “One more. No problemsh . . . Thash grape!”).\"\n",
       " \"This is a first-person shooter in which players assume the role of Maj. Fletcher, a soldier tasked with protecting a futuristic city from intelligent machines. Players use machine guns, plasma rifles, pulsar canons, and explosives to destroy robots and cyborgs in frenetic combat. Firefights are highlighted by cries of pain, realistic gunfire, and large explosions; some partially-human enemies emit blood effects when shot. A variety of comic book–style cutscenes also depict characters being killed/dismembered by mechanical creatures. In some playable sequences, players can shoot human corpses, resulting in scattered limbs and large splashes of blood. During the course of the game, one city billboard depicts a topless woman in the background. The word “f**k” can be heard in the dialogue.\"\n",
       " \"The content of this game is suitable for persons aged 12 years and over only.\\nIt contains: Realistic looking violence towards non human looking characters - Violence that is not shown but is implied.\"\n",
       " \"This is a strategy role-playing game in which players assume the role of a pirate who must conquer rival factions in 16th- to 18th-century Europe. From a top-down perspective, players use swords, muskets, and cannon balls to defeat other pirates and enemy soldiers. These land and sea battles are accompanied by gunfire, sword-clanging sounds, and explosions; enemies cry out when hit and collapse to the ground when killed. In battle, players can use bottles of grog to restore characters' health; a variety of sequences contain other references to alcohol (e.g., “I'm laughing so hard I nearly spilled me rum,”“The ramblings of drunken sailors . . .” and “Where do pirates drink their beer?”). In one scene, a couple of characters allude to marijuana plants: “I trap here, mon. Got too much bad weed”/“Heh, I thought you meant the other kind of weed.” During the course of the game, players can uncover hidden jokes—some of which contain questions/answers that are sexual in nature (e.g., Q: “How does a pirate greet a prostitute?” Q: “What's a horny pirate's worst nightmare?” A: “A sunken chest with no booty,” Q: “How does a pirate tell his wench he wants to have sex?”). The words “a*s” and “bastard” appear in the dialogue.\"\n",
       " \"Null\"\n",
       " \"This is an action adventure game in which players assume the role of Nathan Drake, a treasure hunter on a quest to save his friends, find the treasure, and stop a madman from obtaining a great and ancient power. Players can explore ancient ruins in international locales while traversing 3D landscapes embedded with puzzles and traps. Along the way, players will encounter mercenaries/soldiers who will attack with realistic machine guns. Players can brawl with these mercenaries/soldiers, shoot back at them with pistols and rifles, or sneak up on the enemies to perform \\\"stealth kills\\\" (e.g., neck-snapping, choke-holds). During gunfights, brief splashes of blood are emitted from characters; more shots—and thus, more blood—are required to kill a growling ice beast. The action sequences are interspersed with cutscenes that are dramatic, but just as often, humorous in tone; a handful of them contain sexual/suggestive innuendo: \\\"Oh! Is that an ancient Tibetan ritual dagger in your pocket . . . Oh! Maybe I'm just happy to see you\\\" and \\\"Well, so much for foreplay . . .\\\" In one scene, a woman (fully clothed) straddles on top of the central character, places his hands on her hips (he drums his fingers), then kisses him as the camera pans away (to a painting above the bed). In the heat of battle  and  conversation, the words  sh*t ,  b*tch , and  a*s  are sometimes exclaimed.\""
      ]
     },
     "execution_count": 132,
     "metadata": {},
     "output_type": "execute_result"
    }
   ],
   "source": [
    "ageRating_infor = DataFrame()\n",
    "ageRating_infor.id = all_ageRating[1]\n",
    "ageRating_infor.category = all_ageRating[2]\n",
    "ageRating_infor.content_descriptions = all_ageRating[3]\n",
    "ageRating_infor.rating = all_ageRating[4]\n",
    "ageRating_infor.synopsis = all_ageRating[5]\n"
   ]
  },
  {
   "cell_type": "code",
   "execution_count": 133,
   "metadata": {},
   "outputs": [
    {
     "data": {
      "text/html": [
       "<table class=\"data-frame\"><thead><tr><th></th><th>id</th><th>category</th><th>content_descriptions</th><th>rating</th><th>synopsis</th></tr><tr><th></th><th>Int64</th><th>Int64</th><th>Any</th><th>Int64</th><th>String</th></tr></thead><tbody><p>472 rows × 5 columns</p><tr><th>1</th><td>427</td><td>1</td><td>Null</td><td>8</td><td>Null</td></tr><tr><th>2</th><td>22</td><td>1</td><td>Null</td><td>6</td><td>Null</td></tr><tr><th>3</th><td>62</td><td>1</td><td>Null</td><td>6</td><td>Null</td></tr><tr><th>4</th><td>124</td><td>1</td><td>0-element Array{Any,1}</td><td>8</td><td>Null</td></tr><tr><th>5</th><td>127</td><td>1</td><td>0-element Array{Any,1}</td><td>10</td><td>Null</td></tr><tr><th>6</th><td>431</td><td>1</td><td>0-element Array{Any,1}</td><td>10</td><td>Null</td></tr><tr><th>7</th><td>105</td><td>1</td><td>0-element Array{Any,1}</td><td>8</td><td>Null</td></tr><tr><th>8</th><td>111</td><td>1</td><td>0-element Array{Any,1}</td><td>11</td><td>Null</td></tr><tr><th>9</th><td>223</td><td>1</td><td>0-element Array{Any,1}</td><td>10</td><td>Null</td></tr><tr><th>10</th><td>260</td><td>1</td><td>0-element Array{Any,1}</td><td>11</td><td>Null</td></tr><tr><th>11</th><td>364</td><td>1</td><td>Null</td><td>6</td><td>Null</td></tr><tr><th>12</th><td>1941</td><td>1</td><td>Null</td><td>8</td><td>Null</td></tr><tr><th>13</th><td>80</td><td>1</td><td>0-element Array{Any,1}</td><td>11</td><td>Null</td></tr><tr><th>14</th><td>1221</td><td>1</td><td>0-element Array{Any,1}</td><td>10</td><td>Null</td></tr><tr><th>15</th><td>960</td><td>1</td><td>Null</td><td>8</td><td>Null</td></tr><tr><th>16</th><td>324</td><td>1</td><td>0-element Array{Any,1}</td><td>10</td><td>Null</td></tr><tr><th>17</th><td>533</td><td>1</td><td>Null</td><td>8</td><td>Null</td></tr><tr><th>18</th><td>4438</td><td>1</td><td>Null</td><td>8</td><td>Null</td></tr><tr><th>19</th><td>5619</td><td>2</td><td>[49]</td><td>4</td><td>The content of this game is suitable for persons aged 16 years and over only.\\nIt contains: Realistic looking violence.</td></tr><tr><th>20</th><td>358</td><td>1</td><td>0-element Array{Any,1}</td><td>10</td><td>Null</td></tr><tr><th>21</th><td>6801</td><td>2</td><td>[49]</td><td>4</td><td>The content of this game is suitable for persons aged 16 years and over only.\\nIt contains: Realistic looking violence</td></tr><tr><th>22</th><td>6803</td><td>1</td><td>0-element Array{Any,1}</td><td>10</td><td>Null</td></tr><tr><th>23</th><td>1715</td><td>1</td><td>0-element Array{Any,1}</td><td>8</td><td>Null</td></tr><tr><th>24</th><td>123</td><td>1</td><td>0-element Array{Any,1}</td><td>9</td><td>Null</td></tr><tr><th>25</th><td>41</td><td>1</td><td>0-element Array{Any,1}</td><td>9</td><td>Null</td></tr><tr><th>26</th><td>1244</td><td>1</td><td>0-element Array{Any,1}</td><td>10</td><td>Null</td></tr><tr><th>27</th><td>359</td><td>1</td><td>0-element Array{Any,1}</td><td>10</td><td>Null</td></tr><tr><th>28</th><td>1384</td><td>1</td><td>0-element Array{Any,1}</td><td>9</td><td>Null</td></tr><tr><th>29</th><td>7352</td><td>1</td><td>0-element Array{Any,1}</td><td>10</td><td>Null</td></tr><tr><th>30</th><td>2262</td><td>1</td><td>Null</td><td>8</td><td>Null</td></tr><tr><th>&vellip;</th><td>&vellip;</td><td>&vellip;</td><td>&vellip;</td><td>&vellip;</td><td>&vellip;</td></tr></tbody></table>"
      ],
      "text/latex": [
       "\\begin{tabular}{r|ccccc}\n",
       "\t& id & category & content\\_descriptions & rating & synopsis\\\\\n",
       "\t\\hline\n",
       "\t& Int64 & Int64 & Any & Int64 & String\\\\\n",
       "\t\\hline\n",
       "\t1 & 427 & 1 & Null & 8 & Null \\\\\n",
       "\t2 & 22 & 1 & Null & 6 & Null \\\\\n",
       "\t3 & 62 & 1 & Null & 6 & Null \\\\\n",
       "\t4 & 124 & 1 & 0-element Array\\{Any,1\\} & 8 & Null \\\\\n",
       "\t5 & 127 & 1 & 0-element Array\\{Any,1\\} & 10 & Null \\\\\n",
       "\t6 & 431 & 1 & 0-element Array\\{Any,1\\} & 10 & Null \\\\\n",
       "\t7 & 105 & 1 & 0-element Array\\{Any,1\\} & 8 & Null \\\\\n",
       "\t8 & 111 & 1 & 0-element Array\\{Any,1\\} & 11 & Null \\\\\n",
       "\t9 & 223 & 1 & 0-element Array\\{Any,1\\} & 10 & Null \\\\\n",
       "\t10 & 260 & 1 & 0-element Array\\{Any,1\\} & 11 & Null \\\\\n",
       "\t11 & 364 & 1 & Null & 6 & Null \\\\\n",
       "\t12 & 1941 & 1 & Null & 8 & Null \\\\\n",
       "\t13 & 80 & 1 & 0-element Array\\{Any,1\\} & 11 & Null \\\\\n",
       "\t14 & 1221 & 1 & 0-element Array\\{Any,1\\} & 10 & Null \\\\\n",
       "\t15 & 960 & 1 & Null & 8 & Null \\\\\n",
       "\t16 & 324 & 1 & 0-element Array\\{Any,1\\} & 10 & Null \\\\\n",
       "\t17 & 533 & 1 & Null & 8 & Null \\\\\n",
       "\t18 & 4438 & 1 & Null & 8 & Null \\\\\n",
       "\t19 & 5619 & 2 & [49] & 4 & The content of this game is suitable for persons aged 16 years and over only.\\textbackslash{}nIt contains: Realistic looking violence. \\\\\n",
       "\t20 & 358 & 1 & 0-element Array\\{Any,1\\} & 10 & Null \\\\\n",
       "\t21 & 6801 & 2 & [49] & 4 & The content of this game is suitable for persons aged 16 years and over only.\\textbackslash{}nIt contains: Realistic looking violence \\\\\n",
       "\t22 & 6803 & 1 & 0-element Array\\{Any,1\\} & 10 & Null \\\\\n",
       "\t23 & 1715 & 1 & 0-element Array\\{Any,1\\} & 8 & Null \\\\\n",
       "\t24 & 123 & 1 & 0-element Array\\{Any,1\\} & 9 & Null \\\\\n",
       "\t25 & 41 & 1 & 0-element Array\\{Any,1\\} & 9 & Null \\\\\n",
       "\t26 & 1244 & 1 & 0-element Array\\{Any,1\\} & 10 & Null \\\\\n",
       "\t27 & 359 & 1 & 0-element Array\\{Any,1\\} & 10 & Null \\\\\n",
       "\t28 & 1384 & 1 & 0-element Array\\{Any,1\\} & 9 & Null \\\\\n",
       "\t29 & 7352 & 1 & 0-element Array\\{Any,1\\} & 10 & Null \\\\\n",
       "\t30 & 2262 & 1 & Null & 8 & Null \\\\\n",
       "\t$\\dots$ & $\\dots$ & $\\dots$ & $\\dots$ & $\\dots$ & $\\dots$ \\\\\n",
       "\\end{tabular}\n"
      ],
      "text/plain": [
       "472×5 DataFrame. Omitted printing of 1 columns\n",
       "│ Row │ id    │ category │ content_descriptions   │ rating │\n",
       "│     │ \u001b[90mInt64\u001b[39m │ \u001b[90mInt64\u001b[39m    │ \u001b[90mAny\u001b[39m                    │ \u001b[90mInt64\u001b[39m  │\n",
       "├─────┼───────┼──────────┼────────────────────────┼────────┤\n",
       "│ 1   │ 427   │ 1        │ Null                   │ 8      │\n",
       "│ 2   │ 22    │ 1        │ Null                   │ 6      │\n",
       "│ 3   │ 62    │ 1        │ Null                   │ 6      │\n",
       "│ 4   │ 124   │ 1        │ 0-element Array{Any,1} │ 8      │\n",
       "│ 5   │ 127   │ 1        │ 0-element Array{Any,1} │ 10     │\n",
       "│ 6   │ 431   │ 1        │ 0-element Array{Any,1} │ 10     │\n",
       "│ 7   │ 105   │ 1        │ 0-element Array{Any,1} │ 8      │\n",
       "│ 8   │ 111   │ 1        │ 0-element Array{Any,1} │ 11     │\n",
       "│ 9   │ 223   │ 1        │ 0-element Array{Any,1} │ 10     │\n",
       "│ 10  │ 260   │ 1        │ 0-element Array{Any,1} │ 11     │\n",
       "⋮\n",
       "│ 462 │ 8222  │ 2        │ [49]                   │ 4      │\n",
       "│ 463 │ 5601  │ 1        │ 0-element Array{Any,1} │ 8      │\n",
       "│ 464 │ 912   │ 1        │ 0-element Array{Any,1} │ 10     │\n",
       "│ 465 │ 120   │ 1        │ 0-element Array{Any,1} │ 11     │\n",
       "│ 466 │ 3035  │ 1        │ 0-element Array{Any,1} │ 11     │\n",
       "│ 467 │ 43    │ 1        │ 0-element Array{Any,1} │ 11     │\n",
       "│ 468 │ 826   │ 1        │ 0-element Array{Any,1} │ 11     │\n",
       "│ 469 │ 6250  │ 2        │ [49]                   │ 3      │\n",
       "│ 470 │ 832   │ 1        │ 0-element Array{Any,1} │ 10     │\n",
       "│ 471 │ 19686 │ 1        │ Null                   │ 8      │\n",
       "│ 472 │ 911   │ 1        │ 0-element Array{Any,1} │ 10     │"
      ]
     },
     "execution_count": 133,
     "metadata": {},
     "output_type": "execute_result"
    }
   ],
   "source": [
    "ageRating_infor"
   ]
  },
  {
   "cell_type": "code",
   "execution_count": 134,
   "metadata": {},
   "outputs": [
    {
     "data": {
      "text/html": [
       "<table class=\"data-frame\"><thead><tr><th></th><th>category_name</th><th>category</th></tr><tr><th></th><th>String</th><th>Int64</th></tr></thead><tbody><p>2 rows × 2 columns</p><tr><th>1</th><td>ESRB</td><td>1</td></tr><tr><th>2</th><td>PEGI</td><td>2</td></tr></tbody></table>"
      ],
      "text/latex": [
       "\\begin{tabular}{r|cc}\n",
       "\t& category\\_name & category\\\\\n",
       "\t\\hline\n",
       "\t& String & Int64\\\\\n",
       "\t\\hline\n",
       "\t1 & ESRB & 1 \\\\\n",
       "\t2 & PEGI & 2 \\\\\n",
       "\\end{tabular}\n"
      ],
      "text/plain": [
       "2×2 DataFrame\n",
       "│ Row │ category_name │ category │\n",
       "│     │ \u001b[90mString\u001b[39m        │ \u001b[90mInt64\u001b[39m    │\n",
       "├─────┼───────────────┼──────────┤\n",
       "│ 1   │ ESRB          │ 1        │\n",
       "│ 2   │ PEGI          │ 2        │"
      ]
     },
     "execution_count": 134,
     "metadata": {},
     "output_type": "execute_result"
    }
   ],
   "source": [
    "ageRating_category = DataFrame()\n",
    "\n",
    "ageRating_category.category_name = [\"ESRB\", \"PEGI\"]\n",
    "ageRating_category.category = [1, 2]\n",
    "\n",
    "ageRating_category"
   ]
  },
  {
   "cell_type": "code",
   "execution_count": 135,
   "metadata": {},
   "outputs": [
    {
     "data": {
      "text/html": [
       "<table class=\"data-frame\"><thead><tr><th></th><th>rating_class</th><th>rating</th></tr><tr><th></th><th>String</th><th>Int64</th></tr></thead><tbody><p>12 rows × 2 columns</p><tr><th>1</th><td>Three</td><td>1</td></tr><tr><th>2</th><td>Seven</td><td>2</td></tr><tr><th>3</th><td>Twelve</td><td>3</td></tr><tr><th>4</th><td>Sixteen</td><td>4</td></tr><tr><th>5</th><td>Eighteen</td><td>5</td></tr><tr><th>6</th><td>RP</td><td>6</td></tr><tr><th>7</th><td>EC</td><td>7</td></tr><tr><th>8</th><td>E</td><td>8</td></tr><tr><th>9</th><td>E10</td><td>9</td></tr><tr><th>10</th><td>T</td><td>10</td></tr><tr><th>11</th><td>M</td><td>11</td></tr><tr><th>12</th><td>AO</td><td>12</td></tr></tbody></table>"
      ],
      "text/latex": [
       "\\begin{tabular}{r|cc}\n",
       "\t& rating\\_class & rating\\\\\n",
       "\t\\hline\n",
       "\t& String & Int64\\\\\n",
       "\t\\hline\n",
       "\t1 & Three & 1 \\\\\n",
       "\t2 & Seven & 2 \\\\\n",
       "\t3 & Twelve & 3 \\\\\n",
       "\t4 & Sixteen & 4 \\\\\n",
       "\t5 & Eighteen & 5 \\\\\n",
       "\t6 & RP & 6 \\\\\n",
       "\t7 & EC & 7 \\\\\n",
       "\t8 & E & 8 \\\\\n",
       "\t9 & E10 & 9 \\\\\n",
       "\t10 & T & 10 \\\\\n",
       "\t11 & M & 11 \\\\\n",
       "\t12 & AO & 12 \\\\\n",
       "\\end{tabular}\n"
      ],
      "text/plain": [
       "12×2 DataFrame\n",
       "│ Row │ rating_class │ rating │\n",
       "│     │ \u001b[90mString\u001b[39m       │ \u001b[90mInt64\u001b[39m  │\n",
       "├─────┼──────────────┼────────┤\n",
       "│ 1   │ Three        │ 1      │\n",
       "│ 2   │ Seven        │ 2      │\n",
       "│ 3   │ Twelve       │ 3      │\n",
       "│ 4   │ Sixteen      │ 4      │\n",
       "│ 5   │ Eighteen     │ 5      │\n",
       "│ 6   │ RP           │ 6      │\n",
       "│ 7   │ EC           │ 7      │\n",
       "│ 8   │ E            │ 8      │\n",
       "│ 9   │ E10          │ 9      │\n",
       "│ 10  │ T            │ 10     │\n",
       "│ 11  │ M            │ 11     │\n",
       "│ 12  │ AO           │ 12     │"
      ]
     },
     "execution_count": 135,
     "metadata": {},
     "output_type": "execute_result"
    }
   ],
   "source": [
    "ageRating_rating = DataFrame()\n",
    "\n",
    "ageRating_rating.rating_class = [\"Three\", \"Seven\", \"Twelve\", \"Sixteen\",\"Eighteen\", \"RP\",\"EC\", \"E\",\"E10\", \"T\",\"M\", \"AO\"]\n",
    "ageRating_rating.rating = [1, 2, 3, 4, 5, 6, 7, 8, 9, 10, 11, 12]\n",
    "\n",
    "ageRating_rating"
   ]
  },
  {
   "cell_type": "code",
   "execution_count": 136,
   "metadata": {},
   "outputs": [
    {
     "data": {
      "text/html": [
       "<table class=\"data-frame\"><thead><tr><th></th><th>id</th><th>category</th><th>content_descriptions</th><th>rating</th><th>synopsis</th></tr><tr><th></th><th>Int64</th><th>Int64</th><th>Any</th><th>Int64</th><th>String</th></tr></thead><tbody><p>472 rows × 6 columns (omitted printing of 1 columns)</p><tr><th>1</th><td>427</td><td>1</td><td>Null</td><td>8</td><td>Null</td></tr><tr><th>2</th><td>22</td><td>1</td><td>Null</td><td>6</td><td>Null</td></tr><tr><th>3</th><td>62</td><td>1</td><td>Null</td><td>6</td><td>Null</td></tr><tr><th>4</th><td>124</td><td>1</td><td>0-element Array{Any,1}</td><td>8</td><td>Null</td></tr><tr><th>5</th><td>127</td><td>1</td><td>0-element Array{Any,1}</td><td>10</td><td>Null</td></tr><tr><th>6</th><td>431</td><td>1</td><td>0-element Array{Any,1}</td><td>10</td><td>Null</td></tr><tr><th>7</th><td>105</td><td>1</td><td>0-element Array{Any,1}</td><td>8</td><td>Null</td></tr><tr><th>8</th><td>111</td><td>1</td><td>0-element Array{Any,1}</td><td>11</td><td>Null</td></tr><tr><th>9</th><td>223</td><td>1</td><td>0-element Array{Any,1}</td><td>10</td><td>Null</td></tr><tr><th>10</th><td>260</td><td>1</td><td>0-element Array{Any,1}</td><td>11</td><td>Null</td></tr><tr><th>11</th><td>364</td><td>1</td><td>Null</td><td>6</td><td>Null</td></tr><tr><th>12</th><td>1941</td><td>1</td><td>Null</td><td>8</td><td>Null</td></tr><tr><th>13</th><td>80</td><td>1</td><td>0-element Array{Any,1}</td><td>11</td><td>Null</td></tr><tr><th>14</th><td>1221</td><td>1</td><td>0-element Array{Any,1}</td><td>10</td><td>Null</td></tr><tr><th>15</th><td>960</td><td>1</td><td>Null</td><td>8</td><td>Null</td></tr><tr><th>16</th><td>324</td><td>1</td><td>0-element Array{Any,1}</td><td>10</td><td>Null</td></tr><tr><th>17</th><td>533</td><td>1</td><td>Null</td><td>8</td><td>Null</td></tr><tr><th>18</th><td>4438</td><td>1</td><td>Null</td><td>8</td><td>Null</td></tr><tr><th>19</th><td>5619</td><td>2</td><td>[49]</td><td>4</td><td>The content of this game is suitable for persons aged 16 years and over only.\\nIt contains: Realistic looking violence.</td></tr><tr><th>20</th><td>358</td><td>1</td><td>0-element Array{Any,1}</td><td>10</td><td>Null</td></tr><tr><th>21</th><td>6801</td><td>2</td><td>[49]</td><td>4</td><td>The content of this game is suitable for persons aged 16 years and over only.\\nIt contains: Realistic looking violence</td></tr><tr><th>22</th><td>6803</td><td>1</td><td>0-element Array{Any,1}</td><td>10</td><td>Null</td></tr><tr><th>23</th><td>1715</td><td>1</td><td>0-element Array{Any,1}</td><td>8</td><td>Null</td></tr><tr><th>24</th><td>123</td><td>1</td><td>0-element Array{Any,1}</td><td>9</td><td>Null</td></tr><tr><th>25</th><td>41</td><td>1</td><td>0-element Array{Any,1}</td><td>9</td><td>Null</td></tr><tr><th>26</th><td>1244</td><td>1</td><td>0-element Array{Any,1}</td><td>10</td><td>Null</td></tr><tr><th>27</th><td>359</td><td>1</td><td>0-element Array{Any,1}</td><td>10</td><td>Null</td></tr><tr><th>28</th><td>1384</td><td>1</td><td>0-element Array{Any,1}</td><td>9</td><td>Null</td></tr><tr><th>29</th><td>7352</td><td>1</td><td>0-element Array{Any,1}</td><td>10</td><td>Null</td></tr><tr><th>30</th><td>2262</td><td>1</td><td>Null</td><td>8</td><td>Null</td></tr><tr><th>&vellip;</th><td>&vellip;</td><td>&vellip;</td><td>&vellip;</td><td>&vellip;</td><td>&vellip;</td></tr></tbody></table>"
      ],
      "text/latex": [
       "\\begin{tabular}{r|cccccc}\n",
       "\t& id & category & content\\_descriptions & rating & synopsis & \\\\\n",
       "\t\\hline\n",
       "\t& Int64 & Int64 & Any & Int64 & String & \\\\\n",
       "\t\\hline\n",
       "\t1 & 427 & 1 & Null & 8 & Null & $\\dots$ \\\\\n",
       "\t2 & 22 & 1 & Null & 6 & Null & $\\dots$ \\\\\n",
       "\t3 & 62 & 1 & Null & 6 & Null & $\\dots$ \\\\\n",
       "\t4 & 124 & 1 & 0-element Array\\{Any,1\\} & 8 & Null & $\\dots$ \\\\\n",
       "\t5 & 127 & 1 & 0-element Array\\{Any,1\\} & 10 & Null & $\\dots$ \\\\\n",
       "\t6 & 431 & 1 & 0-element Array\\{Any,1\\} & 10 & Null & $\\dots$ \\\\\n",
       "\t7 & 105 & 1 & 0-element Array\\{Any,1\\} & 8 & Null & $\\dots$ \\\\\n",
       "\t8 & 111 & 1 & 0-element Array\\{Any,1\\} & 11 & Null & $\\dots$ \\\\\n",
       "\t9 & 223 & 1 & 0-element Array\\{Any,1\\} & 10 & Null & $\\dots$ \\\\\n",
       "\t10 & 260 & 1 & 0-element Array\\{Any,1\\} & 11 & Null & $\\dots$ \\\\\n",
       "\t11 & 364 & 1 & Null & 6 & Null & $\\dots$ \\\\\n",
       "\t12 & 1941 & 1 & Null & 8 & Null & $\\dots$ \\\\\n",
       "\t13 & 80 & 1 & 0-element Array\\{Any,1\\} & 11 & Null & $\\dots$ \\\\\n",
       "\t14 & 1221 & 1 & 0-element Array\\{Any,1\\} & 10 & Null & $\\dots$ \\\\\n",
       "\t15 & 960 & 1 & Null & 8 & Null & $\\dots$ \\\\\n",
       "\t16 & 324 & 1 & 0-element Array\\{Any,1\\} & 10 & Null & $\\dots$ \\\\\n",
       "\t17 & 533 & 1 & Null & 8 & Null & $\\dots$ \\\\\n",
       "\t18 & 4438 & 1 & Null & 8 & Null & $\\dots$ \\\\\n",
       "\t19 & 5619 & 2 & [49] & 4 & The content of this game is suitable for persons aged 16 years and over only.\\textbackslash{}nIt contains: Realistic looking violence. & $\\dots$ \\\\\n",
       "\t20 & 358 & 1 & 0-element Array\\{Any,1\\} & 10 & Null & $\\dots$ \\\\\n",
       "\t21 & 6801 & 2 & [49] & 4 & The content of this game is suitable for persons aged 16 years and over only.\\textbackslash{}nIt contains: Realistic looking violence & $\\dots$ \\\\\n",
       "\t22 & 6803 & 1 & 0-element Array\\{Any,1\\} & 10 & Null & $\\dots$ \\\\\n",
       "\t23 & 1715 & 1 & 0-element Array\\{Any,1\\} & 8 & Null & $\\dots$ \\\\\n",
       "\t24 & 123 & 1 & 0-element Array\\{Any,1\\} & 9 & Null & $\\dots$ \\\\\n",
       "\t25 & 41 & 1 & 0-element Array\\{Any,1\\} & 9 & Null & $\\dots$ \\\\\n",
       "\t26 & 1244 & 1 & 0-element Array\\{Any,1\\} & 10 & Null & $\\dots$ \\\\\n",
       "\t27 & 359 & 1 & 0-element Array\\{Any,1\\} & 10 & Null & $\\dots$ \\\\\n",
       "\t28 & 1384 & 1 & 0-element Array\\{Any,1\\} & 9 & Null & $\\dots$ \\\\\n",
       "\t29 & 7352 & 1 & 0-element Array\\{Any,1\\} & 10 & Null & $\\dots$ \\\\\n",
       "\t30 & 2262 & 1 & Null & 8 & Null & $\\dots$ \\\\\n",
       "\t$\\dots$ & $\\dots$ & $\\dots$ & $\\dots$ & $\\dots$ & $\\dots$ &  \\\\\n",
       "\\end{tabular}\n"
      ],
      "text/plain": [
       "472×6 DataFrame. Omitted printing of 2 columns\n",
       "│ Row │ id    │ category │ content_descriptions   │ rating │\n",
       "│     │ \u001b[90mInt64\u001b[39m │ \u001b[90mInt64\u001b[39m    │ \u001b[90mAny\u001b[39m                    │ \u001b[90mInt64\u001b[39m  │\n",
       "├─────┼───────┼──────────┼────────────────────────┼────────┤\n",
       "│ 1   │ 427   │ 1        │ Null                   │ 8      │\n",
       "│ 2   │ 22    │ 1        │ Null                   │ 6      │\n",
       "│ 3   │ 62    │ 1        │ Null                   │ 6      │\n",
       "│ 4   │ 124   │ 1        │ 0-element Array{Any,1} │ 8      │\n",
       "│ 5   │ 127   │ 1        │ 0-element Array{Any,1} │ 10     │\n",
       "│ 6   │ 431   │ 1        │ 0-element Array{Any,1} │ 10     │\n",
       "│ 7   │ 105   │ 1        │ 0-element Array{Any,1} │ 8      │\n",
       "│ 8   │ 111   │ 1        │ 0-element Array{Any,1} │ 11     │\n",
       "│ 9   │ 223   │ 1        │ 0-element Array{Any,1} │ 10     │\n",
       "│ 10  │ 260   │ 1        │ 0-element Array{Any,1} │ 11     │\n",
       "⋮\n",
       "│ 462 │ 8222  │ 2        │ [49]                   │ 4      │\n",
       "│ 463 │ 5601  │ 1        │ 0-element Array{Any,1} │ 8      │\n",
       "│ 464 │ 912   │ 1        │ 0-element Array{Any,1} │ 10     │\n",
       "│ 465 │ 120   │ 1        │ 0-element Array{Any,1} │ 11     │\n",
       "│ 466 │ 3035  │ 1        │ 0-element Array{Any,1} │ 11     │\n",
       "│ 467 │ 43    │ 1        │ 0-element Array{Any,1} │ 11     │\n",
       "│ 468 │ 826   │ 1        │ 0-element Array{Any,1} │ 11     │\n",
       "│ 469 │ 6250  │ 2        │ [49]                   │ 3      │\n",
       "│ 470 │ 832   │ 1        │ 0-element Array{Any,1} │ 10     │\n",
       "│ 471 │ 19686 │ 1        │ Null                   │ 8      │\n",
       "│ 472 │ 911   │ 1        │ 0-element Array{Any,1} │ 10     │"
      ]
     },
     "execution_count": 136,
     "metadata": {},
     "output_type": "execute_result"
    }
   ],
   "source": [
    "ageRating_infor = leftjoin(ageRating_infor, ageRating_rating, on = :rating, makeunique = true)"
   ]
  },
  {
   "cell_type": "code",
   "execution_count": 137,
   "metadata": {},
   "outputs": [
    {
     "data": {
      "text/html": [
       "<table class=\"data-frame\"><thead><tr><th></th><th>id</th><th>category</th><th>content_descriptions</th><th>rating</th><th>synopsis</th></tr><tr><th></th><th>Int64</th><th>Int64</th><th>Any</th><th>Int64</th><th>String</th></tr></thead><tbody><p>472 rows × 7 columns (omitted printing of 2 columns)</p><tr><th>1</th><td>427</td><td>1</td><td>Null</td><td>8</td><td>Null</td></tr><tr><th>2</th><td>22</td><td>1</td><td>Null</td><td>6</td><td>Null</td></tr><tr><th>3</th><td>62</td><td>1</td><td>Null</td><td>6</td><td>Null</td></tr><tr><th>4</th><td>124</td><td>1</td><td>0-element Array{Any,1}</td><td>8</td><td>Null</td></tr><tr><th>5</th><td>127</td><td>1</td><td>0-element Array{Any,1}</td><td>10</td><td>Null</td></tr><tr><th>6</th><td>431</td><td>1</td><td>0-element Array{Any,1}</td><td>10</td><td>Null</td></tr><tr><th>7</th><td>105</td><td>1</td><td>0-element Array{Any,1}</td><td>8</td><td>Null</td></tr><tr><th>8</th><td>111</td><td>1</td><td>0-element Array{Any,1}</td><td>11</td><td>Null</td></tr><tr><th>9</th><td>223</td><td>1</td><td>0-element Array{Any,1}</td><td>10</td><td>Null</td></tr><tr><th>10</th><td>260</td><td>1</td><td>0-element Array{Any,1}</td><td>11</td><td>Null</td></tr><tr><th>11</th><td>364</td><td>1</td><td>Null</td><td>6</td><td>Null</td></tr><tr><th>12</th><td>1941</td><td>1</td><td>Null</td><td>8</td><td>Null</td></tr><tr><th>13</th><td>80</td><td>1</td><td>0-element Array{Any,1}</td><td>11</td><td>Null</td></tr><tr><th>14</th><td>1221</td><td>1</td><td>0-element Array{Any,1}</td><td>10</td><td>Null</td></tr><tr><th>15</th><td>960</td><td>1</td><td>Null</td><td>8</td><td>Null</td></tr><tr><th>16</th><td>324</td><td>1</td><td>0-element Array{Any,1}</td><td>10</td><td>Null</td></tr><tr><th>17</th><td>533</td><td>1</td><td>Null</td><td>8</td><td>Null</td></tr><tr><th>18</th><td>4438</td><td>1</td><td>Null</td><td>8</td><td>Null</td></tr><tr><th>19</th><td>5619</td><td>2</td><td>[49]</td><td>4</td><td>The content of this game is suitable for persons aged 16 years and over only.\\nIt contains: Realistic looking violence.</td></tr><tr><th>20</th><td>358</td><td>1</td><td>0-element Array{Any,1}</td><td>10</td><td>Null</td></tr><tr><th>21</th><td>6801</td><td>2</td><td>[49]</td><td>4</td><td>The content of this game is suitable for persons aged 16 years and over only.\\nIt contains: Realistic looking violence</td></tr><tr><th>22</th><td>6803</td><td>1</td><td>0-element Array{Any,1}</td><td>10</td><td>Null</td></tr><tr><th>23</th><td>1715</td><td>1</td><td>0-element Array{Any,1}</td><td>8</td><td>Null</td></tr><tr><th>24</th><td>123</td><td>1</td><td>0-element Array{Any,1}</td><td>9</td><td>Null</td></tr><tr><th>25</th><td>41</td><td>1</td><td>0-element Array{Any,1}</td><td>9</td><td>Null</td></tr><tr><th>26</th><td>1244</td><td>1</td><td>0-element Array{Any,1}</td><td>10</td><td>Null</td></tr><tr><th>27</th><td>359</td><td>1</td><td>0-element Array{Any,1}</td><td>10</td><td>Null</td></tr><tr><th>28</th><td>1384</td><td>1</td><td>0-element Array{Any,1}</td><td>9</td><td>Null</td></tr><tr><th>29</th><td>7352</td><td>1</td><td>0-element Array{Any,1}</td><td>10</td><td>Null</td></tr><tr><th>30</th><td>2262</td><td>1</td><td>Null</td><td>8</td><td>Null</td></tr><tr><th>&vellip;</th><td>&vellip;</td><td>&vellip;</td><td>&vellip;</td><td>&vellip;</td><td>&vellip;</td></tr></tbody></table>"
      ],
      "text/latex": [
       "\\begin{tabular}{r|cccccc}\n",
       "\t& id & category & content\\_descriptions & rating & synopsis & \\\\\n",
       "\t\\hline\n",
       "\t& Int64 & Int64 & Any & Int64 & String & \\\\\n",
       "\t\\hline\n",
       "\t1 & 427 & 1 & Null & 8 & Null & $\\dots$ \\\\\n",
       "\t2 & 22 & 1 & Null & 6 & Null & $\\dots$ \\\\\n",
       "\t3 & 62 & 1 & Null & 6 & Null & $\\dots$ \\\\\n",
       "\t4 & 124 & 1 & 0-element Array\\{Any,1\\} & 8 & Null & $\\dots$ \\\\\n",
       "\t5 & 127 & 1 & 0-element Array\\{Any,1\\} & 10 & Null & $\\dots$ \\\\\n",
       "\t6 & 431 & 1 & 0-element Array\\{Any,1\\} & 10 & Null & $\\dots$ \\\\\n",
       "\t7 & 105 & 1 & 0-element Array\\{Any,1\\} & 8 & Null & $\\dots$ \\\\\n",
       "\t8 & 111 & 1 & 0-element Array\\{Any,1\\} & 11 & Null & $\\dots$ \\\\\n",
       "\t9 & 223 & 1 & 0-element Array\\{Any,1\\} & 10 & Null & $\\dots$ \\\\\n",
       "\t10 & 260 & 1 & 0-element Array\\{Any,1\\} & 11 & Null & $\\dots$ \\\\\n",
       "\t11 & 364 & 1 & Null & 6 & Null & $\\dots$ \\\\\n",
       "\t12 & 1941 & 1 & Null & 8 & Null & $\\dots$ \\\\\n",
       "\t13 & 80 & 1 & 0-element Array\\{Any,1\\} & 11 & Null & $\\dots$ \\\\\n",
       "\t14 & 1221 & 1 & 0-element Array\\{Any,1\\} & 10 & Null & $\\dots$ \\\\\n",
       "\t15 & 960 & 1 & Null & 8 & Null & $\\dots$ \\\\\n",
       "\t16 & 324 & 1 & 0-element Array\\{Any,1\\} & 10 & Null & $\\dots$ \\\\\n",
       "\t17 & 533 & 1 & Null & 8 & Null & $\\dots$ \\\\\n",
       "\t18 & 4438 & 1 & Null & 8 & Null & $\\dots$ \\\\\n",
       "\t19 & 5619 & 2 & [49] & 4 & The content of this game is suitable for persons aged 16 years and over only.\\textbackslash{}nIt contains: Realistic looking violence. & $\\dots$ \\\\\n",
       "\t20 & 358 & 1 & 0-element Array\\{Any,1\\} & 10 & Null & $\\dots$ \\\\\n",
       "\t21 & 6801 & 2 & [49] & 4 & The content of this game is suitable for persons aged 16 years and over only.\\textbackslash{}nIt contains: Realistic looking violence & $\\dots$ \\\\\n",
       "\t22 & 6803 & 1 & 0-element Array\\{Any,1\\} & 10 & Null & $\\dots$ \\\\\n",
       "\t23 & 1715 & 1 & 0-element Array\\{Any,1\\} & 8 & Null & $\\dots$ \\\\\n",
       "\t24 & 123 & 1 & 0-element Array\\{Any,1\\} & 9 & Null & $\\dots$ \\\\\n",
       "\t25 & 41 & 1 & 0-element Array\\{Any,1\\} & 9 & Null & $\\dots$ \\\\\n",
       "\t26 & 1244 & 1 & 0-element Array\\{Any,1\\} & 10 & Null & $\\dots$ \\\\\n",
       "\t27 & 359 & 1 & 0-element Array\\{Any,1\\} & 10 & Null & $\\dots$ \\\\\n",
       "\t28 & 1384 & 1 & 0-element Array\\{Any,1\\} & 9 & Null & $\\dots$ \\\\\n",
       "\t29 & 7352 & 1 & 0-element Array\\{Any,1\\} & 10 & Null & $\\dots$ \\\\\n",
       "\t30 & 2262 & 1 & Null & 8 & Null & $\\dots$ \\\\\n",
       "\t$\\dots$ & $\\dots$ & $\\dots$ & $\\dots$ & $\\dots$ & $\\dots$ &  \\\\\n",
       "\\end{tabular}\n"
      ],
      "text/plain": [
       "472×7 DataFrame. Omitted printing of 3 columns\n",
       "│ Row │ id    │ category │ content_descriptions   │ rating │\n",
       "│     │ \u001b[90mInt64\u001b[39m │ \u001b[90mInt64\u001b[39m    │ \u001b[90mAny\u001b[39m                    │ \u001b[90mInt64\u001b[39m  │\n",
       "├─────┼───────┼──────────┼────────────────────────┼────────┤\n",
       "│ 1   │ 427   │ 1        │ Null                   │ 8      │\n",
       "│ 2   │ 22    │ 1        │ Null                   │ 6      │\n",
       "│ 3   │ 62    │ 1        │ Null                   │ 6      │\n",
       "│ 4   │ 124   │ 1        │ 0-element Array{Any,1} │ 8      │\n",
       "│ 5   │ 127   │ 1        │ 0-element Array{Any,1} │ 10     │\n",
       "│ 6   │ 431   │ 1        │ 0-element Array{Any,1} │ 10     │\n",
       "│ 7   │ 105   │ 1        │ 0-element Array{Any,1} │ 8      │\n",
       "│ 8   │ 111   │ 1        │ 0-element Array{Any,1} │ 11     │\n",
       "│ 9   │ 223   │ 1        │ 0-element Array{Any,1} │ 10     │\n",
       "│ 10  │ 260   │ 1        │ 0-element Array{Any,1} │ 11     │\n",
       "⋮\n",
       "│ 462 │ 8222  │ 2        │ [49]                   │ 4      │\n",
       "│ 463 │ 5601  │ 1        │ 0-element Array{Any,1} │ 8      │\n",
       "│ 464 │ 912   │ 1        │ 0-element Array{Any,1} │ 10     │\n",
       "│ 465 │ 120   │ 1        │ 0-element Array{Any,1} │ 11     │\n",
       "│ 466 │ 3035  │ 1        │ 0-element Array{Any,1} │ 11     │\n",
       "│ 467 │ 43    │ 1        │ 0-element Array{Any,1} │ 11     │\n",
       "│ 468 │ 826   │ 1        │ 0-element Array{Any,1} │ 11     │\n",
       "│ 469 │ 6250  │ 2        │ [49]                   │ 3      │\n",
       "│ 470 │ 832   │ 1        │ 0-element Array{Any,1} │ 10     │\n",
       "│ 471 │ 19686 │ 1        │ Null                   │ 8      │\n",
       "│ 472 │ 911   │ 1        │ 0-element Array{Any,1} │ 10     │"
      ]
     },
     "execution_count": 137,
     "metadata": {},
     "output_type": "execute_result"
    }
   ],
   "source": [
    "ageRating_infor = leftjoin(ageRating_infor, ageRating_category, on = :category, makeunique = true)"
   ]
  },
  {
   "cell_type": "code",
   "execution_count": 130,
   "metadata": {},
   "outputs": [
    {
     "data": {
      "text/plain": [
       "\"/Users/mengzhang/projects/github/wrangling_project/IGDB/game_ageRating.csv\""
      ]
     },
     "execution_count": 130,
     "metadata": {},
     "output_type": "execute_result"
    }
   ],
   "source": [
    "CSV.write(\"/Users/mengzhang/projects/github/wrangling_project/IGDB/game_ageRating.csv\", ageRating_infor)"
   ]
  },
  {
   "cell_type": "markdown",
   "metadata": {},
   "source": [
    "### Section 6\n",
    "Find more information about the games genre"
   ]
  },
  {
   "cell_type": "code",
   "execution_count": 148,
   "metadata": {},
   "outputs": [
    {
     "data": {
      "text/plain": [
       "\"fields *; limit 500;\""
      ]
     },
     "execution_count": 148,
     "metadata": {},
     "output_type": "execute_result"
    }
   ],
   "source": [
    "# define the scrap target on the web page\n",
    "body_genre = \"fields *; limit 500;\""
   ]
  },
  {
   "cell_type": "code",
   "execution_count": 149,
   "metadata": {},
   "outputs": [
    {
     "data": {
      "text/plain": [
       "HTTP.Messages.Response:\n",
       "\"\"\"\n",
       "HTTP/1.1 200 OK\r\n",
       "Date: Tue, 13 Oct 2020 10:18:43 GMT\r\n",
       "Content-Type: application/json;charset=utf-8\r\n",
       "Transfer-Encoding: chunked\r\n",
       "Connection: keep-alive\r\n",
       "Set-Cookie: __cfduid=db85684d14bdddeb02f8cb1eede0fc5f41602584323; expires=Thu, 12-Nov-20 10:18:43 GMT; path=/; domain=.igdb.com; HttpOnly; SameSite=Lax; Secure\r\n",
       "x-amzn-RequestId: c9e703c9-c73a-47dd-8f73-eb9581eaab0d\r\n",
       "x-amzn-Remapped-Content-Length: 5642\r\n",
       "x-amz-apigw-id: UWDImEgjPHcF-Rw=\r\n",
       "x-amzn-Remapped-Server: Javalin\r\n",
       "X-Count: 23\r\n",
       "x-amzn-Remapped-Date: Tue, 13 Oct 2020 10:18:43 GMT\r\n",
       "X-Cache: Miss from cloudfront\r\n",
       "Via: 1.1 24279dac9bd568233ebb9b6772cc1f68.cloudfront.net (CloudFront)\r\n",
       "X-Amz-Cf-Pop: AKL50-C1\r\n",
       "X-Amz-Cf-Id: ViU8Qt5AETIU3X4X-47znIERxoJxHAMW2zCrmfN4WZcZETyTMUzoiQ==\r\n",
       "CF-Cache-Status: DYNAMIC\r\n",
       "cf-request-id: 05c3113c930000fb98e599c200000001\r\n",
       "Expect-CT: max-age=604800, report-uri=\"https://report-uri.cloudflare.com/cdn-cgi/beacon/expect-ct\"\r\n",
       "Strict-Transport-Security: max-age=15552000; includeSubDomains; preload\r\n",
       "X-Content-Type-Options: nosniff\r\n",
       "Server: cloudflare\r\n",
       "CF-RAY: 5e1851741c52fb98-AKL\r\n",
       "\r\n",
       "[\n",
       "  {\n",
       "    \"id\": 4,\n",
       "    \"created_at\": 1297555200,\n",
       "    \"name\": \"Fighting\",\n",
       "    \"slug\": \"fighting\",\n",
       "    \"updated_at\": 1323216000,\n",
       "    \"url\": \"https://www.igdb.com/genres/fighting\",\n",
       "    \"checksum\": \"2ccc6572-bdde-6ed4-8843-25447ea40782\"\n",
       "  },\n",
       "  {\n",
       "    \"id\": 5,\n",
       "    \"created_at\": 1297555200,\n",
       "    \"name\": \"Shooter\",\n",
       "    \"slug\": \"shooter\",\n",
       "    \"updated_at\": 1323216000,\n",
       "    \"url\": \"https://www.igdb.com/genres/shooter\",\n",
       "    \"checksum\": \"bb15fd3f-0f46-e5f3-2b40-d046cf9bd2ef\"\n",
       "  },\n",
       "  {\n",
       "    \"id\": 7,\n",
       "    \"created_at\": 1297555200,\n",
       "    \"name\": \"Music\",\n",
       "    \"slug\": \"music\",\n",
       "    \"updated_at\": 1323216000,\n",
       "    \"url\": \"https://www.igdb.com/genres/music\",\n",
       "    \"checksum\": \"22d44a0d-89c7-580f-eef2-e06f178fdd47\"\n",
       "  },\n",
       "  {\n",
       "    \"id\": 8,\n",
       "    \"created_at\": 1297555200,\n",
       "    \"name\": \"Platform\",\n",
       "    \"slug\": \"platform\",\n",
       "    \"updated_at\": 1323216000,\n",
       "    \"url\": \"https://www.igdb.com/genres/platform\",\n",
       "    \"checksum\": \"697fc5a4-b96f-a803-288a-498bd5dd1de1\"\n",
       "  },\n",
       "  {\n",
       "    \"id\": 9,\n",
       "    \"created_at\": 1297555200,\n",
       "    \"name\": \"Puzzle\n",
       "⋮\n",
       "5642-byte body\n",
       "\"\"\""
      ]
     },
     "execution_count": 149,
     "metadata": {},
     "output_type": "execute_result"
    }
   ],
   "source": [
    "# Using HTTP.post(\"path\") to scrap the relasase date web information\n",
    "genres = HTTP.post(\"https://api.igdb.com/v4/genres\",\n",
    "          auth_dictionary,\n",
    "          body_genre)"
   ]
  },
  {
   "cell_type": "code",
   "execution_count": 150,
   "metadata": {},
   "outputs": [
    {
     "data": {
      "text/plain": [
       "23-element Array{Any,1}:\n",
       " (id = 4, created_at = 1297555200, name = \"Fighting\", slug = \"fighting\", updated_at = 1323216000, url = \"https://www.igdb.com/genres/fighting\", checksum = \"2ccc6572-bdde-6ed4-8843-25447ea40782\")\n",
       " (id = 5, created_at = 1297555200, name = \"Shooter\", slug = \"shooter\", updated_at = 1323216000, url = \"https://www.igdb.com/genres/shooter\", checksum = \"bb15fd3f-0f46-e5f3-2b40-d046cf9bd2ef\")\n",
       " (id = 7, created_at = 1297555200, name = \"Music\", slug = \"music\", updated_at = 1323216000, url = \"https://www.igdb.com/genres/music\", checksum = \"22d44a0d-89c7-580f-eef2-e06f178fdd47\")\n",
       " (id = 8, created_at = 1297555200, name = \"Platform\", slug = \"platform\", updated_at = 1323216000, url = \"https://www.igdb.com/genres/platform\", checksum = \"697fc5a4-b96f-a803-288a-498bd5dd1de1\")\n",
       " (id = 9, created_at = 1297555200, name = \"Puzzle\", slug = \"puzzle\", updated_at = 1323216000, url = \"https://www.igdb.com/genres/puzzle\", checksum = \"616de9c3-8a00-0232-9df9-00014cfac51b\")\n",
       " (id = 10, created_at = 1297555200, name = \"Racing\", slug = \"racing\", updated_at = 1323216000, url = \"https://www.igdb.com/genres/racing\", checksum = \"73c2653f-54d8-c1bd-d523-dd57fb753194\")\n",
       " (id = 11, created_at = 1297555200, name = \"Real Time Strategy (RTS)\", slug = \"real-time-strategy-rts\", updated_at = 1323216000, url = \"https://www.igdb.com/genres/real-time-strategy-rts\", checksum = \"aaa36cbc-2258-8653-a461-1358df8ce445\")\n",
       " (id = 12, created_at = 1297555200, name = \"Role-playing (RPG)\", slug = \"role-playing-rpg\", updated_at = 1323216000, url = \"https://www.igdb.com/genres/role-playing-rpg\", checksum = \"42dea3b2-7fe2-e734-91cd-f80ce62a14c3\")\n",
       " (id = 13, created_at = 1297555200, name = \"Simulator\", slug = \"simulator\", updated_at = 1323216000, url = \"https://www.igdb.com/genres/simulator\", checksum = \"9779772a-f08f-9e8e-bd26-70c9eecc34e8\")\n",
       " (id = 14, created_at = 1297555200, name = \"Sport\", slug = \"sport\", updated_at = 1323216000, url = \"https://www.igdb.com/genres/sport\", checksum = \"e598c458-3e21-7a14-50a5-ea53733ab22f\")\n",
       " (id = 15, created_at = 1297555200, name = \"Strategy\", slug = \"strategy\", updated_at = 1323216000, url = \"https://www.igdb.com/genres/strategy\", checksum = \"d7863f95-0f2c-0f2d-c1e9-29d06eaf3396\")\n",
       " (id = 16, created_at = 1297641600, name = \"Turn-based strategy (TBS)\", slug = \"turn-based-strategy-tbs\", updated_at = 1323216000, url = \"https://www.igdb.com/genres/turn-based-strategy-tbs\", checksum = \"af5d3ecd-2ebd-358b-70df-e9204b9761be\")\n",
       " (id = 24, created_at = 1300924800, name = \"Tactical\", slug = \"tactical\", updated_at = 1323216000, url = \"https://www.igdb.com/genres/tactical\", checksum = \"6132b15f-289e-60ea-5957-7c78b97053a2\")\n",
       " (id = 26, created_at = 1301961600, name = \"Quiz/Trivia\", slug = \"quiz-trivia\", updated_at = 1323216000, url = \"https://www.igdb.com/genres/quiz-trivia\", checksum = \"256a99dd-dd06-bc0c-d53b-dc3098da4d49\")\n",
       " (id = 25, created_at = 1301616000, name = \"Hack and slash/Beat 'em up\", slug = \"hack-and-slash-beat-em-up\", updated_at = 1323216000, url = \"https://www.igdb.com/genres/hack-and-slash-beat-em-up\", checksum = \"4bd95a5d-8fa1-1aee-4ea9-224b4b1312f7\")\n",
       " (id = 30, created_at = 1320192000, name = \"Pinball\", slug = \"pinball\", updated_at = 1323216000, url = \"https://www.igdb.com/genres/pinball\", checksum = \"b5657d72-ee36-0851-58df-e8d2413283f8\")\n",
       " (id = 31, created_at = 1323561600, name = \"Adventure\", slug = \"adventure\", updated_at = 1323561600, url = \"https://www.igdb.com/genres/adventure\", checksum = \"a6d85192-8d11-bad3-cc5c-dd89e2f94a47\")\n",
       " (id = 33, created_at = 1380931200, name = \"Arcade\", slug = \"arcade\", updated_at = 1380931200, url = \"https://www.igdb.com/genres/arcade\", checksum = \"388cec36-d099-f4a1-31c3-f938fae9067b\")\n",
       " (id = 34, created_at = 1571788800, name = \"Visual Novel\", slug = \"visual-novel\", updated_at = 1571788800, url = \"https://www.igdb.com/genres/visual-novel\", checksum = \"137fe5c7-e4bc-1c30-4c7c-54596b47448f\")\n",
       " (id = 32, created_at = 1341360000, name = \"Indie\", slug = \"indie\", updated_at = 1341360000, url = \"https://www.igdb.com/genres/indie\", checksum = \"2522259f-2454-ec02-5dc0-84373e0508ed\")\n",
       " (id = 35, created_at = 1588809600, name = \"Card & Board Game\", slug = \"card-and-board-game\", updated_at = 1588809600, url = \"https://www.igdb.com/genres/card-and-board-game\", checksum = \"137bcfbe-be08-0b36-b66e-1bfef14ca49a\")\n",
       " (id = 36, created_at = 1588809600, name = \"MOBA\", slug = \"moba\", updated_at = 1588809600, url = \"https://www.igdb.com/genres/moba\", checksum = \"0f17b3a1-6d97-4c02-0997-850adf4dc624\")\n",
       " (id = 2, created_at = 1297555200, name = \"Point-and-click\", slug = \"point-and-click\", updated_at = 1323302400, url = \"https://www.igdb.com/genres/point-and-click\", checksum = \"ef2ff68a-f7bd-d2d0-76cb-c830bd6e3191\")"
      ]
     },
     "execution_count": 150,
     "metadata": {},
     "output_type": "execute_result"
    }
   ],
   "source": [
    "# Read the web body information into JSON format\n",
    "genres = JSON2.read(IOBuffer(genres.body))"
   ]
  },
  {
   "cell_type": "code",
   "execution_count": 152,
   "metadata": {},
   "outputs": [
    {
     "data": {
      "text/plain": [
       "4-element Array{Symbol,1}:\n",
       " :id\n",
       " :created_at\n",
       " :name\n",
       " :slug"
      ]
     },
     "execution_count": 152,
     "metadata": {},
     "output_type": "execute_result"
    }
   ],
   "source": [
    "# Define the features we want to generate\n",
    "features_genres = [:id, \n",
    "    :created_at,\n",
    "    :name,\n",
    "    :slug\n",
    "    ]"
   ]
  },
  {
   "cell_type": "code",
   "execution_count": 155,
   "metadata": {},
   "outputs": [
    {
     "data": {
      "text/plain": [
       "4-element Array{Array{T,1} where T,1}:\n",
       " [4, 5, 7, 8, 9, 10, 11, 12, 13, 14  …  26, 25, 30, 31, 33, 34, 32, 35, 36, 2]\n",
       " [1297555200, 1297555200, 1297555200, 1297555200, 1297555200, 1297555200, 1297555200, 1297555200, 1297555200, 1297555200  …  1301961600, 1301616000, 1320192000, 1323561600, 1380931200, 1571788800, 1341360000, 1588809600, 1588809600, 1297555200]\n",
       " [\"Fighting\", \"Shooter\", \"Music\", \"Platform\", \"Puzzle\", \"Racing\", \"Real Time Strategy (RTS)\", \"Role-playing (RPG)\", \"Simulator\", \"Sport\"  …  \"Quiz/Trivia\", \"Hack and slash/Beat 'em up\", \"Pinball\", \"Adventure\", \"Arcade\", \"Visual Novel\", \"Indie\", \"Card & Board Game\", \"MOBA\", \"Point-and-click\"]\n",
       " [\"fighting\", \"shooter\", \"music\", \"platform\", \"puzzle\", \"racing\", \"real-time-strategy-rts\", \"role-playing-rpg\", \"simulator\", \"sport\"  …  \"quiz-trivia\", \"hack-and-slash-beat-em-up\", \"pinball\", \"adventure\", \"arcade\", \"visual-novel\", \"indie\", \"card-and-board-game\", \"moba\", \"point-and-click\"]"
      ]
     },
     "execution_count": 155,
     "metadata": {},
     "output_type": "execute_result"
    }
   ],
   "source": [
    "all_genres = [get_this.(genres,column_name) for column_name in features_genres]"
   ]
  },
  {
   "cell_type": "code",
   "execution_count": 158,
   "metadata": {},
   "outputs": [
    {
     "data": {
      "text/plain": [
       "23-element Array{String,1}:\n",
       " \"fighting\"\n",
       " \"shooter\"\n",
       " \"music\"\n",
       " \"platform\"\n",
       " \"puzzle\"\n",
       " \"racing\"\n",
       " \"real-time-strategy-rts\"\n",
       " \"role-playing-rpg\"\n",
       " \"simulator\"\n",
       " \"sport\"\n",
       " \"strategy\"\n",
       " \"turn-based-strategy-tbs\"\n",
       " \"tactical\"\n",
       " \"quiz-trivia\"\n",
       " \"hack-and-slash-beat-em-up\"\n",
       " \"pinball\"\n",
       " \"adventure\"\n",
       " \"arcade\"\n",
       " \"visual-novel\"\n",
       " \"indie\"\n",
       " \"card-and-board-game\"\n",
       " \"moba\"\n",
       " \"point-and-click\""
      ]
     },
     "execution_count": 158,
     "metadata": {},
     "output_type": "execute_result"
    }
   ],
   "source": [
    "genres_infor = DataFrame()\n",
    "genres_infor.id = all_genres[1]\n",
    "genres_infor.created_at = all_genres[2]\n",
    "genres_infor.name = all_genres[3]\n",
    "genres_infor.slug = all_genres[4]\n"
   ]
  },
  {
   "cell_type": "code",
   "execution_count": 159,
   "metadata": {},
   "outputs": [
    {
     "data": {
      "text/html": [
       "<table class=\"data-frame\"><thead><tr><th></th><th>id</th><th>created_at</th><th>name</th><th>slug</th></tr><tr><th></th><th>Int64</th><th>Int64</th><th>String</th><th>String</th></tr></thead><tbody><p>23 rows × 4 columns</p><tr><th>1</th><td>4</td><td>1297555200</td><td>Fighting</td><td>fighting</td></tr><tr><th>2</th><td>5</td><td>1297555200</td><td>Shooter</td><td>shooter</td></tr><tr><th>3</th><td>7</td><td>1297555200</td><td>Music</td><td>music</td></tr><tr><th>4</th><td>8</td><td>1297555200</td><td>Platform</td><td>platform</td></tr><tr><th>5</th><td>9</td><td>1297555200</td><td>Puzzle</td><td>puzzle</td></tr><tr><th>6</th><td>10</td><td>1297555200</td><td>Racing</td><td>racing</td></tr><tr><th>7</th><td>11</td><td>1297555200</td><td>Real Time Strategy (RTS)</td><td>real-time-strategy-rts</td></tr><tr><th>8</th><td>12</td><td>1297555200</td><td>Role-playing (RPG)</td><td>role-playing-rpg</td></tr><tr><th>9</th><td>13</td><td>1297555200</td><td>Simulator</td><td>simulator</td></tr><tr><th>10</th><td>14</td><td>1297555200</td><td>Sport</td><td>sport</td></tr><tr><th>11</th><td>15</td><td>1297555200</td><td>Strategy</td><td>strategy</td></tr><tr><th>12</th><td>16</td><td>1297641600</td><td>Turn-based strategy (TBS)</td><td>turn-based-strategy-tbs</td></tr><tr><th>13</th><td>24</td><td>1300924800</td><td>Tactical</td><td>tactical</td></tr><tr><th>14</th><td>26</td><td>1301961600</td><td>Quiz/Trivia</td><td>quiz-trivia</td></tr><tr><th>15</th><td>25</td><td>1301616000</td><td>Hack and slash/Beat 'em up</td><td>hack-and-slash-beat-em-up</td></tr><tr><th>16</th><td>30</td><td>1320192000</td><td>Pinball</td><td>pinball</td></tr><tr><th>17</th><td>31</td><td>1323561600</td><td>Adventure</td><td>adventure</td></tr><tr><th>18</th><td>33</td><td>1380931200</td><td>Arcade</td><td>arcade</td></tr><tr><th>19</th><td>34</td><td>1571788800</td><td>Visual Novel</td><td>visual-novel</td></tr><tr><th>20</th><td>32</td><td>1341360000</td><td>Indie</td><td>indie</td></tr><tr><th>21</th><td>35</td><td>1588809600</td><td>Card &amp; Board Game</td><td>card-and-board-game</td></tr><tr><th>22</th><td>36</td><td>1588809600</td><td>MOBA</td><td>moba</td></tr><tr><th>23</th><td>2</td><td>1297555200</td><td>Point-and-click</td><td>point-and-click</td></tr></tbody></table>"
      ],
      "text/latex": [
       "\\begin{tabular}{r|cccc}\n",
       "\t& id & created\\_at & name & slug\\\\\n",
       "\t\\hline\n",
       "\t& Int64 & Int64 & String & String\\\\\n",
       "\t\\hline\n",
       "\t1 & 4 & 1297555200 & Fighting & fighting \\\\\n",
       "\t2 & 5 & 1297555200 & Shooter & shooter \\\\\n",
       "\t3 & 7 & 1297555200 & Music & music \\\\\n",
       "\t4 & 8 & 1297555200 & Platform & platform \\\\\n",
       "\t5 & 9 & 1297555200 & Puzzle & puzzle \\\\\n",
       "\t6 & 10 & 1297555200 & Racing & racing \\\\\n",
       "\t7 & 11 & 1297555200 & Real Time Strategy (RTS) & real-time-strategy-rts \\\\\n",
       "\t8 & 12 & 1297555200 & Role-playing (RPG) & role-playing-rpg \\\\\n",
       "\t9 & 13 & 1297555200 & Simulator & simulator \\\\\n",
       "\t10 & 14 & 1297555200 & Sport & sport \\\\\n",
       "\t11 & 15 & 1297555200 & Strategy & strategy \\\\\n",
       "\t12 & 16 & 1297641600 & Turn-based strategy (TBS) & turn-based-strategy-tbs \\\\\n",
       "\t13 & 24 & 1300924800 & Tactical & tactical \\\\\n",
       "\t14 & 26 & 1301961600 & Quiz/Trivia & quiz-trivia \\\\\n",
       "\t15 & 25 & 1301616000 & Hack and slash/Beat 'em up & hack-and-slash-beat-em-up \\\\\n",
       "\t16 & 30 & 1320192000 & Pinball & pinball \\\\\n",
       "\t17 & 31 & 1323561600 & Adventure & adventure \\\\\n",
       "\t18 & 33 & 1380931200 & Arcade & arcade \\\\\n",
       "\t19 & 34 & 1571788800 & Visual Novel & visual-novel \\\\\n",
       "\t20 & 32 & 1341360000 & Indie & indie \\\\\n",
       "\t21 & 35 & 1588809600 & Card \\& Board Game & card-and-board-game \\\\\n",
       "\t22 & 36 & 1588809600 & MOBA & moba \\\\\n",
       "\t23 & 2 & 1297555200 & Point-and-click & point-and-click \\\\\n",
       "\\end{tabular}\n"
      ],
      "text/plain": [
       "23×4 DataFrame. Omitted printing of 1 columns\n",
       "│ Row │ id    │ created_at │ name                       │\n",
       "│     │ \u001b[90mInt64\u001b[39m │ \u001b[90mInt64\u001b[39m      │ \u001b[90mString\u001b[39m                     │\n",
       "├─────┼───────┼────────────┼────────────────────────────┤\n",
       "│ 1   │ 4     │ 1297555200 │ Fighting                   │\n",
       "│ 2   │ 5     │ 1297555200 │ Shooter                    │\n",
       "│ 3   │ 7     │ 1297555200 │ Music                      │\n",
       "│ 4   │ 8     │ 1297555200 │ Platform                   │\n",
       "│ 5   │ 9     │ 1297555200 │ Puzzle                     │\n",
       "│ 6   │ 10    │ 1297555200 │ Racing                     │\n",
       "│ 7   │ 11    │ 1297555200 │ Real Time Strategy (RTS)   │\n",
       "│ 8   │ 12    │ 1297555200 │ Role-playing (RPG)         │\n",
       "│ 9   │ 13    │ 1297555200 │ Simulator                  │\n",
       "│ 10  │ 14    │ 1297555200 │ Sport                      │\n",
       "│ 11  │ 15    │ 1297555200 │ Strategy                   │\n",
       "│ 12  │ 16    │ 1297641600 │ Turn-based strategy (TBS)  │\n",
       "│ 13  │ 24    │ 1300924800 │ Tactical                   │\n",
       "│ 14  │ 26    │ 1301961600 │ Quiz/Trivia                │\n",
       "│ 15  │ 25    │ 1301616000 │ Hack and slash/Beat 'em up │\n",
       "│ 16  │ 30    │ 1320192000 │ Pinball                    │\n",
       "│ 17  │ 31    │ 1323561600 │ Adventure                  │\n",
       "│ 18  │ 33    │ 1380931200 │ Arcade                     │\n",
       "│ 19  │ 34    │ 1571788800 │ Visual Novel               │\n",
       "│ 20  │ 32    │ 1341360000 │ Indie                      │\n",
       "│ 21  │ 35    │ 1588809600 │ Card & Board Game          │\n",
       "│ 22  │ 36    │ 1588809600 │ MOBA                       │\n",
       "│ 23  │ 2     │ 1297555200 │ Point-and-click            │"
      ]
     },
     "execution_count": 159,
     "metadata": {},
     "output_type": "execute_result"
    }
   ],
   "source": [
    "genres_infor"
   ]
  },
  {
   "cell_type": "code",
   "execution_count": 160,
   "metadata": {},
   "outputs": [
    {
     "data": {
      "text/plain": [
       "\"/Users/mengzhang/projects/github/wrangling_project/IGDB/game_genres.csv\""
      ]
     },
     "execution_count": 160,
     "metadata": {},
     "output_type": "execute_result"
    }
   ],
   "source": [
    "CSV.write(\"/Users/mengzhang/projects/github/wrangling_project/IGDB/game_genres.csv\", genres_infor)"
   ]
  },
  {
   "cell_type": "markdown",
   "metadata": {},
   "source": [
    "### Section 7\n",
    "Find more information about the involved company"
   ]
  },
  {
   "cell_type": "code",
   "execution_count": 165,
   "metadata": {},
   "outputs": [
    {
     "data": {
      "text/plain": [
       "\"fields *; limit 500;where game = (1020,1942,472,732,72,233,71,1009,74,231,127,733,20,73,25076,500,7346,538,1164,11156,1029,7331,501,434,75,121,565,529,26192,15,16,19441,1070,1871,7599,18,9630,1074,19560,113,59,623,1011,6036,1068,731,25657,28204,8173,1026,1970,76,478,5503,28540,1372,375,512,427,132,866,974,247,116,533,7351,1802,3025,2114,7334,11169,2155,28552,7323,2207,358,1262,730,26758,1985,36926,37,128,9061,1384,39,126,673,12517,286,1331,1887,19565,43,2031,230,56,6801,11133,1266,327,14362,379,3035,559,2993,7344,11208,7342,549,41,622,18320,1352,537,19561,1033,109,481,8197,1905,19562,431,9730,21,40,343,1062,11198,27421,359,1103,885,493,1121,960,7205,11118,239,1051,124,1036,98,38,19,19564,19531,289,1105,498,421,338,1979,9927,418,123,120,14,119313,142,551,11161,37016,3097,545,17000,355,1279,1078,7603,1968,118,117,27789,1377,37094,1077,530,376,426,4754,9066,2933,380,2368,539,2909,80,891,1334,115,1022,36952,740,836,3042,1983,13,2963,60,495,7609,2853,1318,96,987,621,97,9498,133,1030,6707,296,499,1267,1627,12503,11233,1221,979,8187,5601,1073,37777,7444,1122,7360,61,873,352,22439,111,11157,364,246,181,11,26193,17447,3182,333,625,6,14593,2350,125,122,9604,36897,4438,1341,1048,29004,1879,2136,837,312,13166,10962,9727,986,10919,819,471,2935,103298,2262,103054,990,425,245,1906,1219,153,7789,1185,324,260,184,3022,1039,517,78,2342,1910,847,9192,1561,5328,2261,1991,1941,480,378,620,9174,1628,1244,1075,2899,113114,2997,7292,4756,2180,991,14587,1981,1090,342,19130,3278,3070,307,19457,74701,3102,647,3750,6632,1254,11800,5,2990,2001,1593,558,90099,19686,8222,7327,5025,130,26196,12571,3192,1270,224,9600,2939,2437,534,22,21062,1928,36813,2126,1513,547,1715,981,457,9806,7352,3075,1187,910,748,241,223,26226,19164,980,912,299,7706,1511,1305,227,62,76882,27081,5619,1128,7386,1638,1559,966,90101,479,11065,320,295,1512,832,424,277,112,3193,3152,2985,2276,482,326,1558,1186,523,306,280,232,193,1277,361,7170,2025,1911,1339,456,152,109462,20275,19459,3174,2183,2129,562,3186,10148,458,228,9254,6739,2148,1067,913,570,548,9602,19539,1183,398,136,36911,8254,7313,6803,6247,2438,1035,911,293,3349,1092,438,37001,8965,1337,11790,2132,1557,119,20740,103329,1271,1269,494,83728,26764,19470,6250,3154,2115,1626,1192,942,515,1426,1156,1079,389,55935,1514,11170,7348,890,826,521,272,1918,1289,105,5508,1976,948,76253,21040,18099,3265,2472,2064,544,520,509,26855,26761,23248,857,3221,3155,1058);\""
      ]
     },
     "execution_count": 165,
     "metadata": {},
     "output_type": "execute_result"
    }
   ],
   "source": [
    "# define the scrap target on the web page\n",
    "body_date = \"fields *; limit 500;where game = (1020,1942,472,732,72,233,71,1009,74,231,127,733,20,73,25076,500,7346,538,1164,11156,1029,7331,501,434,75,121,565,529,26192,15,16,19441,1070,1871,7599,18,9630,1074,19560,113,59,623,1011,6036,1068,731,25657,28204,8173,1026,1970,76,478,5503,28540,1372,375,512,427,132,866,974,247,116,533,7351,1802,3025,2114,7334,11169,2155,28552,7323,2207,358,1262,730,26758,1985,36926,37,128,9061,1384,39,126,673,12517,286,1331,1887,19565,43,2031,230,56,6801,11133,1266,327,14362,379,3035,559,2993,7344,11208,7342,549,41,622,18320,1352,537,19561,1033,109,481,8197,1905,19562,431,9730,21,40,343,1062,11198,27421,359,1103,885,493,1121,960,7205,11118,239,1051,124,1036,98,38,19,19564,19531,289,1105,498,421,338,1979,9927,418,123,120,14,119313,142,551,11161,37016,3097,545,17000,355,1279,1078,7603,1968,118,117,27789,1377,37094,1077,530,376,426,4754,9066,2933,380,2368,539,2909,80,891,1334,115,1022,36952,740,836,3042,1983,13,2963,60,495,7609,2853,1318,96,987,621,97,9498,133,1030,6707,296,499,1267,1627,12503,11233,1221,979,8187,5601,1073,37777,7444,1122,7360,61,873,352,22439,111,11157,364,246,181,11,26193,17447,3182,333,625,6,14593,2350,125,122,9604,36897,4438,1341,1048,29004,1879,2136,837,312,13166,10962,9727,986,10919,819,471,2935,103298,2262,103054,990,425,245,1906,1219,153,7789,1185,324,260,184,3022,1039,517,78,2342,1910,847,9192,1561,5328,2261,1991,1941,480,378,620,9174,1628,1244,1075,2899,113114,2997,7292,4756,2180,991,14587,1981,1090,342,19130,3278,3070,307,19457,74701,3102,647,3750,6632,1254,11800,5,2990,2001,1593,558,90099,19686,8222,7327,5025,130,26196,12571,3192,1270,224,9600,2939,2437,534,22,21062,1928,36813,2126,1513,547,1715,981,457,9806,7352,3075,1187,910,748,241,223,26226,19164,980,912,299,7706,1511,1305,227,62,76882,27081,5619,1128,7386,1638,1559,966,90101,479,11065,320,295,1512,832,424,277,112,3193,3152,2985,2276,482,326,1558,1186,523,306,280,232,193,1277,361,7170,2025,1911,1339,456,152,109462,20275,19459,3174,2183,2129,562,3186,10148,458,228,9254,6739,2148,1067,913,570,548,9602,19539,1183,398,136,36911,8254,7313,6803,6247,2438,1035,911,293,3349,1092,438,37001,8965,1337,11790,2132,1557,119,20740,103329,1271,1269,494,83728,26764,19470,6250,3154,2115,1626,1192,942,515,1426,1156,1079,389,55935,1514,11170,7348,890,826,521,272,1918,1289,105,5508,1976,948,76253,21040,18099,3265,2472,2064,544,520,509,26855,26761,23248,857,3221,3155,1058);\""
   ]
  },
  {
   "cell_type": "code",
   "execution_count": 166,
   "metadata": {},
   "outputs": [
    {
     "data": {
      "text/plain": [
       "HTTP.Messages.Response:\n",
       "\"\"\"\n",
       "HTTP/1.1 200 OK\r\n",
       "Date: Tue, 13 Oct 2020 10:37:41 GMT\r\n",
       "Content-Type: application/json;charset=utf-8\r\n",
       "Transfer-Encoding: chunked\r\n",
       "Connection: keep-alive\r\n",
       "Set-Cookie: __cfduid=d1b4a92396a7f02586b1653c6432127691602585460; expires=Thu, 12-Nov-20 10:37:40 GMT; path=/; domain=.igdb.com; HttpOnly; SameSite=Lax; Secure\r\n",
       "x-amzn-RequestId: 9d0bb59e-2da3-4496-8e3d-c7add872cec4\r\n",
       "x-amz-apigw-id: UWF6RGCqvHcF-Wg=\r\n",
       "x-amzn-Remapped-Server: Javalin\r\n",
       "X-Count: 1527\r\n",
       "x-amzn-Remapped-Date: Tue, 13 Oct 2020 10:37:40 GMT\r\n",
       "X-Cache: Miss from cloudfront\r\n",
       "Via: 1.1 e843f252fb9dc7a676a0331e786f678b.cloudfront.net (CloudFront)\r\n",
       "X-Amz-Cf-Pop: AKL50-C1\r\n",
       "X-Amz-Cf-Id: vdLljRF5UrF4upPoT7UozOwXPpZL6y8bei8h5ztXWR1QFrCQO-YYnA==\r\n",
       "CF-Cache-Status: DYNAMIC\r\n",
       "cf-request-id: 05c32296ac0000fb98e429f200000001\r\n",
       "Expect-CT: max-age=604800, report-uri=\"https://report-uri.cloudflare.com/cdn-cgi/beacon/expect-ct\"\r\n",
       "Strict-Transport-Security: max-age=15552000; includeSubDomains; preload\r\n",
       "X-Content-Type-Options: nosniff\r\n",
       "Server: cloudflare\r\n",
       "CF-RAY: 5e186d377cfefb98-AKL\r\n",
       "\r\n",
       "[\n",
       "  {\n",
       "    \"id\": 8,\n",
       "    \"company\": 7,\n",
       "    \"created_at\": 1298937600,\n",
       "    \"developer\": true,\n",
       "    \"game\": 38,\n",
       "    \"porting\": false,\n",
       "    \"publisher\": false,\n",
       "    \"supporting\": false,\n",
       "    \"updated_at\": 1321056000,\n",
       "    \"checksum\": \"a3d3730c-932c-30d3-25ab-12f2343e242e\"\n",
       "  },\n",
       "  {\n",
       "    \"id\": 36511,\n",
       "    \"company\": 1926,\n",
       "    \"created_at\": 1466035200,\n",
       "    \"developer\": true,\n",
       "    \"game\": 570,\n",
       "    \"porting\": false,\n",
       "    \"publisher\": false,\n",
       "    \"supporting\": false,\n",
       "    \"updated_at\": 1466035200,\n",
       "    \"checksum\": \"96696186-a2dd-ae54-3bba-3d8610757fa1\"\n",
       "  },\n",
       "  {\n",
       "    \"id\": 747,\n",
       "    \"company\": 203,\n",
       "    \"created_at\": 1302566400,\n",
       "    \"developer\": true,\n",
       "    \"game\": 39,\n",
       "    \"porting\": false,\n",
       "    \"publisher\": false,\n",
       "    \"supporting\": false,\n",
       "    \"updated_at\": 1321056000,\n",
       "    \"checksum\": \"11de60aa-4890-5cd7-c487-68aab6a7a47e\"\n",
       "  },\n",
       "  {\n",
       "    \"id\": 19457,\n",
       "    \"company\": 51,\n",
       "    \"created_at\": 1415404800,\n",
       "    \"developer\": true,\n",
       "    \"game\": 3182,\n",
       "    \"porting\": false,\n",
       "    \"publisher\": true,\n",
       "    \"supporting\": false,\n",
       "    \"updat\n",
       "⋮\n",
       "135886-byte body\n",
       "\"\"\""
      ]
     },
     "execution_count": 166,
     "metadata": {},
     "output_type": "execute_result"
    }
   ],
   "source": [
    "# Using HTTP.post(\"path\") to scrap the relasase date web information\n",
    "involvedCompanies = HTTP.post(\"https://api.igdb.com/v4/involved_companies\",\n",
    "          auth_dictionary,\n",
    "          body_date)"
   ]
  },
  {
   "cell_type": "code",
   "execution_count": 167,
   "metadata": {},
   "outputs": [
    {
     "data": {
      "text/plain": [
       "500-element Array{Any,1}:\n",
       " (id = 8, company = 7, created_at = 1298937600, developer = true, game = 38, porting = false, publisher = false, supporting = false, updated_at = 1321056000, checksum = \"a3d3730c-932c-30d3-25ab-12f2343e242e\")\n",
       " (id = 36511, company = 1926, created_at = 1466035200, developer = true, game = 570, porting = false, publisher = false, supporting = false, updated_at = 1466035200, checksum = \"96696186-a2dd-ae54-3bba-3d8610757fa1\")\n",
       " (id = 747, company = 203, created_at = 1302566400, developer = true, game = 39, porting = false, publisher = false, supporting = false, updated_at = 1321056000, checksum = \"11de60aa-4890-5cd7-c487-68aab6a7a47e\")\n",
       " (id = 19457, company = 51, created_at = 1415404800, developer = true, game = 3182, porting = false, publisher = true, supporting = false, updated_at = 1415404800, checksum = \"de37aa7d-6a68-b67f-316e-9425313ad6b0\")\n",
       " (id = 2837, company = 45, created_at = 1345248000, developer = false, game = 1187, porting = false, publisher = true, supporting = false, updated_at = 1345248000, checksum = \"e462183d-3c3e-0cf7-4b3d-3afef82d0106\")\n",
       " (id = 7374, company = 1393, created_at = 1381190400, developer = true, game = 2899, porting = false, publisher = false, supporting = false, updated_at = 1381190400, checksum = \"4e2bf343-8810-0b64-18a7-b16bb3b5a078\")\n",
       " (id = 19773, company = 378, created_at = 1416182400, developer = true, game = 41, porting = false, publisher = false, supporting = false, updated_at = 1416182400, checksum = \"f5f61b1a-ee5d-b7e5-39e8-f64e85ac148e\")\n",
       " (id = 8226, company = 1, created_at = 1384992000, developer = false, game = 1051, porting = false, publisher = true, supporting = false, updated_at = 1384992000, checksum = \"663662fc-f2c0-41df-bc47-21c9ce89d67f\")\n",
       " (id = 20113, company = 37, created_at = 1417737600, developer = true, game = 8254, porting = false, publisher = true, supporting = false, updated_at = 1417737600, checksum = \"a26b21cd-9a69-085f-9826-6c234579b503\")\n",
       " (id = 6250, company = 847, created_at = 1374019200, developer = true, game = 1305, porting = false, publisher = false, supporting = false, updated_at = 1374019200, checksum = \"db7368ed-b03f-feab-2555-b51964e241f8\")\n",
       " (id = 4483, company = 30, created_at = 1371945600, developer = true, game = 109, porting = false, publisher = false, supporting = false, updated_at = 1371945600, checksum = \"cffc7898-60a2-c87a-3c71-07bd2f8ead0f\")\n",
       " (id = 19598, company = 26, created_at = 1415836800, developer = true, game = 426, porting = false, publisher = true, supporting = false, updated_at = 1415836800, checksum = \"459d1ea4-8f20-bd8f-cad4-e040f66d93b6\")\n",
       " (id = 5703, company = 29, created_at = 1372896000, developer = false, game = 731, porting = false, publisher = true, supporting = false, updated_at = 1372982400, checksum = \"67b62223-8c16-689f-1b5c-1962a2056244\")\n",
       " ⋮\n",
       " (id = 3703, company = 57, created_at = 1360713600, developer = true, game = 122, porting = false, publisher = false, supporting = false, updated_at = 1360713600, checksum = \"fd5fa69a-fa85-99d2-5176-d0399fef533d\")\n",
       " (id = 98, company = 1, created_at = 1300060800, developer = false, game = 125, porting = false, publisher = true, supporting = false, updated_at = 1321056000, checksum = \"97235411-c026-4684-cda3-54bb60188f3e\")\n",
       " (id = 22485, company = 66, created_at = 1426550400, developer = false, game = 153, porting = false, publisher = true, supporting = false, updated_at = 1426550400, checksum = \"d6c6b927-37fd-2def-67d6-4e4166e98bcf\")\n",
       " (id = 38887, company = 277, created_at = 1472083200, developer = true, game = 19459, porting = false, publisher = false, supporting = false, updated_at = 1472083200, checksum = \"c2a72722-9ec0-a80d-97d9-3680817481d7\")\n",
       " (id = 14885, company = 2113, created_at = 1397952000, developer = false, game = 6247, porting = false, publisher = true, supporting = false, updated_at = 1398038400, checksum = \"a06de78d-da4f-2259-b064-5904ddddc010\")\n",
       " (id = 2482, company = 70, created_at = 1326326400, developer = false, game = 1039, porting = false, publisher = true, supporting = false, updated_at = 1326326400, checksum = \"563433e8-044b-3e97-dc18-ade47175aef3\")\n",
       " (id = 52852, company = 4602, created_at = 1502150400, developer = false, game = 8965, porting = true, publisher = false, supporting = false, updated_at = 1502150400, checksum = \"9c490ab5-46b7-b118-1475-c940ab0eda47\")\n",
       " (id = 42057, company = 148, created_at = 1480204800, developer = false, game = 231, porting = true, publisher = false, supporting = false, updated_at = 1480204800, checksum = \"22f0a6b9-8f8a-b3b8-214d-0a0359d13ef0\")\n",
       " (id = 38435, company = 908, created_at = 1470960000, developer = true, game = 20275, porting = false, publisher = false, supporting = false, updated_at = 1470960000, checksum = \"87d1dffc-0bd6-37ab-790f-45acde9d4286\")\n",
       " (id = 53470, company = 2670, created_at = 1503446400, developer = false, game = 359, porting = false, publisher = false, supporting = true, updated_at = 1503446400, checksum = \"b9a99524-f976-60e3-ef53-07faca8aeef7\")\n",
       " (id = 19117, company = 99, created_at = 1414972800, developer = false, game = 364, porting = false, publisher = true, supporting = false, updated_at = 1414972800, checksum = \"9f483f15-c2b3-cecc-199a-4bebfe8389b0\")\n",
       " (id = 24058, company = 377, created_at = 1433203200, developer = true, game = 10919, porting = false, publisher = false, supporting = false, updated_at = 1433203200, checksum = \"3c5d6f7b-98d3-517b-b1f1-833fdde7d408\")"
      ]
     },
     "execution_count": 167,
     "metadata": {},
     "output_type": "execute_result"
    }
   ],
   "source": [
    "# Read the web body information into JSON format\n",
    "involvedCompanies = JSON2.read(IOBuffer(involvedCompanies.body))"
   ]
  },
  {
   "cell_type": "code",
   "execution_count": 168,
   "metadata": {},
   "outputs": [
    {
     "data": {
      "text/plain": [
       "8-element Array{Symbol,1}:\n",
       " :id\n",
       " :company\n",
       " :created_at\n",
       " :developer\n",
       " :game\n",
       " :porting\n",
       " :publisher\n",
       " :supporting"
      ]
     },
     "execution_count": 168,
     "metadata": {},
     "output_type": "execute_result"
    }
   ],
   "source": [
    "# Define the features we want to generate\n",
    "features_involvedCompanies = [:id, \n",
    "    :company,\n",
    "    :created_at,\n",
    "    :developer,\n",
    "    :game,\n",
    "    :porting,\n",
    "    :publisher,\n",
    "    :supporting\n",
    "    ]"
   ]
  },
  {
   "cell_type": "code",
   "execution_count": 169,
   "metadata": {},
   "outputs": [
    {
     "data": {
      "text/plain": [
       "8-element Array{AbstractArray{T,1} where T,1}:\n",
       " [8, 36511, 747, 19457, 2837, 7374, 19773, 8226, 20113, 6250  …  22485, 38887, 14885, 2482, 52852, 42057, 38435, 53470, 19117, 24058]\n",
       " [7, 1926, 203, 51, 45, 1393, 378, 1, 37, 847  …  66, 277, 2113, 70, 4602, 148, 908, 2670, 99, 377]\n",
       " [1298937600, 1466035200, 1302566400, 1415404800, 1345248000, 1381190400, 1416182400, 1384992000, 1417737600, 1374019200  …  1426550400, 1472083200, 1397952000, 1326326400, 1502150400, 1480204800, 1470960000, 1503446400, 1414972800, 1433203200]\n",
       " Bool[1, 1, 1, 1, 0, 1, 1, 0, 1, 1  …  0, 1, 0, 0, 0, 0, 1, 0, 0, 1]\n",
       " [38, 570, 39, 3182, 1187, 2899, 41, 1051, 8254, 1305  …  153, 19459, 6247, 1039, 8965, 231, 20275, 359, 364, 10919]\n",
       " Bool[0, 0, 0, 0, 0, 0, 0, 0, 0, 0  …  0, 0, 0, 0, 1, 1, 0, 0, 0, 0]\n",
       " Bool[0, 0, 0, 1, 1, 0, 0, 1, 1, 0  …  1, 0, 1, 1, 0, 0, 0, 0, 1, 0]\n",
       " Bool[0, 0, 0, 0, 0, 0, 0, 0, 0, 0  …  0, 0, 0, 0, 0, 0, 0, 1, 0, 0]"
      ]
     },
     "execution_count": 169,
     "metadata": {},
     "output_type": "execute_result"
    }
   ],
   "source": [
    "all_involvedCompanies = [get_this.(involvedCompanies,column_name) for column_name in features_involvedCompanies]"
   ]
  },
  {
   "cell_type": "code",
   "execution_count": 170,
   "metadata": {},
   "outputs": [
    {
     "data": {
      "text/plain": [
       "500-element BitArray{1}:\n",
       " 0\n",
       " 0\n",
       " 0\n",
       " 0\n",
       " 0\n",
       " 0\n",
       " 0\n",
       " 0\n",
       " 0\n",
       " 0\n",
       " 0\n",
       " 0\n",
       " 0\n",
       " ⋮\n",
       " 0\n",
       " 0\n",
       " 0\n",
       " 0\n",
       " 0\n",
       " 0\n",
       " 0\n",
       " 0\n",
       " 0\n",
       " 1\n",
       " 0\n",
       " 0"
      ]
     },
     "execution_count": 170,
     "metadata": {},
     "output_type": "execute_result"
    }
   ],
   "source": [
    "involvedCompanies_infor = DataFrame()\n",
    "involvedCompanies_infor.id = all_involvedCompanies[1]\n",
    "involvedCompanies_infor.company = all_involvedCompanies[2]\n",
    "involvedCompanies_infor.created_at = all_involvedCompanies[3]\n",
    "involvedCompanies_infor.developer = all_involvedCompanies[4]\n",
    "involvedCompanies_infor.game = all_involvedCompanies[5]\n",
    "involvedCompanies_infor.porting = all_involvedCompanies[6]\n",
    "involvedCompanies_infor.publisher = all_involvedCompanies[7]\n",
    "involvedCompanies_infor.supporting = all_involvedCompanies[8]\n"
   ]
  },
  {
   "cell_type": "code",
   "execution_count": 171,
   "metadata": {},
   "outputs": [
    {
     "data": {
      "text/html": [
       "<table class=\"data-frame\"><thead><tr><th></th><th>id</th><th>company</th><th>created_at</th><th>developer</th><th>game</th><th>porting</th><th>publisher</th><th>supporting</th></tr><tr><th></th><th>Int64</th><th>Int64</th><th>Int64</th><th>Bool</th><th>Int64</th><th>Bool</th><th>Bool</th><th>Bool</th></tr></thead><tbody><p>500 rows × 8 columns</p><tr><th>1</th><td>8</td><td>7</td><td>1298937600</td><td>1</td><td>38</td><td>0</td><td>0</td><td>0</td></tr><tr><th>2</th><td>36511</td><td>1926</td><td>1466035200</td><td>1</td><td>570</td><td>0</td><td>0</td><td>0</td></tr><tr><th>3</th><td>747</td><td>203</td><td>1302566400</td><td>1</td><td>39</td><td>0</td><td>0</td><td>0</td></tr><tr><th>4</th><td>19457</td><td>51</td><td>1415404800</td><td>1</td><td>3182</td><td>0</td><td>1</td><td>0</td></tr><tr><th>5</th><td>2837</td><td>45</td><td>1345248000</td><td>0</td><td>1187</td><td>0</td><td>1</td><td>0</td></tr><tr><th>6</th><td>7374</td><td>1393</td><td>1381190400</td><td>1</td><td>2899</td><td>0</td><td>0</td><td>0</td></tr><tr><th>7</th><td>19773</td><td>378</td><td>1416182400</td><td>1</td><td>41</td><td>0</td><td>0</td><td>0</td></tr><tr><th>8</th><td>8226</td><td>1</td><td>1384992000</td><td>0</td><td>1051</td><td>0</td><td>1</td><td>0</td></tr><tr><th>9</th><td>20113</td><td>37</td><td>1417737600</td><td>1</td><td>8254</td><td>0</td><td>1</td><td>0</td></tr><tr><th>10</th><td>6250</td><td>847</td><td>1374019200</td><td>1</td><td>1305</td><td>0</td><td>0</td><td>0</td></tr><tr><th>11</th><td>4483</td><td>30</td><td>1371945600</td><td>1</td><td>109</td><td>0</td><td>0</td><td>0</td></tr><tr><th>12</th><td>19598</td><td>26</td><td>1415836800</td><td>1</td><td>426</td><td>0</td><td>1</td><td>0</td></tr><tr><th>13</th><td>5703</td><td>29</td><td>1372896000</td><td>0</td><td>731</td><td>0</td><td>1</td><td>0</td></tr><tr><th>14</th><td>6183</td><td>1002</td><td>1373500800</td><td>1</td><td>2115</td><td>0</td><td>0</td><td>0</td></tr><tr><th>15</th><td>42805</td><td>223</td><td>1481500800</td><td>0</td><td>76</td><td>1</td><td>0</td><td>0</td></tr><tr><th>16</th><td>8516</td><td>365</td><td>1388188800</td><td>1</td><td>3265</td><td>0</td><td>0</td><td>0</td></tr><tr><th>17</th><td>65549</td><td>37</td><td>1528761600</td><td>1</td><td>19686</td><td>0</td><td>1</td><td>0</td></tr><tr><th>18</th><td>1011</td><td>112</td><td>1303171200</td><td>0</td><td>333</td><td>0</td><td>1</td><td>0</td></tr><tr><th>19</th><td>1066</td><td>184</td><td>1303430400</td><td>1</td><td>286</td><td>0</td><td>0</td><td>0</td></tr><tr><th>20</th><td>8170</td><td>365</td><td>1384732800</td><td>1</td><td>3174</td><td>0</td><td>0</td><td>0</td></tr><tr><th>21</th><td>33845</td><td>8</td><td>1458000000</td><td>0</td><td>538</td><td>0</td><td>1</td><td>0</td></tr><tr><th>22</th><td>33980</td><td>70</td><td>1458518400</td><td>0</td><td>1559</td><td>0</td><td>1</td><td>0</td></tr><tr><th>23</th><td>1072</td><td>344</td><td>1303430400</td><td>0</td><td>286</td><td>0</td><td>1</td><td>0</td></tr><tr><th>24</th><td>19454</td><td>4090</td><td>1415404800</td><td>0</td><td>126</td><td>0</td><td>1</td><td>0</td></tr><tr><th>25</th><td>9853</td><td>38</td><td>1390003200</td><td>1</td><td>1266</td><td>0</td><td>0</td><td>0</td></tr><tr><th>26</th><td>46787</td><td>362</td><td>1494633600</td><td>0</td><td>986</td><td>0</td><td>0</td><td>1</td></tr><tr><th>27</th><td>40635</td><td>26</td><td>1476230400</td><td>0</td><td>8173</td><td>0</td><td>1</td><td>0</td></tr><tr><th>28</th><td>3863</td><td>255</td><td>1362268800</td><td>1</td><td>1183</td><td>0</td><td>0</td><td>0</td></tr><tr><th>29</th><td>4944</td><td>652</td><td>1372464000</td><td>0</td><td>1426</td><td>0</td><td>1</td><td>0</td></tr><tr><th>30</th><td>45918</td><td>1</td><td>1492041600</td><td>0</td><td>620</td><td>0</td><td>1</td><td>0</td></tr><tr><th>&vellip;</th><td>&vellip;</td><td>&vellip;</td><td>&vellip;</td><td>&vellip;</td><td>&vellip;</td><td>&vellip;</td><td>&vellip;</td><td>&vellip;</td></tr></tbody></table>"
      ],
      "text/latex": [
       "\\begin{tabular}{r|cccccccc}\n",
       "\t& id & company & created\\_at & developer & game & porting & publisher & supporting\\\\\n",
       "\t\\hline\n",
       "\t& Int64 & Int64 & Int64 & Bool & Int64 & Bool & Bool & Bool\\\\\n",
       "\t\\hline\n",
       "\t1 & 8 & 7 & 1298937600 & 1 & 38 & 0 & 0 & 0 \\\\\n",
       "\t2 & 36511 & 1926 & 1466035200 & 1 & 570 & 0 & 0 & 0 \\\\\n",
       "\t3 & 747 & 203 & 1302566400 & 1 & 39 & 0 & 0 & 0 \\\\\n",
       "\t4 & 19457 & 51 & 1415404800 & 1 & 3182 & 0 & 1 & 0 \\\\\n",
       "\t5 & 2837 & 45 & 1345248000 & 0 & 1187 & 0 & 1 & 0 \\\\\n",
       "\t6 & 7374 & 1393 & 1381190400 & 1 & 2899 & 0 & 0 & 0 \\\\\n",
       "\t7 & 19773 & 378 & 1416182400 & 1 & 41 & 0 & 0 & 0 \\\\\n",
       "\t8 & 8226 & 1 & 1384992000 & 0 & 1051 & 0 & 1 & 0 \\\\\n",
       "\t9 & 20113 & 37 & 1417737600 & 1 & 8254 & 0 & 1 & 0 \\\\\n",
       "\t10 & 6250 & 847 & 1374019200 & 1 & 1305 & 0 & 0 & 0 \\\\\n",
       "\t11 & 4483 & 30 & 1371945600 & 1 & 109 & 0 & 0 & 0 \\\\\n",
       "\t12 & 19598 & 26 & 1415836800 & 1 & 426 & 0 & 1 & 0 \\\\\n",
       "\t13 & 5703 & 29 & 1372896000 & 0 & 731 & 0 & 1 & 0 \\\\\n",
       "\t14 & 6183 & 1002 & 1373500800 & 1 & 2115 & 0 & 0 & 0 \\\\\n",
       "\t15 & 42805 & 223 & 1481500800 & 0 & 76 & 1 & 0 & 0 \\\\\n",
       "\t16 & 8516 & 365 & 1388188800 & 1 & 3265 & 0 & 0 & 0 \\\\\n",
       "\t17 & 65549 & 37 & 1528761600 & 1 & 19686 & 0 & 1 & 0 \\\\\n",
       "\t18 & 1011 & 112 & 1303171200 & 0 & 333 & 0 & 1 & 0 \\\\\n",
       "\t19 & 1066 & 184 & 1303430400 & 1 & 286 & 0 & 0 & 0 \\\\\n",
       "\t20 & 8170 & 365 & 1384732800 & 1 & 3174 & 0 & 0 & 0 \\\\\n",
       "\t21 & 33845 & 8 & 1458000000 & 0 & 538 & 0 & 1 & 0 \\\\\n",
       "\t22 & 33980 & 70 & 1458518400 & 0 & 1559 & 0 & 1 & 0 \\\\\n",
       "\t23 & 1072 & 344 & 1303430400 & 0 & 286 & 0 & 1 & 0 \\\\\n",
       "\t24 & 19454 & 4090 & 1415404800 & 0 & 126 & 0 & 1 & 0 \\\\\n",
       "\t25 & 9853 & 38 & 1390003200 & 1 & 1266 & 0 & 0 & 0 \\\\\n",
       "\t26 & 46787 & 362 & 1494633600 & 0 & 986 & 0 & 0 & 1 \\\\\n",
       "\t27 & 40635 & 26 & 1476230400 & 0 & 8173 & 0 & 1 & 0 \\\\\n",
       "\t28 & 3863 & 255 & 1362268800 & 1 & 1183 & 0 & 0 & 0 \\\\\n",
       "\t29 & 4944 & 652 & 1372464000 & 0 & 1426 & 0 & 1 & 0 \\\\\n",
       "\t30 & 45918 & 1 & 1492041600 & 0 & 620 & 0 & 1 & 0 \\\\\n",
       "\t$\\dots$ & $\\dots$ & $\\dots$ & $\\dots$ & $\\dots$ & $\\dots$ & $\\dots$ & $\\dots$ & $\\dots$ \\\\\n",
       "\\end{tabular}\n"
      ],
      "text/plain": [
       "500×8 DataFrame. Omitted printing of 1 columns\n",
       "│ Row │ id    │ company │ created_at │ developer │ game  │ porting │ publisher │\n",
       "│     │ \u001b[90mInt64\u001b[39m │ \u001b[90mInt64\u001b[39m   │ \u001b[90mInt64\u001b[39m      │ \u001b[90mBool\u001b[39m      │ \u001b[90mInt64\u001b[39m │ \u001b[90mBool\u001b[39m    │ \u001b[90mBool\u001b[39m      │\n",
       "├─────┼───────┼─────────┼────────────┼───────────┼───────┼─────────┼───────────┤\n",
       "│ 1   │ 8     │ 7       │ 1298937600 │ 1         │ 38    │ 0       │ 0         │\n",
       "│ 2   │ 36511 │ 1926    │ 1466035200 │ 1         │ 570   │ 0       │ 0         │\n",
       "│ 3   │ 747   │ 203     │ 1302566400 │ 1         │ 39    │ 0       │ 0         │\n",
       "│ 4   │ 19457 │ 51      │ 1415404800 │ 1         │ 3182  │ 0       │ 1         │\n",
       "│ 5   │ 2837  │ 45      │ 1345248000 │ 0         │ 1187  │ 0       │ 1         │\n",
       "│ 6   │ 7374  │ 1393    │ 1381190400 │ 1         │ 2899  │ 0       │ 0         │\n",
       "│ 7   │ 19773 │ 378     │ 1416182400 │ 1         │ 41    │ 0       │ 0         │\n",
       "│ 8   │ 8226  │ 1       │ 1384992000 │ 0         │ 1051  │ 0       │ 1         │\n",
       "│ 9   │ 20113 │ 37      │ 1417737600 │ 1         │ 8254  │ 0       │ 1         │\n",
       "│ 10  │ 6250  │ 847     │ 1374019200 │ 1         │ 1305  │ 0       │ 0         │\n",
       "⋮\n",
       "│ 490 │ 98    │ 1       │ 1300060800 │ 0         │ 125   │ 0       │ 1         │\n",
       "│ 491 │ 22485 │ 66      │ 1426550400 │ 0         │ 153   │ 0       │ 1         │\n",
       "│ 492 │ 38887 │ 277     │ 1472083200 │ 1         │ 19459 │ 0       │ 0         │\n",
       "│ 493 │ 14885 │ 2113    │ 1397952000 │ 0         │ 6247  │ 0       │ 1         │\n",
       "│ 494 │ 2482  │ 70      │ 1326326400 │ 0         │ 1039  │ 0       │ 1         │\n",
       "│ 495 │ 52852 │ 4602    │ 1502150400 │ 0         │ 8965  │ 1       │ 0         │\n",
       "│ 496 │ 42057 │ 148     │ 1480204800 │ 0         │ 231   │ 1       │ 0         │\n",
       "│ 497 │ 38435 │ 908     │ 1470960000 │ 1         │ 20275 │ 0       │ 0         │\n",
       "│ 498 │ 53470 │ 2670    │ 1503446400 │ 0         │ 359   │ 0       │ 0         │\n",
       "│ 499 │ 19117 │ 99      │ 1414972800 │ 0         │ 364   │ 0       │ 1         │\n",
       "│ 500 │ 24058 │ 377     │ 1433203200 │ 1         │ 10919 │ 0       │ 0         │"
      ]
     },
     "execution_count": 171,
     "metadata": {},
     "output_type": "execute_result"
    }
   ],
   "source": [
    "involvedCompanies_infor"
   ]
  },
  {
   "cell_type": "code",
   "execution_count": 172,
   "metadata": {},
   "outputs": [
    {
     "data": {
      "text/plain": [
       "\"/Users/mengzhang/projects/github/wrangling_project/IGDB/game_involvedCompanies.csv\""
      ]
     },
     "execution_count": 172,
     "metadata": {},
     "output_type": "execute_result"
    }
   ],
   "source": [
    "CSV.write(\"/Users/mengzhang/projects/github/wrangling_project/IGDB/game_involvedCompanies.csv\", involvedCompanies_infor)"
   ]
  },
  {
   "cell_type": "markdown",
   "metadata": {},
   "source": [
    "### Section 8\n",
    "Find more information about the theme"
   ]
  },
  {
   "cell_type": "code",
   "execution_count": 184,
   "metadata": {},
   "outputs": [
    {
     "data": {
      "text/plain": [
       "\"fields *;limit 500;\""
      ]
     },
     "execution_count": 184,
     "metadata": {},
     "output_type": "execute_result"
    }
   ],
   "source": [
    "body_theme = \"fields *;limit 500;\""
   ]
  },
  {
   "cell_type": "code",
   "execution_count": 186,
   "metadata": {},
   "outputs": [
    {
     "data": {
      "text/plain": [
       "HTTP.Messages.Response:\n",
       "\"\"\"\n",
       "HTTP/1.1 200 OK\r\n",
       "Date: Tue, 13 Oct 2020 11:16:09 GMT\r\n",
       "Content-Type: application/json;charset=utf-8\r\n",
       "Transfer-Encoding: chunked\r\n",
       "Connection: keep-alive\r\n",
       "Set-Cookie: __cfduid=daa8f783cad1c4bb0af6c05bc902a7d8d1602587768; expires=Thu, 12-Nov-20 11:16:08 GMT; path=/; domain=.igdb.com; HttpOnly; SameSite=Lax; Secure\r\n",
       "x-amzn-RequestId: 67589e80-bbe0-42fb-8780-0848b6fec3c5\r\n",
       "x-amzn-Remapped-Content-Length: 5298\r\n",
       "x-amz-apigw-id: UWLi7FgovHcFYCw=\r\n",
       "x-amzn-Remapped-Server: Javalin\r\n",
       "X-Count: 22\r\n",
       "x-amzn-Remapped-Date: Tue, 13 Oct 2020 11:16:09 GMT\r\n",
       "X-Cache: Miss from cloudfront\r\n",
       "Via: 1.1 787ebd166e9da00b36a5337407e50714.cloudfront.net (CloudFront)\r\n",
       "X-Amz-Cf-Pop: AKL50-C1\r\n",
       "X-Amz-Cf-Id: bMcQadQG55GG-bSyv0hMQH5NdXw2_hLrf2SPrJlpYhswYdBy1orz4A==\r\n",
       "CF-Cache-Status: DYNAMIC\r\n",
       "cf-request-id: 05c345cee00000fb98f1a6e200000001\r\n",
       "Expect-CT: max-age=604800, report-uri=\"https://report-uri.cloudflare.com/cdn-cgi/beacon/expect-ct\"\r\n",
       "Strict-Transport-Security: max-age=15552000; includeSubDomains; preload\r\n",
       "X-Content-Type-Options: nosniff\r\n",
       "Server: cloudflare\r\n",
       "CF-RAY: 5e18a59169d9fb98-AKL\r\n",
       "\r\n",
       "[\n",
       "  {\n",
       "    \"id\": 20,\n",
       "    \"created_at\": 1322524800,\n",
       "    \"name\": \"Thriller\",\n",
       "    \"slug\": \"thriller\",\n",
       "    \"updated_at\": 1323216000,\n",
       "    \"url\": \"https://www.igdb.com/themes/thriller\",\n",
       "    \"checksum\": \"4ebeaa43-4165-5d23-142a-9bb2a26c7024\"\n",
       "  },\n",
       "  {\n",
       "    \"id\": 18,\n",
       "    \"created_at\": 1322524800,\n",
       "    \"name\": \"Science fiction\",\n",
       "    \"slug\": \"science-fiction\",\n",
       "    \"updated_at\": 1323216000,\n",
       "    \"url\": \"https://www.igdb.com/themes/science-fiction\",\n",
       "    \"checksum\": \"fffad274-fee4-e195-eb78-72b2a35d643e\"\n",
       "  },\n",
       "  {\n",
       "    \"id\": 1,\n",
       "    \"created_at\": 1322524800,\n",
       "    \"name\": \"Action\",\n",
       "    \"slug\": \"action\",\n",
       "    \"updated_at\": 1323216000,\n",
       "    \"url\": \"https://www.igdb.com/themes/action\",\n",
       "    \"checksum\": \"c177e0ff-f29a-2a2e-fce5-f945258ceb59\"\n",
       "  },\n",
       "  {\n",
       "    \"id\": 19,\n",
       "    \"created_at\": 1322524800,\n",
       "    \"name\": \"Horror\",\n",
       "    \"slug\": \"horror\",\n",
       "    \"updated_at\": 1323216000,\n",
       "    \"url\": \"https://www.igdb.com/themes/horror\",\n",
       "    \"checksum\": \"28762ccf-724f-56cf-3784-dbf16dfcf174\"\n",
       "  },\n",
       "  {\n",
       "    \"id\": 21,\n",
       "    \"created_at\": 132252\n",
       "⋮\n",
       "5298-byte body\n",
       "\"\"\""
      ]
     },
     "execution_count": 186,
     "metadata": {},
     "output_type": "execute_result"
    }
   ],
   "source": [
    "# Using HTTP.post(\"path\") to scrap the relasase date web information\n",
    "theme = HTTP.post(\"https://api.igdb.com/v4/themes\",\n",
    "          auth_dictionary,\n",
    "          body_theme)"
   ]
  },
  {
   "cell_type": "code",
   "execution_count": 187,
   "metadata": {},
   "outputs": [
    {
     "data": {
      "text/plain": [
       "22-element Array{Any,1}:\n",
       " (id = 20, created_at = 1322524800, name = \"Thriller\", slug = \"thriller\", updated_at = 1323216000, url = \"https://www.igdb.com/themes/thriller\", checksum = \"4ebeaa43-4165-5d23-142a-9bb2a26c7024\")\n",
       " (id = 18, created_at = 1322524800, name = \"Science fiction\", slug = \"science-fiction\", updated_at = 1323216000, url = \"https://www.igdb.com/themes/science-fiction\", checksum = \"fffad274-fee4-e195-eb78-72b2a35d643e\")\n",
       " (id = 1, created_at = 1322524800, name = \"Action\", slug = \"action\", updated_at = 1323216000, url = \"https://www.igdb.com/themes/action\", checksum = \"c177e0ff-f29a-2a2e-fce5-f945258ceb59\")\n",
       " (id = 19, created_at = 1322524800, name = \"Horror\", slug = \"horror\", updated_at = 1323216000, url = \"https://www.igdb.com/themes/horror\", checksum = \"28762ccf-724f-56cf-3784-dbf16dfcf174\")\n",
       " (id = 21, created_at = 1322524800, name = \"Survival\", slug = \"survival\", updated_at = 1323216000, url = \"https://www.igdb.com/themes/survival\", checksum = \"01d5251e-746d-d9b6-6a47-99e8e9fda8ff\")\n",
       " (id = 17, created_at = 1322524800, name = \"Fantasy\", slug = \"fantasy\", updated_at = 1323216000, url = \"https://www.igdb.com/themes/fantasy\", checksum = \"454bdc25-3dbf-5648-1e11-fc67ffc893aa\")\n",
       " (id = 22, created_at = 1322524800, name = \"Historical\", slug = \"historical\", updated_at = 1323216000, url = \"https://www.igdb.com/themes/historical\", checksum = \"1256e1bd-db05-276a-16ad-9704f7a56dcc\")\n",
       " (id = 23, created_at = 1322524800, name = \"Stealth\", slug = \"stealth\", updated_at = 1323216000, url = \"https://www.igdb.com/themes/stealth\", checksum = \"6c0cc20c-b7fc-0007-8ae0-4cc91301e9f1\")\n",
       " (id = 27, created_at = 1322524800, name = \"Comedy\", slug = \"comedy\", updated_at = 1323216000, url = \"https://www.igdb.com/themes/comedy\", checksum = \"2d128835-a3c1-7979-d561-005e651ada8e\")\n",
       " (id = 28, created_at = 1322524800, name = \"Business\", slug = \"business\", updated_at = 1323216000, url = \"https://www.igdb.com/themes/business\", checksum = \"b088a483-b1e9-685b-dbfb-4e37b58ef69d\")\n",
       " (id = 31, created_at = 1323561600, name = \"Drama\", slug = \"drama\", updated_at = 1323561600, url = \"https://www.igdb.com/themes/drama\", checksum = \"38bf13b9-353e-d24e-b5fa-3d471c9e1e84\")\n",
       " (id = 32, created_at = 1323561600, name = \"Non-fiction\", slug = \"non-fiction\", updated_at = 1323561600, url = \"https://www.igdb.com/themes/non-fiction\", checksum = \"67e7350e-501b-9608-a68f-97f698582483\")\n",
       " (id = 35, created_at = 1326758400, name = \"Kids\", slug = \"kids\", updated_at = 1326758400, url = \"https://www.igdb.com/themes/kids\", checksum = \"0d518e1e-a2be-1b31-40ab-6bd28ec850f1\")\n",
       " (id = 33, created_at = 1326499200, name = \"Sandbox\", slug = \"sandbox\", updated_at = 1326499200, url = \"https://www.igdb.com/themes/sandbox\", checksum = \"379eaafa-9fa2-9847-a6e2-b04b82687038\")\n",
       " (id = 38, created_at = 1345420800, name = \"Open world\", slug = \"open-world\", updated_at = 1345420800, url = \"https://www.igdb.com/themes/open-world\", checksum = \"7a78c421-ffaa-d859-d1ea-0b0974e3abd0\")\n",
       " (id = 39, created_at = 1345420800, name = \"Warfare\", slug = \"warfare\", updated_at = 1345420800, url = \"https://www.igdb.com/themes/warfare\", checksum = \"384162d9-4646-885c-1fae-a18b0147dfa6\")\n",
       " (id = 41, created_at = 1357084800, name = \"4X (explore, expand, exploit, and exterminate)\", slug = \"4x-explore-expand-exploit-and-exterminate\", updated_at = 1357084800, url = \"https://www.igdb.com/themes/4x-explore-expand-exploit-and-exterminate\", checksum = \"62e181d9-60fe-30c7-c884-e4341d2d3bd5\")\n",
       " (id = 34, created_at = 1326758400, name = \"Educational\", slug = \"educational\", updated_at = 1326758400, url = \"https://www.igdb.com/themes/educational\", checksum = \"49695f76-0b6a-36bc-1a4a-db0eddf4beec\")\n",
       " (id = 43, created_at = 1465171200, name = \"Mystery\", slug = \"mystery\", updated_at = 1465171200, url = \"https://www.igdb.com/themes/mystery\", checksum = \"e5276bc0-d8aa-6d85-6605-3c009ebdffa1\")\n",
       " (id = 40, created_at = 1356825600, name = \"Party\", slug = \"party\", updated_at = 1356825600, url = \"https://www.igdb.com/themes/party\", checksum = \"d28d8158-faa6-eb02-2510-4750764bdd6e\")\n",
       " (id = 44, created_at = 1588809600, name = \"Romance\", slug = \"romance\", updated_at = 1588809600, url = \"https://www.igdb.com/themes/romance\", checksum = \"a756089a-291f-c3bc-e589-62afe1fcacc1\")\n",
       " (id = 42, created_at = 1463702400, name = \"Erotic\", slug = \"erotic\", updated_at = 1463702400, url = \"https://www.igdb.com/themes/erotic\", checksum = \"a28e9969-76b8-5c50-1c3a-7db3b711aba1\")"
      ]
     },
     "execution_count": 187,
     "metadata": {},
     "output_type": "execute_result"
    }
   ],
   "source": [
    "# Read the web body information into JSON format\n",
    "theme = JSON2.read(IOBuffer(theme.body))"
   ]
  },
  {
   "cell_type": "code",
   "execution_count": 188,
   "metadata": {},
   "outputs": [
    {
     "data": {
      "text/plain": [
       "5-element Array{Symbol,1}:\n",
       " :id\n",
       " :created_at\n",
       " :name\n",
       " :slug\n",
       " :updated_at"
      ]
     },
     "execution_count": 188,
     "metadata": {},
     "output_type": "execute_result"
    }
   ],
   "source": [
    "# Define the features we want to generate\n",
    "features_theme = [:id, \n",
    "    :created_at,\n",
    "    :name,\n",
    "    :slug,\n",
    "    :updated_at\n",
    "    ]"
   ]
  },
  {
   "cell_type": "code",
   "execution_count": 189,
   "metadata": {},
   "outputs": [
    {
     "data": {
      "text/plain": [
       "5-element Array{Array{T,1} where T,1}:\n",
       " [20, 18, 1, 19, 21, 17, 22, 23, 27, 28  …  35, 33, 38, 39, 41, 34, 43, 40, 44, 42]\n",
       " [1322524800, 1322524800, 1322524800, 1322524800, 1322524800, 1322524800, 1322524800, 1322524800, 1322524800, 1322524800  …  1326758400, 1326499200, 1345420800, 1345420800, 1357084800, 1326758400, 1465171200, 1356825600, 1588809600, 1463702400]\n",
       " [\"Thriller\", \"Science fiction\", \"Action\", \"Horror\", \"Survival\", \"Fantasy\", \"Historical\", \"Stealth\", \"Comedy\", \"Business\"  …  \"Kids\", \"Sandbox\", \"Open world\", \"Warfare\", \"4X (explore, expand, exploit, and exterminate)\", \"Educational\", \"Mystery\", \"Party\", \"Romance\", \"Erotic\"]\n",
       " [\"thriller\", \"science-fiction\", \"action\", \"horror\", \"survival\", \"fantasy\", \"historical\", \"stealth\", \"comedy\", \"business\"  …  \"kids\", \"sandbox\", \"open-world\", \"warfare\", \"4x-explore-expand-exploit-and-exterminate\", \"educational\", \"mystery\", \"party\", \"romance\", \"erotic\"]\n",
       " [1323216000, 1323216000, 1323216000, 1323216000, 1323216000, 1323216000, 1323216000, 1323216000, 1323216000, 1323216000  …  1326758400, 1326499200, 1345420800, 1345420800, 1357084800, 1326758400, 1465171200, 1356825600, 1588809600, 1463702400]"
      ]
     },
     "execution_count": 189,
     "metadata": {},
     "output_type": "execute_result"
    }
   ],
   "source": [
    "all_theme = [get_this.(theme,column_name) for column_name in features_theme]"
   ]
  },
  {
   "cell_type": "code",
   "execution_count": 190,
   "metadata": {},
   "outputs": [
    {
     "data": {
      "text/plain": [
       "22-element Array{Int64,1}:\n",
       " 1323216000\n",
       " 1323216000\n",
       " 1323216000\n",
       " 1323216000\n",
       " 1323216000\n",
       " 1323216000\n",
       " 1323216000\n",
       " 1323216000\n",
       " 1323216000\n",
       " 1323216000\n",
       " 1323561600\n",
       " 1323561600\n",
       " 1326758400\n",
       " 1326499200\n",
       " 1345420800\n",
       " 1345420800\n",
       " 1357084800\n",
       " 1326758400\n",
       " 1465171200\n",
       " 1356825600\n",
       " 1588809600\n",
       " 1463702400"
      ]
     },
     "execution_count": 190,
     "metadata": {},
     "output_type": "execute_result"
    }
   ],
   "source": [
    "theme_infor = DataFrame()\n",
    "theme_infor.id = all_theme[1]\n",
    "theme_infor.created_at = all_theme[2]\n",
    "theme_infor.name = all_theme[3]\n",
    "theme_infor.slug = all_theme[4]\n",
    "theme_infor.updated_at = all_theme[5]\n",
    "\n",
    "\n"
   ]
  },
  {
   "cell_type": "code",
   "execution_count": 191,
   "metadata": {},
   "outputs": [
    {
     "data": {
      "text/html": [
       "<table class=\"data-frame\"><thead><tr><th></th><th>id</th><th>created_at</th><th>name</th><th>slug</th></tr><tr><th></th><th>Int64</th><th>Int64</th><th>String</th><th>String</th></tr></thead><tbody><p>22 rows × 5 columns (omitted printing of 1 columns)</p><tr><th>1</th><td>20</td><td>1322524800</td><td>Thriller</td><td>thriller</td></tr><tr><th>2</th><td>18</td><td>1322524800</td><td>Science fiction</td><td>science-fiction</td></tr><tr><th>3</th><td>1</td><td>1322524800</td><td>Action</td><td>action</td></tr><tr><th>4</th><td>19</td><td>1322524800</td><td>Horror</td><td>horror</td></tr><tr><th>5</th><td>21</td><td>1322524800</td><td>Survival</td><td>survival</td></tr><tr><th>6</th><td>17</td><td>1322524800</td><td>Fantasy</td><td>fantasy</td></tr><tr><th>7</th><td>22</td><td>1322524800</td><td>Historical</td><td>historical</td></tr><tr><th>8</th><td>23</td><td>1322524800</td><td>Stealth</td><td>stealth</td></tr><tr><th>9</th><td>27</td><td>1322524800</td><td>Comedy</td><td>comedy</td></tr><tr><th>10</th><td>28</td><td>1322524800</td><td>Business</td><td>business</td></tr><tr><th>11</th><td>31</td><td>1323561600</td><td>Drama</td><td>drama</td></tr><tr><th>12</th><td>32</td><td>1323561600</td><td>Non-fiction</td><td>non-fiction</td></tr><tr><th>13</th><td>35</td><td>1326758400</td><td>Kids</td><td>kids</td></tr><tr><th>14</th><td>33</td><td>1326499200</td><td>Sandbox</td><td>sandbox</td></tr><tr><th>15</th><td>38</td><td>1345420800</td><td>Open world</td><td>open-world</td></tr><tr><th>16</th><td>39</td><td>1345420800</td><td>Warfare</td><td>warfare</td></tr><tr><th>17</th><td>41</td><td>1357084800</td><td>4X (explore, expand, exploit, and exterminate)</td><td>4x-explore-expand-exploit-and-exterminate</td></tr><tr><th>18</th><td>34</td><td>1326758400</td><td>Educational</td><td>educational</td></tr><tr><th>19</th><td>43</td><td>1465171200</td><td>Mystery</td><td>mystery</td></tr><tr><th>20</th><td>40</td><td>1356825600</td><td>Party</td><td>party</td></tr><tr><th>21</th><td>44</td><td>1588809600</td><td>Romance</td><td>romance</td></tr><tr><th>22</th><td>42</td><td>1463702400</td><td>Erotic</td><td>erotic</td></tr></tbody></table>"
      ],
      "text/latex": [
       "\\begin{tabular}{r|ccccc}\n",
       "\t& id & created\\_at & name & slug & \\\\\n",
       "\t\\hline\n",
       "\t& Int64 & Int64 & String & String & \\\\\n",
       "\t\\hline\n",
       "\t1 & 20 & 1322524800 & Thriller & thriller & $\\dots$ \\\\\n",
       "\t2 & 18 & 1322524800 & Science fiction & science-fiction & $\\dots$ \\\\\n",
       "\t3 & 1 & 1322524800 & Action & action & $\\dots$ \\\\\n",
       "\t4 & 19 & 1322524800 & Horror & horror & $\\dots$ \\\\\n",
       "\t5 & 21 & 1322524800 & Survival & survival & $\\dots$ \\\\\n",
       "\t6 & 17 & 1322524800 & Fantasy & fantasy & $\\dots$ \\\\\n",
       "\t7 & 22 & 1322524800 & Historical & historical & $\\dots$ \\\\\n",
       "\t8 & 23 & 1322524800 & Stealth & stealth & $\\dots$ \\\\\n",
       "\t9 & 27 & 1322524800 & Comedy & comedy & $\\dots$ \\\\\n",
       "\t10 & 28 & 1322524800 & Business & business & $\\dots$ \\\\\n",
       "\t11 & 31 & 1323561600 & Drama & drama & $\\dots$ \\\\\n",
       "\t12 & 32 & 1323561600 & Non-fiction & non-fiction & $\\dots$ \\\\\n",
       "\t13 & 35 & 1326758400 & Kids & kids & $\\dots$ \\\\\n",
       "\t14 & 33 & 1326499200 & Sandbox & sandbox & $\\dots$ \\\\\n",
       "\t15 & 38 & 1345420800 & Open world & open-world & $\\dots$ \\\\\n",
       "\t16 & 39 & 1345420800 & Warfare & warfare & $\\dots$ \\\\\n",
       "\t17 & 41 & 1357084800 & 4X (explore, expand, exploit, and exterminate) & 4x-explore-expand-exploit-and-exterminate & $\\dots$ \\\\\n",
       "\t18 & 34 & 1326758400 & Educational & educational & $\\dots$ \\\\\n",
       "\t19 & 43 & 1465171200 & Mystery & mystery & $\\dots$ \\\\\n",
       "\t20 & 40 & 1356825600 & Party & party & $\\dots$ \\\\\n",
       "\t21 & 44 & 1588809600 & Romance & romance & $\\dots$ \\\\\n",
       "\t22 & 42 & 1463702400 & Erotic & erotic & $\\dots$ \\\\\n",
       "\\end{tabular}\n"
      ],
      "text/plain": [
       "22×5 DataFrame. Omitted printing of 2 columns\n",
       "│ Row │ id    │ created_at │ name                                           │\n",
       "│     │ \u001b[90mInt64\u001b[39m │ \u001b[90mInt64\u001b[39m      │ \u001b[90mString\u001b[39m                                         │\n",
       "├─────┼───────┼────────────┼────────────────────────────────────────────────┤\n",
       "│ 1   │ 20    │ 1322524800 │ Thriller                                       │\n",
       "│ 2   │ 18    │ 1322524800 │ Science fiction                                │\n",
       "│ 3   │ 1     │ 1322524800 │ Action                                         │\n",
       "│ 4   │ 19    │ 1322524800 │ Horror                                         │\n",
       "│ 5   │ 21    │ 1322524800 │ Survival                                       │\n",
       "│ 6   │ 17    │ 1322524800 │ Fantasy                                        │\n",
       "│ 7   │ 22    │ 1322524800 │ Historical                                     │\n",
       "│ 8   │ 23    │ 1322524800 │ Stealth                                        │\n",
       "│ 9   │ 27    │ 1322524800 │ Comedy                                         │\n",
       "│ 10  │ 28    │ 1322524800 │ Business                                       │\n",
       "│ 11  │ 31    │ 1323561600 │ Drama                                          │\n",
       "│ 12  │ 32    │ 1323561600 │ Non-fiction                                    │\n",
       "│ 13  │ 35    │ 1326758400 │ Kids                                           │\n",
       "│ 14  │ 33    │ 1326499200 │ Sandbox                                        │\n",
       "│ 15  │ 38    │ 1345420800 │ Open world                                     │\n",
       "│ 16  │ 39    │ 1345420800 │ Warfare                                        │\n",
       "│ 17  │ 41    │ 1357084800 │ 4X (explore, expand, exploit, and exterminate) │\n",
       "│ 18  │ 34    │ 1326758400 │ Educational                                    │\n",
       "│ 19  │ 43    │ 1465171200 │ Mystery                                        │\n",
       "│ 20  │ 40    │ 1356825600 │ Party                                          │\n",
       "│ 21  │ 44    │ 1588809600 │ Romance                                        │\n",
       "│ 22  │ 42    │ 1463702400 │ Erotic                                         │"
      ]
     },
     "execution_count": 191,
     "metadata": {},
     "output_type": "execute_result"
    }
   ],
   "source": [
    "theme_infor"
   ]
  },
  {
   "cell_type": "code",
   "execution_count": 192,
   "metadata": {},
   "outputs": [
    {
     "data": {
      "text/plain": [
       "\"/Users/mengzhang/projects/github/wrangling_project/IGDB/game_theme.csv\""
      ]
     },
     "execution_count": 192,
     "metadata": {},
     "output_type": "execute_result"
    }
   ],
   "source": [
    "CSV.write(\"/Users/mengzhang/projects/github/wrangling_project/IGDB/game_theme.csv\", theme_infor)"
   ]
  },
  {
   "cell_type": "code",
   "execution_count": null,
   "metadata": {},
   "outputs": [],
   "source": []
  },
  {
   "cell_type": "code",
   "execution_count": null,
   "metadata": {},
   "outputs": [],
   "source": []
  },
  {
   "cell_type": "code",
   "execution_count": null,
   "metadata": {},
   "outputs": [],
   "source": []
  },
  {
   "cell_type": "code",
   "execution_count": null,
   "metadata": {},
   "outputs": [],
   "source": []
  },
  {
   "cell_type": "code",
   "execution_count": null,
   "metadata": {},
   "outputs": [],
   "source": []
  },
  {
   "cell_type": "code",
   "execution_count": null,
   "metadata": {},
   "outputs": [],
   "source": []
  },
  {
   "cell_type": "code",
   "execution_count": null,
   "metadata": {},
   "outputs": [],
   "source": []
  },
  {
   "cell_type": "markdown",
   "metadata": {},
   "source": [
    "### Section \n",
    "Join the releasedates infor and companies infor into fellows dataframe"
   ]
  },
  {
   "cell_type": "code",
   "execution_count": null,
   "metadata": {},
   "outputs": [],
   "source": [
    "join(t1, t2, lkey=(:id, :date), rkey=(:id, :date), lselect=:x1, rselect=(:y2, :y3))"
   ]
  }
 ],
 "metadata": {
  "kernelspec": {
   "display_name": "Julia 1.4.2",
   "language": "julia",
   "name": "julia-1.4"
  },
  "language_info": {
   "file_extension": ".jl",
   "mimetype": "application/julia",
   "name": "julia",
   "version": "1.4.2"
  }
 },
 "nbformat": 4,
 "nbformat_minor": 4
}
